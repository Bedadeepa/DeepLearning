{
  "nbformat": 4,
  "nbformat_minor": 0,
  "metadata": {
    "colab": {
      "provenance": [],
      "collapsed_sections": [
        "7ov3ECRCXw87",
        "XfaD8EeDZ_kN",
        "Qd5BKS4YamHZ",
        "UBD2FWbWeMnR",
        "Fvwl6SEyeP5p",
        "BbD4nlYkeqgR"
      ],
      "include_colab_link": true
    },
    "kernelspec": {
      "name": "python3",
      "display_name": "Python 3"
    },
    "language_info": {
      "name": "python"
    },
    "accelerator": "GPU"
  },
  "cells": [
    {
      "cell_type": "markdown",
      "metadata": {
        "id": "view-in-github",
        "colab_type": "text"
      },
      "source": [
        "<a href=\"https://colab.research.google.com/github/Bedadeepa/DeepLearning/blob/main/transfer_learning_MobileNet.ipynb\" target=\"_parent\"><img src=\"https://colab.research.google.com/assets/colab-badge.svg\" alt=\"Open In Colab\"/></a>"
      ]
    },
    {
      "cell_type": "code",
      "source": [
        "# Last amended: 29th Jan, 2023\n",
        "# https://www.tensorflow.org/tutorials/images/transfer_learning"
      ],
      "metadata": {
        "id": "XXZuzDlzHuNk"
      },
      "execution_count": null,
      "outputs": []
    },
    {
      "cell_type": "markdown",
      "source": [
        "Objectives\n",
        "> Examine and understand the data<br>\n",
        "> Build an input pipeline, in this case using Keras ImageDataGenerator<br>\n",
        ">>Compose the model<br>\n",
        ">>Load in the pretrained base model (and pretrained weights)<br>\n",
        ">Stack the classification layers on top<br>\n",
        ">Train the model<br>\n",
        ">Evaluate model<br>\n"
      ],
      "metadata": {
        "id": "r5c3cBZ1Fu8s"
      }
    },
    {
      "cell_type": "markdown",
      "source": [
        "Note: It appears in this model, learning rate plays a very crucial role. Further, whenever you change any model-compilation parameters, start from %reset point. Deleteing model, re-initializing etc do not appear to help."
      ],
      "metadata": {
        "id": "2Qf-GIGC09zr"
      }
    },
    {
      "cell_type": "markdown",
      "source": [
        "## Install software"
      ],
      "metadata": {
        "id": "eO6XUMURXTRD"
      }
    },
    {
      "cell_type": "code",
      "source": [
        "# 1.0 Install current tensorflow\n",
        "!pip install tensorflow==2.10.0"
      ],
      "metadata": {
        "id": "L64-cuBzH8sA",
        "colab": {
          "base_uri": "https://localhost:8080/"
        },
        "outputId": "dfaf2c19-cb43-4823-a081-3e40f559fcbd"
      },
      "execution_count": null,
      "outputs": [
        {
          "output_type": "stream",
          "name": "stdout",
          "text": [
            "Looking in indexes: https://pypi.org/simple, https://us-python.pkg.dev/colab-wheels/public/simple/\n",
            "Collecting tensorflow==2.10.0\n",
            "  Downloading tensorflow-2.10.0-cp38-cp38-manylinux_2_17_x86_64.manylinux2014_x86_64.whl (578.1 MB)\n",
            "\u001b[2K     \u001b[90m━━━━━━━━━━━━━━━━━━━━━━━━━━━━━━━━━━━━━━━\u001b[0m \u001b[32m578.1/578.1 MB\u001b[0m \u001b[31m2.6 MB/s\u001b[0m eta \u001b[36m0:00:00\u001b[0m\n",
            "\u001b[?25hRequirement already satisfied: typing-extensions>=3.6.6 in /usr/local/lib/python3.8/dist-packages (from tensorflow==2.10.0) (4.5.0)\n",
            "Requirement already satisfied: absl-py>=1.0.0 in /usr/local/lib/python3.8/dist-packages (from tensorflow==2.10.0) (1.4.0)\n",
            "Requirement already satisfied: opt-einsum>=2.3.2 in /usr/local/lib/python3.8/dist-packages (from tensorflow==2.10.0) (3.3.0)\n",
            "Requirement already satisfied: numpy>=1.20 in /usr/local/lib/python3.8/dist-packages (from tensorflow==2.10.0) (1.22.4)\n",
            "Requirement already satisfied: wrapt>=1.11.0 in /usr/local/lib/python3.8/dist-packages (from tensorflow==2.10.0) (1.15.0)\n",
            "Requirement already satisfied: six>=1.12.0 in /usr/local/lib/python3.8/dist-packages (from tensorflow==2.10.0) (1.15.0)\n",
            "Collecting tensorboard<2.11,>=2.10\n",
            "  Downloading tensorboard-2.10.1-py3-none-any.whl (5.9 MB)\n",
            "\u001b[2K     \u001b[90m━━━━━━━━━━━━━━━━━━━━━━━━━━━━━━━━━━━━━━━━\u001b[0m \u001b[32m5.9/5.9 MB\u001b[0m \u001b[31m61.0 MB/s\u001b[0m eta \u001b[36m0:00:00\u001b[0m\n",
            "\u001b[?25hCollecting tensorflow-estimator<2.11,>=2.10.0\n",
            "  Downloading tensorflow_estimator-2.10.0-py2.py3-none-any.whl (438 kB)\n",
            "\u001b[2K     \u001b[90m━━━━━━━━━━━━━━━━━━━━━━━━━━━━━━━━━━━━━━\u001b[0m \u001b[32m438.7/438.7 KB\u001b[0m \u001b[31m32.4 MB/s\u001b[0m eta \u001b[36m0:00:00\u001b[0m\n",
            "\u001b[?25hRequirement already satisfied: tensorflow-io-gcs-filesystem>=0.23.1 in /usr/local/lib/python3.8/dist-packages (from tensorflow==2.10.0) (0.31.0)\n",
            "Requirement already satisfied: packaging in /usr/local/lib/python3.8/dist-packages (from tensorflow==2.10.0) (23.0)\n",
            "Requirement already satisfied: libclang>=13.0.0 in /usr/local/lib/python3.8/dist-packages (from tensorflow==2.10.0) (15.0.6.1)\n",
            "Requirement already satisfied: flatbuffers>=2.0 in /usr/local/lib/python3.8/dist-packages (from tensorflow==2.10.0) (23.1.21)\n",
            "Requirement already satisfied: setuptools in /usr/local/lib/python3.8/dist-packages (from tensorflow==2.10.0) (57.4.0)\n",
            "Requirement already satisfied: h5py>=2.9.0 in /usr/local/lib/python3.8/dist-packages (from tensorflow==2.10.0) (3.1.0)\n",
            "Requirement already satisfied: gast<=0.4.0,>=0.2.1 in /usr/local/lib/python3.8/dist-packages (from tensorflow==2.10.0) (0.4.0)\n",
            "Requirement already satisfied: protobuf<3.20,>=3.9.2 in /usr/local/lib/python3.8/dist-packages (from tensorflow==2.10.0) (3.19.6)\n",
            "Collecting keras<2.11,>=2.10.0\n",
            "  Downloading keras-2.10.0-py2.py3-none-any.whl (1.7 MB)\n",
            "\u001b[2K     \u001b[90m━━━━━━━━━━━━━━━━━━━━━━━━━━━━━━━━━━━━━━━━\u001b[0m \u001b[32m1.7/1.7 MB\u001b[0m \u001b[31m46.4 MB/s\u001b[0m eta \u001b[36m0:00:00\u001b[0m\n",
            "\u001b[?25hRequirement already satisfied: grpcio<2.0,>=1.24.3 in /usr/local/lib/python3.8/dist-packages (from tensorflow==2.10.0) (1.51.3)\n",
            "Requirement already satisfied: termcolor>=1.1.0 in /usr/local/lib/python3.8/dist-packages (from tensorflow==2.10.0) (2.2.0)\n",
            "Requirement already satisfied: astunparse>=1.6.0 in /usr/local/lib/python3.8/dist-packages (from tensorflow==2.10.0) (1.6.3)\n",
            "Requirement already satisfied: google-pasta>=0.1.1 in /usr/local/lib/python3.8/dist-packages (from tensorflow==2.10.0) (0.2.0)\n",
            "Collecting keras-preprocessing>=1.1.1\n",
            "  Downloading Keras_Preprocessing-1.1.2-py2.py3-none-any.whl (42 kB)\n",
            "\u001b[2K     \u001b[90m━━━━━━━━━━━━━━━━━━━━━━━━━━━━━━━━━━━━━━━━\u001b[0m \u001b[32m42.6/42.6 KB\u001b[0m \u001b[31m3.3 MB/s\u001b[0m eta \u001b[36m0:00:00\u001b[0m\n",
            "\u001b[?25hRequirement already satisfied: wheel<1.0,>=0.23.0 in /usr/local/lib/python3.8/dist-packages (from astunparse>=1.6.0->tensorflow==2.10.0) (0.38.4)\n",
            "Requirement already satisfied: requests<3,>=2.21.0 in /usr/local/lib/python3.8/dist-packages (from tensorboard<2.11,>=2.10->tensorflow==2.10.0) (2.25.1)\n",
            "Requirement already satisfied: tensorboard-data-server<0.7.0,>=0.6.0 in /usr/local/lib/python3.8/dist-packages (from tensorboard<2.11,>=2.10->tensorflow==2.10.0) (0.6.1)\n",
            "Requirement already satisfied: google-auth-oauthlib<0.5,>=0.4.1 in /usr/local/lib/python3.8/dist-packages (from tensorboard<2.11,>=2.10->tensorflow==2.10.0) (0.4.6)\n",
            "Requirement already satisfied: tensorboard-plugin-wit>=1.6.0 in /usr/local/lib/python3.8/dist-packages (from tensorboard<2.11,>=2.10->tensorflow==2.10.0) (1.8.1)\n",
            "Requirement already satisfied: werkzeug>=1.0.1 in /usr/local/lib/python3.8/dist-packages (from tensorboard<2.11,>=2.10->tensorflow==2.10.0) (2.2.3)\n",
            "Requirement already satisfied: google-auth<3,>=1.6.3 in /usr/local/lib/python3.8/dist-packages (from tensorboard<2.11,>=2.10->tensorflow==2.10.0) (2.16.1)\n",
            "Requirement already satisfied: markdown>=2.6.8 in /usr/local/lib/python3.8/dist-packages (from tensorboard<2.11,>=2.10->tensorflow==2.10.0) (3.4.1)\n",
            "Requirement already satisfied: rsa<5,>=3.1.4 in /usr/local/lib/python3.8/dist-packages (from google-auth<3,>=1.6.3->tensorboard<2.11,>=2.10->tensorflow==2.10.0) (4.9)\n",
            "Requirement already satisfied: cachetools<6.0,>=2.0.0 in /usr/local/lib/python3.8/dist-packages (from google-auth<3,>=1.6.3->tensorboard<2.11,>=2.10->tensorflow==2.10.0) (5.3.0)\n",
            "Requirement already satisfied: pyasn1-modules>=0.2.1 in /usr/local/lib/python3.8/dist-packages (from google-auth<3,>=1.6.3->tensorboard<2.11,>=2.10->tensorflow==2.10.0) (0.2.8)\n",
            "Requirement already satisfied: requests-oauthlib>=0.7.0 in /usr/local/lib/python3.8/dist-packages (from google-auth-oauthlib<0.5,>=0.4.1->tensorboard<2.11,>=2.10->tensorflow==2.10.0) (1.3.1)\n",
            "Requirement already satisfied: importlib-metadata>=4.4 in /usr/local/lib/python3.8/dist-packages (from markdown>=2.6.8->tensorboard<2.11,>=2.10->tensorflow==2.10.0) (6.0.0)\n",
            "Requirement already satisfied: certifi>=2017.4.17 in /usr/local/lib/python3.8/dist-packages (from requests<3,>=2.21.0->tensorboard<2.11,>=2.10->tensorflow==2.10.0) (2022.12.7)\n",
            "Requirement already satisfied: idna<3,>=2.5 in /usr/local/lib/python3.8/dist-packages (from requests<3,>=2.21.0->tensorboard<2.11,>=2.10->tensorflow==2.10.0) (2.10)\n",
            "Requirement already satisfied: chardet<5,>=3.0.2 in /usr/local/lib/python3.8/dist-packages (from requests<3,>=2.21.0->tensorboard<2.11,>=2.10->tensorflow==2.10.0) (4.0.0)\n",
            "Requirement already satisfied: urllib3<1.27,>=1.21.1 in /usr/local/lib/python3.8/dist-packages (from requests<3,>=2.21.0->tensorboard<2.11,>=2.10->tensorflow==2.10.0) (1.26.14)\n",
            "Requirement already satisfied: MarkupSafe>=2.1.1 in /usr/local/lib/python3.8/dist-packages (from werkzeug>=1.0.1->tensorboard<2.11,>=2.10->tensorflow==2.10.0) (2.1.2)\n",
            "Requirement already satisfied: zipp>=0.5 in /usr/local/lib/python3.8/dist-packages (from importlib-metadata>=4.4->markdown>=2.6.8->tensorboard<2.11,>=2.10->tensorflow==2.10.0) (3.15.0)\n",
            "Requirement already satisfied: pyasn1<0.5.0,>=0.4.6 in /usr/local/lib/python3.8/dist-packages (from pyasn1-modules>=0.2.1->google-auth<3,>=1.6.3->tensorboard<2.11,>=2.10->tensorflow==2.10.0) (0.4.8)\n",
            "Requirement already satisfied: oauthlib>=3.0.0 in /usr/local/lib/python3.8/dist-packages (from requests-oauthlib>=0.7.0->google-auth-oauthlib<0.5,>=0.4.1->tensorboard<2.11,>=2.10->tensorflow==2.10.0) (3.2.2)\n",
            "Installing collected packages: keras, tensorflow-estimator, keras-preprocessing, tensorboard, tensorflow\n",
            "  Attempting uninstall: keras\n",
            "    Found existing installation: keras 2.11.0\n",
            "    Uninstalling keras-2.11.0:\n",
            "      Successfully uninstalled keras-2.11.0\n",
            "  Attempting uninstall: tensorflow-estimator\n",
            "    Found existing installation: tensorflow-estimator 2.11.0\n",
            "    Uninstalling tensorflow-estimator-2.11.0:\n",
            "      Successfully uninstalled tensorflow-estimator-2.11.0\n",
            "  Attempting uninstall: tensorboard\n",
            "    Found existing installation: tensorboard 2.11.2\n",
            "    Uninstalling tensorboard-2.11.2:\n",
            "      Successfully uninstalled tensorboard-2.11.2\n",
            "  Attempting uninstall: tensorflow\n",
            "    Found existing installation: tensorflow 2.11.0\n",
            "    Uninstalling tensorflow-2.11.0:\n",
            "      Successfully uninstalled tensorflow-2.11.0\n",
            "Successfully installed keras-2.10.0 keras-preprocessing-1.1.2 tensorboard-2.10.1 tensorflow-2.10.0 tensorflow-estimator-2.10.0\n"
          ]
        }
      ]
    },
    {
      "cell_type": "markdown",
      "source": [
        "## Call libraries"
      ],
      "metadata": {
        "id": "kRiPG-roXZEj"
      }
    },
    {
      "cell_type": "code",
      "source": [
        "# 1.1\n",
        "#%reset\n",
        "import numpy as np\n",
        "import pandas as pd\n",
        "\n",
        "# 1.1.1\n",
        "import matplotlib.pyplot as plt\n",
        "\n",
        "# 1.1.2\n",
        "import tensorflow as tf\n",
        "\n",
        "# 1.1.3\n",
        "import PIL\n",
        "import pathlib,os"
      ],
      "metadata": {
        "id": "6jiQVHZLIMaS"
      },
      "execution_count": null,
      "outputs": []
    },
    {
      "cell_type": "code",
      "source": [
        "# 1.1.4 Verify version:\n",
        "tf.__version__"
      ],
      "metadata": {
        "colab": {
          "base_uri": "https://localhost:8080/",
          "height": 36
        },
        "id": "Jh_eGqDBJfxg",
        "outputId": "87b7bac9-48bc-4b78-a159-9c2a939bb76d"
      },
      "execution_count": null,
      "outputs": [
        {
          "output_type": "execute_result",
          "data": {
            "text/plain": [
              "'2.10.0'"
            ],
            "application/vnd.google.colaboratory.intrinsic+json": {
              "type": "string"
            }
          },
          "metadata": {},
          "execution_count": 3
        }
      ]
    },
    {
      "cell_type": "code",
      "source": [
        "# 1.1.5\n",
        "from IPython.core.interactiveshell import InteractiveShell\n",
        "InteractiveShell.ast_node_interactivity = \"all\""
      ],
      "metadata": {
        "id": "dvSkGeBfC7rF"
      },
      "execution_count": null,
      "outputs": []
    },
    {
      "cell_type": "markdown",
      "source": [
        "## Download data"
      ],
      "metadata": {
        "id": "7ov3ECRCXw87"
      }
    },
    {
      "cell_type": "code",
      "source": [
        "# 2.0 Data URL:\n",
        "\n",
        "data_url = 'https://storage.googleapis.com/mledu-datasets/cats_and_dogs_filtered.zip'"
      ],
      "metadata": {
        "id": "MS_pro45Hl2z"
      },
      "execution_count": null,
      "outputs": []
    },
    {
      "cell_type": "code",
      "source": [
        "# 2.1 Delete any existing data\n",
        "\n",
        "!rm -rf /root/.keras/datasets"
      ],
      "metadata": {
        "id": "-UshADsgK9RJ"
      },
      "execution_count": null,
      "outputs": []
    },
    {
      "cell_type": "code",
      "source": [
        "# 2.2 Download now:\n",
        "\n",
        "data_dir = tf.keras.utils.get_file(origin = data_url, extract= True)\n",
        "data_dir"
      ],
      "metadata": {
        "colab": {
          "base_uri": "https://localhost:8080/",
          "height": 90
        },
        "id": "EEmE_kwcH2KB",
        "outputId": "4ad467c8-65d9-42fe-8fcb-560f76bca0b7"
      },
      "execution_count": null,
      "outputs": [
        {
          "output_type": "stream",
          "name": "stdout",
          "text": [
            "Downloading data from https://storage.googleapis.com/mledu-datasets/cats_and_dogs_filtered.zip\n",
            "68606236/68606236 [==============================] - 5s 0us/step\n"
          ]
        },
        {
          "output_type": "execute_result",
          "data": {
            "text/plain": [
              "'/root/.keras/datasets/cats_and_dogs_filtered.zip'"
            ],
            "application/vnd.google.colaboratory.intrinsic+json": {
              "type": "string"
            }
          },
          "metadata": {},
          "execution_count": 7
        }
      ]
    },
    {
      "cell_type": "code",
      "source": [
        "# 2.3 Check data files:\n",
        "\n",
        "!ls -la /root/.keras/datasets"
      ],
      "metadata": {
        "colab": {
          "base_uri": "https://localhost:8080/"
        },
        "id": "I2Z9lTjZKSPy",
        "outputId": "9af71f97-4e64-43c3-d003-d168db945f2a"
      },
      "execution_count": null,
      "outputs": [
        {
          "output_type": "stream",
          "name": "stdout",
          "text": [
            "total 67012\n",
            "drwxr-xr-x 3 root root     4096 Mar  1 07:59 .\n",
            "drwxr-xr-x 1 root root     4096 Mar  1 07:59 ..\n",
            "drwxr-xr-x 4 root root     4096 Mar  1 07:59 cats_and_dogs_filtered\n",
            "-rw-r--r-- 1 root root 68606236 Mar  1 07:59 cats_and_dogs_filtered.zip\n"
          ]
        }
      ]
    },
    {
      "cell_type": "code",
      "source": [
        "# 2.3.1 Check data files:\n",
        "\n",
        "!ls /root/.keras/datasets/cats_and_dogs_filtered"
      ],
      "metadata": {
        "colab": {
          "base_uri": "https://localhost:8080/"
        },
        "id": "w-9d4R71LD8o",
        "outputId": "2502ed59-14dc-42e8-b2aa-5713c2147a89"
      },
      "execution_count": null,
      "outputs": [
        {
          "output_type": "stream",
          "name": "stdout",
          "text": [
            "train  validation  vectorize.py\n"
          ]
        }
      ]
    },
    {
      "cell_type": "code",
      "source": [
        "# 2.3.2\n",
        "!cat /root/.keras/datasets/cats_and_dogs_filtered/vectorize.py"
      ],
      "metadata": {
        "colab": {
          "base_uri": "https://localhost:8080/"
        },
        "id": "M12zbHNQeTeL",
        "outputId": "13bd6c81-46e9-48c3-ab92-d988161a8880"
      },
      "execution_count": null,
      "outputs": [
        {
          "output_type": "stream",
          "name": "stdout",
          "text": [
            "from keras.preprocessing.image import array_to_img, img_to_array, load_img\n",
            "\n",
            "import os\n",
            "\n",
            "for fname in os.listdir('train/cats'):\n",
            "  print fname\n"
          ]
        }
      ]
    },
    {
      "cell_type": "markdown",
      "source": [
        "## Examine data"
      ],
      "metadata": {
        "id": "XfaD8EeDZ_kN"
      }
    },
    {
      "cell_type": "code",
      "source": [
        "# 2.3.2\n",
        "\n",
        "data_dir = pathlib.Path(\"/root/.keras/datasets/cats_and_dogs_filtered\")"
      ],
      "metadata": {
        "id": "PJAOH6JDLMOC"
      },
      "execution_count": null,
      "outputs": []
    },
    {
      "cell_type": "code",
      "source": [
        "# 2.3. ToDo\n",
        "data_dir.chmod(777)"
      ],
      "metadata": {
        "id": "lWqTBrnC85NI"
      },
      "execution_count": null,
      "outputs": []
    },
    {
      "cell_type": "code",
      "source": [
        "!ls -la /root/.keras/datasets"
      ],
      "metadata": {
        "colab": {
          "base_uri": "https://localhost:8080/"
        },
        "id": "MwtNj8d69Cxr",
        "outputId": "3ef1e3d9-3d23-491e-bacb-bd93870139a9"
      },
      "execution_count": null,
      "outputs": [
        {
          "output_type": "stream",
          "name": "stdout",
          "text": [
            "total 67012\n",
            "drwxr-xr-x 3 root root     4096 Mar  1 07:59 .\n",
            "drwxr-xr-x 1 root root     4096 Mar  1 07:59 ..\n",
            "dr----x--t 4 root root     4096 Mar  1 07:59 cats_and_dogs_filtered\n",
            "-rw-r--r-- 1 root root 68606236 Mar  1 07:59 cats_and_dogs_filtered.zip\n"
          ]
        }
      ]
    },
    {
      "cell_type": "code",
      "source": [
        "# 2.3.3 Iterate over data_dir: \n",
        "\n",
        "for i in data_dir.iterdir():\n",
        "  print(i)"
      ],
      "metadata": {
        "id": "p6TyegESOBMx",
        "colab": {
          "base_uri": "https://localhost:8080/"
        },
        "outputId": "63e3678c-bba0-4f10-b09b-81acb6d91db4"
      },
      "execution_count": null,
      "outputs": [
        {
          "output_type": "stream",
          "name": "stdout",
          "text": [
            "/root/.keras/datasets/cats_and_dogs_filtered/validation\n",
            "/root/.keras/datasets/cats_and_dogs_filtered/train\n",
            "/root/.keras/datasets/cats_and_dogs_filtered/vectorize.py\n"
          ]
        }
      ]
    },
    {
      "cell_type": "code",
      "source": [
        "a = data_dir / \"train\""
      ],
      "metadata": {
        "id": "Om_R3rq5fJd1"
      },
      "execution_count": null,
      "outputs": []
    },
    {
      "cell_type": "code",
      "source": [
        "type(a)"
      ],
      "metadata": {
        "colab": {
          "base_uri": "https://localhost:8080/"
        },
        "id": "M9l_laWCfPj9",
        "outputId": "bda4a3c2-fda4-4f78-8126-a5380bc3f68c"
      },
      "execution_count": null,
      "outputs": [
        {
          "output_type": "execute_result",
          "data": {
            "text/plain": [
              "pathlib.PosixPath"
            ]
          },
          "metadata": {},
          "execution_count": 19
        }
      ]
    },
    {
      "cell_type": "code",
      "source": [
        "# 2.3.4 Check within train:\n",
        "\n",
        "for j in (a).iterdir():\n",
        "  print(j)"
      ],
      "metadata": {
        "colab": {
          "base_uri": "https://localhost:8080/"
        },
        "id": "NiAy91uuOQZ4",
        "outputId": "37daa8b6-124c-4129-cbca-e294198af5f0"
      },
      "execution_count": null,
      "outputs": [
        {
          "output_type": "stream",
          "name": "stdout",
          "text": [
            "/root/.keras/datasets/cats_and_dogs_filtered/train/cats\n",
            "/root/.keras/datasets/cats_and_dogs_filtered/train/dogs\n"
          ]
        }
      ]
    },
    {
      "cell_type": "code",
      "source": [
        "# 3.0 Plot images:\n",
        "\n",
        "plt.figure(figsize = (10,10))\n",
        "for k,i in enumerate((data_dir / \"train\").iterdir()):\n",
        "  for j in i.iterdir():\n",
        "    im = PIL.Image.open(j)\n",
        "    im = np.asarray(im)\n",
        "    plt.subplot(3,3,k+1)\n",
        "    plt.imshow(im)\n",
        "    plt.axis(\"off\")\n",
        "    break;"
      ],
      "metadata": {
        "colab": {
          "base_uri": "https://localhost:8080/",
          "height": 243
        },
        "id": "4olY8wHTRXRa",
        "outputId": "dcd09346-1264-4309-c6fa-5a5d62b4e721"
      },
      "execution_count": null,
      "outputs": [
        {
          "output_type": "execute_result",
          "data": {
            "text/plain": [
              "<Figure size 720x720 with 0 Axes>"
            ]
          },
          "metadata": {},
          "execution_count": 21
        },
        {
          "output_type": "execute_result",
          "data": {
            "text/plain": [
              "<AxesSubplot:>"
            ]
          },
          "metadata": {},
          "execution_count": 21
        },
        {
          "output_type": "execute_result",
          "data": {
            "text/plain": [
              "<matplotlib.image.AxesImage at 0x7f66b22c7130>"
            ]
          },
          "metadata": {},
          "execution_count": 21
        },
        {
          "output_type": "execute_result",
          "data": {
            "text/plain": [
              "(-0.5, 248.5, 269.5, -0.5)"
            ]
          },
          "metadata": {},
          "execution_count": 21
        },
        {
          "output_type": "execute_result",
          "data": {
            "text/plain": [
              "<AxesSubplot:>"
            ]
          },
          "metadata": {},
          "execution_count": 21
        },
        {
          "output_type": "execute_result",
          "data": {
            "text/plain": [
              "<matplotlib.image.AxesImage at 0x7f66b22e7ee0>"
            ]
          },
          "metadata": {},
          "execution_count": 21
        },
        {
          "output_type": "execute_result",
          "data": {
            "text/plain": [
              "(-0.5, 417.5, 291.5, -0.5)"
            ]
          },
          "metadata": {},
          "execution_count": 21
        },
        {
          "output_type": "display_data",
          "data": {
            "text/plain": [
              "<Figure size 720x720 with 2 Axes>"
            ],
            "image/png": "[encoded data removed]"
          },
          "metadata": {
            "needs_background": "light"
          }
        }
      ]
    },
    {
      "cell_type": "markdown",
      "source": [
        "## train/test/validation generators"
      ],
      "metadata": {
        "id": "Qd5BKS4YamHZ"
      }
    },
    {
      "cell_type": "code",
      "source": [
        "# 3.1 Some constants:\n",
        "\n",
        "batch_size = 32\n",
        "image_size = (160,160)"
      ],
      "metadata": {
        "id": "MTVJunGCCZkS"
      },
      "execution_count": null,
      "outputs": []
    },
    {
      "cell_type": "code",
      "source": [
        "# 3.2 Create train data generator\n",
        "\n",
        "train_ds = tf.keras.utils.image_dataset_from_directory(data_dir / \"train\",\n",
        "                                                       shuffle = True,\n",
        "                                                       batch_size = batch_size,\n",
        "                                                       image_size=image_size,\n",
        "                                                       )"
      ],
      "metadata": {
        "id": "j1QY9kFOTEBZ",
        "colab": {
          "base_uri": "https://localhost:8080/"
        },
        "outputId": "5837a542-9ca8-4dc5-a77a-317a47097dde"
      },
      "execution_count": null,
      "outputs": [
        {
          "output_type": "stream",
          "name": "stdout",
          "text": [
            "Found 2000 files belonging to 2 classes.\n"
          ]
        }
      ]
    },
    {
      "cell_type": "code",
      "source": [
        "# 3.2.a Create train data generator\n",
        "\n",
        "train_ds = tf.keras.utils.image_dataset_from_directory(data_dir / \"train\",\n",
        "                                                       shuffle = True,\n",
        "                                                       batch_size = batch_size,\n",
        "                                                       image_size=image_size,\n",
        "                                                       validation_split= 0.2,\n",
        "                                                       subset = 'both',     # training, validation, both\n",
        "                                                       seed = 42\n",
        "                                                       \n",
        "                                                       )"
      ],
      "metadata": {
        "colab": {
          "base_uri": "https://localhost:8080/"
        },
        "id": "oOWkuLXbD5GK",
        "outputId": "5c80a6a0-b969-48c9-eb13-189e758792e1"
      },
      "execution_count": null,
      "outputs": [
        {
          "output_type": "stream",
          "name": "stdout",
          "text": [
            "Found 2000 files belonging to 2 classes.\n",
            "Using 1600 files for training.\n",
            "Using 400 files for validation.\n"
          ]
        }
      ]
    },
    {
      "cell_type": "code",
      "source": [
        "len(train_ds)"
      ],
      "metadata": {
        "colab": {
          "base_uri": "https://localhost:8080/"
        },
        "id": "ROOEC8kpEAi-",
        "outputId": "0e503d4d-4734-4448-f800-96c65aa39841"
      },
      "execution_count": null,
      "outputs": [
        {
          "output_type": "execute_result",
          "data": {
            "text/plain": [
              "63"
            ]
          },
          "metadata": {},
          "execution_count": 28
        }
      ]
    },
    {
      "cell_type": "code",
      "source": [
        "one = train_ds[0]\n",
        "two = train_ds[1]"
      ],
      "metadata": {
        "id": "J0IuuUS4EHqq"
      },
      "execution_count": null,
      "outputs": []
    },
    {
      "cell_type": "code",
      "source": [
        "eu = iter(one)\n",
        "next(eu)"
      ],
      "metadata": {
        "id": "OdGhMZTNETV3",
        "colab": {
          "base_uri": "https://localhost:8080/"
        },
        "outputId": "20ffc24d-99bf-4c6f-929c-34ae66b4447c"
      },
      "execution_count": null,
      "outputs": [
        {
          "output_type": "execute_result",
          "data": {
            "text/plain": [
              "(<tf.Tensor: shape=(32, 160, 160, 3), dtype=float32, numpy=\n",
              " array([[[[ 44.       ,  30.       ,  29.       ],\n",
              "          [ 42.       ,  31.       ,  29.       ],\n",
              "          [ 41.308838 ,  30.605713 ,  28.605713 ],\n",
              "          ...,\n",
              "          [  8.       ,   8.       ,   8.       ],\n",
              "          [  7.671875 ,   7.671875 ,   7.671875 ],\n",
              "          [  6.0593567,   6.0593567,   6.0593567]],\n",
              " \n",
              "         [[ 43.851852 ,  30.074074 ,  29.       ],\n",
              "          [ 41.984375 ,  31.       ,  29.       ],\n",
              "          [ 41.00464  ,  31.013916 ,  29.009277 ],\n",
              "          ...,\n",
              "          [  7.40625  ,   7.40625  ,   7.40625  ],\n",
              "          [ 11.837524 ,  11.837524 ,  11.837524 ],\n",
              "          [  8.059357 ,   8.059357 ,   8.059357 ]],\n",
              " \n",
              "         [[ 41.97866  ,  31.       ,  29.       ],\n",
              "          [ 41.       ,  31.       ,  29.       ],\n",
              "          [ 40.997314 ,  32.997314 ,  29.997314 ],\n",
              "          ...,\n",
              "          [  8.512939 ,   8.512939 ,   8.512939 ],\n",
              "          [ 12.526529 ,  12.526529 ,  12.526529 ],\n",
              "          [  8.3974   ,   8.3974   ,   8.3974   ]],\n",
              " \n",
              "         ...,\n",
              " \n",
              "         [[ 47.874023 ,  27.933397 ,  19.090185 ],\n",
              "          [ 54.525    ,  43.518753 ,  36.635796 ],\n",
              "          [ 73.241455 ,  69.522705 ,  64.16333  ],\n",
              "          ...,\n",
              "          [ 53.809814 ,  24.809814 ,  20.809814 ],\n",
              "          [ 47.80143  ,  18.801432 ,  14.801432 ],\n",
              "          [ 44.28125  ,  21.162537 ,  13.221893 ]],\n",
              " \n",
              "         [[ 49.30659  ,  29.365967 ,  20.544092 ],\n",
              "          [ 67.80522  ,  57.517727 ,  51.16148  ],\n",
              "          [ 70.47803  ,  67.47803  ,  62.478027 ],\n",
              "          ...,\n",
              "          [ 53.421875 ,  24.421875 ,  20.421875 ],\n",
              "          [ 54.1781   ,  25.1781   ,  21.1781   ],\n",
              "          [ 46.000927 ,  22.882214 ,  14.94157  ]],\n",
              " \n",
              "         [[ 62.459373 ,  42.51875  ,  33.696877 ],\n",
              "          [ 71.07905  ,  60.791553 ,  54.435303 ],\n",
              "          [ 64.04224  ,  61.042236 ,  56.042236 ],\n",
              "          ...,\n",
              "          [ 52.625    ,  23.625    ,  19.625    ],\n",
              "          [ 49.77591  ,  20.775911 ,  16.775911 ],\n",
              "          [ 45.347603 ,  22.228888 ,  14.288244 ]]],\n",
              " \n",
              " \n",
              "        [[[253.08984  , 255.       , 254.875    ],\n",
              "          [238.60625  , 233.85625  , 230.85625  ],\n",
              "          [220.27774  , 201.39531  , 197.06445  ],\n",
              "          ...,\n",
              "          [170.86797  ,  41.634766 ,  40.435547 ],\n",
              "          [193.0332   ,  41.340233 ,  50.296486 ],\n",
              "          [180.03242  ,  34.03242  ,  45.002342 ]],\n",
              " \n",
              "         [[253.64648  , 255.       , 254.45898  ],\n",
              "          [240.6375   , 236.45     , 233.2625   ],\n",
              "          [220.1125   , 204.125    , 198.68124  ],\n",
              "          ...,\n",
              "          [180.41837  ,  39.957813 ,  43.33125  ],\n",
              "          [181.76836  ,  38.918358 ,  45.28711  ],\n",
              "          [180.41602  ,  34.89453  ,  43.403515 ]],\n",
              " \n",
              "         [[253.68164  , 253.61914  , 253.49414  ],\n",
              "          [244.75     , 240.5625   , 237.375    ],\n",
              "          [217.41016  , 203.97266  , 197.66016  ],\n",
              "          ...,\n",
              "          [189.5625   ,  35.623047 ,  45.15625  ],\n",
              "          [177.2539   ,  41.253906 ,  45.253906 ],\n",
              "          [183.6875   ,  38.6875   ,  42.80078  ]],\n",
              " \n",
              "         ...,\n",
              " \n",
              "         [[158.13086  ,  62.97461  ,  73.53711  ],\n",
              "          [146.32617  ,  50.35742  ,  61.32617  ],\n",
              "          [119.09961  ,  20.283203 ,  31.972656 ],\n",
              "          ...,\n",
              "          [ 73.5      ,  63.5      ,  51.5      ],\n",
              "          [ 71.70508  ,  61.70508  ,  49.70508  ],\n",
              "          [ 71.0625   ,  63.0625   ,  50.0625   ]],\n",
              " \n",
              "         [[123.51883  ,  22.58836  ,  39.77038  ],\n",
              "          [120.29811  ,  20.619192 ,  38.53128  ],\n",
              "          [105.80199  ,  10.02696  ,  25.930857 ],\n",
              "          ...,\n",
              "          [ 75.868744 ,  65.868744 ,  53.868744 ],\n",
              "          [ 73.63945  ,  63.63945  ,  51.63945  ],\n",
              "          [ 70.0625   ,  62.0625   ,  49.0625   ]],\n",
              " \n",
              "         [[102.80745  ,   6.969921 ,  26.486317 ],\n",
              "          [ 96.099236 ,   4.331238 ,  22.722263 ],\n",
              "          [ 89.293396 ,   3.5187378,  19.669132 ],\n",
              "          ...,\n",
              "          [ 74.3125   ,  64.3125   ,  52.3125   ],\n",
              "          [ 73.       ,  63.       ,  51.       ],\n",
              "          [ 71.       ,  61.       ,  49.       ]]],\n",
              " \n",
              " \n",
              "        [[[157.       , 142.       , 109.       ],\n",
              "          [160.85312  , 145.85312  , 112.85313  ],\n",
              "          [165.71875  , 150.8125   , 117.859375 ],\n",
              "          ...,\n",
              "          [194.90625  , 184.04688  , 164.       ],\n",
              "          [195.       , 184.       , 164.       ],\n",
              "          [195.       , 184.       , 164.       ]],\n",
              " \n",
              "         [[157.       , 142.       , 109.       ],\n",
              "          [161.01634  , 146.01634  , 113.01635  ],\n",
              "          [166.11787  , 151.17587  , 118.24062  ],\n",
              "          ...,\n",
              "          [194.525    , 183.66562  , 163.61874  ],\n",
              "          [194.61874  , 183.61874  , 163.61874  ],\n",
              "          [194.61874  , 183.61874  , 163.61874  ]],\n",
              " \n",
              "         [[157.       , 142.       , 109.       ],\n",
              "          [161.26787  , 146.26787  , 113.26787  ],\n",
              "          [166.73291  , 151.73584  , 118.828125 ],\n",
              "          ...,\n",
              "          [193.9375   , 183.07812  , 163.03125  ],\n",
              "          [194.03125  , 183.03125  , 163.03125  ],\n",
              "          [194.03125  , 183.03125  , 163.03125  ]],\n",
              " \n",
              "         ...,\n",
              " \n",
              "         [[ 61.0625   ,  59.0625   ,  60.0625   ],\n",
              "          [ 60.674515 ,  58.674515 ,  59.674515 ],\n",
              "          [ 60.15918  ,  58.0625   ,  59.066895 ],\n",
              "          ...,\n",
              "          [148.00146  , 143.00146  , 137.00146  ],\n",
              "          [146.1549   , 141.1549   , 135.1549   ],\n",
              "          [144.84375  , 139.84375  , 133.84375  ]],\n",
              " \n",
              "         [[ 62.237488 ,  60.237488 ,  61.237488 ],\n",
              "          [ 62.604065 ,  60.604065 ,  61.604065 ],\n",
              "          [ 63.151726 ,  60.99997  ,  62.08698  ],\n",
              "          ...,\n",
              "          [146.26653  , 141.26653  , 135.26653  ],\n",
              "          [143.72047  , 138.72047  , 132.72047  ],\n",
              "          [141.90628  , 136.90628  , 130.90628  ]],\n",
              " \n",
              "         [[ 63.       ,  61.       ,  62.       ],\n",
              "          [ 63.85625  ,  61.85625  ,  62.85625  ],\n",
              "          [ 65.09375  ,  62.90625  ,  64.046875 ],\n",
              "          ...,\n",
              "          [145.14062  , 140.14062  , 134.14062  ],\n",
              "          [142.14066  , 137.14066  , 131.14066  ],\n",
              "          [140.       , 135.       , 129.       ]]],\n",
              " \n",
              " \n",
              "        ...,\n",
              " \n",
              " \n",
              "        [[[245.49374  , 255.       , 251.83125  ],\n",
              "          [245.13416  , 255.       , 253.025    ],\n",
              "          [ 97.21006  , 104.33262  , 112.77012  ],\n",
              "          ...,\n",
              "          [254.       , 254.       , 254.       ],\n",
              "          [254.       , 254.       , 254.       ],\n",
              "          [254.       , 254.       , 254.       ]],\n",
              " \n",
              "         [[245.38458  , 254.89084  , 251.72209  ],\n",
              "          [245.21185  , 254.6806   , 252.7056   ],\n",
              "          [ 99.74785  , 106.74785  , 115.18535  ],\n",
              "          ...,\n",
              "          [254.       , 254.       , 254.       ],\n",
              "          [254.       , 254.       , 254.       ],\n",
              "          [254.       , 254.       , 254.       ]],\n",
              " \n",
              "         [[246.40312  , 254.81807  , 251.53262  ],\n",
              "          [246.07608  , 254.46768  , 252.53125  ],\n",
              "          [104.98242  , 109.29492  , 118.444336 ],\n",
              "          ...,\n",
              "          [254.       , 254.       , 254.       ],\n",
              "          [254.       , 254.       , 254.       ],\n",
              "          [254.       , 254.       , 254.       ]],\n",
              " \n",
              "         ...,\n",
              " \n",
              "         [[178.92012  , 163.76387  , 170.81563  ],\n",
              "          [182.0665   , 165.8582   , 173.36543  ],\n",
              "          [176.12305  , 158.95459  , 166.83496  ],\n",
              "          ...,\n",
              "          [117.109375 ,  95.953125 , 104.875    ],\n",
              "          [128.28845  , 107.1322   , 116.05408  ],\n",
              "          [131.767    , 110.61075  , 119.53262  ]],\n",
              " \n",
              "         [[176.91524  , 161.91524  , 168.91524  ],\n",
              "          [179.17946  , 163.16696  , 170.67322  ],\n",
              "          [177.34494  , 160.34494  , 168.34494  ],\n",
              "          ...,\n",
              "          [ 94.42197  ,  73.42197  ,  82.42197  ],\n",
              "          [106.49133  ,  85.49133  ,  94.49133  ],\n",
              "          [111.30614  ,  90.30614  ,  99.30614  ]],\n",
              " \n",
              "         [[173.20804  , 158.20804  , 165.20804  ],\n",
              "          [171.25247  , 155.23996  , 162.74622  ],\n",
              "          [169.75447  , 152.75447  , 160.75447  ],\n",
              "          ...,\n",
              "          [ 83.027435 ,  62.027435 ,  71.027435 ],\n",
              "          [ 94.50287  ,  73.50287  ,  82.50287  ],\n",
              "          [ 99.27299  ,  78.27299  ,  87.27299  ]]],\n",
              " \n",
              " \n",
              "        [[[197.40039  , 201.40039  , 202.40039  ],\n",
              "          [201.11719  , 205.11719  , 206.11719  ],\n",
              "          [197.91797  , 201.91797  , 202.91797  ],\n",
              "          ...,\n",
              "          [186.24805  , 190.5918   , 193.5918   ],\n",
              "          [187.       , 191.       , 194.       ],\n",
              "          [187.       , 191.       , 194.       ]],\n",
              " \n",
              "         [[197.93047  , 201.93047  , 202.93047  ],\n",
              "          [195.4535   , 199.4535   , 200.4535   ],\n",
              "          [199.3125   , 203.3125   , 204.3125   ],\n",
              "          ...,\n",
              "          [190.8164   , 195.16016  , 198.16016  ],\n",
              "          [190.       , 194.       , 197.       ],\n",
              "          [190.       , 194.       , 197.       ]],\n",
              " \n",
              "         [[199.6918   , 203.6918   , 204.6918   ],\n",
              "          [199.98282  , 203.98282  , 204.98282  ],\n",
              "          [197.63672  , 201.63672  , 202.63672  ],\n",
              "          ...,\n",
              "          [185.73633  , 190.08008  , 193.08008  ],\n",
              "          [185.69333  , 189.69333  , 192.69333  ],\n",
              "          [187.9766   , 191.9766   , 194.9766   ]],\n",
              " \n",
              "         ...,\n",
              " \n",
              "         [[212.18828  , 212.50078  , 209.3543   ],\n",
              "          [213.4375   , 214.75     , 207.17891  ],\n",
              "          [212.80469  , 214.80469  , 202.70703  ],\n",
              "          ...,\n",
              "          [201.54883  , 204.58008  , 199.23633  ],\n",
              "          [188.40186  , 189.40186  , 184.40186  ],\n",
              "          [203.76605  , 204.76605  , 199.76605  ]],\n",
              " \n",
              "         [[218.70665  , 218.64453  , 219.20586  ],\n",
              "          [215.375    , 215.38126  , 213.36133  ],\n",
              "          [216.96094  , 218.02539  , 210.89844  ],\n",
              "          ...,\n",
              "          [199.9336   , 201.59375  , 196.5293   ],\n",
              "          [206.02359  , 207.02359  , 202.02359  ],\n",
              "          [204.61784  , 205.61784  , 200.61784  ]],\n",
              " \n",
              "         [[206.5664   , 208.5664   , 197.5664   ],\n",
              "          [209.00626  , 210.00626  , 202.025    ],\n",
              "          [215.91602  , 216.91602  , 211.91602  ],\n",
              "          ...,\n",
              "          [197.7168   , 193.7168   , 190.7168   ],\n",
              "          [207.96265  , 206.96265  , 201.96265  ],\n",
              "          [203.66254  , 202.66254  , 197.66254  ]]],\n",
              " \n",
              " \n",
              "        [[[208.8875   , 214.8875   , 214.8875   ],\n",
              "          [209.68124  , 215.68124  , 215.68124  ],\n",
              "          [210.54375  , 216.54375  , 216.54375  ],\n",
              "          ...,\n",
              "          [ 50.775    ,  78.34121  , 117.60039  ],\n",
              "          [ 46.201984 ,  78.648    , 116.424995 ],\n",
              "          [ 43.75625  ,  77.91875  , 114.8375   ]],\n",
              " \n",
              "         [[187.4375   , 193.4375   , 193.4375   ],\n",
              "          [188.03777  , 194.03777  , 194.03777  ],\n",
              "          [188.69003  , 194.69003  , 194.69003  ],\n",
              "          ...,\n",
              "          [ 49.196484 ,  78.73906  , 117.14394  ],\n",
              "          [ 45.343464 ,  78.70625  , 115.56249  ],\n",
              "          [ 41.975    ,  78.70625  , 113.975    ]],\n",
              " \n",
              "         [[195.40625  , 201.40625  , 201.40625  ],\n",
              "          [195.40625  , 201.40625  , 201.40625  ],\n",
              "          [195.40625  , 201.40625  , 201.40625  ],\n",
              "          ...,\n",
              "          [ 49.7334   ,  80.6084   , 117.82715  ],\n",
              "          [ 48.968735 ,  84.8125   , 118.993744 ],\n",
              "          [ 45.       ,  84.8125   , 117.40625  ]],\n",
              " \n",
              "         ...,\n",
              " \n",
              "         [[138.375    , 139.375    , 133.375    ],\n",
              "          [132.99239  , 133.99239  , 127.99238  ],\n",
              "          [129.8916   , 130.8916   , 124.8916   ],\n",
              "          ...,\n",
              "          [153.35449  , 154.35449  , 148.35449  ],\n",
              "          [149.4375   , 150.4375   , 144.4375   ],\n",
              "          [149.4375   , 150.4375   , 144.4375   ]],\n",
              " \n",
              "         [[136.97498  , 137.97498  , 131.97498  ],\n",
              "          [136.62775  , 137.62775  , 131.62775  ],\n",
              "          [137.54654  , 138.54654  , 132.54654  ],\n",
              "          ...,\n",
              "          [152.08456  , 153.08456  , 147.08456  ],\n",
              "          [153.22968  , 154.22968  , 148.22968  ],\n",
              "          [156.83133  , 157.83133  , 151.83133  ]],\n",
              " \n",
              "         [[136.       , 137.       , 131.       ],\n",
              "          [137.5875   , 138.5875   , 132.5875   ],\n",
              "          [139.96875  , 140.96875  , 134.96875  ],\n",
              "          ...,\n",
              "          [152.03125  , 153.03125  , 147.03125  ],\n",
              "          [155.23752  , 156.23752  , 150.23752  ],\n",
              "          [160.       , 161.       , 155.       ]]]], dtype=float32)>,\n",
              " <tf.Tensor: shape=(32,), dtype=int32, numpy=\n",
              " array([1, 0, 0, 0, 0, 0, 1, 1, 1, 0, 1, 1, 0, 0, 0, 1, 0, 1, 1, 0, 1, 0,\n",
              "        0, 1, 0, 1, 1, 1, 0, 0, 1, 1], dtype=int32)>)"
            ]
          },
          "metadata": {},
          "execution_count": 41
        }
      ]
    },
    {
      "cell_type": "code",
      "source": [
        "# 3.2.1 Create an iterator object from generator:\n",
        "\n",
        "ix = train_ds.__iter__()"
      ],
      "metadata": {
        "id": "6A8IedX1-ypO"
      },
      "execution_count": null,
      "outputs": []
    },
    {
      "cell_type": "code",
      "source": [
        "# 3.2.2 Get first batch:\n",
        "tx = next(ix)"
      ],
      "metadata": {
        "id": "savslCT5-5pO"
      },
      "execution_count": null,
      "outputs": []
    },
    {
      "cell_type": "code",
      "source": [
        "# 3.2.3\n",
        "tx"
      ],
      "metadata": {
        "id": "33pcveUn_oFL",
        "colab": {
          "base_uri": "https://localhost:8080/"
        },
        "outputId": "19974e86-d77f-4995-ee22-ce3479ae6f2e"
      },
      "execution_count": null,
      "outputs": [
        {
          "output_type": "execute_result",
          "data": {
            "text/plain": [
              "(<tf.Tensor: shape=(32, 160, 160, 3), dtype=float32, numpy=\n",
              " array([[[[ 14.438145 ,  30.438145 ,  19.438145 ],\n",
              "          [ 12.743008 ,  30.743008 ,  18.743008 ],\n",
              "          [ 20.387207 ,  38.387207 ,  24.387207 ],\n",
              "          ...,\n",
              "          [ 28.403223 ,  49.40322  ,  32.40322  ],\n",
              "          [ 19.694391 ,  40.69439  ,  23.694391 ],\n",
              "          [ 17.92864  ,  38.92864  ,  21.92864  ]],\n",
              " \n",
              "         [[ 13.534376 ,  29.534376 ,  17.340626 ],\n",
              "          [ 16.440624 ,  34.440624 ,  20.440624 ],\n",
              "          [  9.840773 ,  27.840773 ,  12.647022 ],\n",
              "          ...,\n",
              "          [ 27.171682 ,  48.171684 ,  31.265432 ],\n",
              "          [ 20.550356 ,  40.95348  ,  27.744106 ],\n",
              "          [ 13.390588 ,  33.390587 ,  21.987463 ]],\n",
              " \n",
              "         [[ 28.415478 ,  44.415478 ,  31.415478 ],\n",
              "          [ 16.656395 ,  34.656395 ,  18.656395 ],\n",
              "          [ 29.829346 ,  48.14209  ,  31.203857 ],\n",
              "          ...,\n",
              "          [ 33.03296  ,  53.67334  ,  39.76758  ],\n",
              "          [ 40.12365  ,  60.12365  ,  49.57995  ],\n",
              "          [ 41.480843 ,  61.07145  ,  53.29963  ]],\n",
              " \n",
              "         ...,\n",
              " \n",
              "         [[ 65.171974 ,  50.828224 ,  45.5001   ],\n",
              "          [ 65.34731  ,  51.003567 ,  45.67544  ],\n",
              "          [ 62.719727 ,  48.375977 ,  43.04785  ],\n",
              "          ...,\n",
              "          [ 67.26636  ,  55.250732 ,  46.922607 ],\n",
              "          [ 71.4906   ,  59.474976 ,  51.14685  ],\n",
              "          [ 68.50315  ,  56.621857 ,  48.29373  ]],\n",
              " \n",
              "         [[ 59.708786 ,  44.708786 ,  39.708786 ],\n",
              "          [ 65.68883  ,  52.688828 ,  46.688828 ],\n",
              "          [ 60.09375  ,  47.09375  ,  41.09375  ],\n",
              "          ...,\n",
              "          [ 64.28067  ,  50.280674 ,  48.08695  ],\n",
              "          [ 59.92676  ,  49.786198 ,  46.364323 ],\n",
              "          [ 58.927433 ,  54.35877  ,  48.761906 ]],\n",
              " \n",
              "         [[ 61.425636 ,  46.425636 ,  41.425636 ],\n",
              "          [ 61.95939  ,  48.95939  ,  42.95939  ],\n",
              "          [ 61.081196 ,  48.081196 ,  42.081196 ],\n",
              "          ...,\n",
              "          [ 63.503227 ,  49.503227 ,  48.503227 ],\n",
              "          [ 54.13437  ,  44.590668 ,  42.36252  ],\n",
              "          [ 51.669968 ,  49.488754 ,  44.488754 ]]],\n",
              " \n",
              " \n",
              "        [[[142.4      , 141.4      , 137.4      ],\n",
              "          [173.6      , 172.6      , 167.6      ],\n",
              "          [149.75     , 150.75     , 142.75     ],\n",
              "          ...,\n",
              "          [ 43.       ,  45.       ,  24.       ],\n",
              "          [ 42.       ,  44.       ,  22.549988 ],\n",
              "          [ 41.       ,  43.       ,  21.       ]],\n",
              " \n",
              "         [[130.8      , 129.8      , 125.8      ],\n",
              "          [179.       , 178.       , 173.       ],\n",
              "          [137.       , 137.       , 129.       ],\n",
              "          ...,\n",
              "          [ 39.       ,  41.       ,  20.       ],\n",
              "          [ 40.450012 ,  42.450012 ,  21.       ],\n",
              "          [ 42.149994 ,  44.149994 ,  22.149994 ]],\n",
              " \n",
              "         [[148.85     , 149.85     , 144.85     ],\n",
              "          [166.09999  , 165.09999  , 160.09999  ],\n",
              "          [144.75     , 144.75     , 136.75     ],\n",
              "          ...,\n",
              "          [ 41.25     ,  43.25     ,  22.25     ],\n",
              "          [ 39.549988 ,  41.549988 ,  20.099976 ],\n",
              "          [ 38.       ,  40.       ,  18.       ]],\n",
              " \n",
              "         ...,\n",
              " \n",
              "         [[194.15     , 187.15     , 168.15     ],\n",
              "          [193.1      , 186.1      , 167.65     ],\n",
              "          [200.5      , 193.5      , 177.5      ],\n",
              "          ...,\n",
              "          [200.25     , 200.75     , 196.       ],\n",
              "          [206.45001  , 211.       , 208.35004  ],\n",
              "          [199.04996  , 203.04996  , 204.04996  ]],\n",
              " \n",
              "         [[186.       , 179.       , 161.       ],\n",
              "          [189.1      , 182.1      , 165.2      ],\n",
              "          [195.25     , 187.25     , 174.25     ],\n",
              "          ...,\n",
              "          [205.25     , 199.75     , 193.25     ],\n",
              "          [202.19995  , 201.19995  , 197.19995  ],\n",
              "          [202.95004  , 202.25003  , 199.80005  ]],\n",
              " \n",
              "         [[194.7      , 188.7      , 172.7      ],\n",
              "          [200.65     , 194.65     , 179.75     ],\n",
              "          [205.       , 199.       , 185.       ],\n",
              "          ...,\n",
              "          [194.75     , 184.       , 175.       ],\n",
              "          [178.35004  , 171.35004  , 163.35004  ],\n",
              "          [189.44998  , 182.74997  , 176.74997  ]]],\n",
              " \n",
              " \n",
              "        [[[ 80.10036  ,  76.10036  ,  77.10036  ],\n",
              "          [ 81.00105  ,  77.00105  ,  78.00105  ],\n",
              "          [ 91.31484  ,  87.31484  ,  88.31484  ],\n",
              "          ...,\n",
              "          [126.24375  , 129.82187  , 132.9625   ],\n",
              "          [125.0458   , 129.04579  , 132.04579  ],\n",
              "          [123.99026  , 127.99026  , 130.99025  ]],\n",
              " \n",
              "         [[ 83.02812  ,  79.02812  ,  80.02812  ],\n",
              "          [ 81.9625   ,  77.9625   ,  78.9625   ],\n",
              "          [ 85.21562  ,  81.21562  ,  82.21562  ],\n",
              "          ...,\n",
              "          [122.4541   , 126.03223  , 129.17285  ],\n",
              "          [119.15935  , 123.15935  , 126.15935  ],\n",
              "          [117.07606  , 121.07606  , 124.07606  ]],\n",
              " \n",
              "         [[ 81.03438  ,  77.03438  ,  78.03438  ],\n",
              "          [ 83.163475 ,  79.163475 ,  80.163475 ],\n",
              "          [ 86.350586 ,  82.350586 ,  83.350586 ],\n",
              "          ...,\n",
              "          [128.42188  , 132.       , 135.14062  ],\n",
              "          [124.08962  , 128.08963  , 131.08963  ],\n",
              "          [120.09061  , 124.09061  , 127.09061  ]],\n",
              " \n",
              "         ...,\n",
              " \n",
              "         [[118.22363  , 121.40137  , 126.3125   ],\n",
              "          [127.24824  , 132.26407  , 136.25879  ],\n",
              "          [119.26074  , 127.54199  , 130.40137  ],\n",
              "          ...,\n",
              "          [ 72.3125   ,  70.32129  ,  75.32129  ],\n",
              "          [ 77.03316  ,  75.03316  ,  80.03316  ],\n",
              "          [ 82.517845 ,  80.517845 ,  85.517845 ]],\n",
              " \n",
              "         [[130.51906  , 135.7127   , 139.61174  ],\n",
              "          [117.47737  , 125.55232  , 128.51483  ],\n",
              "          [116.25314  , 125.26369  , 130.26895  ],\n",
              "          ...,\n",
              "          [ 70.49214  ,  69.52962  ,  75.60457  ],\n",
              "          [ 73.78135  ,  72.818825 ,  78.893776 ],\n",
              "          [ 67.18948  ,  66.22696  ,  72.30191  ]],\n",
              " \n",
              "         [[126.124466 , 136.12447  , 137.12447  ],\n",
              "          [128.11339  , 138.01758  , 140.305    ],\n",
              "          [126.66745  , 137.53209  , 143.95221  ],\n",
              "          ...,\n",
              "          [ 71.86464  ,  74.86464  ,  81.86464  ],\n",
              "          [ 69.80423  ,  72.80423  ,  79.80423  ],\n",
              "          [ 70.153015 ,  73.153015 ,  80.153015 ]]],\n",
              " \n",
              " \n",
              "        ...,\n",
              " \n",
              " \n",
              "        [[[ 68.85     ,  67.85     ,  63.85     ],\n",
              "          [ 71.77905  ,  70.77905  ,  66.77905  ],\n",
              "          [ 73.25     ,  72.25     ,  68.25     ],\n",
              "          ...,\n",
              "          [ 53.1792   ,  48.1792   ,  44.1792   ],\n",
              "          [ 47.86789  ,  42.86789  ,  38.86789  ],\n",
              "          [ 47.6875   ,  42.6875   ,  38.6875   ]],\n",
              " \n",
              "         [[ 68.254395 ,  67.254395 ,  63.254395 ],\n",
              "          [ 71.015625 ,  70.015625 ,  66.015625 ],\n",
              "          [ 76.58911  ,  75.58911  ,  71.58911  ],\n",
              "          ...,\n",
              "          [ 51.198486 ,  46.198486 ,  42.198486 ],\n",
              "          [ 61.27754  ,  56.27754  ,  52.27754  ],\n",
              "          [ 54.       ,  49.       ,  45.       ]],\n",
              " \n",
              "         [[ 80.380714 ,  79.380714 ,  75.380714 ],\n",
              "          [ 78.142136 ,  77.142136 ,  73.142136 ],\n",
              "          [ 82.88306  ,  81.88306  ,  77.88306  ],\n",
              "          ...,\n",
              "          [ 51.716064 ,  45.63794  ,  41.997314 ],\n",
              "          [ 56.487385 ,  50.40926  ,  46.768635 ],\n",
              "          [ 52.640625 ,  47.640625 ,  43.640625 ]],\n",
              " \n",
              "         ...,\n",
              " \n",
              "         [[ 80.30259  ,  71.09741  ,  69.640625 ],\n",
              "          [ 80.28125  ,  76.22822  ,  71.75474  ],\n",
              "          [ 81.98169  ,  78.578125 ,  71.30444  ],\n",
              "          ...,\n",
              "          [ 41.88037  ,  38.638428 ,  37.385742 ],\n",
              "          [ 20.815758 ,  17.534508 ,  18.534508 ],\n",
              "          [  9.797363 ,  10.699982 ,   5.8780518]],\n",
              " \n",
              "         [[ 84.96875  ,  75.0875   ,  73.96875  ],\n",
              "          [ 84.96875  ,  80.325    ,  76.14687  ],\n",
              "          [ 86.56714  ,  83.27026  ,  75.67651  ],\n",
              "          ...,\n",
              "          [ 58.325684 ,  54.325684 ,  53.325684 ],\n",
              "          [ 29.50649  ,  25.50649  ,  26.50649  ],\n",
              "          [ 13.103088 ,  13.984375 ,   9.162445 ]],\n",
              " \n",
              "         [[ 87.63198  ,  77.75073  ,  76.63198  ],\n",
              "          [ 87.       ,  82.35625  ,  78.17812  ],\n",
              "          [ 87.90259  ,  84.60571  ,  77.01196  ],\n",
              "          ...,\n",
              "          [ 65.00391  ,  61.003906 ,  60.003906 ],\n",
              "          [ 42.77177  ,  38.77177  ,  39.77177  ],\n",
              "          [ 14.731232 ,  15.612518 ,  10.790588 ]]],\n",
              " \n",
              " \n",
              "        [[[ 37.648438 ,  44.648438 ,  37.648438 ],\n",
              "          [ 39.       ,  45.       ,  43.       ],\n",
              "          [ 39.       ,  44.       ,  47.       ],\n",
              "          ...,\n",
              "          [180.52344  , 181.42188  , 159.83594  ],\n",
              "          [204.94531  , 204.63281  , 172.50781  ],\n",
              "          [199.72656  , 197.28906  , 160.60156  ]],\n",
              " \n",
              "         [[ 37.875    ,  44.875    ,  37.875    ],\n",
              "          [ 37.75     ,  43.75     ,  41.75     ],\n",
              "          [ 37.625    ,  42.625    ,  45.625    ],\n",
              "          ...,\n",
              "          [180.95312  , 180.30469  , 160.76562  ],\n",
              "          [198.58594  , 196.00781  , 166.23438  ],\n",
              "          [197.58594  , 194.58594  , 160.46094  ]],\n",
              " \n",
              "         [[ 35.742188 ,  42.742188 ,  35.742188 ],\n",
              "          [ 33.703125 ,  39.703125 ,  37.703125 ],\n",
              "          [ 32.375    ,  37.375    ,  40.375    ],\n",
              "          ...,\n",
              "          [175.70312  , 174.89062  , 158.14062  ],\n",
              "          [193.11719  , 188.84375  , 163.11719  ],\n",
              "          [203.54688  , 198.79688  , 167.29688  ]],\n",
              " \n",
              "         ...,\n",
              " \n",
              "         [[ 24.625    ,  22.625    ,  23.625    ],\n",
              "          [ 21.625    ,  19.625    ,  20.625    ],\n",
              "          [ 19.25     ,  17.25     ,  18.25     ],\n",
              "          ...,\n",
              "          [ 49.265625 ,  36.265625 ,  30.015625 ],\n",
              "          [ 54.984375 ,  41.984375 ,  35.734375 ],\n",
              "          [ 40.851562 ,  29.976562 ,  23.601562 ]],\n",
              " \n",
              "         [[ 29.875    ,  27.875    ,  28.875    ],\n",
              "          [ 24.851562 ,  22.851562 ,  23.851562 ],\n",
              "          [ 21.164062 ,  19.164062 ,  20.164062 ],\n",
              "          ...,\n",
              "          [ 36.140625 ,  23.140625 ,  15.140625 ],\n",
              "          [ 36.335938 ,  23.335938 ,  15.3359375],\n",
              "          [ 48.78125  ,  38.78125  ,  29.78125  ]],\n",
              " \n",
              "         [[ 30.335938 ,  28.335938 ,  29.335938 ],\n",
              "          [ 23.4375   ,  21.4375   ,  22.4375   ],\n",
              "          [ 19.5625   ,  17.5625   ,  18.5625   ],\n",
              "          ...,\n",
              "          [ 45.085938 ,  32.085938 ,  24.085938 ],\n",
              "          [ 49.109375 ,  36.109375 ,  28.109375 ],\n",
              "          [ 43.804688 ,  33.804688 ,  24.804688 ]]],\n",
              " \n",
              " \n",
              "        [[[123.       , 119.       , 116.       ],\n",
              "          [123.       , 119.       , 116.       ],\n",
              "          [123.       , 119.       , 116.       ],\n",
              "          ...,\n",
              "          [103.64551  , 105.64551  , 118.64551  ],\n",
              "          [ 97.42901  ,  98.60711  , 116.07281  ],\n",
              "          [101.30426  ,  92.42297  , 111.36362  ]],\n",
              " \n",
              "         [[123.       , 119.       , 116.       ],\n",
              "          [123.       , 119.       , 116.       ],\n",
              "          [123.       , 119.       , 116.       ],\n",
              "          ...,\n",
              "          [110.615234 , 111.893555 , 129.14648  ],\n",
              "          [111.29197  , 112.29197  , 132.35446  ],\n",
              "          [ 95.54735  ,  86.606705 , 105.843    ]],\n",
              " \n",
              "         [[123.       , 119.       , 116.       ],\n",
              "          [123.       , 119.       , 116.       ],\n",
              "          [123.       , 119.       , 116.       ],\n",
              "          ...,\n",
              "          [110.850586 , 110.538086 , 132.85059  ],\n",
              "          [ 94.08064  ,  93.76814  , 115.36148  ],\n",
              "          [ 97.75541  ,  88.814766 , 108.9917   ]],\n",
              " \n",
              "         ...,\n",
              " \n",
              "         [[ 60.99375  ,  55.99375  ,  51.99375  ],\n",
              "          [ 59.056446 ,  54.056446 ,  50.056446 ],\n",
              "          [ 58.615234 ,  53.615234 ,  49.615234 ],\n",
              "          ...,\n",
              "          [ 37.875    ,  24.4375   ,  15.4375   ],\n",
              "          [ 36.51542  ,  23.077919 ,  14.077919 ],\n",
              "          [ 37.5625   ,  22.5625   ,  15.5625   ]],\n",
              " \n",
              "         [[ 56.132423 ,  51.132423 ,  47.132423 ],\n",
              "          [ 55.040234 ,  50.040234 ,  46.040234 ],\n",
              "          [ 53.839844 ,  48.839844 ,  44.839844 ],\n",
              "          ...,\n",
              "          [ 33.52832  ,  20.52832  ,  11.52832  ],\n",
              "          [ 35.614693 ,  22.614693 ,  13.614693 ],\n",
              "          [ 40.875    ,  26.8125   ,  17.9375   ]],\n",
              " \n",
              "         [[ 56.       ,  51.       ,  47.       ],\n",
              "          [ 55.       ,  50.       ,  46.       ],\n",
              "          [ 54.9834   ,  49.9834   ,  45.9834   ],\n",
              "          ...,\n",
              "          [ 31.296875 ,  21.296875 ,  11.296875 ],\n",
              "          [ 33.6438   ,  23.643799 ,  13.643799 ],\n",
              "          [ 41.       ,  27.       ,  16.       ]]]], dtype=float32)>,\n",
              " <tf.Tensor: shape=(32,), dtype=int32, numpy=\n",
              " array([1, 1, 0, 0, 0, 0, 1, 1, 1, 0, 0, 0, 1, 0, 1, 1, 0, 1, 0, 0, 1, 0,\n",
              "        1, 0, 0, 1, 1, 1, 1, 0, 0, 1], dtype=int32)>)"
            ]
          },
          "metadata": {},
          "execution_count": 26
        }
      ]
    },
    {
      "cell_type": "code",
      "source": [
        "# 3.2.4 tx is a tuple\n",
        "tx[0]\n",
        "print(\"\\n\")\n",
        "tx[1]"
      ],
      "metadata": {
        "id": "9BfPdDrR_VeG",
        "colab": {
          "base_uri": "https://localhost:8080/"
        },
        "outputId": "acce6f5f-adbc-41f2-d775-a12674e8767b"
      },
      "execution_count": null,
      "outputs": [
        {
          "output_type": "execute_result",
          "data": {
            "text/plain": [
              "<tf.Tensor: shape=(32, 160, 160, 3), dtype=float32, numpy=\n",
              "array([[[[ 14.438145 ,  30.438145 ,  19.438145 ],\n",
              "         [ 12.743008 ,  30.743008 ,  18.743008 ],\n",
              "         [ 20.387207 ,  38.387207 ,  24.387207 ],\n",
              "         ...,\n",
              "         [ 28.403223 ,  49.40322  ,  32.40322  ],\n",
              "         [ 19.694391 ,  40.69439  ,  23.694391 ],\n",
              "         [ 17.92864  ,  38.92864  ,  21.92864  ]],\n",
              "\n",
              "        [[ 13.534376 ,  29.534376 ,  17.340626 ],\n",
              "         [ 16.440624 ,  34.440624 ,  20.440624 ],\n",
              "         [  9.840773 ,  27.840773 ,  12.647022 ],\n",
              "         ...,\n",
              "         [ 27.171682 ,  48.171684 ,  31.265432 ],\n",
              "         [ 20.550356 ,  40.95348  ,  27.744106 ],\n",
              "         [ 13.390588 ,  33.390587 ,  21.987463 ]],\n",
              "\n",
              "        [[ 28.415478 ,  44.415478 ,  31.415478 ],\n",
              "         [ 16.656395 ,  34.656395 ,  18.656395 ],\n",
              "         [ 29.829346 ,  48.14209  ,  31.203857 ],\n",
              "         ...,\n",
              "         [ 33.03296  ,  53.67334  ,  39.76758  ],\n",
              "         [ 40.12365  ,  60.12365  ,  49.57995  ],\n",
              "         [ 41.480843 ,  61.07145  ,  53.29963  ]],\n",
              "\n",
              "        ...,\n",
              "\n",
              "        [[ 65.171974 ,  50.828224 ,  45.5001   ],\n",
              "         [ 65.34731  ,  51.003567 ,  45.67544  ],\n",
              "         [ 62.719727 ,  48.375977 ,  43.04785  ],\n",
              "         ...,\n",
              "         [ 67.26636  ,  55.250732 ,  46.922607 ],\n",
              "         [ 71.4906   ,  59.474976 ,  51.14685  ],\n",
              "         [ 68.50315  ,  56.621857 ,  48.29373  ]],\n",
              "\n",
              "        [[ 59.708786 ,  44.708786 ,  39.708786 ],\n",
              "         [ 65.68883  ,  52.688828 ,  46.688828 ],\n",
              "         [ 60.09375  ,  47.09375  ,  41.09375  ],\n",
              "         ...,\n",
              "         [ 64.28067  ,  50.280674 ,  48.08695  ],\n",
              "         [ 59.92676  ,  49.786198 ,  46.364323 ],\n",
              "         [ 58.927433 ,  54.35877  ,  48.761906 ]],\n",
              "\n",
              "        [[ 61.425636 ,  46.425636 ,  41.425636 ],\n",
              "         [ 61.95939  ,  48.95939  ,  42.95939  ],\n",
              "         [ 61.081196 ,  48.081196 ,  42.081196 ],\n",
              "         ...,\n",
              "         [ 63.503227 ,  49.503227 ,  48.503227 ],\n",
              "         [ 54.13437  ,  44.590668 ,  42.36252  ],\n",
              "         [ 51.669968 ,  49.488754 ,  44.488754 ]]],\n",
              "\n",
              "\n",
              "       [[[142.4      , 141.4      , 137.4      ],\n",
              "         [173.6      , 172.6      , 167.6      ],\n",
              "         [149.75     , 150.75     , 142.75     ],\n",
              "         ...,\n",
              "         [ 43.       ,  45.       ,  24.       ],\n",
              "         [ 42.       ,  44.       ,  22.549988 ],\n",
              "         [ 41.       ,  43.       ,  21.       ]],\n",
              "\n",
              "        [[130.8      , 129.8      , 125.8      ],\n",
              "         [179.       , 178.       , 173.       ],\n",
              "         [137.       , 137.       , 129.       ],\n",
              "         ...,\n",
              "         [ 39.       ,  41.       ,  20.       ],\n",
              "         [ 40.450012 ,  42.450012 ,  21.       ],\n",
              "         [ 42.149994 ,  44.149994 ,  22.149994 ]],\n",
              "\n",
              "        [[148.85     , 149.85     , 144.85     ],\n",
              "         [166.09999  , 165.09999  , 160.09999  ],\n",
              "         [144.75     , 144.75     , 136.75     ],\n",
              "         ...,\n",
              "         [ 41.25     ,  43.25     ,  22.25     ],\n",
              "         [ 39.549988 ,  41.549988 ,  20.099976 ],\n",
              "         [ 38.       ,  40.       ,  18.       ]],\n",
              "\n",
              "        ...,\n",
              "\n",
              "        [[194.15     , 187.15     , 168.15     ],\n",
              "         [193.1      , 186.1      , 167.65     ],\n",
              "         [200.5      , 193.5      , 177.5      ],\n",
              "         ...,\n",
              "         [200.25     , 200.75     , 196.       ],\n",
              "         [206.45001  , 211.       , 208.35004  ],\n",
              "         [199.04996  , 203.04996  , 204.04996  ]],\n",
              "\n",
              "        [[186.       , 179.       , 161.       ],\n",
              "         [189.1      , 182.1      , 165.2      ],\n",
              "         [195.25     , 187.25     , 174.25     ],\n",
              "         ...,\n",
              "         [205.25     , 199.75     , 193.25     ],\n",
              "         [202.19995  , 201.19995  , 197.19995  ],\n",
              "         [202.95004  , 202.25003  , 199.80005  ]],\n",
              "\n",
              "        [[194.7      , 188.7      , 172.7      ],\n",
              "         [200.65     , 194.65     , 179.75     ],\n",
              "         [205.       , 199.       , 185.       ],\n",
              "         ...,\n",
              "         [194.75     , 184.       , 175.       ],\n",
              "         [178.35004  , 171.35004  , 163.35004  ],\n",
              "         [189.44998  , 182.74997  , 176.74997  ]]],\n",
              "\n",
              "\n",
              "       [[[ 80.10036  ,  76.10036  ,  77.10036  ],\n",
              "         [ 81.00105  ,  77.00105  ,  78.00105  ],\n",
              "         [ 91.31484  ,  87.31484  ,  88.31484  ],\n",
              "         ...,\n",
              "         [126.24375  , 129.82187  , 132.9625   ],\n",
              "         [125.0458   , 129.04579  , 132.04579  ],\n",
              "         [123.99026  , 127.99026  , 130.99025  ]],\n",
              "\n",
              "        [[ 83.02812  ,  79.02812  ,  80.02812  ],\n",
              "         [ 81.9625   ,  77.9625   ,  78.9625   ],\n",
              "         [ 85.21562  ,  81.21562  ,  82.21562  ],\n",
              "         ...,\n",
              "         [122.4541   , 126.03223  , 129.17285  ],\n",
              "         [119.15935  , 123.15935  , 126.15935  ],\n",
              "         [117.07606  , 121.07606  , 124.07606  ]],\n",
              "\n",
              "        [[ 81.03438  ,  77.03438  ,  78.03438  ],\n",
              "         [ 83.163475 ,  79.163475 ,  80.163475 ],\n",
              "         [ 86.350586 ,  82.350586 ,  83.350586 ],\n",
              "         ...,\n",
              "         [128.42188  , 132.       , 135.14062  ],\n",
              "         [124.08962  , 128.08963  , 131.08963  ],\n",
              "         [120.09061  , 124.09061  , 127.09061  ]],\n",
              "\n",
              "        ...,\n",
              "\n",
              "        [[118.22363  , 121.40137  , 126.3125   ],\n",
              "         [127.24824  , 132.26407  , 136.25879  ],\n",
              "         [119.26074  , 127.54199  , 130.40137  ],\n",
              "         ...,\n",
              "         [ 72.3125   ,  70.32129  ,  75.32129  ],\n",
              "         [ 77.03316  ,  75.03316  ,  80.03316  ],\n",
              "         [ 82.517845 ,  80.517845 ,  85.517845 ]],\n",
              "\n",
              "        [[130.51906  , 135.7127   , 139.61174  ],\n",
              "         [117.47737  , 125.55232  , 128.51483  ],\n",
              "         [116.25314  , 125.26369  , 130.26895  ],\n",
              "         ...,\n",
              "         [ 70.49214  ,  69.52962  ,  75.60457  ],\n",
              "         [ 73.78135  ,  72.818825 ,  78.893776 ],\n",
              "         [ 67.18948  ,  66.22696  ,  72.30191  ]],\n",
              "\n",
              "        [[126.124466 , 136.12447  , 137.12447  ],\n",
              "         [128.11339  , 138.01758  , 140.305    ],\n",
              "         [126.66745  , 137.53209  , 143.95221  ],\n",
              "         ...,\n",
              "         [ 71.86464  ,  74.86464  ,  81.86464  ],\n",
              "         [ 69.80423  ,  72.80423  ,  79.80423  ],\n",
              "         [ 70.153015 ,  73.153015 ,  80.153015 ]]],\n",
              "\n",
              "\n",
              "       ...,\n",
              "\n",
              "\n",
              "       [[[ 68.85     ,  67.85     ,  63.85     ],\n",
              "         [ 71.77905  ,  70.77905  ,  66.77905  ],\n",
              "         [ 73.25     ,  72.25     ,  68.25     ],\n",
              "         ...,\n",
              "         [ 53.1792   ,  48.1792   ,  44.1792   ],\n",
              "         [ 47.86789  ,  42.86789  ,  38.86789  ],\n",
              "         [ 47.6875   ,  42.6875   ,  38.6875   ]],\n",
              "\n",
              "        [[ 68.254395 ,  67.254395 ,  63.254395 ],\n",
              "         [ 71.015625 ,  70.015625 ,  66.015625 ],\n",
              "         [ 76.58911  ,  75.58911  ,  71.58911  ],\n",
              "         ...,\n",
              "         [ 51.198486 ,  46.198486 ,  42.198486 ],\n",
              "         [ 61.27754  ,  56.27754  ,  52.27754  ],\n",
              "         [ 54.       ,  49.       ,  45.       ]],\n",
              "\n",
              "        [[ 80.380714 ,  79.380714 ,  75.380714 ],\n",
              "         [ 78.142136 ,  77.142136 ,  73.142136 ],\n",
              "         [ 82.88306  ,  81.88306  ,  77.88306  ],\n",
              "         ...,\n",
              "         [ 51.716064 ,  45.63794  ,  41.997314 ],\n",
              "         [ 56.487385 ,  50.40926  ,  46.768635 ],\n",
              "         [ 52.640625 ,  47.640625 ,  43.640625 ]],\n",
              "\n",
              "        ...,\n",
              "\n",
              "        [[ 80.30259  ,  71.09741  ,  69.640625 ],\n",
              "         [ 80.28125  ,  76.22822  ,  71.75474  ],\n",
              "         [ 81.98169  ,  78.578125 ,  71.30444  ],\n",
              "         ...,\n",
              "         [ 41.88037  ,  38.638428 ,  37.385742 ],\n",
              "         [ 20.815758 ,  17.534508 ,  18.534508 ],\n",
              "         [  9.797363 ,  10.699982 ,   5.8780518]],\n",
              "\n",
              "        [[ 84.96875  ,  75.0875   ,  73.96875  ],\n",
              "         [ 84.96875  ,  80.325    ,  76.14687  ],\n",
              "         [ 86.56714  ,  83.27026  ,  75.67651  ],\n",
              "         ...,\n",
              "         [ 58.325684 ,  54.325684 ,  53.325684 ],\n",
              "         [ 29.50649  ,  25.50649  ,  26.50649  ],\n",
              "         [ 13.103088 ,  13.984375 ,   9.162445 ]],\n",
              "\n",
              "        [[ 87.63198  ,  77.75073  ,  76.63198  ],\n",
              "         [ 87.       ,  82.35625  ,  78.17812  ],\n",
              "         [ 87.90259  ,  84.60571  ,  77.01196  ],\n",
              "         ...,\n",
              "         [ 65.00391  ,  61.003906 ,  60.003906 ],\n",
              "         [ 42.77177  ,  38.77177  ,  39.77177  ],\n",
              "         [ 14.731232 ,  15.612518 ,  10.790588 ]]],\n",
              "\n",
              "\n",
              "       [[[ 37.648438 ,  44.648438 ,  37.648438 ],\n",
              "         [ 39.       ,  45.       ,  43.       ],\n",
              "         [ 39.       ,  44.       ,  47.       ],\n",
              "         ...,\n",
              "         [180.52344  , 181.42188  , 159.83594  ],\n",
              "         [204.94531  , 204.63281  , 172.50781  ],\n",
              "         [199.72656  , 197.28906  , 160.60156  ]],\n",
              "\n",
              "        [[ 37.875    ,  44.875    ,  37.875    ],\n",
              "         [ 37.75     ,  43.75     ,  41.75     ],\n",
              "         [ 37.625    ,  42.625    ,  45.625    ],\n",
              "         ...,\n",
              "         [180.95312  , 180.30469  , 160.76562  ],\n",
              "         [198.58594  , 196.00781  , 166.23438  ],\n",
              "         [197.58594  , 194.58594  , 160.46094  ]],\n",
              "\n",
              "        [[ 35.742188 ,  42.742188 ,  35.742188 ],\n",
              "         [ 33.703125 ,  39.703125 ,  37.703125 ],\n",
              "         [ 32.375    ,  37.375    ,  40.375    ],\n",
              "         ...,\n",
              "         [175.70312  , 174.89062  , 158.14062  ],\n",
              "         [193.11719  , 188.84375  , 163.11719  ],\n",
              "         [203.54688  , 198.79688  , 167.29688  ]],\n",
              "\n",
              "        ...,\n",
              "\n",
              "        [[ 24.625    ,  22.625    ,  23.625    ],\n",
              "         [ 21.625    ,  19.625    ,  20.625    ],\n",
              "         [ 19.25     ,  17.25     ,  18.25     ],\n",
              "         ...,\n",
              "         [ 49.265625 ,  36.265625 ,  30.015625 ],\n",
              "         [ 54.984375 ,  41.984375 ,  35.734375 ],\n",
              "         [ 40.851562 ,  29.976562 ,  23.601562 ]],\n",
              "\n",
              "        [[ 29.875    ,  27.875    ,  28.875    ],\n",
              "         [ 24.851562 ,  22.851562 ,  23.851562 ],\n",
              "         [ 21.164062 ,  19.164062 ,  20.164062 ],\n",
              "         ...,\n",
              "         [ 36.140625 ,  23.140625 ,  15.140625 ],\n",
              "         [ 36.335938 ,  23.335938 ,  15.3359375],\n",
              "         [ 48.78125  ,  38.78125  ,  29.78125  ]],\n",
              "\n",
              "        [[ 30.335938 ,  28.335938 ,  29.335938 ],\n",
              "         [ 23.4375   ,  21.4375   ,  22.4375   ],\n",
              "         [ 19.5625   ,  17.5625   ,  18.5625   ],\n",
              "         ...,\n",
              "         [ 45.085938 ,  32.085938 ,  24.085938 ],\n",
              "         [ 49.109375 ,  36.109375 ,  28.109375 ],\n",
              "         [ 43.804688 ,  33.804688 ,  24.804688 ]]],\n",
              "\n",
              "\n",
              "       [[[123.       , 119.       , 116.       ],\n",
              "         [123.       , 119.       , 116.       ],\n",
              "         [123.       , 119.       , 116.       ],\n",
              "         ...,\n",
              "         [103.64551  , 105.64551  , 118.64551  ],\n",
              "         [ 97.42901  ,  98.60711  , 116.07281  ],\n",
              "         [101.30426  ,  92.42297  , 111.36362  ]],\n",
              "\n",
              "        [[123.       , 119.       , 116.       ],\n",
              "         [123.       , 119.       , 116.       ],\n",
              "         [123.       , 119.       , 116.       ],\n",
              "         ...,\n",
              "         [110.615234 , 111.893555 , 129.14648  ],\n",
              "         [111.29197  , 112.29197  , 132.35446  ],\n",
              "         [ 95.54735  ,  86.606705 , 105.843    ]],\n",
              "\n",
              "        [[123.       , 119.       , 116.       ],\n",
              "         [123.       , 119.       , 116.       ],\n",
              "         [123.       , 119.       , 116.       ],\n",
              "         ...,\n",
              "         [110.850586 , 110.538086 , 132.85059  ],\n",
              "         [ 94.08064  ,  93.76814  , 115.36148  ],\n",
              "         [ 97.75541  ,  88.814766 , 108.9917   ]],\n",
              "\n",
              "        ...,\n",
              "\n",
              "        [[ 60.99375  ,  55.99375  ,  51.99375  ],\n",
              "         [ 59.056446 ,  54.056446 ,  50.056446 ],\n",
              "         [ 58.615234 ,  53.615234 ,  49.615234 ],\n",
              "         ...,\n",
              "         [ 37.875    ,  24.4375   ,  15.4375   ],\n",
              "         [ 36.51542  ,  23.077919 ,  14.077919 ],\n",
              "         [ 37.5625   ,  22.5625   ,  15.5625   ]],\n",
              "\n",
              "        [[ 56.132423 ,  51.132423 ,  47.132423 ],\n",
              "         [ 55.040234 ,  50.040234 ,  46.040234 ],\n",
              "         [ 53.839844 ,  48.839844 ,  44.839844 ],\n",
              "         ...,\n",
              "         [ 33.52832  ,  20.52832  ,  11.52832  ],\n",
              "         [ 35.614693 ,  22.614693 ,  13.614693 ],\n",
              "         [ 40.875    ,  26.8125   ,  17.9375   ]],\n",
              "\n",
              "        [[ 56.       ,  51.       ,  47.       ],\n",
              "         [ 55.       ,  50.       ,  46.       ],\n",
              "         [ 54.9834   ,  49.9834   ,  45.9834   ],\n",
              "         ...,\n",
              "         [ 31.296875 ,  21.296875 ,  11.296875 ],\n",
              "         [ 33.6438   ,  23.643799 ,  13.643799 ],\n",
              "         [ 41.       ,  27.       ,  16.       ]]]], dtype=float32)>"
            ]
          },
          "metadata": {},
          "execution_count": 27
        },
        {
          "output_type": "stream",
          "name": "stdout",
          "text": [
            "\n",
            "\n"
          ]
        },
        {
          "output_type": "execute_result",
          "data": {
            "text/plain": [
              "<tf.Tensor: shape=(32,), dtype=int32, numpy=\n",
              "array([1, 1, 0, 0, 0, 0, 1, 1, 1, 0, 0, 0, 1, 0, 1, 1, 0, 1, 0, 0, 1, 0,\n",
              "       1, 0, 0, 1, 1, 1, 1, 0, 0, 1], dtype=int32)>"
            ]
          },
          "metadata": {},
          "execution_count": 27
        }
      ]
    },
    {
      "cell_type": "code",
      "source": [
        "# 3.2.1 What are the class names:\n",
        "\n",
        "train_ds.class_names"
      ],
      "metadata": {
        "colab": {
          "base_uri": "https://localhost:8080/"
        },
        "id": "FBYXwucACX0M",
        "outputId": "69a06b29-5d60-4ecd-9788-cb83f42ce3ea"
      },
      "execution_count": null,
      "outputs": [
        {
          "output_type": "execute_result",
          "data": {
            "text/plain": [
              "['cats', 'dogs']"
            ]
          },
          "metadata": {},
          "execution_count": 23
        }
      ]
    },
    {
      "cell_type": "code",
      "source": [
        "# 3.3 Validation generator:\n",
        "\n",
        "valid_ds = tf.keras.utils.image_dataset_from_directory(data_dir / \"validation\",\n",
        "                                                       shuffle = True,\n",
        "                                                       batch_size = batch_size,\n",
        "                                                       image_size=image_size\n",
        "                                                       )"
      ],
      "metadata": {
        "colab": {
          "base_uri": "https://localhost:8080/"
        },
        "id": "9MizjjOPCpRn",
        "outputId": "a425832e-b80a-4d98-faaa-70162450d35e"
      },
      "execution_count": null,
      "outputs": [
        {
          "output_type": "stream",
          "name": "stdout",
          "text": [
            "Found 1000 files belonging to 2 classes.\n"
          ]
        }
      ]
    },
    {
      "cell_type": "code",
      "source": [
        "# 3.3.1\n",
        "type(valid_ds)"
      ],
      "metadata": {
        "colab": {
          "base_uri": "https://localhost:8080/"
        },
        "id": "lm_vA-o6jkor",
        "outputId": "229c3017-7f51-41ff-c20e-9cd4efdd8a48"
      },
      "execution_count": null,
      "outputs": [
        {
          "output_type": "execute_result",
          "data": {
            "text/plain": [
              "tensorflow.python.data.ops.dataset_ops.BatchDataset"
            ]
          },
          "metadata": {},
          "execution_count": 26
        }
      ]
    },
    {
      "cell_type": "code",
      "source": [
        "# 3.4 How many batches of validation data are possible:\n",
        "\n",
        "val_batches = tf.data.experimental.cardinality(valid_ds)    # <tf.Tensor: shape=(), dtype=int64, numpy=32> \n",
        "                                                            # there are 32 batches; 32 * 32 = 1024\n",
        "val_batches                                                            "
      ],
      "metadata": {
        "id": "hXtrFREeC72s",
        "outputId": "b11b2b07-c75d-4c2b-ca28-6a708530acf7",
        "colab": {
          "base_uri": "https://localhost:8080/"
        }
      },
      "execution_count": null,
      "outputs": [
        {
          "output_type": "execute_result",
          "data": {
            "text/plain": [
              "<tf.Tensor: shape=(), dtype=int64, numpy=32>"
            ]
          },
          "metadata": {},
          "execution_count": 44
        }
      ]
    },
    {
      "cell_type": "code",
      "source": [
        "# 3.5 These are how many batches:\n",
        "\n",
        "val_batches // 5   # 6"
      ],
      "metadata": {
        "colab": {
          "base_uri": "https://localhost:8080/"
        },
        "id": "dqeWM03oNQyG",
        "outputId": "284d7700-e035-4bce-e7d7-1060d0dd6380"
      },
      "execution_count": null,
      "outputs": [
        {
          "output_type": "execute_result",
          "data": {
            "text/plain": [
              "<tf.Tensor: shape=(), dtype=int64, numpy=6>"
            ]
          },
          "metadata": {},
          "execution_count": 45
        }
      ]
    },
    {
      "cell_type": "code",
      "source": [
        "# 3.6 Just get one batch:\n",
        "\n",
        "for i,j in valid_ds.take(1):\n",
        "  print(i.shape)\n",
        "  print(type(i))\n",
        "  print(j.shape)"
      ],
      "metadata": {
        "colab": {
          "base_uri": "https://localhost:8080/"
        },
        "id": "c5cauqCoELML",
        "outputId": "7c39ab87-5521-4ff7-8029-e1dd38c7ffd1"
      },
      "execution_count": null,
      "outputs": [
        {
          "output_type": "stream",
          "name": "stdout",
          "text": [
            "(32, 160, 160, 3)\n",
            "<class 'tensorflow.python.framework.ops.EagerTensor'>\n",
            "(32,)\n"
          ]
        }
      ]
    },
    {
      "cell_type": "code",
      "source": [
        "# 3.7 Take initial val_batches // 5 for test data:\n",
        "\n",
        "test_dataset = valid_ds.take(val_batches // 5)"
      ],
      "metadata": {
        "id": "ZTqxGisEFo4n"
      },
      "execution_count": null,
      "outputs": []
    },
    {
      "cell_type": "code",
      "source": [
        "#  3.8 tf.data.Dataset.skip() method is used to create a dataset \n",
        "#        that skips count initial elements from this dataset.\n",
        "\n",
        "validation_dataset = valid_ds.skip(val_batches // 5)"
      ],
      "metadata": {
        "id": "D6PC7pIVNaJZ"
      },
      "execution_count": null,
      "outputs": []
    },
    {
      "cell_type": "code",
      "source": [
        "# 3.9 Skip example:\n",
        "#       https://www.tensorflow.org/api_docs/python/tf/data/Dataset#skip\n",
        "\n",
        "dataset = tf.data.Dataset.range(10)\n",
        "dataset = dataset.skip(7)\n"
      ],
      "metadata": {
        "id": "3c3ceIcLTfjU"
      },
      "execution_count": null,
      "outputs": []
    },
    {
      "cell_type": "code",
      "source": [
        "# 3.9.1 Dataset to numpy iterator:\n",
        "\n",
        "list(dataset.as_numpy_iterator())"
      ],
      "metadata": {
        "colab": {
          "base_uri": "https://localhost:8080/"
        },
        "id": "gjrgO-Syldcf",
        "outputId": "1744d2f9-ffd6-4896-988e-2fbd1cfb3ee2"
      },
      "execution_count": null,
      "outputs": [
        {
          "output_type": "execute_result",
          "data": {
            "text/plain": [
              "[7, 8, 9]"
            ]
          },
          "metadata": {},
          "execution_count": 30
        }
      ]
    },
    {
      "cell_type": "code",
      "source": [
        "# 3.9.2 Import for further eperiments:\n",
        "import tensorflow_datasets as tfds"
      ],
      "metadata": {
        "id": "ymqlgW8Kne2C"
      },
      "execution_count": null,
      "outputs": []
    },
    {
      "cell_type": "code",
      "source": [
        "# 3.9.3 Print Ist image in take(1)\n",
        "for i , j in valid_ds.take(1):\n",
        "  for k in tfds.as_numpy(i):\n",
        "    print(k.shape)\n",
        "    plt.imshow(k/255.0)\n",
        "    break\n",
        "  break"
      ],
      "metadata": {
        "colab": {
          "base_uri": "https://localhost:8080/",
          "height": 304
        },
        "id": "8jJhYNNWmKT8",
        "outputId": "94806c81-fa93-4f1f-93f4-9bac4422cba6"
      },
      "execution_count": null,
      "outputs": [
        {
          "output_type": "stream",
          "name": "stdout",
          "text": [
            "(160, 160, 3)\n"
          ]
        },
        {
          "output_type": "execute_result",
          "data": {
            "text/plain": [
              "<matplotlib.image.AxesImage at 0x7f660b302e50>"
            ]
          },
          "metadata": {},
          "execution_count": 54
        },
        {
          "output_type": "display_data",
          "data": {
            "text/plain": [
              "<Figure size 432x288 with 1 Axes>"
            ],
            "image/png": "[encoded data removed]"
          },
          "metadata": {
            "needs_background": "light"
          }
        }
      ]
    },
    {
      "cell_type": "markdown",
      "source": [
        "## Prefetching\n",
        "Configure pre-fetching. For `prefetch()` API, see [here](https://www.tensorflow.org/api_docs/python/tf/data/Dataset#prefetch)<br>\n",
        "prefetch() creates a Dataset that prefetches elements from this dataset."
      ],
      "metadata": {
        "id": "UBD2FWbWeMnR"
      }
    },
    {
      "cell_type": "markdown",
      "source": [
        "### Configure the dataset for performance"
      ],
      "metadata": {
        "id": "PfrJQXlYYppz"
      }
    },
    {
      "cell_type": "code",
      "source": [
        "# 4.0 prefetch expt\n",
        "dataset = tf.data.Dataset.range(3)\n",
        "dataset = dataset.prefetch(2)\n",
        "list(dataset.as_numpy_iterator())"
      ],
      "metadata": {
        "colab": {
          "base_uri": "https://localhost:8080/"
        },
        "id": "Dla-bdFA4a7J",
        "outputId": "7c2762ed-18d6-4c76-9ff8-6dffef521786"
      },
      "execution_count": null,
      "outputs": [
        {
          "output_type": "execute_result",
          "data": {
            "text/plain": [
              "[0, 1, 2]"
            ]
          },
          "metadata": {},
          "execution_count": 145
        }
      ]
    },
    {
      "cell_type": "code",
      "source": [
        "# 4.0.1 Get appropriate buffer size:\n",
        "#       in train_ds to prefetch. If a buffer\n",
        "#       is available, prefetching would be possible:\n",
        "\n",
        "buf_size = tf.data.AUTOTUNE   # number of elements to be prefetched\n",
        "train_ds = train_ds.prefetch(buffer_size = buf_size)\n",
        "validation_dataset  = validation_dataset.prefetch(buffer_size = buf_size)\n",
        "test_dataset = test_dataset.prefetch(buffer_size = buf_size)"
      ],
      "metadata": {
        "id": "yyVzTv9_N2Ku"
      },
      "execution_count": null,
      "outputs": []
    },
    {
      "cell_type": "markdown",
      "source": [
        "## MobileNetV2 model weights\n",
        "List of models available in tensorflow is [here](https://www.tensorflow.org/api_docs/python/tf/keras/applications)."
      ],
      "metadata": {
        "id": "Fvwl6SEyeP5p"
      }
    },
    {
      "cell_type": "code",
      "source": [
        "# 4.1 Create the base model from the pre-trained model MobileNet V2\n",
        "\n",
        "IMG_SHAPE = image_size + (3,)   # (160,160,3)\n",
        "# What about: f.keras.applications.mobilenet_v2.MobileNetV2\n",
        "base_model = tf.keras.applications.MobileNetV2(input_shape=IMG_SHAPE,\n",
        "                                               include_top=False,\n",
        "                                               weights='imagenet')\n",
        "\n",
        "type(base_model)  # keras.engine.functional.Functional"
      ],
      "metadata": {
        "id": "sgX_tko_ZNwe",
        "outputId": "0b455285-129c-4d98-9ca3-a7e343a8c756",
        "colab": {
          "base_uri": "https://localhost:8080/"
        }
      },
      "execution_count": null,
      "outputs": [
        {
          "output_type": "execute_result",
          "data": {
            "text/plain": [
              "keras.engine.functional.Functional"
            ]
          },
          "metadata": {},
          "execution_count": 33
        }
      ]
    },
    {
      "cell_type": "code",
      "source": [
        "# 4.1.1\n",
        "base_model.summary()"
      ],
      "metadata": {
        "id": "e4VGjcTxPrz-"
      },
      "execution_count": null,
      "outputs": []
    },
    {
      "cell_type": "markdown",
      "source": [
        "## Data augmentation function"
      ],
      "metadata": {
        "id": "BbD4nlYkeqgR"
      }
    },
    {
      "cell_type": "code",
      "source": [
        "# 5.0 Data augmentation function:\n",
        "\n",
        "data_augmentation = tf.keras.Sequential([\n",
        "                                          tf.keras.layers.RandomFlip('horizontal'),\n",
        "                                          tf.keras.layers.RandomRotation(0.2),\n",
        "                                         ]\n",
        "                                        )"
      ],
      "metadata": {
        "id": "qhXwUd8qq8Cl"
      },
      "execution_count": null,
      "outputs": []
    },
    {
      "cell_type": "code",
      "source": [
        "# 5.1\n",
        "type(data_augmentation)"
      ],
      "metadata": {
        "colab": {
          "base_uri": "https://localhost:8080/"
        },
        "id": "yAO9eJrFslOz",
        "outputId": "33fdfb06-fe1f-4f6c-9766-509fe95045d3"
      },
      "execution_count": null,
      "outputs": [
        {
          "output_type": "execute_result",
          "data": {
            "text/plain": [
              "keras.engine.sequential.Sequential"
            ]
          },
          "metadata": {},
          "execution_count": 149
        }
      ]
    },
    {
      "cell_type": "markdown",
      "source": [
        "Sequential() can also be called as below:"
      ],
      "metadata": {
        "id": "O-UTR8kB4xF6"
      }
    },
    {
      "cell_type": "code",
      "source": [
        "# 5.2\n",
        "data_augmentation = tf.keras.Sequential()"
      ],
      "metadata": {
        "id": "Z6pcXogdstP-"
      },
      "execution_count": null,
      "outputs": []
    },
    {
      "cell_type": "code",
      "source": [
        "# 5.3\n",
        "data_augmentation.add(tf.keras.layers.RandomFlip('horizontal'))"
      ],
      "metadata": {
        "id": "LiMaB8e5szBC"
      },
      "execution_count": null,
      "outputs": []
    },
    {
      "cell_type": "code",
      "source": [
        "# 5.4\n",
        "data_augmentation.add(tf.keras.layers.RandomRotation(0.2))"
      ],
      "metadata": {
        "id": "RTHDtdcDs45I"
      },
      "execution_count": null,
      "outputs": []
    },
    {
      "cell_type": "markdown",
      "source": [
        "## Our model"
      ],
      "metadata": {
        "id": "GJ6AKNKIfGVD"
      }
    },
    {
      "cell_type": "code",
      "source": [
        "# 6.0 Classification model:\n",
        "#      Each time you rerun the model, change seed\n",
        "#       to some other number\n",
        "\n",
        "# 6.1 Clear existing keras weights from model:\n",
        "tf.keras.backend.clear_session()\n",
        "seed = np.round(np.random.random() * 10000 ).astype('int')\n",
        "tf.random.set_seed(seed)\n",
        "#del md\n",
        "\n",
        "\n",
        "# 6.2 The model\n",
        "inputs = tf.keras.Input(shape = IMG_SHAPE )\n",
        "x = data_augmentation(inputs)   # Note that it is a dequential model\n",
        "# Rescaling is done by scale*inputs+offset.\n",
        "# Rescaling(scale=4.0, offset=1.0) implies:\n",
        "#   [0,255] range it would give 4*[0, 255]+1 = [1, 1021]\n",
        "#   [0,255]                    1/127*[0,255] -1 = [-1,1]\n",
        "x = tf.keras.layers.Rescaling(1./127.5, offset=-1)(x)  # Rescale (-1,1)\n",
        "# Call the model on new inputs: (x):\n",
        "# https://www.tensorflow.org/api_docs/python/tf/keras/Model#call\n",
        "base = base_model(x , training = False)   # No training \n",
        "base = tf.keras.layers.Flatten()(base)\n",
        "# Classifier\n",
        "base = tf.keras.layers.Dense(256, activation = 'relu', name = \"cde\")(base)\n",
        "type(base)\n",
        "#base = tf.keras.layers.GlobalAveragePooling2D()(base)\n",
        "#base = tf.keras.layers.Dropout(0.2)(base)\n",
        "outputs = tf.keras.layers.Dense(1)(base)\n",
        "md = tf.keras.Model(inputs = [inputs], outputs = [outputs])"
      ],
      "metadata": {
        "id": "W-0exxUVgbqQ",
        "colab": {
          "base_uri": "https://localhost:8080/"
        },
        "outputId": "4bda5e6d-5218-4511-8875-4ca9aa1c065a"
      },
      "execution_count": null,
      "outputs": [
        {
          "output_type": "stream",
          "name": "stderr",
          "text": [
            "WARNING:tensorflow:Using a while_loop for converting RngReadAndSkip cause there is no registered converter for this op.\n",
            "WARNING:tensorflow:Using a while_loop for converting Bitcast cause there is no registered converter for this op.\n",
            "WARNING:tensorflow:Using a while_loop for converting Bitcast cause there is no registered converter for this op.\n",
            "WARNING:tensorflow:Using a while_loop for converting StatelessRandomUniformV2 cause there is no registered converter for this op.\n",
            "WARNING:tensorflow:Using a while_loop for converting ImageProjectiveTransformV3 cause there is no registered converter for this op.\n"
          ]
        },
        {
          "output_type": "execute_result",
          "data": {
            "text/plain": [
              "keras.engine.keras_tensor.KerasTensor"
            ]
          },
          "metadata": {},
          "execution_count": 40
        }
      ]
    },
    {
      "cell_type": "code",
      "source": [
        "# 6.0.1 tf.keras.Sequential() behaves as layer in itself\n",
        "#       Here is a modified code using two Sequential() objects.\n",
        "#       Classification model:\n",
        "#       Each time you rerun the model, change seed\n",
        "#       to some other number\n",
        "\n",
        "# 6.0.2 Clear existing keras weights from model:\n",
        "tf.keras.backend.clear_session()\n",
        "seed = np.round(np.random.random() * 10000 ).astype('int')\n",
        "tf.random.set_seed(seed)\n",
        "#del md\n",
        "\n",
        "\n",
        "# 6.0.3 The model\n",
        "inputs = tf.keras.Input(shape = IMG_SHAPE )\n",
        "x = data_augmentation(inputs)   # Note that it is a dequential model\n",
        "# Rescaling is done by scale*inputs+offset.\n",
        "# Rescaling(scale=4.0, offset=1.0) implies:\n",
        "#   [0,255] range it would give 4*[0, 255]+1 = [1, 1021]\n",
        "#   [0,255]                    1/127*[0,255] -1 = [-1,1]\n",
        "x = tf.keras.layers.Rescaling(1./127.5, offset=-1)(x)  # Rescale (-1,1)\n",
        "# Call the model on new inputs: (x):\n",
        "# https://www.tensorflow.org/api_docs/python/tf/keras/Model#call\n",
        "base = base_model(x , training = False)   # No training \n",
        "base = tf.keras.layers.Flatten()(base)\n",
        "\n",
        "# Classifier\n",
        "base = tf.keras.Sequential(\n",
        "                           [tf.keras.layers.Dense(256, activation = 'relu')],\n",
        "                           name = \"abc\")(base)  # name of \"abc\" is that of Sequential() and NOT of Dense\n",
        "\n",
        "type(base)\n",
        "#base = tf.keras.layers.GlobalAveragePooling2D()(base)\n",
        "#base = tf.keras.layers.Dropout(0.2)(base)\n",
        "outputs = tf.keras.layers.Dense(1)(base)\n",
        "md = tf.keras.Model(inputs = [inputs], outputs = [outputs])"
      ],
      "metadata": {
        "colab": {
          "base_uri": "https://localhost:8080/"
        },
        "id": "AA28IKCYbqSR",
        "outputId": "e03edd06-5dcc-4d8b-dc3b-89c664e1d558"
      },
      "execution_count": null,
      "outputs": [
        {
          "output_type": "stream",
          "name": "stderr",
          "text": [
            "WARNING:tensorflow:Using a while_loop for converting RngReadAndSkip cause there is no registered converter for this op.\n",
            "WARNING:tensorflow:Using a while_loop for converting Bitcast cause there is no registered converter for this op.\n",
            "WARNING:tensorflow:Using a while_loop for converting Bitcast cause there is no registered converter for this op.\n",
            "WARNING:tensorflow:Using a while_loop for converting StatelessRandomUniformV2 cause there is no registered converter for this op.\n",
            "WARNING:tensorflow:Using a while_loop for converting ImageProjectiveTransformV3 cause there is no registered converter for this op.\n"
          ]
        },
        {
          "output_type": "execute_result",
          "data": {
            "text/plain": [
              "keras.engine.keras_tensor.KerasTensor"
            ]
          },
          "metadata": {},
          "execution_count": 38
        }
      ]
    },
    {
      "cell_type": "code",
      "source": [
        "# 6.0.4\n",
        "md.summary()"
      ],
      "metadata": {
        "colab": {
          "base_uri": "https://localhost:8080/"
        },
        "id": "Vtz1TPB-PS3d",
        "outputId": "5d1dfda7-17e0-4a08-e68c-821ff177d49d"
      },
      "execution_count": null,
      "outputs": [
        {
          "output_type": "stream",
          "name": "stdout",
          "text": [
            "Model: \"model\"\n",
            "_________________________________________________________________\n",
            " Layer (type)                Output Shape              Param #   \n",
            "=================================================================\n",
            " input_1 (InputLayer)        [(None, 160, 160, 3)]     0         \n",
            "                                                                 \n",
            " sequential (Sequential)     (None, 160, 160, 3)       0         \n",
            "                                                                 \n",
            " rescaling (Rescaling)       (None, 160, 160, 3)       0         \n",
            "                                                                 \n",
            " mobilenetv2_1.00_160 (Funct  (None, 5, 5, 1280)       2257984   \n",
            " ional)                                                          \n",
            "                                                                 \n",
            " flatten (Flatten)           (None, 32000)             0         \n",
            "                                                                 \n",
            " dense (Dense)               (None, 256)               8192256   \n",
            "                                                                 \n",
            " dense_1 (Dense)             (None, 1)                 257       \n",
            "                                                                 \n",
            "=================================================================\n",
            "Total params: 10,450,497\n",
            "Trainable params: 10,416,385\n",
            "Non-trainable params: 34,112\n",
            "_________________________________________________________________\n"
          ]
        }
      ]
    },
    {
      "cell_type": "markdown",
      "source": [
        "See [tf.keras.losses.BinaryCrossentropy](https://www.tensorflow.org/api_docs/python/tf/keras/losses/BinaryCrossentropy)<br>\n",
        "Als [see](https://stackoverflow.com/questions/41455101/what-is-the-meaning-of-the-word-logits-in-tensorflow)\n",
        "\n",
        "> <i>from_logits = True:</i><br>\n",
        ">> Whether to interpret `y_pred` as a tensor of logit values. By default, we assume that `y_pred` contains probabilities (i.e., values in [0, 1])."
      ],
      "metadata": {
        "id": "BEFiArndimnp"
      }
    },
    {
      "cell_type": "code",
      "source": [
        "# 6.3 Compile the mode:\n",
        "#     This compilation gives very good results.\n",
        "#     But see Note at the beginning.\n",
        "# Adam: https://www.tensorflow.org/api_docs/python/tf/keras/optimizers/Adam\n",
        "\n",
        "base_learning_rate = 0.0001\n",
        "md.compile(   optimizer=tf.keras.optimizers.Adam(\n",
        "                                                learning_rate=base_learning_rate   # Default: 0.01\n",
        "                                                ),\n",
        "              loss=tf.keras.losses.BinaryCrossentropy(\n",
        "                                                      from_logits=True  # Default: False\n",
        "                                                     ),\n",
        "              metrics=['accuracy']\n",
        "           )"
      ],
      "metadata": {
        "id": "g3cJfe0hBDDG"
      },
      "execution_count": null,
      "outputs": []
    },
    {
      "cell_type": "code",
      "source": [
        "# 6.4 Default learning rate of Adam gives BAD RESULTS:\n",
        "#     This compilation does with default learning rate does not give good results: \n",
        "\n",
        "md.compile( \n",
        "            loss=tf.keras.losses.BinaryCrossentropy(\n",
        "                                                      from_logits=True  # Default: False\n",
        "                                                     ),\n",
        "            optimizer = tf.keras.optimizers.experimental.Adam(),\n",
        "            metrics = [\"accuracy\"]\n",
        "           )"
      ],
      "metadata": {
        "id": "tNIs13mjjNZw"
      },
      "execution_count": null,
      "outputs": []
    },
    {
      "cell_type": "markdown",
      "source": [
        "## Train model"
      ],
      "metadata": {
        "id": "-r91PjXD2HLS"
      }
    },
    {
      "cell_type": "code",
      "source": [
        "# 6.5 Train the model:\n",
        "\n",
        "md.fit(train_ds,\n",
        "       batch_size = batch_size,\n",
        "       epochs = 10,\n",
        "       validation_data = validation_dataset\n",
        "       )"
      ],
      "metadata": {
        "id": "Kh3ctMBPj_bt",
        "colab": {
          "base_uri": "https://localhost:8080/"
        },
        "outputId": "947f95df-4437-4c97-df00-ad9d805074b9"
      },
      "execution_count": null,
      "outputs": [
        {
          "output_type": "stream",
          "name": "stdout",
          "text": [
            "Epoch 1/10\n"
          ]
        },
        {
          "output_type": "stream",
          "name": "stderr",
          "text": [
            "WARNING:tensorflow:Using a while_loop for converting RngReadAndSkip cause there is no registered converter for this op.\n",
            "WARNING:tensorflow:Using a while_loop for converting Bitcast cause there is no registered converter for this op.\n",
            "WARNING:tensorflow:Using a while_loop for converting Bitcast cause there is no registered converter for this op.\n",
            "WARNING:tensorflow:Using a while_loop for converting StatelessRandomUniformV2 cause there is no registered converter for this op.\n",
            "WARNING:tensorflow:Using a while_loop for converting ImageProjectiveTransformV3 cause there is no registered converter for this op.\n",
            "WARNING:tensorflow:Using a while_loop for converting RngReadAndSkip cause there is no registered converter for this op.\n",
            "WARNING:tensorflow:Using a while_loop for converting Bitcast cause there is no registered converter for this op.\n",
            "WARNING:tensorflow:Using a while_loop for converting Bitcast cause there is no registered converter for this op.\n",
            "WARNING:tensorflow:Using a while_loop for converting StatelessRandomUniformV2 cause there is no registered converter for this op.\n",
            "WARNING:tensorflow:Using a while_loop for converting ImageProjectiveTransformV3 cause there is no registered converter for this op.\n"
          ]
        },
        {
          "output_type": "stream",
          "name": "stdout",
          "text": [
            "63/63 [==============================] - 23s 211ms/step - loss: 0.2925 - accuracy: 0.8840 - val_loss: 0.1025 - val_accuracy: 0.9406\n",
            "Epoch 2/10\n",
            "63/63 [==============================] - 12s 184ms/step - loss: 0.1339 - accuracy: 0.9405 - val_loss: 0.0477 - val_accuracy: 0.9802\n",
            "Epoch 3/10\n",
            "63/63 [==============================] - 12s 184ms/step - loss: 0.1415 - accuracy: 0.9400 - val_loss: 0.1013 - val_accuracy: 0.9653\n",
            "Epoch 4/10\n",
            "63/63 [==============================] - 12s 185ms/step - loss: 0.1167 - accuracy: 0.9545 - val_loss: 0.0663 - val_accuracy: 0.9678\n",
            "Epoch 5/10\n",
            "63/63 [==============================] - 12s 184ms/step - loss: 0.0944 - accuracy: 0.9585 - val_loss: 0.0455 - val_accuracy: 0.9802\n",
            "Epoch 6/10\n",
            "63/63 [==============================] - 12s 184ms/step - loss: 0.0780 - accuracy: 0.9655 - val_loss: 0.0476 - val_accuracy: 0.9752\n",
            "Epoch 7/10\n",
            "63/63 [==============================] - 13s 200ms/step - loss: 0.0635 - accuracy: 0.9730 - val_loss: 0.0550 - val_accuracy: 0.9814\n",
            "Epoch 8/10\n",
            "63/63 [==============================] - 12s 186ms/step - loss: 0.0873 - accuracy: 0.9650 - val_loss: 0.0829 - val_accuracy: 0.9765\n",
            "Epoch 9/10\n",
            "63/63 [==============================] - 12s 186ms/step - loss: 0.0871 - accuracy: 0.9700 - val_loss: 0.0602 - val_accuracy: 0.9827\n",
            "Epoch 10/10\n",
            "63/63 [==============================] - 12s 185ms/step - loss: 0.0572 - accuracy: 0.9775 - val_loss: 0.0776 - val_accuracy: 0.9814\n"
          ]
        },
        {
          "output_type": "execute_result",
          "data": {
            "text/plain": [
              "<keras.callbacks.History at 0x7f9305b25b80>"
            ]
          },
          "metadata": {},
          "execution_count": 32
        }
      ]
    },
    {
      "cell_type": "markdown",
      "source": [
        "## Initialise model\n",
        "Does not appear to help"
      ],
      "metadata": {
        "id": "GSmhNwAj2KEZ"
      }
    },
    {
      "cell_type": "code",
      "source": [
        "# 7.0 Delete all model related variables:\n",
        "\n",
        "del x , md, base, inputs, outputs"
      ],
      "metadata": {
        "id": "c6AlbePsu40z"
      },
      "execution_count": null,
      "outputs": []
    },
    {
      "cell_type": "code",
      "source": [
        "# 7.1 Function to reinitailize model:\n",
        "\n",
        "def reinitialize(model):\n",
        "    for l in model.layers:\n",
        "        if hasattr(l,\"kernel_initializer\"):\n",
        "            l.kernel.assign(l.kernel_initializer(tf.shape(l.kernel)))\n",
        "        if hasattr(l,\"bias_initializer\"):\n",
        "            l.bias.assign(l.bias_initializer(tf.shape(l.bias)))\n",
        "        if hasattr(l,\"recurrent_initializer\"):\n",
        "            l.recurrent_kernel.assign(l.recurrent_initializer(tf.shape(l.recurrent_kernel)))"
      ],
      "metadata": {
        "id": "Jv3Mu-wjmWd_"
      },
      "execution_count": null,
      "outputs": []
    },
    {
      "cell_type": "code",
      "source": [
        "# 7.2\n",
        "reinitialize(md)"
      ],
      "metadata": {
        "id": "5eiOVaYhqnNW"
      },
      "execution_count": null,
      "outputs": []
    },
    {
      "cell_type": "code",
      "source": [
        "########################## I am done ###################"
      ],
      "metadata": {
        "id": "xvbpiPf1qsdb"
      },
      "execution_count": null,
      "outputs": []
    }
  ]
}