{
  "cells": [
    {
      "cell_type": "markdown",
      "metadata": {
        "id": "view-in-github",
        "colab_type": "text"
      },
      "source": [
        "<a href=\"https://colab.research.google.com/github/Bedadeepa/DeepLearning/blob/main/Tabular_data_with_fastai.ipynb\" target=\"_parent\"><img src=\"https://colab.research.google.com/assets/colab-badge.svg\" alt=\"Open In Colab\"/></a>"
      ]
    },
    {
      "cell_type": "code",
      "source": [
        "# Last amended: 22nd Jan, 2023\n",
        "# github deeplearning repo\n",
        "# Ref: https://docs.fast.ai/tutorial.tabular.html\n",
        "#      https://confusedcoders.com/data-science/deep-learning/how-to-apply-deep-learning-on-tabular-data-with-fastai\n",
        "#      https://www.martinalarcon.org/2018-12-31-b-water-pumps/\n",
        "# Good Kaggle notebook:\n",
        "#      https://www.kaggle.com/code/rohan1506/fastai-tutorial-detailed\n",
        "# Good fastai totorial:\n",
        "#      https://walkwithfastai.com/tab.clas.binary\n",
        "#      https://walkwithfastai.com/tab.stats\n",
        "# Also see\n",
        "#      https://www.mdpi.com/2078-2489/11/2/108\n",
        "# Objectives:\n",
        "#           a) Using fastai to preprocess data\n",
        "#           b) fastai for developing model\n",
        "#           c) fast ai for making data ready for other libraries"
      ],
      "metadata": {
        "id": "GHshFDQIb0zb"
      },
      "execution_count": null,
      "outputs": []
    },
    {
      "cell_type": "markdown",
      "metadata": {
        "id": "bOa9XKc_XKRg"
      },
      "source": [
        "# Tabular models\n",
        "To get help on fastai functons use `doc()`.<br>\n",
        "Reference See [here](https://docs.fast.ai/tutorial.tabular.html)<br>\n",
        "What are DataLoaders? See [here](https://dirk-kalmbach.medium.com/datablock-and-dataloaders-in-fastai-d5aa7ae560e5) and [here](https://muttoni.github.io/blog/machine-learning/fastai/2020/12/26/datablocks-vs-dataloaders.html)"
      ]
    },
    {
      "cell_type": "code",
      "source": [
        "# 0.0\n",
        "from IPython.core.interactiveshell import InteractiveShell\n",
        "InteractiveShell.ast_node_interactivity = \"all\"\n"
      ],
      "metadata": {
        "id": "rvQc2pStXZoY"
      },
      "execution_count": null,
      "outputs": []
    },
    {
      "cell_type": "code",
      "source": [
        "# To see prettier help using doc()\n",
        "#  Also for creating python packages\n",
        "!pip install nbdev"
      ],
      "metadata": {
        "id": "HEkvNy7CFFRc",
        "colab": {
          "base_uri": "https://localhost:8080/"
        },
        "outputId": "768aee5d-fac0-4497-fbd3-45874ddb2971"
      },
      "execution_count": null,
      "outputs": [
        {
          "output_type": "stream",
          "name": "stdout",
          "text": [
            "Looking in indexes: https://pypi.org/simple, https://us-python.pkg.dev/colab-wheels/public/simple/\n",
            "Collecting nbdev\n",
            "  Downloading nbdev-2.3.12-py3-none-any.whl (64 kB)\n",
            "\u001b[2K     \u001b[90m━━━━━━━━━━━━━━━━━━━━━━━━━━━━━━━━━━━━━━━━\u001b[0m \u001b[32m64.8/64.8 KB\u001b[0m \u001b[31m1.0 MB/s\u001b[0m eta \u001b[36m0:00:00\u001b[0m\n",
            "\u001b[?25hRequirement already satisfied: PyYAML in /usr/local/lib/python3.8/dist-packages (from nbdev) (6.0)\n",
            "Collecting asttokens\n",
            "  Downloading asttokens-2.2.1-py2.py3-none-any.whl (26 kB)\n",
            "Requirement already satisfied: fastcore>=1.5.27 in /usr/local/lib/python3.8/dist-packages (from nbdev) (1.5.28)\n",
            "Collecting ghapi>=1.0.3\n",
            "  Downloading ghapi-1.0.3-py3-none-any.whl (58 kB)\n",
            "\u001b[2K     \u001b[90m━━━━━━━━━━━━━━━━━━━━━━━━━━━━━━━━━━━━━━━━\u001b[0m \u001b[32m58.1/58.1 KB\u001b[0m \u001b[31m6.3 MB/s\u001b[0m eta \u001b[36m0:00:00\u001b[0m\n",
            "\u001b[?25hRequirement already satisfied: astunparse in /usr/local/lib/python3.8/dist-packages (from nbdev) (1.6.3)\n",
            "Collecting watchdog\n",
            "  Downloading watchdog-2.3.0-py3-none-manylinux2014_x86_64.whl (80 kB)\n",
            "\u001b[2K     \u001b[90m━━━━━━━━━━━━━━━━━━━━━━━━━━━━━━━━━━━━━━━━\u001b[0m \u001b[32m80.7/80.7 KB\u001b[0m \u001b[31m9.7 MB/s\u001b[0m eta \u001b[36m0:00:00\u001b[0m\n",
            "\u001b[?25hCollecting execnb>=0.1.4\n",
            "  Downloading execnb-0.1.5-py3-none-any.whl (13 kB)\n",
            "Requirement already satisfied: ipython in /usr/local/lib/python3.8/dist-packages (from execnb>=0.1.4->nbdev) (7.9.0)\n",
            "Requirement already satisfied: pip in /usr/local/lib/python3.8/dist-packages (from fastcore>=1.5.27->nbdev) (22.0.4)\n",
            "Requirement already satisfied: packaging in /usr/local/lib/python3.8/dist-packages (from fastcore>=1.5.27->nbdev) (23.0)\n",
            "Requirement already satisfied: six in /usr/local/lib/python3.8/dist-packages (from asttokens->nbdev) (1.15.0)\n",
            "Requirement already satisfied: wheel<1.0,>=0.23.0 in /usr/local/lib/python3.8/dist-packages (from astunparse->nbdev) (0.38.4)\n",
            "Requirement already satisfied: setuptools>=18.5 in /usr/local/lib/python3.8/dist-packages (from ipython->execnb>=0.1.4->nbdev) (57.4.0)\n",
            "Requirement already satisfied: decorator in /usr/local/lib/python3.8/dist-packages (from ipython->execnb>=0.1.4->nbdev) (4.4.2)\n",
            "Collecting jedi>=0.10\n",
            "  Downloading jedi-0.18.2-py2.py3-none-any.whl (1.6 MB)\n",
            "\u001b[2K     \u001b[90m━━━━━━━━━━━━━━━━━━━━━━━━━━━━━━━━━━━━━━━━\u001b[0m \u001b[32m1.6/1.6 MB\u001b[0m \u001b[31m28.5 MB/s\u001b[0m eta \u001b[36m0:00:00\u001b[0m\n",
            "\u001b[?25hRequirement already satisfied: traitlets>=4.2 in /usr/local/lib/python3.8/dist-packages (from ipython->execnb>=0.1.4->nbdev) (5.7.1)\n",
            "Requirement already satisfied: pygments in /usr/local/lib/python3.8/dist-packages (from ipython->execnb>=0.1.4->nbdev) (2.6.1)\n",
            "Requirement already satisfied: pickleshare in /usr/local/lib/python3.8/dist-packages (from ipython->execnb>=0.1.4->nbdev) (0.7.5)\n",
            "Requirement already satisfied: prompt-toolkit<2.1.0,>=2.0.0 in /usr/local/lib/python3.8/dist-packages (from ipython->execnb>=0.1.4->nbdev) (2.0.10)\n",
            "Requirement already satisfied: pexpect in /usr/local/lib/python3.8/dist-packages (from ipython->execnb>=0.1.4->nbdev) (4.8.0)\n",
            "Requirement already satisfied: backcall in /usr/local/lib/python3.8/dist-packages (from ipython->execnb>=0.1.4->nbdev) (0.2.0)\n",
            "Requirement already satisfied: parso<0.9.0,>=0.8.0 in /usr/local/lib/python3.8/dist-packages (from jedi>=0.10->ipython->execnb>=0.1.4->nbdev) (0.8.3)\n",
            "Requirement already satisfied: wcwidth in /usr/local/lib/python3.8/dist-packages (from prompt-toolkit<2.1.0,>=2.0.0->ipython->execnb>=0.1.4->nbdev) (0.2.6)\n",
            "Requirement already satisfied: ptyprocess>=0.5 in /usr/local/lib/python3.8/dist-packages (from pexpect->ipython->execnb>=0.1.4->nbdev) (0.7.0)\n",
            "Installing collected packages: watchdog, jedi, asttokens, ghapi, execnb, nbdev\n",
            "Successfully installed asttokens-2.2.1 execnb-0.1.5 ghapi-1.0.3 jedi-0.18.2 nbdev-2.3.12 watchdog-2.3.0\n"
          ]
        }
      ]
    },
    {
      "cell_type": "markdown",
      "source": [
        "## Call libraries"
      ],
      "metadata": {
        "id": "X_KE1ZCVWkMR"
      }
    },
    {
      "cell_type": "code",
      "execution_count": null,
      "metadata": {
        "id": "Q_nz0bE0XKRi"
      },
      "outputs": [],
      "source": [
        "# 1.0 Call libraries:\n",
        "\n",
        "from fastai.tabular import *\n",
        "\n",
        "# For FillMissing, Categorify, Normalize, untar_data\n",
        "from fastai.tabular.all import *"
      ]
    },
    {
      "cell_type": "markdown",
      "source": [
        "## Get data"
      ],
      "metadata": {
        "id": "v81AU7F1Wgap"
      }
    },
    {
      "cell_type": "markdown",
      "source": [
        "Pathlib module contains useful functions to perform file-related tasks. Pathlib provides a more readable and easier way to build up paths by representing filesystem paths as proper objects and enables us to write code that is portable across platforms."
      ],
      "metadata": {
        "id": "OT6kRsFfUXbJ"
      }
    },
    {
      "cell_type": "code",
      "source": [
        "# 1.1 untar_data will download data (if not already downloaded)\n",
        "#      to /root/.fastai/data/adult_sample\n",
        "\n",
        "path = untar_data(URLs.ADULT_SAMPLE)\n",
        "path\n",
        "print(\"\\n=====\\n\")\n",
        "path.ls()\n",
        "print(\"\\n=====\\n\")\n",
        "type(path)"
      ],
      "metadata": {
        "id": "Qlb0ohSMXRna",
        "outputId": "65d18a18-da3e-485c-cc2e-074523fdff63",
        "colab": {
          "base_uri": "https://localhost:8080/"
        }
      },
      "execution_count": null,
      "outputs": [
        {
          "output_type": "display_data",
          "data": {
            "text/plain": [
              "<IPython.core.display.HTML object>"
            ],
            "text/html": [
              "\n",
              "<style>\n",
              "    /* Turns off some styling */\n",
              "    progress {\n",
              "        /* gets rid of default border in Firefox and Opera. */\n",
              "        border: none;\n",
              "        /* Needs to be in here for Safari polyfill so background images work as expected. */\n",
              "        background-size: auto;\n",
              "    }\n",
              "    progress:not([value]), progress:not([value])::-webkit-progress-bar {\n",
              "        background: repeating-linear-gradient(45deg, #7e7e7e, #7e7e7e 10px, #5c5c5c 10px, #5c5c5c 20px);\n",
              "    }\n",
              "    .progress-bar-interrupted, .progress-bar-interrupted::-webkit-progress-bar {\n",
              "        background: #F44336;\n",
              "    }\n",
              "</style>\n"
            ]
          },
          "metadata": {}
        },
        {
          "output_type": "display_data",
          "data": {
            "text/plain": [
              "<IPython.core.display.HTML object>"
            ],
            "text/html": [
              "\n",
              "    <div>\n",
              "      <progress value='974848' class='' max='968212' style='width:300px; height:20px; vertical-align: middle;'></progress>\n",
              "      100.69% [974848/968212 00:00&lt;00:00]\n",
              "    </div>\n",
              "    "
            ]
          },
          "metadata": {}
        },
        {
          "output_type": "execute_result",
          "data": {
            "text/plain": [
              "Path('/root/.fastai/data/adult_sample')"
            ]
          },
          "metadata": {},
          "execution_count": 4
        },
        {
          "output_type": "stream",
          "name": "stdout",
          "text": [
            "\n",
            "=====\n",
            "\n"
          ]
        },
        {
          "output_type": "execute_result",
          "data": {
            "text/plain": [
              "(#3) [Path('/root/.fastai/data/adult_sample/models'),Path('/root/.fastai/data/adult_sample/export.pkl'),Path('/root/.fastai/data/adult_sample/adult.csv')]"
            ]
          },
          "metadata": {},
          "execution_count": 4
        },
        {
          "output_type": "stream",
          "name": "stdout",
          "text": [
            "\n",
            "=====\n",
            "\n"
          ]
        },
        {
          "output_type": "execute_result",
          "data": {
            "text/plain": [
              "pathlib.PosixPath"
            ]
          },
          "metadata": {},
          "execution_count": 4
        }
      ]
    },
    {
      "cell_type": "markdown",
      "source": [
        "### About pathlib\n",
        "See [here](https://stackabuse.com/introduction-to-the-python-pathlib-module/)"
      ],
      "metadata": {
        "id": "xxejytbIWC1J"
      }
    },
    {
      "cell_type": "markdown",
      "source": [
        "\n",
        "    Path.cwd(): Return path object representing the current working directory\n",
        "    Path.home(): Return path object representing the home directory\n",
        "    Path.stat(): return info about the path\n",
        "    Path.chmod(): change file mode and permissions\n",
        "    Path.glob(pattern): Glob the pattern given in the directory that is represented by the path, yielding matching files of any kind\n",
        "    Path.mkdir(): to create a new directory at the given path\n",
        "    Path.open(): To open the file created by the path\n",
        "    Path.rename(): Rename a file or directory to the given target\n",
        "    Path.rmdir(): Remove the empty directory\n",
        "    Path.unlink(): Remove the file or symbolic link\n"
      ],
      "metadata": {
        "id": "_sQMqoJHWIoT"
      }
    },
    {
      "cell_type": "code",
      "source": [
        "# 2.0\n",
        "from pathlib import *\n"
      ],
      "metadata": {
        "id": "fPKkWYlwUoGI"
      },
      "execution_count": null,
      "outputs": []
    },
    {
      "cell_type": "code",
      "source": [
        "# 2.1\n",
        "Path.cwd()\n",
        "Path.home()"
      ],
      "metadata": {
        "colab": {
          "base_uri": "https://localhost:8080/"
        },
        "id": "3i0TnDk9Uv5a",
        "outputId": "42aa50d8-be63-49f2-923c-88770d008b72"
      },
      "execution_count": null,
      "outputs": [
        {
          "output_type": "execute_result",
          "data": {
            "text/plain": [
              "Path('/content')"
            ]
          },
          "metadata": {},
          "execution_count": 6
        },
        {
          "output_type": "execute_result",
          "data": {
            "text/plain": [
              "Path('/root')"
            ]
          },
          "metadata": {},
          "execution_count": 6
        }
      ]
    },
    {
      "cell_type": "code",
      "source": [
        "# 2.2 How to buid paths\n",
        "outpath = Path.cwd() / 'output' / 'output.xlsx'\n",
        "outpath"
      ],
      "metadata": {
        "id": "LjFU4fuUU9no",
        "colab": {
          "base_uri": "https://localhost:8080/"
        },
        "outputId": "85957ab2-eae5-4c39-9619-5525110bfcf9"
      },
      "execution_count": null,
      "outputs": [
        {
          "output_type": "execute_result",
          "data": {
            "text/plain": [
              "Path('/content/output/output.xlsx')"
            ]
          },
          "metadata": {},
          "execution_count": 7
        }
      ]
    },
    {
      "cell_type": "code",
      "source": [
        "type(path)"
      ],
      "metadata": {
        "id": "ZyoG3KKj3PYM",
        "colab": {
          "base_uri": "https://localhost:8080/"
        },
        "outputId": "a11ba1d0-924f-4dcb-f4ba-7b2569afe42c"
      },
      "execution_count": null,
      "outputs": [
        {
          "output_type": "execute_result",
          "data": {
            "text/plain": [
              "pathlib.PosixPath"
            ]
          },
          "metadata": {},
          "execution_count": 8
        }
      ]
    },
    {
      "cell_type": "code",
      "source": [
        "# 2.3\n",
        "path.is_dir()\n",
        "path.stat()"
      ],
      "metadata": {
        "id": "uitRTWvLVMax",
        "colab": {
          "base_uri": "https://localhost:8080/"
        },
        "outputId": "2d9a2821-8d30-4399-f987-22224c2d90a7"
      },
      "execution_count": null,
      "outputs": [
        {
          "output_type": "execute_result",
          "data": {
            "text/plain": [
              "True"
            ]
          },
          "metadata": {},
          "execution_count": 9
        },
        {
          "output_type": "execute_result",
          "data": {
            "text/plain": [
              "os.stat_result(st_mode=16893, st_ino=2883613, st_dev=45, st_nlink=3, st_uid=1000, st_gid=1000, st_size=4096, st_atime=1677566118, st_mtime=1543965152, st_ctime=1677566118)"
            ]
          },
          "metadata": {},
          "execution_count": 9
        }
      ]
    },
    {
      "cell_type": "code",
      "source": [
        "# 2.4\n",
        "path.glob(\"*.csv\")"
      ],
      "metadata": {
        "id": "TSToK7ZcVsMr",
        "colab": {
          "base_uri": "https://localhost:8080/"
        },
        "outputId": "25d77b9a-31c5-490e-974b-8a2c73f7a0c4"
      },
      "execution_count": null,
      "outputs": [
        {
          "output_type": "execute_result",
          "data": {
            "text/plain": [
              "<generator object Path.glob at 0x7ff69e5f1ac0>"
            ]
          },
          "metadata": {},
          "execution_count": 10
        }
      ]
    },
    {
      "cell_type": "code",
      "source": [
        "# 2.5\n",
        "for i in path.glob(\"*.csv\"):\n",
        "  print(i)"
      ],
      "metadata": {
        "id": "usV4SWhuV5GZ",
        "colab": {
          "base_uri": "https://localhost:8080/"
        },
        "outputId": "b0859da7-05dc-4525-f88b-2e40d0039755"
      },
      "execution_count": null,
      "outputs": [
        {
          "output_type": "stream",
          "name": "stdout",
          "text": [
            "/root/.fastai/data/adult_sample/adult.csv\n"
          ]
        }
      ]
    },
    {
      "cell_type": "markdown",
      "source": [
        "## Read our data"
      ],
      "metadata": {
        "id": "JIXnSaAmWcG5"
      }
    },
    {
      "cell_type": "code",
      "execution_count": null,
      "metadata": {
        "id": "OCKeDjT8XKRl",
        "colab": {
          "base_uri": "https://localhost:8080/"
        },
        "outputId": "ea5c6704-da1e-49e0-9737-f19fdbe26267"
      },
      "outputs": [
        {
          "output_type": "execute_result",
          "data": {
            "text/plain": [
              "   age          workclass  fnlwgt     education  education-num  \\\n",
              "0   49            Private  101320    Assoc-acdm           12.0   \n",
              "1   44            Private  236746       Masters           14.0   \n",
              "2   38            Private   96185       HS-grad            NaN   \n",
              "3   38       Self-emp-inc  112847   Prof-school           15.0   \n",
              "4   42   Self-emp-not-inc   82297       7th-8th            NaN   \n",
              "\n",
              "        marital-status        occupation    relationship                 race  \\\n",
              "0   Married-civ-spouse               NaN            Wife                White   \n",
              "1             Divorced   Exec-managerial   Not-in-family                White   \n",
              "2             Divorced               NaN       Unmarried                Black   \n",
              "3   Married-civ-spouse    Prof-specialty         Husband   Asian-Pac-Islander   \n",
              "4   Married-civ-spouse     Other-service            Wife                Black   \n",
              "\n",
              "       sex  capital-gain  capital-loss  hours-per-week  native-country salary  \n",
              "0   Female             0          1902              40   United-States  >=50k  \n",
              "1     Male         10520             0              45   United-States  >=50k  \n",
              "2   Female             0             0              32   United-States   <50k  \n",
              "3     Male             0             0              40   United-States  >=50k  \n",
              "4   Female             0             0              50   United-States   <50k  "
            ],
            "text/html": [
              "\n",
              "  <div id=\"df-736d8228-941f-4527-81e6-56efdbbe1ae8\">\n",
              "    <div class=\"colab-df-container\">\n",
              "      <div>\n",
              "<style scoped>\n",
              "    .dataframe tbody tr th:only-of-type {\n",
              "        vertical-align: middle;\n",
              "    }\n",
              "\n",
              "    .dataframe tbody tr th {\n",
              "        vertical-align: top;\n",
              "    }\n",
              "\n",
              "    .dataframe thead th {\n",
              "        text-align: right;\n",
              "    }\n",
              "</style>\n",
              "<table border=\"1\" class=\"dataframe\">\n",
              "  <thead>\n",
              "    <tr style=\"text-align: right;\">\n",
              "      <th></th>\n",
              "      <th>age</th>\n",
              "      <th>workclass</th>\n",
              "      <th>fnlwgt</th>\n",
              "      <th>education</th>\n",
              "      <th>education-num</th>\n",
              "      <th>marital-status</th>\n",
              "      <th>occupation</th>\n",
              "      <th>relationship</th>\n",
              "      <th>race</th>\n",
              "      <th>sex</th>\n",
              "      <th>capital-gain</th>\n",
              "      <th>capital-loss</th>\n",
              "      <th>hours-per-week</th>\n",
              "      <th>native-country</th>\n",
              "      <th>salary</th>\n",
              "    </tr>\n",
              "  </thead>\n",
              "  <tbody>\n",
              "    <tr>\n",
              "      <th>0</th>\n",
              "      <td>49</td>\n",
              "      <td>Private</td>\n",
              "      <td>101320</td>\n",
              "      <td>Assoc-acdm</td>\n",
              "      <td>12.0</td>\n",
              "      <td>Married-civ-spouse</td>\n",
              "      <td>NaN</td>\n",
              "      <td>Wife</td>\n",
              "      <td>White</td>\n",
              "      <td>Female</td>\n",
              "      <td>0</td>\n",
              "      <td>1902</td>\n",
              "      <td>40</td>\n",
              "      <td>United-States</td>\n",
              "      <td>&gt;=50k</td>\n",
              "    </tr>\n",
              "    <tr>\n",
              "      <th>1</th>\n",
              "      <td>44</td>\n",
              "      <td>Private</td>\n",
              "      <td>236746</td>\n",
              "      <td>Masters</td>\n",
              "      <td>14.0</td>\n",
              "      <td>Divorced</td>\n",
              "      <td>Exec-managerial</td>\n",
              "      <td>Not-in-family</td>\n",
              "      <td>White</td>\n",
              "      <td>Male</td>\n",
              "      <td>10520</td>\n",
              "      <td>0</td>\n",
              "      <td>45</td>\n",
              "      <td>United-States</td>\n",
              "      <td>&gt;=50k</td>\n",
              "    </tr>\n",
              "    <tr>\n",
              "      <th>2</th>\n",
              "      <td>38</td>\n",
              "      <td>Private</td>\n",
              "      <td>96185</td>\n",
              "      <td>HS-grad</td>\n",
              "      <td>NaN</td>\n",
              "      <td>Divorced</td>\n",
              "      <td>NaN</td>\n",
              "      <td>Unmarried</td>\n",
              "      <td>Black</td>\n",
              "      <td>Female</td>\n",
              "      <td>0</td>\n",
              "      <td>0</td>\n",
              "      <td>32</td>\n",
              "      <td>United-States</td>\n",
              "      <td>&lt;50k</td>\n",
              "    </tr>\n",
              "    <tr>\n",
              "      <th>3</th>\n",
              "      <td>38</td>\n",
              "      <td>Self-emp-inc</td>\n",
              "      <td>112847</td>\n",
              "      <td>Prof-school</td>\n",
              "      <td>15.0</td>\n",
              "      <td>Married-civ-spouse</td>\n",
              "      <td>Prof-specialty</td>\n",
              "      <td>Husband</td>\n",
              "      <td>Asian-Pac-Islander</td>\n",
              "      <td>Male</td>\n",
              "      <td>0</td>\n",
              "      <td>0</td>\n",
              "      <td>40</td>\n",
              "      <td>United-States</td>\n",
              "      <td>&gt;=50k</td>\n",
              "    </tr>\n",
              "    <tr>\n",
              "      <th>4</th>\n",
              "      <td>42</td>\n",
              "      <td>Self-emp-not-inc</td>\n",
              "      <td>82297</td>\n",
              "      <td>7th-8th</td>\n",
              "      <td>NaN</td>\n",
              "      <td>Married-civ-spouse</td>\n",
              "      <td>Other-service</td>\n",
              "      <td>Wife</td>\n",
              "      <td>Black</td>\n",
              "      <td>Female</td>\n",
              "      <td>0</td>\n",
              "      <td>0</td>\n",
              "      <td>50</td>\n",
              "      <td>United-States</td>\n",
              "      <td>&lt;50k</td>\n",
              "    </tr>\n",
              "  </tbody>\n",
              "</table>\n",
              "</div>\n",
              "      <button class=\"colab-df-convert\" onclick=\"convertToInteractive('df-736d8228-941f-4527-81e6-56efdbbe1ae8')\"\n",
              "              title=\"Convert this dataframe to an interactive table.\"\n",
              "              style=\"display:none;\">\n",
              "        \n",
              "  <svg xmlns=\"http://www.w3.org/2000/svg\" height=\"24px\"viewBox=\"0 0 24 24\"\n",
              "       width=\"24px\">\n",
              "    <path d=\"M0 0h24v24H0V0z\" fill=\"none\"/>\n",
              "    <path d=\"M18.56 5.44l.94 2.06.94-2.06 2.06-.94-2.06-.94-.94-2.06-.94 2.06-2.06.94zm-11 1L8.5 8.5l.94-2.06 2.06-.94-2.06-.94L8.5 2.5l-.94 2.06-2.06.94zm10 10l.94 2.06.94-2.06 2.06-.94-2.06-.94-.94-2.06-.94 2.06-2.06.94z\"/><path d=\"M17.41 7.96l-1.37-1.37c-.4-.4-.92-.59-1.43-.59-.52 0-1.04.2-1.43.59L10.3 9.45l-7.72 7.72c-.78.78-.78 2.05 0 2.83L4 21.41c.39.39.9.59 1.41.59.51 0 1.02-.2 1.41-.59l7.78-7.78 2.81-2.81c.8-.78.8-2.07 0-2.86zM5.41 20L4 18.59l7.72-7.72 1.47 1.35L5.41 20z\"/>\n",
              "  </svg>\n",
              "      </button>\n",
              "      \n",
              "  <style>\n",
              "    .colab-df-container {\n",
              "      display:flex;\n",
              "      flex-wrap:wrap;\n",
              "      gap: 12px;\n",
              "    }\n",
              "\n",
              "    .colab-df-convert {\n",
              "      background-color: #E8F0FE;\n",
              "      border: none;\n",
              "      border-radius: 50%;\n",
              "      cursor: pointer;\n",
              "      display: none;\n",
              "      fill: #1967D2;\n",
              "      height: 32px;\n",
              "      padding: 0 0 0 0;\n",
              "      width: 32px;\n",
              "    }\n",
              "\n",
              "    .colab-df-convert:hover {\n",
              "      background-color: #E2EBFA;\n",
              "      box-shadow: 0px 1px 2px rgba(60, 64, 67, 0.3), 0px 1px 3px 1px rgba(60, 64, 67, 0.15);\n",
              "      fill: #174EA6;\n",
              "    }\n",
              "\n",
              "    [theme=dark] .colab-df-convert {\n",
              "      background-color: #3B4455;\n",
              "      fill: #D2E3FC;\n",
              "    }\n",
              "\n",
              "    [theme=dark] .colab-df-convert:hover {\n",
              "      background-color: #434B5C;\n",
              "      box-shadow: 0px 1px 3px 1px rgba(0, 0, 0, 0.15);\n",
              "      filter: drop-shadow(0px 1px 2px rgba(0, 0, 0, 0.3));\n",
              "      fill: #FFFFFF;\n",
              "    }\n",
              "  </style>\n",
              "\n",
              "      <script>\n",
              "        const buttonEl =\n",
              "          document.querySelector('#df-736d8228-941f-4527-81e6-56efdbbe1ae8 button.colab-df-convert');\n",
              "        buttonEl.style.display =\n",
              "          google.colab.kernel.accessAllowed ? 'block' : 'none';\n",
              "\n",
              "        async function convertToInteractive(key) {\n",
              "          const element = document.querySelector('#df-736d8228-941f-4527-81e6-56efdbbe1ae8');\n",
              "          const dataTable =\n",
              "            await google.colab.kernel.invokeFunction('convertToInteractive',\n",
              "                                                     [key], {});\n",
              "          if (!dataTable) return;\n",
              "\n",
              "          const docLinkHtml = 'Like what you see? Visit the ' +\n",
              "            '<a target=\"_blank\" href=https://colab.research.google.com/notebooks/data_table.ipynb>data table notebook</a>'\n",
              "            + ' to learn more about interactive tables.';\n",
              "          element.innerHTML = '';\n",
              "          dataTable['output_type'] = 'display_data';\n",
              "          await google.colab.output.renderOutput(dataTable, element);\n",
              "          const docLink = document.createElement('div');\n",
              "          docLink.innerHTML = docLinkHtml;\n",
              "          element.appendChild(docLink);\n",
              "        }\n",
              "      </script>\n",
              "    </div>\n",
              "  </div>\n",
              "  "
            ]
          },
          "metadata": {},
          "execution_count": 12
        }
      ],
      "source": [
        "# 3.0 Read the downloaded dataset \n",
        "df = pd.read_csv(path / 'adult.csv')\n",
        "df.head()"
      ]
    },
    {
      "cell_type": "code",
      "source": [
        "# 3.1\n",
        "df.shape   # (32561, 15)"
      ],
      "metadata": {
        "colab": {
          "base_uri": "https://localhost:8080/"
        },
        "id": "7vaziIKRjVyr",
        "outputId": "724f013c-93bb-4179-9f13-420478f85078"
      },
      "execution_count": null,
      "outputs": [
        {
          "output_type": "execute_result",
          "data": {
            "text/plain": [
              "(32561, 15)"
            ]
          },
          "metadata": {},
          "execution_count": 13
        }
      ]
    },
    {
      "cell_type": "code",
      "source": [
        "# Get no of unique values in each:\n",
        "for i in df.columns:\n",
        "  n = df[i].nunique()\n",
        "  print(f\"No of unique values in {i} are {n}\")"
      ],
      "metadata": {
        "colab": {
          "base_uri": "https://localhost:8080/"
        },
        "id": "G_7g6Gh17nb3",
        "outputId": "df7f0e28-a77c-48dd-e10e-0e89c0a23e20"
      },
      "execution_count": null,
      "outputs": [
        {
          "output_type": "stream",
          "name": "stdout",
          "text": [
            "No of unique values in age are 73\n",
            "No of unique values in workclass are 9\n",
            "No of unique values in fnlwgt are 21648\n",
            "No of unique values in education are 16\n",
            "No of unique values in education-num are 16\n",
            "No of unique values in marital-status are 7\n",
            "No of unique values in occupation are 15\n",
            "No of unique values in relationship are 6\n",
            "No of unique values in race are 5\n",
            "No of unique values in sex are 2\n",
            "No of unique values in capital-gain are 119\n",
            "No of unique values in capital-loss are 92\n",
            "No of unique values in hours-per-week are 94\n",
            "No of unique values in native-country are 42\n",
            "No of unique values in salary are 2\n"
          ]
        }
      ]
    },
    {
      "cell_type": "markdown",
      "source": [
        "## Data types & Data processing"
      ],
      "metadata": {
        "id": "HQPWnmFCXGMK"
      }
    },
    {
      "cell_type": "code",
      "execution_count": null,
      "metadata": {
        "id": "oGxS7UeiXKRm"
      },
      "outputs": [],
      "source": [
        "# 3.2 Define some constants:\n",
        "\n",
        "dep_var = 'salary'    # target\n",
        "cat_names = ['workclass', 'education', 'marital-status', 'occupation', 'relationship', 'race']\n",
        "cont_names = ['age', 'fnlwgt', 'education-num']\n"
      ]
    },
    {
      "cell_type": "markdown",
      "source": [
        "## Some expts\n",
        "How do `FillMissing` and `Categorify` behave"
      ],
      "metadata": {
        "id": "bDBRiSW5NX6f"
      }
    },
    {
      "cell_type": "markdown",
      "source": [
        "Processes to operate on data. Refer below for API:<br>\n",
        "[FillMissing](https://docs.fast.ai/tabular.core.html#fillmissing) will fill the missing values in the continuous variables by the median of existing values (you can choose a specific value if you prefer)<br>\n",
        "[Categorify](https://docs.fast.ai/tabular.core.html#categorify): Transform the categorical variables to something similar to pd.Categorical<br>\n",
        "[Normalize](https://docs.fast.ai/data.transforms.html#normalize) will normalize the continuous variables (subtract the mean and divide by the std)<br>\n"
      ],
      "metadata": {
        "id": "kNTo1cLSO6z9"
      }
    },
    {
      "cell_type": "markdown",
      "source": [
        "### FillMissing and Categorigy\n",
        "While filling missing values in a continouos column, a new column is also created."
      ],
      "metadata": {
        "id": "7Z7F27XKNb99"
      }
    },
    {
      "cell_type": "code",
      "source": [
        "type(df)"
      ],
      "metadata": {
        "colab": {
          "base_uri": "https://localhost:8080/"
        },
        "id": "iEkWc0j5ZaC4",
        "outputId": "708b6496-a1c3-4ce4-c928-3e6c5f5ac514"
      },
      "execution_count": null,
      "outputs": [
        {
          "output_type": "execute_result",
          "data": {
            "text/plain": [
              "pandas.core.frame.DataFrame"
            ]
          },
          "metadata": {},
          "execution_count": 45
        }
      ]
    },
    {
      "cell_type": "code",
      "source": [
        "# 4.0\n",
        "from numpy import NaN\n",
        "df1 = pd.DataFrame({'a':[NaN,1,2.1,2.4,3.1, NaN]})\n",
        "to = TabularPandas(df1,\n",
        "                   [FillMissing, Categorify],   # Try first FillMissing only\n",
        "                   cont_names = ['a']           # 'a' is a cont column\n",
        "                   )\n",
        "\n",
        "to.xs.head(7)"
      ],
      "metadata": {
        "id": "UGIbviOdCVtC",
        "colab": {
          "base_uri": "https://localhost:8080/",
          "height": 237
        },
        "outputId": "1ae4d0c9-6f95-4a8e-9b23-47d03bc67b9e"
      },
      "execution_count": null,
      "outputs": [
        {
          "output_type": "execute_result",
          "data": {
            "text/plain": [
              "   a_na     a\n",
              "0     2  2.25\n",
              "1     1  1.00\n",
              "2     1  2.10\n",
              "3     1  2.40\n",
              "4     1  3.10\n",
              "5     2  2.25"
            ],
            "text/html": [
              "\n",
              "  <div id=\"df-7ff835a5-4ccf-4410-b52b-5ca9d47c3fa8\">\n",
              "    <div class=\"colab-df-container\">\n",
              "      <div>\n",
              "<style scoped>\n",
              "    .dataframe tbody tr th:only-of-type {\n",
              "        vertical-align: middle;\n",
              "    }\n",
              "\n",
              "    .dataframe tbody tr th {\n",
              "        vertical-align: top;\n",
              "    }\n",
              "\n",
              "    .dataframe thead th {\n",
              "        text-align: right;\n",
              "    }\n",
              "</style>\n",
              "<table border=\"1\" class=\"dataframe\">\n",
              "  <thead>\n",
              "    <tr style=\"text-align: right;\">\n",
              "      <th></th>\n",
              "      <th>a_na</th>\n",
              "      <th>a</th>\n",
              "    </tr>\n",
              "  </thead>\n",
              "  <tbody>\n",
              "    <tr>\n",
              "      <th>0</th>\n",
              "      <td>2</td>\n",
              "      <td>2.25</td>\n",
              "    </tr>\n",
              "    <tr>\n",
              "      <th>1</th>\n",
              "      <td>1</td>\n",
              "      <td>1.00</td>\n",
              "    </tr>\n",
              "    <tr>\n",
              "      <th>2</th>\n",
              "      <td>1</td>\n",
              "      <td>2.10</td>\n",
              "    </tr>\n",
              "    <tr>\n",
              "      <th>3</th>\n",
              "      <td>1</td>\n",
              "      <td>2.40</td>\n",
              "    </tr>\n",
              "    <tr>\n",
              "      <th>4</th>\n",
              "      <td>1</td>\n",
              "      <td>3.10</td>\n",
              "    </tr>\n",
              "    <tr>\n",
              "      <th>5</th>\n",
              "      <td>2</td>\n",
              "      <td>2.25</td>\n",
              "    </tr>\n",
              "  </tbody>\n",
              "</table>\n",
              "</div>\n",
              "      <button class=\"colab-df-convert\" onclick=\"convertToInteractive('df-7ff835a5-4ccf-4410-b52b-5ca9d47c3fa8')\"\n",
              "              title=\"Convert this dataframe to an interactive table.\"\n",
              "              style=\"display:none;\">\n",
              "        \n",
              "  <svg xmlns=\"http://www.w3.org/2000/svg\" height=\"24px\"viewBox=\"0 0 24 24\"\n",
              "       width=\"24px\">\n",
              "    <path d=\"M0 0h24v24H0V0z\" fill=\"none\"/>\n",
              "    <path d=\"M18.56 5.44l.94 2.06.94-2.06 2.06-.94-2.06-.94-.94-2.06-.94 2.06-2.06.94zm-11 1L8.5 8.5l.94-2.06 2.06-.94-2.06-.94L8.5 2.5l-.94 2.06-2.06.94zm10 10l.94 2.06.94-2.06 2.06-.94-2.06-.94-.94-2.06-.94 2.06-2.06.94z\"/><path d=\"M17.41 7.96l-1.37-1.37c-.4-.4-.92-.59-1.43-.59-.52 0-1.04.2-1.43.59L10.3 9.45l-7.72 7.72c-.78.78-.78 2.05 0 2.83L4 21.41c.39.39.9.59 1.41.59.51 0 1.02-.2 1.41-.59l7.78-7.78 2.81-2.81c.8-.78.8-2.07 0-2.86zM5.41 20L4 18.59l7.72-7.72 1.47 1.35L5.41 20z\"/>\n",
              "  </svg>\n",
              "      </button>\n",
              "      \n",
              "  <style>\n",
              "    .colab-df-container {\n",
              "      display:flex;\n",
              "      flex-wrap:wrap;\n",
              "      gap: 12px;\n",
              "    }\n",
              "\n",
              "    .colab-df-convert {\n",
              "      background-color: #E8F0FE;\n",
              "      border: none;\n",
              "      border-radius: 50%;\n",
              "      cursor: pointer;\n",
              "      display: none;\n",
              "      fill: #1967D2;\n",
              "      height: 32px;\n",
              "      padding: 0 0 0 0;\n",
              "      width: 32px;\n",
              "    }\n",
              "\n",
              "    .colab-df-convert:hover {\n",
              "      background-color: #E2EBFA;\n",
              "      box-shadow: 0px 1px 2px rgba(60, 64, 67, 0.3), 0px 1px 3px 1px rgba(60, 64, 67, 0.15);\n",
              "      fill: #174EA6;\n",
              "    }\n",
              "\n",
              "    [theme=dark] .colab-df-convert {\n",
              "      background-color: #3B4455;\n",
              "      fill: #D2E3FC;\n",
              "    }\n",
              "\n",
              "    [theme=dark] .colab-df-convert:hover {\n",
              "      background-color: #434B5C;\n",
              "      box-shadow: 0px 1px 3px 1px rgba(0, 0, 0, 0.15);\n",
              "      filter: drop-shadow(0px 1px 2px rgba(0, 0, 0, 0.3));\n",
              "      fill: #FFFFFF;\n",
              "    }\n",
              "  </style>\n",
              "\n",
              "      <script>\n",
              "        const buttonEl =\n",
              "          document.querySelector('#df-7ff835a5-4ccf-4410-b52b-5ca9d47c3fa8 button.colab-df-convert');\n",
              "        buttonEl.style.display =\n",
              "          google.colab.kernel.accessAllowed ? 'block' : 'none';\n",
              "\n",
              "        async function convertToInteractive(key) {\n",
              "          const element = document.querySelector('#df-7ff835a5-4ccf-4410-b52b-5ca9d47c3fa8');\n",
              "          const dataTable =\n",
              "            await google.colab.kernel.invokeFunction('convertToInteractive',\n",
              "                                                     [key], {});\n",
              "          if (!dataTable) return;\n",
              "\n",
              "          const docLinkHtml = 'Like what you see? Visit the ' +\n",
              "            '<a target=\"_blank\" href=https://colab.research.google.com/notebooks/data_table.ipynb>data table notebook</a>'\n",
              "            + ' to learn more about interactive tables.';\n",
              "          element.innerHTML = '';\n",
              "          dataTable['output_type'] = 'display_data';\n",
              "          await google.colab.output.renderOutput(dataTable, element);\n",
              "          const docLink = document.createElement('div');\n",
              "          docLink.innerHTML = docLinkHtml;\n",
              "          element.appendChild(docLink);\n",
              "        }\n",
              "      </script>\n",
              "    </div>\n",
              "  </div>\n",
              "  "
            ]
          },
          "metadata": {},
          "execution_count": 31
        }
      ]
    },
    {
      "cell_type": "code",
      "source": [
        "# 4.0.1 Change fillstrategy\n",
        "\n",
        "na_dict={'a': 7.0}\n",
        "fm = FillMissing(fill_strategy=FillStrategy.constant, fill_vals= na_dict)"
      ],
      "metadata": {
        "id": "Ck-7J-U_zfE8"
      },
      "execution_count": null,
      "outputs": []
    },
    {
      "cell_type": "code",
      "source": [
        "\n",
        "# 4.0\n",
        "from numpy import NaN\n",
        "\n",
        "df1 = pd.DataFrame({'a':[NaN,1,2.1,2.4,3.1, NaN]})\n",
        "to = TabularPandas(df1,\n",
        "                   [fm, Categorify],   # Try first FillMissing only\n",
        "                   cont_names = ['a']           # 'a' is a cont column\n",
        "                   )\n",
        "\n",
        "to.xs.head(7)"
      ],
      "metadata": {
        "id": "Iqyi0dwWz0AN",
        "colab": {
          "base_uri": "https://localhost:8080/",
          "height": 237
        },
        "outputId": "d3754b17-baab-4212-d40d-f6a67888635b"
      },
      "execution_count": null,
      "outputs": [
        {
          "output_type": "execute_result",
          "data": {
            "text/plain": [
              "   a_na    a\n",
              "0     2  7.0\n",
              "1     1  1.0\n",
              "2     1  2.1\n",
              "3     1  2.4\n",
              "4     1  3.1\n",
              "5     2  7.0"
            ],
            "text/html": [
              "\n",
              "  <div id=\"df-772ebca5-2d52-4ba6-9d66-ec52a4c2aada\">\n",
              "    <div class=\"colab-df-container\">\n",
              "      <div>\n",
              "<style scoped>\n",
              "    .dataframe tbody tr th:only-of-type {\n",
              "        vertical-align: middle;\n",
              "    }\n",
              "\n",
              "    .dataframe tbody tr th {\n",
              "        vertical-align: top;\n",
              "    }\n",
              "\n",
              "    .dataframe thead th {\n",
              "        text-align: right;\n",
              "    }\n",
              "</style>\n",
              "<table border=\"1\" class=\"dataframe\">\n",
              "  <thead>\n",
              "    <tr style=\"text-align: right;\">\n",
              "      <th></th>\n",
              "      <th>a_na</th>\n",
              "      <th>a</th>\n",
              "    </tr>\n",
              "  </thead>\n",
              "  <tbody>\n",
              "    <tr>\n",
              "      <th>0</th>\n",
              "      <td>2</td>\n",
              "      <td>7.0</td>\n",
              "    </tr>\n",
              "    <tr>\n",
              "      <th>1</th>\n",
              "      <td>1</td>\n",
              "      <td>1.0</td>\n",
              "    </tr>\n",
              "    <tr>\n",
              "      <th>2</th>\n",
              "      <td>1</td>\n",
              "      <td>2.1</td>\n",
              "    </tr>\n",
              "    <tr>\n",
              "      <th>3</th>\n",
              "      <td>1</td>\n",
              "      <td>2.4</td>\n",
              "    </tr>\n",
              "    <tr>\n",
              "      <th>4</th>\n",
              "      <td>1</td>\n",
              "      <td>3.1</td>\n",
              "    </tr>\n",
              "    <tr>\n",
              "      <th>5</th>\n",
              "      <td>2</td>\n",
              "      <td>7.0</td>\n",
              "    </tr>\n",
              "  </tbody>\n",
              "</table>\n",
              "</div>\n",
              "      <button class=\"colab-df-convert\" onclick=\"convertToInteractive('df-772ebca5-2d52-4ba6-9d66-ec52a4c2aada')\"\n",
              "              title=\"Convert this dataframe to an interactive table.\"\n",
              "              style=\"display:none;\">\n",
              "        \n",
              "  <svg xmlns=\"http://www.w3.org/2000/svg\" height=\"24px\"viewBox=\"0 0 24 24\"\n",
              "       width=\"24px\">\n",
              "    <path d=\"M0 0h24v24H0V0z\" fill=\"none\"/>\n",
              "    <path d=\"M18.56 5.44l.94 2.06.94-2.06 2.06-.94-2.06-.94-.94-2.06-.94 2.06-2.06.94zm-11 1L8.5 8.5l.94-2.06 2.06-.94-2.06-.94L8.5 2.5l-.94 2.06-2.06.94zm10 10l.94 2.06.94-2.06 2.06-.94-2.06-.94-.94-2.06-.94 2.06-2.06.94z\"/><path d=\"M17.41 7.96l-1.37-1.37c-.4-.4-.92-.59-1.43-.59-.52 0-1.04.2-1.43.59L10.3 9.45l-7.72 7.72c-.78.78-.78 2.05 0 2.83L4 21.41c.39.39.9.59 1.41.59.51 0 1.02-.2 1.41-.59l7.78-7.78 2.81-2.81c.8-.78.8-2.07 0-2.86zM5.41 20L4 18.59l7.72-7.72 1.47 1.35L5.41 20z\"/>\n",
              "  </svg>\n",
              "      </button>\n",
              "      \n",
              "  <style>\n",
              "    .colab-df-container {\n",
              "      display:flex;\n",
              "      flex-wrap:wrap;\n",
              "      gap: 12px;\n",
              "    }\n",
              "\n",
              "    .colab-df-convert {\n",
              "      background-color: #E8F0FE;\n",
              "      border: none;\n",
              "      border-radius: 50%;\n",
              "      cursor: pointer;\n",
              "      display: none;\n",
              "      fill: #1967D2;\n",
              "      height: 32px;\n",
              "      padding: 0 0 0 0;\n",
              "      width: 32px;\n",
              "    }\n",
              "\n",
              "    .colab-df-convert:hover {\n",
              "      background-color: #E2EBFA;\n",
              "      box-shadow: 0px 1px 2px rgba(60, 64, 67, 0.3), 0px 1px 3px 1px rgba(60, 64, 67, 0.15);\n",
              "      fill: #174EA6;\n",
              "    }\n",
              "\n",
              "    [theme=dark] .colab-df-convert {\n",
              "      background-color: #3B4455;\n",
              "      fill: #D2E3FC;\n",
              "    }\n",
              "\n",
              "    [theme=dark] .colab-df-convert:hover {\n",
              "      background-color: #434B5C;\n",
              "      box-shadow: 0px 1px 3px 1px rgba(0, 0, 0, 0.15);\n",
              "      filter: drop-shadow(0px 1px 2px rgba(0, 0, 0, 0.3));\n",
              "      fill: #FFFFFF;\n",
              "    }\n",
              "  </style>\n",
              "\n",
              "      <script>\n",
              "        const buttonEl =\n",
              "          document.querySelector('#df-772ebca5-2d52-4ba6-9d66-ec52a4c2aada button.colab-df-convert');\n",
              "        buttonEl.style.display =\n",
              "          google.colab.kernel.accessAllowed ? 'block' : 'none';\n",
              "\n",
              "        async function convertToInteractive(key) {\n",
              "          const element = document.querySelector('#df-772ebca5-2d52-4ba6-9d66-ec52a4c2aada');\n",
              "          const dataTable =\n",
              "            await google.colab.kernel.invokeFunction('convertToInteractive',\n",
              "                                                     [key], {});\n",
              "          if (!dataTable) return;\n",
              "\n",
              "          const docLinkHtml = 'Like what you see? Visit the ' +\n",
              "            '<a target=\"_blank\" href=https://colab.research.google.com/notebooks/data_table.ipynb>data table notebook</a>'\n",
              "            + ' to learn more about interactive tables.';\n",
              "          element.innerHTML = '';\n",
              "          dataTable['output_type'] = 'display_data';\n",
              "          await google.colab.output.renderOutput(dataTable, element);\n",
              "          const docLink = document.createElement('div');\n",
              "          docLink.innerHTML = docLinkHtml;\n",
              "          element.appendChild(docLink);\n",
              "        }\n",
              "      </script>\n",
              "    </div>\n",
              "  </div>\n",
              "  "
            ]
          },
          "metadata": {},
          "execution_count": 48
        }
      ]
    },
    {
      "cell_type": "markdown",
      "source": [
        "### Categorifying a categorical column\n",
        "NaNs are given a label encoding of 0"
      ],
      "metadata": {
        "id": "73ZJiX3WOBXg"
      }
    },
    {
      "cell_type": "code",
      "source": [
        "# 4.1\n",
        "from numpy import NaN\n",
        "df1 = pd.DataFrame({'a':[NaN,\"a\",\"b\",\"a\",\"c\", NaN]})\n",
        "to = TabularPandas(df1,\n",
        "                   [FillMissing,Categorify],    # FillMissing has no efefct\n",
        "                    cat_names = ['a']\n",
        "                   )\n",
        "\n",
        "\n",
        "to1 = TabularPandas(df1,\n",
        "                    [Categorify, FillMissing],  # FillMissing has no effect\n",
        "                    cat_names = ['a'] \n",
        "                    ) \n",
        "\n",
        "# 4.1.1\n",
        "to.xs.head(10)\n",
        "to1.xs.head(10) "
      ],
      "metadata": {
        "id": "kz-ZXK8r-8rA",
        "colab": {
          "base_uri": "https://localhost:8080/",
          "height": 458
        },
        "outputId": "e1166343-226b-443a-be99-c585ce34e5e2"
      },
      "execution_count": null,
      "outputs": [
        {
          "output_type": "execute_result",
          "data": {
            "text/plain": [
              "   a\n",
              "0  0\n",
              "1  1\n",
              "2  2\n",
              "3  1\n",
              "4  3\n",
              "5  0"
            ],
            "text/html": [
              "\n",
              "  <div id=\"df-cbee6628-28f3-48a2-b5be-7570e3fe04d5\">\n",
              "    <div class=\"colab-df-container\">\n",
              "      <div>\n",
              "<style scoped>\n",
              "    .dataframe tbody tr th:only-of-type {\n",
              "        vertical-align: middle;\n",
              "    }\n",
              "\n",
              "    .dataframe tbody tr th {\n",
              "        vertical-align: top;\n",
              "    }\n",
              "\n",
              "    .dataframe thead th {\n",
              "        text-align: right;\n",
              "    }\n",
              "</style>\n",
              "<table border=\"1\" class=\"dataframe\">\n",
              "  <thead>\n",
              "    <tr style=\"text-align: right;\">\n",
              "      <th></th>\n",
              "      <th>a</th>\n",
              "    </tr>\n",
              "  </thead>\n",
              "  <tbody>\n",
              "    <tr>\n",
              "      <th>0</th>\n",
              "      <td>0</td>\n",
              "    </tr>\n",
              "    <tr>\n",
              "      <th>1</th>\n",
              "      <td>1</td>\n",
              "    </tr>\n",
              "    <tr>\n",
              "      <th>2</th>\n",
              "      <td>2</td>\n",
              "    </tr>\n",
              "    <tr>\n",
              "      <th>3</th>\n",
              "      <td>1</td>\n",
              "    </tr>\n",
              "    <tr>\n",
              "      <th>4</th>\n",
              "      <td>3</td>\n",
              "    </tr>\n",
              "    <tr>\n",
              "      <th>5</th>\n",
              "      <td>0</td>\n",
              "    </tr>\n",
              "  </tbody>\n",
              "</table>\n",
              "</div>\n",
              "      <button class=\"colab-df-convert\" onclick=\"convertToInteractive('df-cbee6628-28f3-48a2-b5be-7570e3fe04d5')\"\n",
              "              title=\"Convert this dataframe to an interactive table.\"\n",
              "              style=\"display:none;\">\n",
              "        \n",
              "  <svg xmlns=\"http://www.w3.org/2000/svg\" height=\"24px\"viewBox=\"0 0 24 24\"\n",
              "       width=\"24px\">\n",
              "    <path d=\"M0 0h24v24H0V0z\" fill=\"none\"/>\n",
              "    <path d=\"M18.56 5.44l.94 2.06.94-2.06 2.06-.94-2.06-.94-.94-2.06-.94 2.06-2.06.94zm-11 1L8.5 8.5l.94-2.06 2.06-.94-2.06-.94L8.5 2.5l-.94 2.06-2.06.94zm10 10l.94 2.06.94-2.06 2.06-.94-2.06-.94-.94-2.06-.94 2.06-2.06.94z\"/><path d=\"M17.41 7.96l-1.37-1.37c-.4-.4-.92-.59-1.43-.59-.52 0-1.04.2-1.43.59L10.3 9.45l-7.72 7.72c-.78.78-.78 2.05 0 2.83L4 21.41c.39.39.9.59 1.41.59.51 0 1.02-.2 1.41-.59l7.78-7.78 2.81-2.81c.8-.78.8-2.07 0-2.86zM5.41 20L4 18.59l7.72-7.72 1.47 1.35L5.41 20z\"/>\n",
              "  </svg>\n",
              "      </button>\n",
              "      \n",
              "  <style>\n",
              "    .colab-df-container {\n",
              "      display:flex;\n",
              "      flex-wrap:wrap;\n",
              "      gap: 12px;\n",
              "    }\n",
              "\n",
              "    .colab-df-convert {\n",
              "      background-color: #E8F0FE;\n",
              "      border: none;\n",
              "      border-radius: 50%;\n",
              "      cursor: pointer;\n",
              "      display: none;\n",
              "      fill: #1967D2;\n",
              "      height: 32px;\n",
              "      padding: 0 0 0 0;\n",
              "      width: 32px;\n",
              "    }\n",
              "\n",
              "    .colab-df-convert:hover {\n",
              "      background-color: #E2EBFA;\n",
              "      box-shadow: 0px 1px 2px rgba(60, 64, 67, 0.3), 0px 1px 3px 1px rgba(60, 64, 67, 0.15);\n",
              "      fill: #174EA6;\n",
              "    }\n",
              "\n",
              "    [theme=dark] .colab-df-convert {\n",
              "      background-color: #3B4455;\n",
              "      fill: #D2E3FC;\n",
              "    }\n",
              "\n",
              "    [theme=dark] .colab-df-convert:hover {\n",
              "      background-color: #434B5C;\n",
              "      box-shadow: 0px 1px 3px 1px rgba(0, 0, 0, 0.15);\n",
              "      filter: drop-shadow(0px 1px 2px rgba(0, 0, 0, 0.3));\n",
              "      fill: #FFFFFF;\n",
              "    }\n",
              "  </style>\n",
              "\n",
              "      <script>\n",
              "        const buttonEl =\n",
              "          document.querySelector('#df-cbee6628-28f3-48a2-b5be-7570e3fe04d5 button.colab-df-convert');\n",
              "        buttonEl.style.display =\n",
              "          google.colab.kernel.accessAllowed ? 'block' : 'none';\n",
              "\n",
              "        async function convertToInteractive(key) {\n",
              "          const element = document.querySelector('#df-cbee6628-28f3-48a2-b5be-7570e3fe04d5');\n",
              "          const dataTable =\n",
              "            await google.colab.kernel.invokeFunction('convertToInteractive',\n",
              "                                                     [key], {});\n",
              "          if (!dataTable) return;\n",
              "\n",
              "          const docLinkHtml = 'Like what you see? Visit the ' +\n",
              "            '<a target=\"_blank\" href=https://colab.research.google.com/notebooks/data_table.ipynb>data table notebook</a>'\n",
              "            + ' to learn more about interactive tables.';\n",
              "          element.innerHTML = '';\n",
              "          dataTable['output_type'] = 'display_data';\n",
              "          await google.colab.output.renderOutput(dataTable, element);\n",
              "          const docLink = document.createElement('div');\n",
              "          docLink.innerHTML = docLinkHtml;\n",
              "          element.appendChild(docLink);\n",
              "        }\n",
              "      </script>\n",
              "    </div>\n",
              "  </div>\n",
              "  "
            ]
          },
          "metadata": {},
          "execution_count": 29
        },
        {
          "output_type": "execute_result",
          "data": {
            "text/plain": [
              "   a\n",
              "0  0\n",
              "1  1\n",
              "2  2\n",
              "3  1\n",
              "4  3\n",
              "5  0"
            ],
            "text/html": [
              "\n",
              "  <div id=\"df-5c35cbc2-6ab3-40d1-a6df-75a4d5f8aaea\">\n",
              "    <div class=\"colab-df-container\">\n",
              "      <div>\n",
              "<style scoped>\n",
              "    .dataframe tbody tr th:only-of-type {\n",
              "        vertical-align: middle;\n",
              "    }\n",
              "\n",
              "    .dataframe tbody tr th {\n",
              "        vertical-align: top;\n",
              "    }\n",
              "\n",
              "    .dataframe thead th {\n",
              "        text-align: right;\n",
              "    }\n",
              "</style>\n",
              "<table border=\"1\" class=\"dataframe\">\n",
              "  <thead>\n",
              "    <tr style=\"text-align: right;\">\n",
              "      <th></th>\n",
              "      <th>a</th>\n",
              "    </tr>\n",
              "  </thead>\n",
              "  <tbody>\n",
              "    <tr>\n",
              "      <th>0</th>\n",
              "      <td>0</td>\n",
              "    </tr>\n",
              "    <tr>\n",
              "      <th>1</th>\n",
              "      <td>1</td>\n",
              "    </tr>\n",
              "    <tr>\n",
              "      <th>2</th>\n",
              "      <td>2</td>\n",
              "    </tr>\n",
              "    <tr>\n",
              "      <th>3</th>\n",
              "      <td>1</td>\n",
              "    </tr>\n",
              "    <tr>\n",
              "      <th>4</th>\n",
              "      <td>3</td>\n",
              "    </tr>\n",
              "    <tr>\n",
              "      <th>5</th>\n",
              "      <td>0</td>\n",
              "    </tr>\n",
              "  </tbody>\n",
              "</table>\n",
              "</div>\n",
              "      <button class=\"colab-df-convert\" onclick=\"convertToInteractive('df-5c35cbc2-6ab3-40d1-a6df-75a4d5f8aaea')\"\n",
              "              title=\"Convert this dataframe to an interactive table.\"\n",
              "              style=\"display:none;\">\n",
              "        \n",
              "  <svg xmlns=\"http://www.w3.org/2000/svg\" height=\"24px\"viewBox=\"0 0 24 24\"\n",
              "       width=\"24px\">\n",
              "    <path d=\"M0 0h24v24H0V0z\" fill=\"none\"/>\n",
              "    <path d=\"M18.56 5.44l.94 2.06.94-2.06 2.06-.94-2.06-.94-.94-2.06-.94 2.06-2.06.94zm-11 1L8.5 8.5l.94-2.06 2.06-.94-2.06-.94L8.5 2.5l-.94 2.06-2.06.94zm10 10l.94 2.06.94-2.06 2.06-.94-2.06-.94-.94-2.06-.94 2.06-2.06.94z\"/><path d=\"M17.41 7.96l-1.37-1.37c-.4-.4-.92-.59-1.43-.59-.52 0-1.04.2-1.43.59L10.3 9.45l-7.72 7.72c-.78.78-.78 2.05 0 2.83L4 21.41c.39.39.9.59 1.41.59.51 0 1.02-.2 1.41-.59l7.78-7.78 2.81-2.81c.8-.78.8-2.07 0-2.86zM5.41 20L4 18.59l7.72-7.72 1.47 1.35L5.41 20z\"/>\n",
              "  </svg>\n",
              "      </button>\n",
              "      \n",
              "  <style>\n",
              "    .colab-df-container {\n",
              "      display:flex;\n",
              "      flex-wrap:wrap;\n",
              "      gap: 12px;\n",
              "    }\n",
              "\n",
              "    .colab-df-convert {\n",
              "      background-color: #E8F0FE;\n",
              "      border: none;\n",
              "      border-radius: 50%;\n",
              "      cursor: pointer;\n",
              "      display: none;\n",
              "      fill: #1967D2;\n",
              "      height: 32px;\n",
              "      padding: 0 0 0 0;\n",
              "      width: 32px;\n",
              "    }\n",
              "\n",
              "    .colab-df-convert:hover {\n",
              "      background-color: #E2EBFA;\n",
              "      box-shadow: 0px 1px 2px rgba(60, 64, 67, 0.3), 0px 1px 3px 1px rgba(60, 64, 67, 0.15);\n",
              "      fill: #174EA6;\n",
              "    }\n",
              "\n",
              "    [theme=dark] .colab-df-convert {\n",
              "      background-color: #3B4455;\n",
              "      fill: #D2E3FC;\n",
              "    }\n",
              "\n",
              "    [theme=dark] .colab-df-convert:hover {\n",
              "      background-color: #434B5C;\n",
              "      box-shadow: 0px 1px 3px 1px rgba(0, 0, 0, 0.15);\n",
              "      filter: drop-shadow(0px 1px 2px rgba(0, 0, 0, 0.3));\n",
              "      fill: #FFFFFF;\n",
              "    }\n",
              "  </style>\n",
              "\n",
              "      <script>\n",
              "        const buttonEl =\n",
              "          document.querySelector('#df-5c35cbc2-6ab3-40d1-a6df-75a4d5f8aaea button.colab-df-convert');\n",
              "        buttonEl.style.display =\n",
              "          google.colab.kernel.accessAllowed ? 'block' : 'none';\n",
              "\n",
              "        async function convertToInteractive(key) {\n",
              "          const element = document.querySelector('#df-5c35cbc2-6ab3-40d1-a6df-75a4d5f8aaea');\n",
              "          const dataTable =\n",
              "            await google.colab.kernel.invokeFunction('convertToInteractive',\n",
              "                                                     [key], {});\n",
              "          if (!dataTable) return;\n",
              "\n",
              "          const docLinkHtml = 'Like what you see? Visit the ' +\n",
              "            '<a target=\"_blank\" href=https://colab.research.google.com/notebooks/data_table.ipynb>data table notebook</a>'\n",
              "            + ' to learn more about interactive tables.';\n",
              "          element.innerHTML = '';\n",
              "          dataTable['output_type'] = 'display_data';\n",
              "          await google.colab.output.renderOutput(dataTable, element);\n",
              "          const docLink = document.createElement('div');\n",
              "          docLink.innerHTML = docLinkHtml;\n",
              "          element.appendChild(docLink);\n",
              "        }\n",
              "      </script>\n",
              "    </div>\n",
              "  </div>\n",
              "  "
            ]
          },
          "metadata": {},
          "execution_count": 29
        }
      ]
    },
    {
      "cell_type": "code",
      "source": [
        "\n",
        "\n",
        "# 4.1.1\n",
        "from numpy import NaN\n",
        "df1 = pd.DataFrame({'a':[NaN,\"a\",\"b\",\"a\",\"c\", NaN]})\n",
        "cat = Categorify()\n",
        "to = TabularPandas(df1,\n",
        "                   [FillMissing,cat],    # FillMissing has no efefct\n",
        "                   cat_names = ['a']\n",
        "                   )\n",
        "# 4.1.1\n",
        "to.xs.head(10)\n"
      ],
      "metadata": {
        "id": "e4grToxYLxhu",
        "outputId": "ac1db8d8-eefe-4fdd-d64e-188066428ba1",
        "colab": {
          "base_uri": "https://localhost:8080/",
          "height": 237
        }
      },
      "execution_count": null,
      "outputs": [
        {
          "output_type": "execute_result",
          "data": {
            "text/plain": [
              "   a\n",
              "0  0\n",
              "1  1\n",
              "2  2\n",
              "3  1\n",
              "4  3\n",
              "5  0"
            ],
            "text/html": [
              "\n",
              "  <div id=\"df-bb199883-8f6f-4a6d-8fd3-c2234cc09ecc\">\n",
              "    <div class=\"colab-df-container\">\n",
              "      <div>\n",
              "<style scoped>\n",
              "    .dataframe tbody tr th:only-of-type {\n",
              "        vertical-align: middle;\n",
              "    }\n",
              "\n",
              "    .dataframe tbody tr th {\n",
              "        vertical-align: top;\n",
              "    }\n",
              "\n",
              "    .dataframe thead th {\n",
              "        text-align: right;\n",
              "    }\n",
              "</style>\n",
              "<table border=\"1\" class=\"dataframe\">\n",
              "  <thead>\n",
              "    <tr style=\"text-align: right;\">\n",
              "      <th></th>\n",
              "      <th>a</th>\n",
              "    </tr>\n",
              "  </thead>\n",
              "  <tbody>\n",
              "    <tr>\n",
              "      <th>0</th>\n",
              "      <td>0</td>\n",
              "    </tr>\n",
              "    <tr>\n",
              "      <th>1</th>\n",
              "      <td>1</td>\n",
              "    </tr>\n",
              "    <tr>\n",
              "      <th>2</th>\n",
              "      <td>2</td>\n",
              "    </tr>\n",
              "    <tr>\n",
              "      <th>3</th>\n",
              "      <td>1</td>\n",
              "    </tr>\n",
              "    <tr>\n",
              "      <th>4</th>\n",
              "      <td>3</td>\n",
              "    </tr>\n",
              "    <tr>\n",
              "      <th>5</th>\n",
              "      <td>0</td>\n",
              "    </tr>\n",
              "  </tbody>\n",
              "</table>\n",
              "</div>\n",
              "      <button class=\"colab-df-convert\" onclick=\"convertToInteractive('df-bb199883-8f6f-4a6d-8fd3-c2234cc09ecc')\"\n",
              "              title=\"Convert this dataframe to an interactive table.\"\n",
              "              style=\"display:none;\">\n",
              "        \n",
              "  <svg xmlns=\"http://www.w3.org/2000/svg\" height=\"24px\"viewBox=\"0 0 24 24\"\n",
              "       width=\"24px\">\n",
              "    <path d=\"M0 0h24v24H0V0z\" fill=\"none\"/>\n",
              "    <path d=\"M18.56 5.44l.94 2.06.94-2.06 2.06-.94-2.06-.94-.94-2.06-.94 2.06-2.06.94zm-11 1L8.5 8.5l.94-2.06 2.06-.94-2.06-.94L8.5 2.5l-.94 2.06-2.06.94zm10 10l.94 2.06.94-2.06 2.06-.94-2.06-.94-.94-2.06-.94 2.06-2.06.94z\"/><path d=\"M17.41 7.96l-1.37-1.37c-.4-.4-.92-.59-1.43-.59-.52 0-1.04.2-1.43.59L10.3 9.45l-7.72 7.72c-.78.78-.78 2.05 0 2.83L4 21.41c.39.39.9.59 1.41.59.51 0 1.02-.2 1.41-.59l7.78-7.78 2.81-2.81c.8-.78.8-2.07 0-2.86zM5.41 20L4 18.59l7.72-7.72 1.47 1.35L5.41 20z\"/>\n",
              "  </svg>\n",
              "      </button>\n",
              "      \n",
              "  <style>\n",
              "    .colab-df-container {\n",
              "      display:flex;\n",
              "      flex-wrap:wrap;\n",
              "      gap: 12px;\n",
              "    }\n",
              "\n",
              "    .colab-df-convert {\n",
              "      background-color: #E8F0FE;\n",
              "      border: none;\n",
              "      border-radius: 50%;\n",
              "      cursor: pointer;\n",
              "      display: none;\n",
              "      fill: #1967D2;\n",
              "      height: 32px;\n",
              "      padding: 0 0 0 0;\n",
              "      width: 32px;\n",
              "    }\n",
              "\n",
              "    .colab-df-convert:hover {\n",
              "      background-color: #E2EBFA;\n",
              "      box-shadow: 0px 1px 2px rgba(60, 64, 67, 0.3), 0px 1px 3px 1px rgba(60, 64, 67, 0.15);\n",
              "      fill: #174EA6;\n",
              "    }\n",
              "\n",
              "    [theme=dark] .colab-df-convert {\n",
              "      background-color: #3B4455;\n",
              "      fill: #D2E3FC;\n",
              "    }\n",
              "\n",
              "    [theme=dark] .colab-df-convert:hover {\n",
              "      background-color: #434B5C;\n",
              "      box-shadow: 0px 1px 3px 1px rgba(0, 0, 0, 0.15);\n",
              "      filter: drop-shadow(0px 1px 2px rgba(0, 0, 0, 0.3));\n",
              "      fill: #FFFFFF;\n",
              "    }\n",
              "  </style>\n",
              "\n",
              "      <script>\n",
              "        const buttonEl =\n",
              "          document.querySelector('#df-bb199883-8f6f-4a6d-8fd3-c2234cc09ecc button.colab-df-convert');\n",
              "        buttonEl.style.display =\n",
              "          google.colab.kernel.accessAllowed ? 'block' : 'none';\n",
              "\n",
              "        async function convertToInteractive(key) {\n",
              "          const element = document.querySelector('#df-bb199883-8f6f-4a6d-8fd3-c2234cc09ecc');\n",
              "          const dataTable =\n",
              "            await google.colab.kernel.invokeFunction('convertToInteractive',\n",
              "                                                     [key], {});\n",
              "          if (!dataTable) return;\n",
              "\n",
              "          const docLinkHtml = 'Like what you see? Visit the ' +\n",
              "            '<a target=\"_blank\" href=https://colab.research.google.com/notebooks/data_table.ipynb>data table notebook</a>'\n",
              "            + ' to learn more about interactive tables.';\n",
              "          element.innerHTML = '';\n",
              "          dataTable['output_type'] = 'display_data';\n",
              "          await google.colab.output.renderOutput(dataTable, element);\n",
              "          const docLink = document.createElement('div');\n",
              "          docLink.innerHTML = docLinkHtml;\n",
              "          element.appendChild(docLink);\n",
              "        }\n",
              "      </script>\n",
              "    </div>\n",
              "  </div>\n",
              "  "
            ]
          },
          "metadata": {},
          "execution_count": 50
        }
      ]
    },
    {
      "cell_type": "code",
      "source": [
        "# 4.1.2 Categorical claas mapping\n",
        "cat.classes"
      ],
      "metadata": {
        "id": "_l8RZf2fL5oY",
        "outputId": "e9ab2cb4-b8c3-4242-df93-f5e642b23424",
        "colab": {
          "base_uri": "https://localhost:8080/"
        }
      },
      "execution_count": null,
      "outputs": [
        {
          "output_type": "execute_result",
          "data": {
            "text/plain": [
              "{'a': ['#na#', 'a', 'b', 'c']}"
            ]
          },
          "metadata": {},
          "execution_count": 51
        }
      ]
    },
    {
      "cell_type": "markdown",
      "source": [
        "## Our data now"
      ],
      "metadata": {
        "id": "1uejEKDKO_2n"
      }
    },
    {
      "cell_type": "code",
      "source": [
        "# 5.1 What all we need to do over this data\n",
        "#  and in what sequence:\n",
        "\n",
        "procs = [FillMissing, Categorify, Normalize]"
      ],
      "metadata": {
        "id": "N-9QI9nKYpIl"
      },
      "execution_count": null,
      "outputs": []
    },
    {
      "cell_type": "markdown",
      "source": [
        "\n",
        "\n",
        "\n",
        "\n",
        "\n",
        "\n",
        "\n",
        "\n",
        "\n",
        "\n",
        "\n",
        "\n",
        "About TabularDataLoaders see [here](https://docs.fast.ai/tabular.data.html#tabulardataloaders.from_csv)<br>\n",
        "The following code does not give satisfactory results"
      ],
      "metadata": {
        "id": "k7dC2GRrlXWe"
      }
    },
    {
      "cell_type": "code",
      "source": [
        "# Defaults to 80:20\n",
        "#dls = TabularDataLoaders.from_csv(\n",
        "#                                  path / 'adult.csv',\n",
        "#                                  path=path,\n",
        "#                                  y_names=\"salary\",\n",
        "#                                  bs = 64,   # Try 2 or 3\n",
        "#                                  cat_names = cat_names,\n",
        "#                                  cont_names = cont_names,\n",
        "#                                  procs = procs)"
      ],
      "metadata": {
        "id": "EohyIC8iiKEa"
      },
      "execution_count": null,
      "outputs": []
    },
    {
      "cell_type": "markdown",
      "source": [
        "Instead proceed as follows:<br>\n",
        "First split the dataset"
      ],
      "metadata": {
        "id": "6JtJNKQz0CZY"
      }
    },
    {
      "cell_type": "code",
      "source": [
        "# 5.2 Get two splits of data\n",
        "splits = RandomSplitter(valid_pct=0.2)(range_of(df))"
      ],
      "metadata": {
        "id": "kvV1KOmm0M_w"
      },
      "execution_count": null,
      "outputs": []
    },
    {
      "cell_type": "code",
      "source": [
        "# 5.3 This is what splits object is:\n",
        "splits"
      ],
      "metadata": {
        "colab": {
          "base_uri": "https://localhost:8080/"
        },
        "id": "J-5Gn4Y-0TIX",
        "outputId": "a175f969-35a1-4f18-ce38-56a0ee480d43"
      },
      "execution_count": null,
      "outputs": [
        {
          "output_type": "execute_result",
          "data": {
            "text/plain": [
              "((#26049) [30327,13990,13707,510,31211,24413,31700,13085,6451,376...],\n",
              " (#6512) [29453,9597,31232,5120,19592,16166,24318,6437,28049,12741...])"
            ]
          },
          "metadata": {},
          "execution_count": 21
        }
      ]
    },
    {
      "cell_type": "markdown",
      "source": [
        "Transform pandas to a fastai data structure known as Tabular Pandas"
      ],
      "metadata": {
        "id": "xGBznf500e2C"
      }
    },
    {
      "cell_type": "code",
      "source": [
        "# 5.4\n",
        "to = TabularPandas(\n",
        "                   df,\n",
        "                   procs=  [FillMissing,Categorify, Normalize],\n",
        "                  #procs= [Categorify, FillMissing,Normalize],\n",
        "                   cat_names = ['workclass', 'education', 'marital-status', 'occupation', 'relationship', 'race'],\n",
        "                   cont_names = ['age', 'fnlwgt', 'education-num'],\n",
        "                   y_names='salary',\n",
        "                   splits=splits\n",
        "                   )"
      ],
      "metadata": {
        "id": "WWRIfJWy0krQ"
      },
      "execution_count": null,
      "outputs": []
    },
    {
      "cell_type": "code",
      "source": [
        "# 5.5\n",
        "type(to)\n",
        "print(\"\\n=======\\n\")\n",
        "type(to.xs)"
      ],
      "metadata": {
        "colab": {
          "base_uri": "https://localhost:8080/"
        },
        "id": "Iv7oavhom90v",
        "outputId": "6575e7e9-89a5-4c0c-fc8c-fb1b33ba2a17"
      },
      "execution_count": null,
      "outputs": [
        {
          "output_type": "execute_result",
          "data": {
            "text/plain": [
              "fastai.tabular.core.TabularPandas"
            ]
          },
          "metadata": {},
          "execution_count": 23
        },
        {
          "output_type": "stream",
          "name": "stdout",
          "text": [
            "\n",
            "=======\n",
            "\n"
          ]
        },
        {
          "output_type": "execute_result",
          "data": {
            "text/plain": [
              "pandas.core.frame.DataFrame"
            ]
          },
          "metadata": {},
          "execution_count": 23
        }
      ]
    },
    {
      "cell_type": "code",
      "source": [
        "to.xs.head(30)"
      ],
      "metadata": {
        "colab": {
          "base_uri": "https://localhost:8080/",
          "height": 1000
        },
        "id": "2E6QHMIVD7Ht",
        "outputId": "4ba49260-accb-4197-bd0d-90725d184f39"
      },
      "execution_count": null,
      "outputs": [
        {
          "output_type": "execute_result",
          "data": {
            "text/plain": [
              "       workclass  education  marital-status  occupation  relationship  race  \\\n",
              "30327          5         12               3           2             6     5   \n",
              "13990          5         12               3           8             1     5   \n",
              "13707          5         12               3           8             1     5   \n",
              "510            5         16               5           2             4     5   \n",
              "31211          5         10               3          11             1     5   \n",
              "24413          5         16               3          15             1     5   \n",
              "31700          2         16               1           2             2     5   \n",
              "13085          5          1               5           9             4     5   \n",
              "6451           5         13               5           5             4     5   \n",
              "376            5         12               3           0             1     5   \n",
              "23312          5         10               3          11             6     5   \n",
              "9693           3         13               3           2             1     5   \n",
              "3460           5          5               4           4             3     5   \n",
              "23276          5         12               1          14             2     5   \n",
              "21048          5          8               3          11             1     5   \n",
              "32166          3         12               1           2             5     5   \n",
              "15171          2          9               3           2             6     5   \n",
              "32337          5         10               3           5             1     5   \n",
              "16829          5         12               5          14             4     5   \n",
              "16164          3         16               3          12             1     5   \n",
              "16376          5         12               5           7             2     5   \n",
              "17501          5         10               3           4             1     5   \n",
              "3830           5         12               3           7             1     3   \n",
              "27419          3          2               5           4             5     5   \n",
              "9797           5          2               5           7             2     5   \n",
              "27414          5         10               1          11             5     5   \n",
              "24561          5         12               3           4             1     5   \n",
              "25519          5         12               3           4             1     5   \n",
              "11057          7         12               3           5             1     5   \n",
              "20776          5          5               3           8             6     2   \n",
              "\n",
              "       education-num_na       age    fnlwgt  education-num  \n",
              "30327                 1 -0.918666 -1.491591      -0.418077  \n",
              "13990                 1  0.472139 -0.173757      -0.418077  \n",
              "13707                 1 -0.186664 -0.509551      -0.418077  \n",
              "510                   2 -1.431068 -0.765847      -0.027513  \n",
              "31211                 1  0.398938 -0.078054       1.144180  \n",
              "24413                 1  0.472139 -1.544857      -0.027513  \n",
              "31700                 1  0.032937 -0.040481      -0.027513  \n",
              "13085                 1 -1.504268 -1.306616      -1.589770  \n",
              "6451                  1 -1.065067 -0.086789       1.534744  \n",
              "376                   1  0.032937  0.209526      -0.418077  \n",
              "23312                 1 -0.552665 -1.373282       1.144180  \n",
              "9693                  1  1.130941 -1.489296       1.534744  \n",
              "3460                  1 -0.186664  0.595613      -2.761463  \n",
              "23276                 1  1.423742 -0.445463      -0.418077  \n",
              "21048                 1 -0.552665  1.442554       0.753616  \n",
              "32166                 1 -0.113463  0.785828      -0.418077  \n",
              "15171                 1  0.618539 -0.270111       0.363051  \n",
              "32337                 1 -0.259864 -0.821361       1.144180  \n",
              "16829                 1 -1.138267 -0.707207      -0.418077  \n",
              "16164                 1 -0.186664  1.602912      -0.027513  \n",
              "16376                 1 -0.333064  0.286758      -0.418077  \n",
              "17501                 1  0.911340  0.613403       1.144180  \n",
              "3830                  1 -1.065067  0.070103      -0.418077  \n",
              "27419                 1  0.838140 -0.471714      -1.199206  \n",
              "9797                  1 -1.357868  0.468985      -1.199206  \n",
              "27414                 1 -0.333064 -0.117279       1.144180  \n",
              "24561                 1 -0.479465  0.355351      -0.418077  \n",
              "25519                 1 -0.113463  0.471383      -0.418077  \n",
              "11057                 1  0.179338  0.414340      -0.418077  \n",
              "20776                 1  0.838140 -1.108138      -2.761463  "
            ],
            "text/html": [
              "\n",
              "  <div id=\"df-d7ed18dd-2332-42e7-bc56-16a0b9e5f83b\">\n",
              "    <div class=\"colab-df-container\">\n",
              "      <div>\n",
              "<style scoped>\n",
              "    .dataframe tbody tr th:only-of-type {\n",
              "        vertical-align: middle;\n",
              "    }\n",
              "\n",
              "    .dataframe tbody tr th {\n",
              "        vertical-align: top;\n",
              "    }\n",
              "\n",
              "    .dataframe thead th {\n",
              "        text-align: right;\n",
              "    }\n",
              "</style>\n",
              "<table border=\"1\" class=\"dataframe\">\n",
              "  <thead>\n",
              "    <tr style=\"text-align: right;\">\n",
              "      <th></th>\n",
              "      <th>workclass</th>\n",
              "      <th>education</th>\n",
              "      <th>marital-status</th>\n",
              "      <th>occupation</th>\n",
              "      <th>relationship</th>\n",
              "      <th>race</th>\n",
              "      <th>education-num_na</th>\n",
              "      <th>age</th>\n",
              "      <th>fnlwgt</th>\n",
              "      <th>education-num</th>\n",
              "    </tr>\n",
              "  </thead>\n",
              "  <tbody>\n",
              "    <tr>\n",
              "      <th>30327</th>\n",
              "      <td>5</td>\n",
              "      <td>12</td>\n",
              "      <td>3</td>\n",
              "      <td>2</td>\n",
              "      <td>6</td>\n",
              "      <td>5</td>\n",
              "      <td>1</td>\n",
              "      <td>-0.918666</td>\n",
              "      <td>-1.491591</td>\n",
              "      <td>-0.418077</td>\n",
              "    </tr>\n",
              "    <tr>\n",
              "      <th>13990</th>\n",
              "      <td>5</td>\n",
              "      <td>12</td>\n",
              "      <td>3</td>\n",
              "      <td>8</td>\n",
              "      <td>1</td>\n",
              "      <td>5</td>\n",
              "      <td>1</td>\n",
              "      <td>0.472139</td>\n",
              "      <td>-0.173757</td>\n",
              "      <td>-0.418077</td>\n",
              "    </tr>\n",
              "    <tr>\n",
              "      <th>13707</th>\n",
              "      <td>5</td>\n",
              "      <td>12</td>\n",
              "      <td>3</td>\n",
              "      <td>8</td>\n",
              "      <td>1</td>\n",
              "      <td>5</td>\n",
              "      <td>1</td>\n",
              "      <td>-0.186664</td>\n",
              "      <td>-0.509551</td>\n",
              "      <td>-0.418077</td>\n",
              "    </tr>\n",
              "    <tr>\n",
              "      <th>510</th>\n",
              "      <td>5</td>\n",
              "      <td>16</td>\n",
              "      <td>5</td>\n",
              "      <td>2</td>\n",
              "      <td>4</td>\n",
              "      <td>5</td>\n",
              "      <td>2</td>\n",
              "      <td>-1.431068</td>\n",
              "      <td>-0.765847</td>\n",
              "      <td>-0.027513</td>\n",
              "    </tr>\n",
              "    <tr>\n",
              "      <th>31211</th>\n",
              "      <td>5</td>\n",
              "      <td>10</td>\n",
              "      <td>3</td>\n",
              "      <td>11</td>\n",
              "      <td>1</td>\n",
              "      <td>5</td>\n",
              "      <td>1</td>\n",
              "      <td>0.398938</td>\n",
              "      <td>-0.078054</td>\n",
              "      <td>1.144180</td>\n",
              "    </tr>\n",
              "    <tr>\n",
              "      <th>24413</th>\n",
              "      <td>5</td>\n",
              "      <td>16</td>\n",
              "      <td>3</td>\n",
              "      <td>15</td>\n",
              "      <td>1</td>\n",
              "      <td>5</td>\n",
              "      <td>1</td>\n",
              "      <td>0.472139</td>\n",
              "      <td>-1.544857</td>\n",
              "      <td>-0.027513</td>\n",
              "    </tr>\n",
              "    <tr>\n",
              "      <th>31700</th>\n",
              "      <td>2</td>\n",
              "      <td>16</td>\n",
              "      <td>1</td>\n",
              "      <td>2</td>\n",
              "      <td>2</td>\n",
              "      <td>5</td>\n",
              "      <td>1</td>\n",
              "      <td>0.032937</td>\n",
              "      <td>-0.040481</td>\n",
              "      <td>-0.027513</td>\n",
              "    </tr>\n",
              "    <tr>\n",
              "      <th>13085</th>\n",
              "      <td>5</td>\n",
              "      <td>1</td>\n",
              "      <td>5</td>\n",
              "      <td>9</td>\n",
              "      <td>4</td>\n",
              "      <td>5</td>\n",
              "      <td>1</td>\n",
              "      <td>-1.504268</td>\n",
              "      <td>-1.306616</td>\n",
              "      <td>-1.589770</td>\n",
              "    </tr>\n",
              "    <tr>\n",
              "      <th>6451</th>\n",
              "      <td>5</td>\n",
              "      <td>13</td>\n",
              "      <td>5</td>\n",
              "      <td>5</td>\n",
              "      <td>4</td>\n",
              "      <td>5</td>\n",
              "      <td>1</td>\n",
              "      <td>-1.065067</td>\n",
              "      <td>-0.086789</td>\n",
              "      <td>1.534744</td>\n",
              "    </tr>\n",
              "    <tr>\n",
              "      <th>376</th>\n",
              "      <td>5</td>\n",
              "      <td>12</td>\n",
              "      <td>3</td>\n",
              "      <td>0</td>\n",
              "      <td>1</td>\n",
              "      <td>5</td>\n",
              "      <td>1</td>\n",
              "      <td>0.032937</td>\n",
              "      <td>0.209526</td>\n",
              "      <td>-0.418077</td>\n",
              "    </tr>\n",
              "    <tr>\n",
              "      <th>23312</th>\n",
              "      <td>5</td>\n",
              "      <td>10</td>\n",
              "      <td>3</td>\n",
              "      <td>11</td>\n",
              "      <td>6</td>\n",
              "      <td>5</td>\n",
              "      <td>1</td>\n",
              "      <td>-0.552665</td>\n",
              "      <td>-1.373282</td>\n",
              "      <td>1.144180</td>\n",
              "    </tr>\n",
              "    <tr>\n",
              "      <th>9693</th>\n",
              "      <td>3</td>\n",
              "      <td>13</td>\n",
              "      <td>3</td>\n",
              "      <td>2</td>\n",
              "      <td>1</td>\n",
              "      <td>5</td>\n",
              "      <td>1</td>\n",
              "      <td>1.130941</td>\n",
              "      <td>-1.489296</td>\n",
              "      <td>1.534744</td>\n",
              "    </tr>\n",
              "    <tr>\n",
              "      <th>3460</th>\n",
              "      <td>5</td>\n",
              "      <td>5</td>\n",
              "      <td>4</td>\n",
              "      <td>4</td>\n",
              "      <td>3</td>\n",
              "      <td>5</td>\n",
              "      <td>1</td>\n",
              "      <td>-0.186664</td>\n",
              "      <td>0.595613</td>\n",
              "      <td>-2.761463</td>\n",
              "    </tr>\n",
              "    <tr>\n",
              "      <th>23276</th>\n",
              "      <td>5</td>\n",
              "      <td>12</td>\n",
              "      <td>1</td>\n",
              "      <td>14</td>\n",
              "      <td>2</td>\n",
              "      <td>5</td>\n",
              "      <td>1</td>\n",
              "      <td>1.423742</td>\n",
              "      <td>-0.445463</td>\n",
              "      <td>-0.418077</td>\n",
              "    </tr>\n",
              "    <tr>\n",
              "      <th>21048</th>\n",
              "      <td>5</td>\n",
              "      <td>8</td>\n",
              "      <td>3</td>\n",
              "      <td>11</td>\n",
              "      <td>1</td>\n",
              "      <td>5</td>\n",
              "      <td>1</td>\n",
              "      <td>-0.552665</td>\n",
              "      <td>1.442554</td>\n",
              "      <td>0.753616</td>\n",
              "    </tr>\n",
              "    <tr>\n",
              "      <th>32166</th>\n",
              "      <td>3</td>\n",
              "      <td>12</td>\n",
              "      <td>1</td>\n",
              "      <td>2</td>\n",
              "      <td>5</td>\n",
              "      <td>5</td>\n",
              "      <td>1</td>\n",
              "      <td>-0.113463</td>\n",
              "      <td>0.785828</td>\n",
              "      <td>-0.418077</td>\n",
              "    </tr>\n",
              "    <tr>\n",
              "      <th>15171</th>\n",
              "      <td>2</td>\n",
              "      <td>9</td>\n",
              "      <td>3</td>\n",
              "      <td>2</td>\n",
              "      <td>6</td>\n",
              "      <td>5</td>\n",
              "      <td>1</td>\n",
              "      <td>0.618539</td>\n",
              "      <td>-0.270111</td>\n",
              "      <td>0.363051</td>\n",
              "    </tr>\n",
              "    <tr>\n",
              "      <th>32337</th>\n",
              "      <td>5</td>\n",
              "      <td>10</td>\n",
              "      <td>3</td>\n",
              "      <td>5</td>\n",
              "      <td>1</td>\n",
              "      <td>5</td>\n",
              "      <td>1</td>\n",
              "      <td>-0.259864</td>\n",
              "      <td>-0.821361</td>\n",
              "      <td>1.144180</td>\n",
              "    </tr>\n",
              "    <tr>\n",
              "      <th>16829</th>\n",
              "      <td>5</td>\n",
              "      <td>12</td>\n",
              "      <td>5</td>\n",
              "      <td>14</td>\n",
              "      <td>4</td>\n",
              "      <td>5</td>\n",
              "      <td>1</td>\n",
              "      <td>-1.138267</td>\n",
              "      <td>-0.707207</td>\n",
              "      <td>-0.418077</td>\n",
              "    </tr>\n",
              "    <tr>\n",
              "      <th>16164</th>\n",
              "      <td>3</td>\n",
              "      <td>16</td>\n",
              "      <td>3</td>\n",
              "      <td>12</td>\n",
              "      <td>1</td>\n",
              "      <td>5</td>\n",
              "      <td>1</td>\n",
              "      <td>-0.186664</td>\n",
              "      <td>1.602912</td>\n",
              "      <td>-0.027513</td>\n",
              "    </tr>\n",
              "    <tr>\n",
              "      <th>16376</th>\n",
              "      <td>5</td>\n",
              "      <td>12</td>\n",
              "      <td>5</td>\n",
              "      <td>7</td>\n",
              "      <td>2</td>\n",
              "      <td>5</td>\n",
              "      <td>1</td>\n",
              "      <td>-0.333064</td>\n",
              "      <td>0.286758</td>\n",
              "      <td>-0.418077</td>\n",
              "    </tr>\n",
              "    <tr>\n",
              "      <th>17501</th>\n",
              "      <td>5</td>\n",
              "      <td>10</td>\n",
              "      <td>3</td>\n",
              "      <td>4</td>\n",
              "      <td>1</td>\n",
              "      <td>5</td>\n",
              "      <td>1</td>\n",
              "      <td>0.911340</td>\n",
              "      <td>0.613403</td>\n",
              "      <td>1.144180</td>\n",
              "    </tr>\n",
              "    <tr>\n",
              "      <th>3830</th>\n",
              "      <td>5</td>\n",
              "      <td>12</td>\n",
              "      <td>3</td>\n",
              "      <td>7</td>\n",
              "      <td>1</td>\n",
              "      <td>3</td>\n",
              "      <td>1</td>\n",
              "      <td>-1.065067</td>\n",
              "      <td>0.070103</td>\n",
              "      <td>-0.418077</td>\n",
              "    </tr>\n",
              "    <tr>\n",
              "      <th>27419</th>\n",
              "      <td>3</td>\n",
              "      <td>2</td>\n",
              "      <td>5</td>\n",
              "      <td>4</td>\n",
              "      <td>5</td>\n",
              "      <td>5</td>\n",
              "      <td>1</td>\n",
              "      <td>0.838140</td>\n",
              "      <td>-0.471714</td>\n",
              "      <td>-1.199206</td>\n",
              "    </tr>\n",
              "    <tr>\n",
              "      <th>9797</th>\n",
              "      <td>5</td>\n",
              "      <td>2</td>\n",
              "      <td>5</td>\n",
              "      <td>7</td>\n",
              "      <td>2</td>\n",
              "      <td>5</td>\n",
              "      <td>1</td>\n",
              "      <td>-1.357868</td>\n",
              "      <td>0.468985</td>\n",
              "      <td>-1.199206</td>\n",
              "    </tr>\n",
              "    <tr>\n",
              "      <th>27414</th>\n",
              "      <td>5</td>\n",
              "      <td>10</td>\n",
              "      <td>1</td>\n",
              "      <td>11</td>\n",
              "      <td>5</td>\n",
              "      <td>5</td>\n",
              "      <td>1</td>\n",
              "      <td>-0.333064</td>\n",
              "      <td>-0.117279</td>\n",
              "      <td>1.144180</td>\n",
              "    </tr>\n",
              "    <tr>\n",
              "      <th>24561</th>\n",
              "      <td>5</td>\n",
              "      <td>12</td>\n",
              "      <td>3</td>\n",
              "      <td>4</td>\n",
              "      <td>1</td>\n",
              "      <td>5</td>\n",
              "      <td>1</td>\n",
              "      <td>-0.479465</td>\n",
              "      <td>0.355351</td>\n",
              "      <td>-0.418077</td>\n",
              "    </tr>\n",
              "    <tr>\n",
              "      <th>25519</th>\n",
              "      <td>5</td>\n",
              "      <td>12</td>\n",
              "      <td>3</td>\n",
              "      <td>4</td>\n",
              "      <td>1</td>\n",
              "      <td>5</td>\n",
              "      <td>1</td>\n",
              "      <td>-0.113463</td>\n",
              "      <td>0.471383</td>\n",
              "      <td>-0.418077</td>\n",
              "    </tr>\n",
              "    <tr>\n",
              "      <th>11057</th>\n",
              "      <td>7</td>\n",
              "      <td>12</td>\n",
              "      <td>3</td>\n",
              "      <td>5</td>\n",
              "      <td>1</td>\n",
              "      <td>5</td>\n",
              "      <td>1</td>\n",
              "      <td>0.179338</td>\n",
              "      <td>0.414340</td>\n",
              "      <td>-0.418077</td>\n",
              "    </tr>\n",
              "    <tr>\n",
              "      <th>20776</th>\n",
              "      <td>5</td>\n",
              "      <td>5</td>\n",
              "      <td>3</td>\n",
              "      <td>8</td>\n",
              "      <td>6</td>\n",
              "      <td>2</td>\n",
              "      <td>1</td>\n",
              "      <td>0.838140</td>\n",
              "      <td>-1.108138</td>\n",
              "      <td>-2.761463</td>\n",
              "    </tr>\n",
              "  </tbody>\n",
              "</table>\n",
              "</div>\n",
              "      <button class=\"colab-df-convert\" onclick=\"convertToInteractive('df-d7ed18dd-2332-42e7-bc56-16a0b9e5f83b')\"\n",
              "              title=\"Convert this dataframe to an interactive table.\"\n",
              "              style=\"display:none;\">\n",
              "        \n",
              "  <svg xmlns=\"http://www.w3.org/2000/svg\" height=\"24px\"viewBox=\"0 0 24 24\"\n",
              "       width=\"24px\">\n",
              "    <path d=\"M0 0h24v24H0V0z\" fill=\"none\"/>\n",
              "    <path d=\"M18.56 5.44l.94 2.06.94-2.06 2.06-.94-2.06-.94-.94-2.06-.94 2.06-2.06.94zm-11 1L8.5 8.5l.94-2.06 2.06-.94-2.06-.94L8.5 2.5l-.94 2.06-2.06.94zm10 10l.94 2.06.94-2.06 2.06-.94-2.06-.94-.94-2.06-.94 2.06-2.06.94z\"/><path d=\"M17.41 7.96l-1.37-1.37c-.4-.4-.92-.59-1.43-.59-.52 0-1.04.2-1.43.59L10.3 9.45l-7.72 7.72c-.78.78-.78 2.05 0 2.83L4 21.41c.39.39.9.59 1.41.59.51 0 1.02-.2 1.41-.59l7.78-7.78 2.81-2.81c.8-.78.8-2.07 0-2.86zM5.41 20L4 18.59l7.72-7.72 1.47 1.35L5.41 20z\"/>\n",
              "  </svg>\n",
              "      </button>\n",
              "      \n",
              "  <style>\n",
              "    .colab-df-container {\n",
              "      display:flex;\n",
              "      flex-wrap:wrap;\n",
              "      gap: 12px;\n",
              "    }\n",
              "\n",
              "    .colab-df-convert {\n",
              "      background-color: #E8F0FE;\n",
              "      border: none;\n",
              "      border-radius: 50%;\n",
              "      cursor: pointer;\n",
              "      display: none;\n",
              "      fill: #1967D2;\n",
              "      height: 32px;\n",
              "      padding: 0 0 0 0;\n",
              "      width: 32px;\n",
              "    }\n",
              "\n",
              "    .colab-df-convert:hover {\n",
              "      background-color: #E2EBFA;\n",
              "      box-shadow: 0px 1px 2px rgba(60, 64, 67, 0.3), 0px 1px 3px 1px rgba(60, 64, 67, 0.15);\n",
              "      fill: #174EA6;\n",
              "    }\n",
              "\n",
              "    [theme=dark] .colab-df-convert {\n",
              "      background-color: #3B4455;\n",
              "      fill: #D2E3FC;\n",
              "    }\n",
              "\n",
              "    [theme=dark] .colab-df-convert:hover {\n",
              "      background-color: #434B5C;\n",
              "      box-shadow: 0px 1px 3px 1px rgba(0, 0, 0, 0.15);\n",
              "      filter: drop-shadow(0px 1px 2px rgba(0, 0, 0, 0.3));\n",
              "      fill: #FFFFFF;\n",
              "    }\n",
              "  </style>\n",
              "\n",
              "      <script>\n",
              "        const buttonEl =\n",
              "          document.querySelector('#df-d7ed18dd-2332-42e7-bc56-16a0b9e5f83b button.colab-df-convert');\n",
              "        buttonEl.style.display =\n",
              "          google.colab.kernel.accessAllowed ? 'block' : 'none';\n",
              "\n",
              "        async function convertToInteractive(key) {\n",
              "          const element = document.querySelector('#df-d7ed18dd-2332-42e7-bc56-16a0b9e5f83b');\n",
              "          const dataTable =\n",
              "            await google.colab.kernel.invokeFunction('convertToInteractive',\n",
              "                                                     [key], {});\n",
              "          if (!dataTable) return;\n",
              "\n",
              "          const docLinkHtml = 'Like what you see? Visit the ' +\n",
              "            '<a target=\"_blank\" href=https://colab.research.google.com/notebooks/data_table.ipynb>data table notebook</a>'\n",
              "            + ' to learn more about interactive tables.';\n",
              "          element.innerHTML = '';\n",
              "          dataTable['output_type'] = 'display_data';\n",
              "          await google.colab.output.renderOutput(dataTable, element);\n",
              "          const docLink = document.createElement('div');\n",
              "          docLink.innerHTML = docLinkHtml;\n",
              "          element.appendChild(docLink);\n",
              "        }\n",
              "      </script>\n",
              "    </div>\n",
              "  </div>\n",
              "  "
            ]
          },
          "metadata": {},
          "execution_count": 24
        }
      ]
    },
    {
      "cell_type": "code",
      "source": [
        "# 5.5.1 Train and valid dataset:\n",
        "to.train\n",
        "to.valid"
      ],
      "metadata": {
        "id": "YuhsnWsmzGmU",
        "colab": {
          "base_uri": "https://localhost:8080/"
        },
        "outputId": "832a9fc3-5d4f-4c17-a1b6-3bf3513bb2a7"
      },
      "execution_count": null,
      "outputs": [
        {
          "output_type": "execute_result",
          "data": {
            "text/plain": [
              "            age  workclass    fnlwgt  education  education-num  \\\n",
              "30327 -0.918666          5 -1.491591         12      -0.418077   \n",
              "13990  0.472139          5 -0.173757         12      -0.418077   \n",
              "13707 -0.186664          5 -0.509551         12      -0.418077   \n",
              "510   -1.431068          5 -0.765847         16      -0.027513   \n",
              "31211  0.398938          5 -0.078054         10       1.144180   \n",
              "...         ...        ...       ...        ...            ...   \n",
              "5428  -1.284667          5  0.451365         16      -0.027513   \n",
              "2847  -0.845466          5  1.252537         12      -0.418077   \n",
              "12788 -0.625865          6 -1.141830         16      -0.027513   \n",
              "396    1.862943          7  0.604763         12      -0.418077   \n",
              "28311 -0.113463          5 -0.128497         12      -0.418077   \n",
              "\n",
              "       marital-status  occupation  relationship  race      sex  capital-gain  \\\n",
              "30327               3           2             6     5   Female             0   \n",
              "13990               3           8             1     5     Male             0   \n",
              "13707               3           8             1     5     Male             0   \n",
              "510                 5           2             4     5   Female             0   \n",
              "31211               3          11             1     5     Male             0   \n",
              "...               ...         ...           ...   ...      ...           ...   \n",
              "5428                5           9             4     5   Female             0   \n",
              "2847                5           9             2     5     Male             0   \n",
              "12788               3          13             1     5     Male             0   \n",
              "396                 7           0             3     5   Female             0   \n",
              "28311               3           6             1     5     Male             0   \n",
              "\n",
              "       capital-loss  hours-per-week  native-country  salary  education-num_na  \n",
              "30327             0              40   United-States       1                 1  \n",
              "13990             0              44   United-States       1                 1  \n",
              "13707             0              45   United-States       0                 1  \n",
              "510               0              15   United-States       0                 2  \n",
              "31211             0              50               ?       1                 1  \n",
              "...             ...             ...             ...     ...               ...  \n",
              "5428              0              25   United-States       0                 1  \n",
              "2847              0              40   United-States       0                 1  \n",
              "12788             0              50   United-States       0                 1  \n",
              "396               0              40   United-States       0                 1  \n",
              "28311             0              30   United-States       0                 1  \n",
              "\n",
              "[26049 rows x 16 columns]"
            ]
          },
          "metadata": {},
          "execution_count": 25
        },
        {
          "output_type": "execute_result",
          "data": {
            "text/plain": [
              "            age  workclass    fnlwgt  education  education-num  \\\n",
              "29453  0.252538          5  1.440080         16      -0.027513   \n",
              "9597  -0.552665          5  0.675451         16      -0.027513   \n",
              "31232  3.180548          5 -0.532393         12      -0.418077   \n",
              "5120   0.032937          5 -0.763279         16      -0.027513   \n",
              "19592 -1.577468          5  3.558020          1      -1.589770   \n",
              "...         ...        ...       ...        ...            ...   \n",
              "13748 -0.552665          5 -0.190074         16      -0.027513   \n",
              "22917 -1.431068          1 -0.005977         16      -0.027513   \n",
              "11232  0.325738          5  0.021681         12      -0.418077   \n",
              "22626 -0.186664          3 -0.825469         10       1.144180   \n",
              "21520  0.252538          3  3.594667         10       1.144180   \n",
              "\n",
              "       marital-status  occupation  relationship  race      sex  capital-gain  \\\n",
              "29453               5           8             2     5   Female             0   \n",
              "9597                3          15             1     5     Male             0   \n",
              "31232               7           5             2     5   Female             0   \n",
              "5120                3           4             1     5     Male             0   \n",
              "19592               5           9             4     5     Male             0   \n",
              "...               ...         ...           ...   ...      ...           ...   \n",
              "13748               3          11             1     5     Male             0   \n",
              "22917               5           1             4     5   Female             0   \n",
              "11232               3           6             1     5     Male             0   \n",
              "22626               6          11             2     5     Male             0   \n",
              "21520               3           2             1     5     Male             0   \n",
              "\n",
              "       capital-loss  hours-per-week  native-country  salary  education-num_na  \n",
              "29453             0              40   United-States       0                 1  \n",
              "9597           1579              45     El-Salvador       0                 1  \n",
              "31232          4356              18   United-States       0                 1  \n",
              "5120              0              40   United-States       0                 1  \n",
              "19592             0               8   United-States       0                 1  \n",
              "...             ...             ...             ...     ...               ...  \n",
              "13748             0              50   United-States       0                 1  \n",
              "22917             0              25   United-States       0                 1  \n",
              "11232             0              40          Mexico       0                 1  \n",
              "22626             0              40   United-States       0                 1  \n",
              "21520             0              45   United-States       1                 1  \n",
              "\n",
              "[6512 rows x 16 columns]"
            ]
          },
          "metadata": {},
          "execution_count": 25
        }
      ]
    },
    {
      "cell_type": "markdown",
      "source": [
        "## Pre-processed data"
      ],
      "metadata": {
        "id": "wjjpqMP9PYfV"
      }
    },
    {
      "cell_type": "code",
      "source": [
        "# 6.0\n",
        "to.xs.head(52)"
      ],
      "metadata": {
        "colab": {
          "base_uri": "https://localhost:8080/",
          "height": 1000
        },
        "id": "EIufJuRP9_J7",
        "outputId": "9c77d961-3509-4add-8168-004a2545ec31"
      },
      "execution_count": null,
      "outputs": [
        {
          "output_type": "execute_result",
          "data": {
            "text/plain": [
              "       workclass  education  marital-status  occupation  relationship  race  \\\n",
              "14347          8         12               3           9             1     5   \n",
              "16631          5         12               3           4             1     5   \n",
              "27458          5         12               1           9             2     3   \n",
              "31424          5         12               5           9             5     5   \n",
              "13333          5         12               3          13             1     5   \n",
              "32554          5         16               1           2             2     5   \n",
              "12462          5          4               5           9             3     5   \n",
              "9371           5         16               5           2             4     5   \n",
              "22318          5         10               3           4             1     5   \n",
              "6193           5         12               3          15             1     3   \n",
              "15277          5         11               3          11             1     2   \n",
              "19223          5         13               3           5             6     5   \n",
              "28686          5         12               5           6             4     3   \n",
              "23255          6         10               3           5             1     5   \n",
              "2685           5          9               3          13             1     5   \n",
              "29263          1         16               1           1             2     1   \n",
              "23606          5         16               3           4             1     5   \n",
              "29361          3         13               5          11             2     5   \n",
              "8449           1         15               3           1             1     5   \n",
              "2541           5         12               1           8             2     5   \n",
              "25948          5         12               3           4             1     5   \n",
              "21745          5          2               5          11             2     5   \n",
              "23116          7          8               3           8             1     5   \n",
              "14794          5         16               5           9             4     5   \n",
              "12509          5         12               1           4             2     5   \n",
              "11733          5         12               7          13             5     1   \n",
              "13715          5         12               5           7             4     5   \n",
              "5821           1         12               1           1             4     5   \n",
              "23447          1         12               3           1             1     5   \n",
              "27188          1          8               3           1             1     5   \n",
              "846            5         12               6           0             2     3   \n",
              "28617          5         16               5           2             4     5   \n",
              "11915          5         12               3           6             1     5   \n",
              "30945          5         10               3           6             1     5   \n",
              "4865           8         16               5           5             2     5   \n",
              "23708          1         16               5           1             4     5   \n",
              "26961          5         16               5           9             4     5   \n",
              "15609          5         12               1           2             5     5   \n",
              "11178          5          1               3          15             1     5   \n",
              "9419           5         12               3           8             1     3   \n",
              "12978          7          9               3           6             1     5   \n",
              "2333           7          3               3           4             1     5   \n",
              "5343           5          8               5           7             4     5   \n",
              "26930          5          1               5           9             4     5   \n",
              "7416           5         16               5           9             4     5   \n",
              "28021          5          2               3           4             1     5   \n",
              "5305           5          8               3          14             1     5   \n",
              "7959           5         10               5           5             2     5   \n",
              "27099          8         10               5          11             4     5   \n",
              "30649          6         10               3           5             1     5   \n",
              "14668          6         16               1           5             2     5   \n",
              "16096          3         12               5           4             4     5   \n",
              "\n",
              "       education-num_na       age    fnlwgt  education-num  \n",
              "14347                 1 -0.405543  0.950865      -0.419044  \n",
              "16631                 1 -0.112587 -1.477477      -0.419044  \n",
              "27458                 1 -0.112587  0.035509      -0.419044  \n",
              "31424                 1 -0.039348  0.026740      -0.419044  \n",
              "13333                 1  0.912759  0.196380      -0.419044  \n",
              "32554                 1  1.059237 -1.468746      -0.027422  \n",
              "12462                 1 -0.552021 -1.132895      -3.160401  \n",
              "9371                  1 -1.357651  0.832883      -0.027422  \n",
              "22318                 1 -0.332304 -0.684080       1.147445  \n",
              "6193                  1  0.839520  1.785455      -0.419044  \n",
              "15277                 1  1.352193 -0.595880       2.322312  \n",
              "19223                 1  1.278954 -0.297823       1.539067  \n",
              "28686                 1 -1.064695  0.099212      -0.419044  \n",
              "23255                 1  0.180369 -0.116450       1.147445  \n",
              "2685                  1 -0.259065 -0.728029       0.364200  \n",
              "29263                 1 -0.259065 -0.618995      -0.027422  \n",
              "23606                 1 -0.552021 -1.341038      -0.027422  \n",
              "29361                 1  0.766281  0.020330       1.539067  \n",
              "8449                  1  3.109930 -0.954647       1.930690  \n",
              "2541                  1 -1.064695 -1.335072      -0.419044  \n",
              "25948                 1  1.278954  0.515176      -0.419044  \n",
              "21745                 1 -1.284412  0.190840      -1.202289  \n",
              "23116                 1  0.839520 -0.314877       0.755823  \n",
              "14794                 1 -1.284412  0.360347      -0.027422  \n",
              "12509                 1 -0.259065 -0.007767      -0.419044  \n",
              "11733                 1  0.253608 -0.356383      -0.419044  \n",
              "13715                 1 -0.771738 -1.396473      -0.419044  \n",
              "5821                  1  1.278954 -1.462865      -0.419044  \n",
              "23447                 1  1.571911 -1.268500      -0.419044  \n",
              "27188                 1 -1.137934 -1.489626       0.755823  \n",
              "846                   2 -0.185826  1.592520      -0.027422  \n",
              "28617                 1 -1.430890 -0.828398      -0.027422  \n",
              "11915                 1 -1.064695  3.014626      -0.419044  \n",
              "30945                 1 -0.405543 -0.127757       1.147445  \n",
              "4865                  1  0.253608  0.111825      -0.027422  \n",
              "23708                 1 -1.284412 -1.065689      -0.027422  \n",
              "26961                 1 -0.991456  0.002044      -0.027422  \n",
              "15609                 1 -0.552021 -0.083619      -0.419044  \n",
              "11178                 1 -0.918217 -0.932943      -1.593912  \n",
              "9419                  1 -0.259065 -0.165797      -0.419044  \n",
              "12978                 1 -1.284412  1.219548       0.364200  \n",
              "2333                  1 -0.478782  1.519140      -0.810667  \n",
              "5343                  1 -1.064695 -0.487064       0.755823  \n",
              "26930                 1 -1.577368  0.696435      -1.593912  \n",
              "7416                  1 -1.430890  0.832504      -0.027422  \n",
              "28021                 1  1.278954  0.574532      -1.202289  \n",
              "5305                  1  0.107130  0.783688       0.755823  \n",
              "7959                  1 -0.625260 -0.036517       1.147445  \n",
              "27099                 1 -1.211173 -1.192326       1.147445  \n",
              "30649                 1  0.693042  0.606899       1.147445  \n",
              "14668                 1  0.985998  2.129109      -0.027422  \n",
              "16096                 1  0.546564 -0.832328      -0.419044  "
            ],
            "text/html": [
              "\n",
              "  <div id=\"df-3b156d78-17ed-4974-b83f-7835623ba665\">\n",
              "    <div class=\"colab-df-container\">\n",
              "      <div>\n",
              "<style scoped>\n",
              "    .dataframe tbody tr th:only-of-type {\n",
              "        vertical-align: middle;\n",
              "    }\n",
              "\n",
              "    .dataframe tbody tr th {\n",
              "        vertical-align: top;\n",
              "    }\n",
              "\n",
              "    .dataframe thead th {\n",
              "        text-align: right;\n",
              "    }\n",
              "</style>\n",
              "<table border=\"1\" class=\"dataframe\">\n",
              "  <thead>\n",
              "    <tr style=\"text-align: right;\">\n",
              "      <th></th>\n",
              "      <th>workclass</th>\n",
              "      <th>education</th>\n",
              "      <th>marital-status</th>\n",
              "      <th>occupation</th>\n",
              "      <th>relationship</th>\n",
              "      <th>race</th>\n",
              "      <th>education-num_na</th>\n",
              "      <th>age</th>\n",
              "      <th>fnlwgt</th>\n",
              "      <th>education-num</th>\n",
              "    </tr>\n",
              "  </thead>\n",
              "  <tbody>\n",
              "    <tr>\n",
              "      <th>14347</th>\n",
              "      <td>8</td>\n",
              "      <td>12</td>\n",
              "      <td>3</td>\n",
              "      <td>9</td>\n",
              "      <td>1</td>\n",
              "      <td>5</td>\n",
              "      <td>1</td>\n",
              "      <td>-0.405543</td>\n",
              "      <td>0.950865</td>\n",
              "      <td>-0.419044</td>\n",
              "    </tr>\n",
              "    <tr>\n",
              "      <th>16631</th>\n",
              "      <td>5</td>\n",
              "      <td>12</td>\n",
              "      <td>3</td>\n",
              "      <td>4</td>\n",
              "      <td>1</td>\n",
              "      <td>5</td>\n",
              "      <td>1</td>\n",
              "      <td>-0.112587</td>\n",
              "      <td>-1.477477</td>\n",
              "      <td>-0.419044</td>\n",
              "    </tr>\n",
              "    <tr>\n",
              "      <th>27458</th>\n",
              "      <td>5</td>\n",
              "      <td>12</td>\n",
              "      <td>1</td>\n",
              "      <td>9</td>\n",
              "      <td>2</td>\n",
              "      <td>3</td>\n",
              "      <td>1</td>\n",
              "      <td>-0.112587</td>\n",
              "      <td>0.035509</td>\n",
              "      <td>-0.419044</td>\n",
              "    </tr>\n",
              "    <tr>\n",
              "      <th>31424</th>\n",
              "      <td>5</td>\n",
              "      <td>12</td>\n",
              "      <td>5</td>\n",
              "      <td>9</td>\n",
              "      <td>5</td>\n",
              "      <td>5</td>\n",
              "      <td>1</td>\n",
              "      <td>-0.039348</td>\n",
              "      <td>0.026740</td>\n",
              "      <td>-0.419044</td>\n",
              "    </tr>\n",
              "    <tr>\n",
              "      <th>13333</th>\n",
              "      <td>5</td>\n",
              "      <td>12</td>\n",
              "      <td>3</td>\n",
              "      <td>13</td>\n",
              "      <td>1</td>\n",
              "      <td>5</td>\n",
              "      <td>1</td>\n",
              "      <td>0.912759</td>\n",
              "      <td>0.196380</td>\n",
              "      <td>-0.419044</td>\n",
              "    </tr>\n",
              "    <tr>\n",
              "      <th>32554</th>\n",
              "      <td>5</td>\n",
              "      <td>16</td>\n",
              "      <td>1</td>\n",
              "      <td>2</td>\n",
              "      <td>2</td>\n",
              "      <td>5</td>\n",
              "      <td>1</td>\n",
              "      <td>1.059237</td>\n",
              "      <td>-1.468746</td>\n",
              "      <td>-0.027422</td>\n",
              "    </tr>\n",
              "    <tr>\n",
              "      <th>12462</th>\n",
              "      <td>5</td>\n",
              "      <td>4</td>\n",
              "      <td>5</td>\n",
              "      <td>9</td>\n",
              "      <td>3</td>\n",
              "      <td>5</td>\n",
              "      <td>1</td>\n",
              "      <td>-0.552021</td>\n",
              "      <td>-1.132895</td>\n",
              "      <td>-3.160401</td>\n",
              "    </tr>\n",
              "    <tr>\n",
              "      <th>9371</th>\n",
              "      <td>5</td>\n",
              "      <td>16</td>\n",
              "      <td>5</td>\n",
              "      <td>2</td>\n",
              "      <td>4</td>\n",
              "      <td>5</td>\n",
              "      <td>1</td>\n",
              "      <td>-1.357651</td>\n",
              "      <td>0.832883</td>\n",
              "      <td>-0.027422</td>\n",
              "    </tr>\n",
              "    <tr>\n",
              "      <th>22318</th>\n",
              "      <td>5</td>\n",
              "      <td>10</td>\n",
              "      <td>3</td>\n",
              "      <td>4</td>\n",
              "      <td>1</td>\n",
              "      <td>5</td>\n",
              "      <td>1</td>\n",
              "      <td>-0.332304</td>\n",
              "      <td>-0.684080</td>\n",
              "      <td>1.147445</td>\n",
              "    </tr>\n",
              "    <tr>\n",
              "      <th>6193</th>\n",
              "      <td>5</td>\n",
              "      <td>12</td>\n",
              "      <td>3</td>\n",
              "      <td>15</td>\n",
              "      <td>1</td>\n",
              "      <td>3</td>\n",
              "      <td>1</td>\n",
              "      <td>0.839520</td>\n",
              "      <td>1.785455</td>\n",
              "      <td>-0.419044</td>\n",
              "    </tr>\n",
              "    <tr>\n",
              "      <th>15277</th>\n",
              "      <td>5</td>\n",
              "      <td>11</td>\n",
              "      <td>3</td>\n",
              "      <td>11</td>\n",
              "      <td>1</td>\n",
              "      <td>2</td>\n",
              "      <td>1</td>\n",
              "      <td>1.352193</td>\n",
              "      <td>-0.595880</td>\n",
              "      <td>2.322312</td>\n",
              "    </tr>\n",
              "    <tr>\n",
              "      <th>19223</th>\n",
              "      <td>5</td>\n",
              "      <td>13</td>\n",
              "      <td>3</td>\n",
              "      <td>5</td>\n",
              "      <td>6</td>\n",
              "      <td>5</td>\n",
              "      <td>1</td>\n",
              "      <td>1.278954</td>\n",
              "      <td>-0.297823</td>\n",
              "      <td>1.539067</td>\n",
              "    </tr>\n",
              "    <tr>\n",
              "      <th>28686</th>\n",
              "      <td>5</td>\n",
              "      <td>12</td>\n",
              "      <td>5</td>\n",
              "      <td>6</td>\n",
              "      <td>4</td>\n",
              "      <td>3</td>\n",
              "      <td>1</td>\n",
              "      <td>-1.064695</td>\n",
              "      <td>0.099212</td>\n",
              "      <td>-0.419044</td>\n",
              "    </tr>\n",
              "    <tr>\n",
              "      <th>23255</th>\n",
              "      <td>6</td>\n",
              "      <td>10</td>\n",
              "      <td>3</td>\n",
              "      <td>5</td>\n",
              "      <td>1</td>\n",
              "      <td>5</td>\n",
              "      <td>1</td>\n",
              "      <td>0.180369</td>\n",
              "      <td>-0.116450</td>\n",
              "      <td>1.147445</td>\n",
              "    </tr>\n",
              "    <tr>\n",
              "      <th>2685</th>\n",
              "      <td>5</td>\n",
              "      <td>9</td>\n",
              "      <td>3</td>\n",
              "      <td>13</td>\n",
              "      <td>1</td>\n",
              "      <td>5</td>\n",
              "      <td>1</td>\n",
              "      <td>-0.259065</td>\n",
              "      <td>-0.728029</td>\n",
              "      <td>0.364200</td>\n",
              "    </tr>\n",
              "    <tr>\n",
              "      <th>29263</th>\n",
              "      <td>1</td>\n",
              "      <td>16</td>\n",
              "      <td>1</td>\n",
              "      <td>1</td>\n",
              "      <td>2</td>\n",
              "      <td>1</td>\n",
              "      <td>1</td>\n",
              "      <td>-0.259065</td>\n",
              "      <td>-0.618995</td>\n",
              "      <td>-0.027422</td>\n",
              "    </tr>\n",
              "    <tr>\n",
              "      <th>23606</th>\n",
              "      <td>5</td>\n",
              "      <td>16</td>\n",
              "      <td>3</td>\n",
              "      <td>4</td>\n",
              "      <td>1</td>\n",
              "      <td>5</td>\n",
              "      <td>1</td>\n",
              "      <td>-0.552021</td>\n",
              "      <td>-1.341038</td>\n",
              "      <td>-0.027422</td>\n",
              "    </tr>\n",
              "    <tr>\n",
              "      <th>29361</th>\n",
              "      <td>3</td>\n",
              "      <td>13</td>\n",
              "      <td>5</td>\n",
              "      <td>11</td>\n",
              "      <td>2</td>\n",
              "      <td>5</td>\n",
              "      <td>1</td>\n",
              "      <td>0.766281</td>\n",
              "      <td>0.020330</td>\n",
              "      <td>1.539067</td>\n",
              "    </tr>\n",
              "    <tr>\n",
              "      <th>8449</th>\n",
              "      <td>1</td>\n",
              "      <td>15</td>\n",
              "      <td>3</td>\n",
              "      <td>1</td>\n",
              "      <td>1</td>\n",
              "      <td>5</td>\n",
              "      <td>1</td>\n",
              "      <td>3.109930</td>\n",
              "      <td>-0.954647</td>\n",
              "      <td>1.930690</td>\n",
              "    </tr>\n",
              "    <tr>\n",
              "      <th>2541</th>\n",
              "      <td>5</td>\n",
              "      <td>12</td>\n",
              "      <td>1</td>\n",
              "      <td>8</td>\n",
              "      <td>2</td>\n",
              "      <td>5</td>\n",
              "      <td>1</td>\n",
              "      <td>-1.064695</td>\n",
              "      <td>-1.335072</td>\n",
              "      <td>-0.419044</td>\n",
              "    </tr>\n",
              "    <tr>\n",
              "      <th>25948</th>\n",
              "      <td>5</td>\n",
              "      <td>12</td>\n",
              "      <td>3</td>\n",
              "      <td>4</td>\n",
              "      <td>1</td>\n",
              "      <td>5</td>\n",
              "      <td>1</td>\n",
              "      <td>1.278954</td>\n",
              "      <td>0.515176</td>\n",
              "      <td>-0.419044</td>\n",
              "    </tr>\n",
              "    <tr>\n",
              "      <th>21745</th>\n",
              "      <td>5</td>\n",
              "      <td>2</td>\n",
              "      <td>5</td>\n",
              "      <td>11</td>\n",
              "      <td>2</td>\n",
              "      <td>5</td>\n",
              "      <td>1</td>\n",
              "      <td>-1.284412</td>\n",
              "      <td>0.190840</td>\n",
              "      <td>-1.202289</td>\n",
              "    </tr>\n",
              "    <tr>\n",
              "      <th>23116</th>\n",
              "      <td>7</td>\n",
              "      <td>8</td>\n",
              "      <td>3</td>\n",
              "      <td>8</td>\n",
              "      <td>1</td>\n",
              "      <td>5</td>\n",
              "      <td>1</td>\n",
              "      <td>0.839520</td>\n",
              "      <td>-0.314877</td>\n",
              "      <td>0.755823</td>\n",
              "    </tr>\n",
              "    <tr>\n",
              "      <th>14794</th>\n",
              "      <td>5</td>\n",
              "      <td>16</td>\n",
              "      <td>5</td>\n",
              "      <td>9</td>\n",
              "      <td>4</td>\n",
              "      <td>5</td>\n",
              "      <td>1</td>\n",
              "      <td>-1.284412</td>\n",
              "      <td>0.360347</td>\n",
              "      <td>-0.027422</td>\n",
              "    </tr>\n",
              "    <tr>\n",
              "      <th>12509</th>\n",
              "      <td>5</td>\n",
              "      <td>12</td>\n",
              "      <td>1</td>\n",
              "      <td>4</td>\n",
              "      <td>2</td>\n",
              "      <td>5</td>\n",
              "      <td>1</td>\n",
              "      <td>-0.259065</td>\n",
              "      <td>-0.007767</td>\n",
              "      <td>-0.419044</td>\n",
              "    </tr>\n",
              "    <tr>\n",
              "      <th>11733</th>\n",
              "      <td>5</td>\n",
              "      <td>12</td>\n",
              "      <td>7</td>\n",
              "      <td>13</td>\n",
              "      <td>5</td>\n",
              "      <td>1</td>\n",
              "      <td>1</td>\n",
              "      <td>0.253608</td>\n",
              "      <td>-0.356383</td>\n",
              "      <td>-0.419044</td>\n",
              "    </tr>\n",
              "    <tr>\n",
              "      <th>13715</th>\n",
              "      <td>5</td>\n",
              "      <td>12</td>\n",
              "      <td>5</td>\n",
              "      <td>7</td>\n",
              "      <td>4</td>\n",
              "      <td>5</td>\n",
              "      <td>1</td>\n",
              "      <td>-0.771738</td>\n",
              "      <td>-1.396473</td>\n",
              "      <td>-0.419044</td>\n",
              "    </tr>\n",
              "    <tr>\n",
              "      <th>5821</th>\n",
              "      <td>1</td>\n",
              "      <td>12</td>\n",
              "      <td>1</td>\n",
              "      <td>1</td>\n",
              "      <td>4</td>\n",
              "      <td>5</td>\n",
              "      <td>1</td>\n",
              "      <td>1.278954</td>\n",
              "      <td>-1.462865</td>\n",
              "      <td>-0.419044</td>\n",
              "    </tr>\n",
              "    <tr>\n",
              "      <th>23447</th>\n",
              "      <td>1</td>\n",
              "      <td>12</td>\n",
              "      <td>3</td>\n",
              "      <td>1</td>\n",
              "      <td>1</td>\n",
              "      <td>5</td>\n",
              "      <td>1</td>\n",
              "      <td>1.571911</td>\n",
              "      <td>-1.268500</td>\n",
              "      <td>-0.419044</td>\n",
              "    </tr>\n",
              "    <tr>\n",
              "      <th>27188</th>\n",
              "      <td>1</td>\n",
              "      <td>8</td>\n",
              "      <td>3</td>\n",
              "      <td>1</td>\n",
              "      <td>1</td>\n",
              "      <td>5</td>\n",
              "      <td>1</td>\n",
              "      <td>-1.137934</td>\n",
              "      <td>-1.489626</td>\n",
              "      <td>0.755823</td>\n",
              "    </tr>\n",
              "    <tr>\n",
              "      <th>846</th>\n",
              "      <td>5</td>\n",
              "      <td>12</td>\n",
              "      <td>6</td>\n",
              "      <td>0</td>\n",
              "      <td>2</td>\n",
              "      <td>3</td>\n",
              "      <td>2</td>\n",
              "      <td>-0.185826</td>\n",
              "      <td>1.592520</td>\n",
              "      <td>-0.027422</td>\n",
              "    </tr>\n",
              "    <tr>\n",
              "      <th>28617</th>\n",
              "      <td>5</td>\n",
              "      <td>16</td>\n",
              "      <td>5</td>\n",
              "      <td>2</td>\n",
              "      <td>4</td>\n",
              "      <td>5</td>\n",
              "      <td>1</td>\n",
              "      <td>-1.430890</td>\n",
              "      <td>-0.828398</td>\n",
              "      <td>-0.027422</td>\n",
              "    </tr>\n",
              "    <tr>\n",
              "      <th>11915</th>\n",
              "      <td>5</td>\n",
              "      <td>12</td>\n",
              "      <td>3</td>\n",
              "      <td>6</td>\n",
              "      <td>1</td>\n",
              "      <td>5</td>\n",
              "      <td>1</td>\n",
              "      <td>-1.064695</td>\n",
              "      <td>3.014626</td>\n",
              "      <td>-0.419044</td>\n",
              "    </tr>\n",
              "    <tr>\n",
              "      <th>30945</th>\n",
              "      <td>5</td>\n",
              "      <td>10</td>\n",
              "      <td>3</td>\n",
              "      <td>6</td>\n",
              "      <td>1</td>\n",
              "      <td>5</td>\n",
              "      <td>1</td>\n",
              "      <td>-0.405543</td>\n",
              "      <td>-0.127757</td>\n",
              "      <td>1.147445</td>\n",
              "    </tr>\n",
              "    <tr>\n",
              "      <th>4865</th>\n",
              "      <td>8</td>\n",
              "      <td>16</td>\n",
              "      <td>5</td>\n",
              "      <td>5</td>\n",
              "      <td>2</td>\n",
              "      <td>5</td>\n",
              "      <td>1</td>\n",
              "      <td>0.253608</td>\n",
              "      <td>0.111825</td>\n",
              "      <td>-0.027422</td>\n",
              "    </tr>\n",
              "    <tr>\n",
              "      <th>23708</th>\n",
              "      <td>1</td>\n",
              "      <td>16</td>\n",
              "      <td>5</td>\n",
              "      <td>1</td>\n",
              "      <td>4</td>\n",
              "      <td>5</td>\n",
              "      <td>1</td>\n",
              "      <td>-1.284412</td>\n",
              "      <td>-1.065689</td>\n",
              "      <td>-0.027422</td>\n",
              "    </tr>\n",
              "    <tr>\n",
              "      <th>26961</th>\n",
              "      <td>5</td>\n",
              "      <td>16</td>\n",
              "      <td>5</td>\n",
              "      <td>9</td>\n",
              "      <td>4</td>\n",
              "      <td>5</td>\n",
              "      <td>1</td>\n",
              "      <td>-0.991456</td>\n",
              "      <td>0.002044</td>\n",
              "      <td>-0.027422</td>\n",
              "    </tr>\n",
              "    <tr>\n",
              "      <th>15609</th>\n",
              "      <td>5</td>\n",
              "      <td>12</td>\n",
              "      <td>1</td>\n",
              "      <td>2</td>\n",
              "      <td>5</td>\n",
              "      <td>5</td>\n",
              "      <td>1</td>\n",
              "      <td>-0.552021</td>\n",
              "      <td>-0.083619</td>\n",
              "      <td>-0.419044</td>\n",
              "    </tr>\n",
              "    <tr>\n",
              "      <th>11178</th>\n",
              "      <td>5</td>\n",
              "      <td>1</td>\n",
              "      <td>3</td>\n",
              "      <td>15</td>\n",
              "      <td>1</td>\n",
              "      <td>5</td>\n",
              "      <td>1</td>\n",
              "      <td>-0.918217</td>\n",
              "      <td>-0.932943</td>\n",
              "      <td>-1.593912</td>\n",
              "    </tr>\n",
              "    <tr>\n",
              "      <th>9419</th>\n",
              "      <td>5</td>\n",
              "      <td>12</td>\n",
              "      <td>3</td>\n",
              "      <td>8</td>\n",
              "      <td>1</td>\n",
              "      <td>3</td>\n",
              "      <td>1</td>\n",
              "      <td>-0.259065</td>\n",
              "      <td>-0.165797</td>\n",
              "      <td>-0.419044</td>\n",
              "    </tr>\n",
              "    <tr>\n",
              "      <th>12978</th>\n",
              "      <td>7</td>\n",
              "      <td>9</td>\n",
              "      <td>3</td>\n",
              "      <td>6</td>\n",
              "      <td>1</td>\n",
              "      <td>5</td>\n",
              "      <td>1</td>\n",
              "      <td>-1.284412</td>\n",
              "      <td>1.219548</td>\n",
              "      <td>0.364200</td>\n",
              "    </tr>\n",
              "    <tr>\n",
              "      <th>2333</th>\n",
              "      <td>7</td>\n",
              "      <td>3</td>\n",
              "      <td>3</td>\n",
              "      <td>4</td>\n",
              "      <td>1</td>\n",
              "      <td>5</td>\n",
              "      <td>1</td>\n",
              "      <td>-0.478782</td>\n",
              "      <td>1.519140</td>\n",
              "      <td>-0.810667</td>\n",
              "    </tr>\n",
              "    <tr>\n",
              "      <th>5343</th>\n",
              "      <td>5</td>\n",
              "      <td>8</td>\n",
              "      <td>5</td>\n",
              "      <td>7</td>\n",
              "      <td>4</td>\n",
              "      <td>5</td>\n",
              "      <td>1</td>\n",
              "      <td>-1.064695</td>\n",
              "      <td>-0.487064</td>\n",
              "      <td>0.755823</td>\n",
              "    </tr>\n",
              "    <tr>\n",
              "      <th>26930</th>\n",
              "      <td>5</td>\n",
              "      <td>1</td>\n",
              "      <td>5</td>\n",
              "      <td>9</td>\n",
              "      <td>4</td>\n",
              "      <td>5</td>\n",
              "      <td>1</td>\n",
              "      <td>-1.577368</td>\n",
              "      <td>0.696435</td>\n",
              "      <td>-1.593912</td>\n",
              "    </tr>\n",
              "    <tr>\n",
              "      <th>7416</th>\n",
              "      <td>5</td>\n",
              "      <td>16</td>\n",
              "      <td>5</td>\n",
              "      <td>9</td>\n",
              "      <td>4</td>\n",
              "      <td>5</td>\n",
              "      <td>1</td>\n",
              "      <td>-1.430890</td>\n",
              "      <td>0.832504</td>\n",
              "      <td>-0.027422</td>\n",
              "    </tr>\n",
              "    <tr>\n",
              "      <th>28021</th>\n",
              "      <td>5</td>\n",
              "      <td>2</td>\n",
              "      <td>3</td>\n",
              "      <td>4</td>\n",
              "      <td>1</td>\n",
              "      <td>5</td>\n",
              "      <td>1</td>\n",
              "      <td>1.278954</td>\n",
              "      <td>0.574532</td>\n",
              "      <td>-1.202289</td>\n",
              "    </tr>\n",
              "    <tr>\n",
              "      <th>5305</th>\n",
              "      <td>5</td>\n",
              "      <td>8</td>\n",
              "      <td>3</td>\n",
              "      <td>14</td>\n",
              "      <td>1</td>\n",
              "      <td>5</td>\n",
              "      <td>1</td>\n",
              "      <td>0.107130</td>\n",
              "      <td>0.783688</td>\n",
              "      <td>0.755823</td>\n",
              "    </tr>\n",
              "    <tr>\n",
              "      <th>7959</th>\n",
              "      <td>5</td>\n",
              "      <td>10</td>\n",
              "      <td>5</td>\n",
              "      <td>5</td>\n",
              "      <td>2</td>\n",
              "      <td>5</td>\n",
              "      <td>1</td>\n",
              "      <td>-0.625260</td>\n",
              "      <td>-0.036517</td>\n",
              "      <td>1.147445</td>\n",
              "    </tr>\n",
              "    <tr>\n",
              "      <th>27099</th>\n",
              "      <td>8</td>\n",
              "      <td>10</td>\n",
              "      <td>5</td>\n",
              "      <td>11</td>\n",
              "      <td>4</td>\n",
              "      <td>5</td>\n",
              "      <td>1</td>\n",
              "      <td>-1.211173</td>\n",
              "      <td>-1.192326</td>\n",
              "      <td>1.147445</td>\n",
              "    </tr>\n",
              "    <tr>\n",
              "      <th>30649</th>\n",
              "      <td>6</td>\n",
              "      <td>10</td>\n",
              "      <td>3</td>\n",
              "      <td>5</td>\n",
              "      <td>1</td>\n",
              "      <td>5</td>\n",
              "      <td>1</td>\n",
              "      <td>0.693042</td>\n",
              "      <td>0.606899</td>\n",
              "      <td>1.147445</td>\n",
              "    </tr>\n",
              "    <tr>\n",
              "      <th>14668</th>\n",
              "      <td>6</td>\n",
              "      <td>16</td>\n",
              "      <td>1</td>\n",
              "      <td>5</td>\n",
              "      <td>2</td>\n",
              "      <td>5</td>\n",
              "      <td>1</td>\n",
              "      <td>0.985998</td>\n",
              "      <td>2.129109</td>\n",
              "      <td>-0.027422</td>\n",
              "    </tr>\n",
              "    <tr>\n",
              "      <th>16096</th>\n",
              "      <td>3</td>\n",
              "      <td>12</td>\n",
              "      <td>5</td>\n",
              "      <td>4</td>\n",
              "      <td>4</td>\n",
              "      <td>5</td>\n",
              "      <td>1</td>\n",
              "      <td>0.546564</td>\n",
              "      <td>-0.832328</td>\n",
              "      <td>-0.419044</td>\n",
              "    </tr>\n",
              "  </tbody>\n",
              "</table>\n",
              "</div>\n",
              "      <button class=\"colab-df-convert\" onclick=\"convertToInteractive('df-3b156d78-17ed-4974-b83f-7835623ba665')\"\n",
              "              title=\"Convert this dataframe to an interactive table.\"\n",
              "              style=\"display:none;\">\n",
              "        \n",
              "  <svg xmlns=\"http://www.w3.org/2000/svg\" height=\"24px\"viewBox=\"0 0 24 24\"\n",
              "       width=\"24px\">\n",
              "    <path d=\"M0 0h24v24H0V0z\" fill=\"none\"/>\n",
              "    <path d=\"M18.56 5.44l.94 2.06.94-2.06 2.06-.94-2.06-.94-.94-2.06-.94 2.06-2.06.94zm-11 1L8.5 8.5l.94-2.06 2.06-.94-2.06-.94L8.5 2.5l-.94 2.06-2.06.94zm10 10l.94 2.06.94-2.06 2.06-.94-2.06-.94-.94-2.06-.94 2.06-2.06.94z\"/><path d=\"M17.41 7.96l-1.37-1.37c-.4-.4-.92-.59-1.43-.59-.52 0-1.04.2-1.43.59L10.3 9.45l-7.72 7.72c-.78.78-.78 2.05 0 2.83L4 21.41c.39.39.9.59 1.41.59.51 0 1.02-.2 1.41-.59l7.78-7.78 2.81-2.81c.8-.78.8-2.07 0-2.86zM5.41 20L4 18.59l7.72-7.72 1.47 1.35L5.41 20z\"/>\n",
              "  </svg>\n",
              "      </button>\n",
              "      \n",
              "  <style>\n",
              "    .colab-df-container {\n",
              "      display:flex;\n",
              "      flex-wrap:wrap;\n",
              "      gap: 12px;\n",
              "    }\n",
              "\n",
              "    .colab-df-convert {\n",
              "      background-color: #E8F0FE;\n",
              "      border: none;\n",
              "      border-radius: 50%;\n",
              "      cursor: pointer;\n",
              "      display: none;\n",
              "      fill: #1967D2;\n",
              "      height: 32px;\n",
              "      padding: 0 0 0 0;\n",
              "      width: 32px;\n",
              "    }\n",
              "\n",
              "    .colab-df-convert:hover {\n",
              "      background-color: #E2EBFA;\n",
              "      box-shadow: 0px 1px 2px rgba(60, 64, 67, 0.3), 0px 1px 3px 1px rgba(60, 64, 67, 0.15);\n",
              "      fill: #174EA6;\n",
              "    }\n",
              "\n",
              "    [theme=dark] .colab-df-convert {\n",
              "      background-color: #3B4455;\n",
              "      fill: #D2E3FC;\n",
              "    }\n",
              "\n",
              "    [theme=dark] .colab-df-convert:hover {\n",
              "      background-color: #434B5C;\n",
              "      box-shadow: 0px 1px 3px 1px rgba(0, 0, 0, 0.15);\n",
              "      filter: drop-shadow(0px 1px 2px rgba(0, 0, 0, 0.3));\n",
              "      fill: #FFFFFF;\n",
              "    }\n",
              "  </style>\n",
              "\n",
              "      <script>\n",
              "        const buttonEl =\n",
              "          document.querySelector('#df-3b156d78-17ed-4974-b83f-7835623ba665 button.colab-df-convert');\n",
              "        buttonEl.style.display =\n",
              "          google.colab.kernel.accessAllowed ? 'block' : 'none';\n",
              "\n",
              "        async function convertToInteractive(key) {\n",
              "          const element = document.querySelector('#df-3b156d78-17ed-4974-b83f-7835623ba665');\n",
              "          const dataTable =\n",
              "            await google.colab.kernel.invokeFunction('convertToInteractive',\n",
              "                                                     [key], {});\n",
              "          if (!dataTable) return;\n",
              "\n",
              "          const docLinkHtml = 'Like what you see? Visit the ' +\n",
              "            '<a target=\"_blank\" href=https://colab.research.google.com/notebooks/data_table.ipynb>data table notebook</a>'\n",
              "            + ' to learn more about interactive tables.';\n",
              "          element.innerHTML = '';\n",
              "          dataTable['output_type'] = 'display_data';\n",
              "          await google.colab.output.renderOutput(dataTable, element);\n",
              "          const docLink = document.createElement('div');\n",
              "          docLink.innerHTML = docLinkHtml;\n",
              "          element.appendChild(docLink);\n",
              "        }\n",
              "      </script>\n",
              "    </div>\n",
              "  </div>\n",
              "  "
            ]
          },
          "metadata": {},
          "execution_count": 40
        }
      ]
    },
    {
      "cell_type": "code",
      "source": [
        "# 6.1 See now completely preprocessed data:\n",
        "\n",
        "to.xs.iloc[:2]"
      ],
      "metadata": {
        "colab": {
          "base_uri": "https://localhost:8080/",
          "height": 193
        },
        "id": "0n6XJ2cS4Pro",
        "outputId": "03db602c-ba2a-4729-8db7-ba320941f9c7"
      },
      "execution_count": null,
      "outputs": [
        {
          "output_type": "execute_result",
          "data": {
            "text/plain": [
              "       workclass  education  marital-status  occupation  relationship  race  \\\n",
              "14347          8         12               3           9             1     5   \n",
              "16631          5         12               3           4             1     5   \n",
              "\n",
              "       education-num_na       age    fnlwgt  education-num  \n",
              "14347                 1 -0.405543  0.950865      -0.419044  \n",
              "16631                 1 -0.112587 -1.477477      -0.419044  "
            ],
            "text/html": [
              "\n",
              "  <div id=\"df-9b425c67-2de8-4823-bb23-5a0fbe5a42d5\">\n",
              "    <div class=\"colab-df-container\">\n",
              "      <div>\n",
              "<style scoped>\n",
              "    .dataframe tbody tr th:only-of-type {\n",
              "        vertical-align: middle;\n",
              "    }\n",
              "\n",
              "    .dataframe tbody tr th {\n",
              "        vertical-align: top;\n",
              "    }\n",
              "\n",
              "    .dataframe thead th {\n",
              "        text-align: right;\n",
              "    }\n",
              "</style>\n",
              "<table border=\"1\" class=\"dataframe\">\n",
              "  <thead>\n",
              "    <tr style=\"text-align: right;\">\n",
              "      <th></th>\n",
              "      <th>workclass</th>\n",
              "      <th>education</th>\n",
              "      <th>marital-status</th>\n",
              "      <th>occupation</th>\n",
              "      <th>relationship</th>\n",
              "      <th>race</th>\n",
              "      <th>education-num_na</th>\n",
              "      <th>age</th>\n",
              "      <th>fnlwgt</th>\n",
              "      <th>education-num</th>\n",
              "    </tr>\n",
              "  </thead>\n",
              "  <tbody>\n",
              "    <tr>\n",
              "      <th>14347</th>\n",
              "      <td>8</td>\n",
              "      <td>12</td>\n",
              "      <td>3</td>\n",
              "      <td>9</td>\n",
              "      <td>1</td>\n",
              "      <td>5</td>\n",
              "      <td>1</td>\n",
              "      <td>-0.405543</td>\n",
              "      <td>0.950865</td>\n",
              "      <td>-0.419044</td>\n",
              "    </tr>\n",
              "    <tr>\n",
              "      <th>16631</th>\n",
              "      <td>5</td>\n",
              "      <td>12</td>\n",
              "      <td>3</td>\n",
              "      <td>4</td>\n",
              "      <td>1</td>\n",
              "      <td>5</td>\n",
              "      <td>1</td>\n",
              "      <td>-0.112587</td>\n",
              "      <td>-1.477477</td>\n",
              "      <td>-0.419044</td>\n",
              "    </tr>\n",
              "  </tbody>\n",
              "</table>\n",
              "</div>\n",
              "      <button class=\"colab-df-convert\" onclick=\"convertToInteractive('df-9b425c67-2de8-4823-bb23-5a0fbe5a42d5')\"\n",
              "              title=\"Convert this dataframe to an interactive table.\"\n",
              "              style=\"display:none;\">\n",
              "        \n",
              "  <svg xmlns=\"http://www.w3.org/2000/svg\" height=\"24px\"viewBox=\"0 0 24 24\"\n",
              "       width=\"24px\">\n",
              "    <path d=\"M0 0h24v24H0V0z\" fill=\"none\"/>\n",
              "    <path d=\"M18.56 5.44l.94 2.06.94-2.06 2.06-.94-2.06-.94-.94-2.06-.94 2.06-2.06.94zm-11 1L8.5 8.5l.94-2.06 2.06-.94-2.06-.94L8.5 2.5l-.94 2.06-2.06.94zm10 10l.94 2.06.94-2.06 2.06-.94-2.06-.94-.94-2.06-.94 2.06-2.06.94z\"/><path d=\"M17.41 7.96l-1.37-1.37c-.4-.4-.92-.59-1.43-.59-.52 0-1.04.2-1.43.59L10.3 9.45l-7.72 7.72c-.78.78-.78 2.05 0 2.83L4 21.41c.39.39.9.59 1.41.59.51 0 1.02-.2 1.41-.59l7.78-7.78 2.81-2.81c.8-.78.8-2.07 0-2.86zM5.41 20L4 18.59l7.72-7.72 1.47 1.35L5.41 20z\"/>\n",
              "  </svg>\n",
              "      </button>\n",
              "      \n",
              "  <style>\n",
              "    .colab-df-container {\n",
              "      display:flex;\n",
              "      flex-wrap:wrap;\n",
              "      gap: 12px;\n",
              "    }\n",
              "\n",
              "    .colab-df-convert {\n",
              "      background-color: #E8F0FE;\n",
              "      border: none;\n",
              "      border-radius: 50%;\n",
              "      cursor: pointer;\n",
              "      display: none;\n",
              "      fill: #1967D2;\n",
              "      height: 32px;\n",
              "      padding: 0 0 0 0;\n",
              "      width: 32px;\n",
              "    }\n",
              "\n",
              "    .colab-df-convert:hover {\n",
              "      background-color: #E2EBFA;\n",
              "      box-shadow: 0px 1px 2px rgba(60, 64, 67, 0.3), 0px 1px 3px 1px rgba(60, 64, 67, 0.15);\n",
              "      fill: #174EA6;\n",
              "    }\n",
              "\n",
              "    [theme=dark] .colab-df-convert {\n",
              "      background-color: #3B4455;\n",
              "      fill: #D2E3FC;\n",
              "    }\n",
              "\n",
              "    [theme=dark] .colab-df-convert:hover {\n",
              "      background-color: #434B5C;\n",
              "      box-shadow: 0px 1px 3px 1px rgba(0, 0, 0, 0.15);\n",
              "      filter: drop-shadow(0px 1px 2px rgba(0, 0, 0, 0.3));\n",
              "      fill: #FFFFFF;\n",
              "    }\n",
              "  </style>\n",
              "\n",
              "      <script>\n",
              "        const buttonEl =\n",
              "          document.querySelector('#df-9b425c67-2de8-4823-bb23-5a0fbe5a42d5 button.colab-df-convert');\n",
              "        buttonEl.style.display =\n",
              "          google.colab.kernel.accessAllowed ? 'block' : 'none';\n",
              "\n",
              "        async function convertToInteractive(key) {\n",
              "          const element = document.querySelector('#df-9b425c67-2de8-4823-bb23-5a0fbe5a42d5');\n",
              "          const dataTable =\n",
              "            await google.colab.kernel.invokeFunction('convertToInteractive',\n",
              "                                                     [key], {});\n",
              "          if (!dataTable) return;\n",
              "\n",
              "          const docLinkHtml = 'Like what you see? Visit the ' +\n",
              "            '<a target=\"_blank\" href=https://colab.research.google.com/notebooks/data_table.ipynb>data table notebook</a>'\n",
              "            + ' to learn more about interactive tables.';\n",
              "          element.innerHTML = '';\n",
              "          dataTable['output_type'] = 'display_data';\n",
              "          await google.colab.output.renderOutput(dataTable, element);\n",
              "          const docLink = document.createElement('div');\n",
              "          docLink.innerHTML = docLinkHtml;\n",
              "          element.appendChild(docLink);\n",
              "        }\n",
              "      </script>\n",
              "    </div>\n",
              "  </div>\n",
              "  "
            ]
          },
          "metadata": {},
          "execution_count": 41
        }
      ]
    },
    {
      "cell_type": "code",
      "source": [
        "# 6.2\n",
        "doc(to.dataloaders)"
      ],
      "metadata": {
        "colab": {
          "base_uri": "https://localhost:8080/",
          "height": 174
        },
        "id": "BVH1Gux6nQz5",
        "outputId": "687d75dd-9a1a-4ba6-c520-bae0fb4b319b"
      },
      "execution_count": null,
      "outputs": [
        {
          "output_type": "display_data",
          "data": {
            "text/plain": [
              "<IPython.core.display.HTML object>"
            ],
            "text/html": [
              "<hr/>\n",
              "<h3>FilteredBase.dataloaders</h3>\n",
              "<blockquote><pre><code>FilteredBase.dataloaders(bs:int=64, shuffle_train:bool=None, shuffle:bool=True, val_shuffle:bool=False, n:int=None, path:Union[str,pathlib.Path]='.', dl_type:fastai.data.core.TfmdDL=None, dl_kwargs:list=None, device:torch.device=None, drop_last:bool=None, val_bs:int=None, after_batch=None, num_workers=0, verbose:bool=False, do_setup:bool=True, pin_memory=False, timeout=0, batch_size=None, indexed=None, persistent_workers=False, pin_memory_device='', wif=None, before_iter=None, after_item=None, before_batch=None, after_iter=None, create_batches=None, create_item=None, create_batch=None, retain=None, get_idxs=None, sample=None, shuffle_fn=None, do_batch=None)</code></pre></blockquote><p>Get a `DataLoaders`</p>\n",
              "<p><a href=\"https://docs.fast.ai/data.core.html#filteredbase.dataloaders\" target=\"_blank\" rel=\"noreferrer noopener\">Show in docs</a></p>"
            ]
          },
          "metadata": {}
        }
      ]
    },
    {
      "cell_type": "markdown",
      "source": [
        "What are DataLoaders?<br>\n",
        "DLs help you to investigate, clean, change and prepare you data before, during and after building your deep learning model."
      ],
      "metadata": {
        "id": "FuD7q4vwopbw"
      }
    },
    {
      "cell_type": "code",
      "source": [
        "# 6.3 Build our DataLoaders now:\n",
        "\n",
        "dls = to.dataloaders(bs=64)"
      ],
      "metadata": {
        "id": "dB6Vt6DM4Uwx"
      },
      "execution_count": null,
      "outputs": []
    },
    {
      "cell_type": "markdown",
      "source": [
        "### A bit about `dls` object\n",
        "Can be skipped"
      ],
      "metadata": {
        "id": "KoxGDVAI4XCY"
      }
    },
    {
      "cell_type": "code",
      "source": [
        "# 6.3.1 Get train/validation datasets\n",
        "x = dls.train_ds\n",
        "x   #  26049 rows x 16 columns\n",
        "print(\"\\n===========\\n\")\n",
        "y = dls.valid_ds\n",
        "y"
      ],
      "metadata": {
        "id": "O2CMZKDMjaLS",
        "colab": {
          "base_uri": "https://localhost:8080/"
        },
        "outputId": "619c8251-b822-4b14-977c-ef920bfe8a54"
      },
      "execution_count": null,
      "outputs": [
        {
          "output_type": "execute_result",
          "data": {
            "text/plain": [
              "            age  workclass    fnlwgt  education  education-num  \\\n",
              "30327 -0.918666          5 -1.491591         12      -0.418077   \n",
              "13990  0.472139          5 -0.173757         12      -0.418077   \n",
              "13707 -0.186664          5 -0.509551         12      -0.418077   \n",
              "510   -1.431068          5 -0.765847         16      -0.027513   \n",
              "31211  0.398938          5 -0.078054         10       1.144180   \n",
              "...         ...        ...       ...        ...            ...   \n",
              "5428  -1.284667          5  0.451365         16      -0.027513   \n",
              "2847  -0.845466          5  1.252537         12      -0.418077   \n",
              "12788 -0.625865          6 -1.141830         16      -0.027513   \n",
              "396    1.862943          7  0.604763         12      -0.418077   \n",
              "28311 -0.113463          5 -0.128497         12      -0.418077   \n",
              "\n",
              "       marital-status  occupation  relationship  race      sex  capital-gain  \\\n",
              "30327               3           2             6     5   Female             0   \n",
              "13990               3           8             1     5     Male             0   \n",
              "13707               3           8             1     5     Male             0   \n",
              "510                 5           2             4     5   Female             0   \n",
              "31211               3          11             1     5     Male             0   \n",
              "...               ...         ...           ...   ...      ...           ...   \n",
              "5428                5           9             4     5   Female             0   \n",
              "2847                5           9             2     5     Male             0   \n",
              "12788               3          13             1     5     Male             0   \n",
              "396                 7           0             3     5   Female             0   \n",
              "28311               3           6             1     5     Male             0   \n",
              "\n",
              "       capital-loss  hours-per-week  native-country  salary  education-num_na  \n",
              "30327             0              40   United-States       1                 1  \n",
              "13990             0              44   United-States       1                 1  \n",
              "13707             0              45   United-States       0                 1  \n",
              "510               0              15   United-States       0                 2  \n",
              "31211             0              50               ?       1                 1  \n",
              "...             ...             ...             ...     ...               ...  \n",
              "5428              0              25   United-States       0                 1  \n",
              "2847              0              40   United-States       0                 1  \n",
              "12788             0              50   United-States       0                 1  \n",
              "396               0              40   United-States       0                 1  \n",
              "28311             0              30   United-States       0                 1  \n",
              "\n",
              "[26049 rows x 16 columns]"
            ]
          },
          "metadata": {},
          "execution_count": 29
        },
        {
          "output_type": "stream",
          "name": "stdout",
          "text": [
            "\n",
            "===========\n",
            "\n"
          ]
        },
        {
          "output_type": "execute_result",
          "data": {
            "text/plain": [
              "            age  workclass    fnlwgt  education  education-num  \\\n",
              "29453  0.252538          5  1.440080         16      -0.027513   \n",
              "9597  -0.552665          5  0.675451         16      -0.027513   \n",
              "31232  3.180548          5 -0.532393         12      -0.418077   \n",
              "5120   0.032937          5 -0.763279         16      -0.027513   \n",
              "19592 -1.577468          5  3.558020          1      -1.589770   \n",
              "...         ...        ...       ...        ...            ...   \n",
              "13748 -0.552665          5 -0.190074         16      -0.027513   \n",
              "22917 -1.431068          1 -0.005977         16      -0.027513   \n",
              "11232  0.325738          5  0.021681         12      -0.418077   \n",
              "22626 -0.186664          3 -0.825469         10       1.144180   \n",
              "21520  0.252538          3  3.594667         10       1.144180   \n",
              "\n",
              "       marital-status  occupation  relationship  race      sex  capital-gain  \\\n",
              "29453               5           8             2     5   Female             0   \n",
              "9597                3          15             1     5     Male             0   \n",
              "31232               7           5             2     5   Female             0   \n",
              "5120                3           4             1     5     Male             0   \n",
              "19592               5           9             4     5     Male             0   \n",
              "...               ...         ...           ...   ...      ...           ...   \n",
              "13748               3          11             1     5     Male             0   \n",
              "22917               5           1             4     5   Female             0   \n",
              "11232               3           6             1     5     Male             0   \n",
              "22626               6          11             2     5     Male             0   \n",
              "21520               3           2             1     5     Male             0   \n",
              "\n",
              "       capital-loss  hours-per-week  native-country  salary  education-num_na  \n",
              "29453             0              40   United-States       0                 1  \n",
              "9597           1579              45     El-Salvador       0                 1  \n",
              "31232          4356              18   United-States       0                 1  \n",
              "5120              0              40   United-States       0                 1  \n",
              "19592             0               8   United-States       0                 1  \n",
              "...             ...             ...             ...     ...               ...  \n",
              "13748             0              50   United-States       0                 1  \n",
              "22917             0              25   United-States       0                 1  \n",
              "11232             0              40          Mexico       0                 1  \n",
              "22626             0              40   United-States       0                 1  \n",
              "21520             0              45   United-States       1                 1  \n",
              "\n",
              "[6512 rows x 16 columns]"
            ]
          },
          "metadata": {},
          "execution_count": 29
        }
      ]
    },
    {
      "cell_type": "code",
      "source": [
        "# 6.3.2\n",
        "type(x)"
      ],
      "metadata": {
        "colab": {
          "base_uri": "https://localhost:8080/"
        },
        "id": "yzeerYSV4rW3",
        "outputId": "78246230-0797-4896-dac5-b226a5973cae"
      },
      "execution_count": null,
      "outputs": [
        {
          "output_type": "execute_result",
          "data": {
            "text/plain": [
              "fastai.tabular.core.TabularPandas"
            ]
          },
          "metadata": {},
          "execution_count": 30
        }
      ]
    },
    {
      "cell_type": "code",
      "source": [
        "# 6.3.3 Show validation batch\n",
        "dls.valid.show_batch()"
      ],
      "metadata": {
        "id": "cmL_BqLZmSxc",
        "colab": {
          "base_uri": "https://localhost:8080/",
          "height": 678
        },
        "outputId": "8b7dd846-073c-4020-ef3b-5dce196705ed"
      },
      "execution_count": null,
      "outputs": [
        {
          "output_type": "display_data",
          "data": {
            "text/plain": [
              "<IPython.core.display.HTML object>"
            ],
            "text/html": [
              "<table border=\"1\" class=\"dataframe\">\n",
              "  <thead>\n",
              "    <tr style=\"text-align: right;\">\n",
              "      <th></th>\n",
              "      <th>workclass</th>\n",
              "      <th>education</th>\n",
              "      <th>marital-status</th>\n",
              "      <th>occupation</th>\n",
              "      <th>relationship</th>\n",
              "      <th>race</th>\n",
              "      <th>education-num_na</th>\n",
              "      <th>age</th>\n",
              "      <th>fnlwgt</th>\n",
              "      <th>education-num</th>\n",
              "      <th>salary</th>\n",
              "    </tr>\n",
              "  </thead>\n",
              "  <tbody>\n",
              "    <tr>\n",
              "      <th>0</th>\n",
              "      <td>Private</td>\n",
              "      <td>Some-college</td>\n",
              "      <td>Never-married</td>\n",
              "      <td>Machine-op-inspct</td>\n",
              "      <td>Not-in-family</td>\n",
              "      <td>White</td>\n",
              "      <td>False</td>\n",
              "      <td>42.000000</td>\n",
              "      <td>341756.994351</td>\n",
              "      <td>10.0</td>\n",
              "      <td>&lt;50k</td>\n",
              "    </tr>\n",
              "    <tr>\n",
              "      <th>1</th>\n",
              "      <td>Private</td>\n",
              "      <td>Some-college</td>\n",
              "      <td>Married-civ-spouse</td>\n",
              "      <td>Transport-moving</td>\n",
              "      <td>Husband</td>\n",
              "      <td>White</td>\n",
              "      <td>False</td>\n",
              "      <td>31.000000</td>\n",
              "      <td>260782.002244</td>\n",
              "      <td>10.0</td>\n",
              "      <td>&lt;50k</td>\n",
              "    </tr>\n",
              "    <tr>\n",
              "      <th>2</th>\n",
              "      <td>Private</td>\n",
              "      <td>HS-grad</td>\n",
              "      <td>Widowed</td>\n",
              "      <td>Exec-managerial</td>\n",
              "      <td>Not-in-family</td>\n",
              "      <td>White</td>\n",
              "      <td>False</td>\n",
              "      <td>82.000000</td>\n",
              "      <td>132869.998615</td>\n",
              "      <td>9.0</td>\n",
              "      <td>&lt;50k</td>\n",
              "    </tr>\n",
              "    <tr>\n",
              "      <th>3</th>\n",
              "      <td>Private</td>\n",
              "      <td>Some-college</td>\n",
              "      <td>Married-civ-spouse</td>\n",
              "      <td>Craft-repair</td>\n",
              "      <td>Husband</td>\n",
              "      <td>White</td>\n",
              "      <td>False</td>\n",
              "      <td>39.000000</td>\n",
              "      <td>108419.003062</td>\n",
              "      <td>10.0</td>\n",
              "      <td>&lt;50k</td>\n",
              "    </tr>\n",
              "    <tr>\n",
              "      <th>4</th>\n",
              "      <td>Private</td>\n",
              "      <td>10th</td>\n",
              "      <td>Never-married</td>\n",
              "      <td>Other-service</td>\n",
              "      <td>Own-child</td>\n",
              "      <td>White</td>\n",
              "      <td>False</td>\n",
              "      <td>16.999999</td>\n",
              "      <td>566048.993482</td>\n",
              "      <td>6.0</td>\n",
              "      <td>&lt;50k</td>\n",
              "    </tr>\n",
              "    <tr>\n",
              "      <th>5</th>\n",
              "      <td>Federal-gov</td>\n",
              "      <td>HS-grad</td>\n",
              "      <td>Married-civ-spouse</td>\n",
              "      <td>Adm-clerical</td>\n",
              "      <td>Husband</td>\n",
              "      <td>White</td>\n",
              "      <td>False</td>\n",
              "      <td>36.000000</td>\n",
              "      <td>67317.002328</td>\n",
              "      <td>9.0</td>\n",
              "      <td>&lt;50k</td>\n",
              "    </tr>\n",
              "    <tr>\n",
              "      <th>6</th>\n",
              "      <td>State-gov</td>\n",
              "      <td>Bachelors</td>\n",
              "      <td>Married-civ-spouse</td>\n",
              "      <td>Prof-specialty</td>\n",
              "      <td>Husband</td>\n",
              "      <td>White</td>\n",
              "      <td>False</td>\n",
              "      <td>40.000000</td>\n",
              "      <td>377017.994026</td>\n",
              "      <td>13.0</td>\n",
              "      <td>&gt;=50k</td>\n",
              "    </tr>\n",
              "    <tr>\n",
              "      <th>7</th>\n",
              "      <td>Self-emp-not-inc</td>\n",
              "      <td>HS-grad</td>\n",
              "      <td>Married-civ-spouse</td>\n",
              "      <td>Exec-managerial</td>\n",
              "      <td>Wife</td>\n",
              "      <td>White</td>\n",
              "      <td>False</td>\n",
              "      <td>43.000000</td>\n",
              "      <td>113210.999588</td>\n",
              "      <td>9.0</td>\n",
              "      <td>&lt;50k</td>\n",
              "    </tr>\n",
              "    <tr>\n",
              "      <th>8</th>\n",
              "      <td>Private</td>\n",
              "      <td>Some-college</td>\n",
              "      <td>Never-married</td>\n",
              "      <td>Sales</td>\n",
              "      <td>Own-child</td>\n",
              "      <td>White</td>\n",
              "      <td>False</td>\n",
              "      <td>23.000001</td>\n",
              "      <td>37783.005495</td>\n",
              "      <td>10.0</td>\n",
              "      <td>&lt;50k</td>\n",
              "    </tr>\n",
              "    <tr>\n",
              "      <th>9</th>\n",
              "      <td>Federal-gov</td>\n",
              "      <td>HS-grad</td>\n",
              "      <td>Married-civ-spouse</td>\n",
              "      <td>Adm-clerical</td>\n",
              "      <td>Husband</td>\n",
              "      <td>White</td>\n",
              "      <td>False</td>\n",
              "      <td>53.000000</td>\n",
              "      <td>68984.999512</td>\n",
              "      <td>9.0</td>\n",
              "      <td>&lt;50k</td>\n",
              "    </tr>\n",
              "  </tbody>\n",
              "</table>"
            ]
          },
          "metadata": {}
        }
      ]
    },
    {
      "cell_type": "code",
      "source": [
        "# 6.3.4 Show a batch (bs = 3)\n",
        "#  Batch has three observations\n",
        "#   List contains label encoded cat values---> For feeding them to embedding layers\n",
        "#    And tensor floats are numerical values-->For directly feeding to Dense layers\n",
        "#     Displayed batch is picked up randomy\n",
        "dls.one_batch()\n",
        "print(\"\\n=====\\n\")\n",
        "len(dls.one_batch())"
      ],
      "metadata": {
        "id": "vShDjH3TYrPR",
        "colab": {
          "base_uri": "https://localhost:8080/"
        },
        "outputId": "e03118e6-dc3c-4669-b5d2-f53fa099c573"
      },
      "execution_count": null,
      "outputs": [
        {
          "output_type": "execute_result",
          "data": {
            "text/plain": [
              "(tensor([[ 5, 16,  5,  9,  4,  5,  1],\n",
              "         [ 3, 16,  5, 12,  4,  5,  1],\n",
              "         [ 5, 12,  5,  2,  5,  5,  1],\n",
              "         [ 5, 10,  3, 11,  1,  5,  1],\n",
              "         [ 5, 16,  3, 11,  1,  5,  1],\n",
              "         [ 8, 10,  1,  5,  5,  3,  1],\n",
              "         [ 3, 16,  3, 12,  1,  5,  1],\n",
              "         [ 5, 16,  5,  9,  2,  5,  1],\n",
              "         [ 5,  3,  5, 13,  4,  5,  1],\n",
              "         [ 2, 16,  5,  9,  5,  3,  1],\n",
              "         [ 5, 12,  5, 13,  4,  5,  1],\n",
              "         [ 5, 16,  3, 11,  1,  5,  1],\n",
              "         [ 5,  5,  3,  9,  1,  5,  1],\n",
              "         [ 7, 16,  3,  8,  1,  5,  1],\n",
              "         [ 5, 10,  5,  2,  3,  2,  1],\n",
              "         [ 5, 12,  3,  0,  1,  5,  2],\n",
              "         [ 5, 12,  3,  9,  1,  5,  1],\n",
              "         [ 5, 10,  3,  5,  1,  5,  1],\n",
              "         [ 2, 12,  5,  2,  2,  5,  1],\n",
              "         [ 5, 12,  5,  9,  4,  5,  1],\n",
              "         [ 5,  2,  5, 13,  4,  5,  1],\n",
              "         [ 5,  7,  5,  9,  4,  5,  1],\n",
              "         [ 5, 16,  6, 13,  3,  3,  1],\n",
              "         [ 5,  1,  1, 11,  5,  5,  1],\n",
              "         [ 7, 12,  3,  4,  1,  5,  1],\n",
              "         [ 6, 12,  3,  5,  1,  5,  1],\n",
              "         [ 7, 12,  3,  9,  1,  5,  1],\n",
              "         [ 5, 12,  1,  4,  5,  5,  1],\n",
              "         [ 6, 13,  5,  9,  4,  5,  1],\n",
              "         [ 5, 16,  3,  5,  1,  5,  1],\n",
              "         [ 5,  9,  5, 14,  3,  5,  1],\n",
              "         [ 5, 13,  1,  5,  2,  5,  1],\n",
              "         [ 5, 12,  1,  9,  5,  3,  1],\n",
              "         [ 5, 10,  5,  5,  2,  5,  1],\n",
              "         [ 5, 12,  3, 12,  1,  5,  1],\n",
              "         [ 5, 12,  3,  8,  1,  5,  1],\n",
              "         [ 5, 10,  3, 11,  1,  5,  1],\n",
              "         [ 5,  3,  3, 15,  1,  5,  1],\n",
              "         [ 5, 12,  2,  2,  1,  5,  1],\n",
              "         [ 5, 16,  5,  2,  2,  5,  1],\n",
              "         [ 1, 16,  5,  1,  4,  5,  1],\n",
              "         [ 5, 12,  3,  8,  1,  5,  1],\n",
              "         [ 6, 16,  3, 13,  1,  5,  1],\n",
              "         [ 8, 12,  5,  5,  5,  3,  1],\n",
              "         [ 5, 16,  3,  6,  1,  5,  1],\n",
              "         [ 1,  8,  3,  1,  1,  5,  1],\n",
              "         [ 5, 12,  3,  8,  1,  5,  1],\n",
              "         [ 5, 11,  5,  8,  2,  5,  1],\n",
              "         [ 5, 12,  3,  2,  6,  5,  1],\n",
              "         [ 5, 12,  3, 12,  1,  5,  1],\n",
              "         [ 5, 16,  3, 13,  1,  5,  1],\n",
              "         [ 5, 12,  5,  9,  4,  5,  1],\n",
              "         [ 5,  9,  3,  4,  1,  5,  1],\n",
              "         [ 5,  8,  1,  5,  5,  3,  1],\n",
              "         [ 6, 10,  3,  5,  6,  2,  1],\n",
              "         [ 8, 11,  3, 11,  1,  5,  1],\n",
              "         [ 8, 15,  5, 11,  5,  5,  1],\n",
              "         [ 5, 12,  3,  8,  1,  3,  1],\n",
              "         [ 5, 12,  3, 15,  1,  5,  1],\n",
              "         [ 5, 10,  3, 13,  1,  5,  1],\n",
              "         [ 2, 16,  5, 12,  4,  5,  1],\n",
              "         [ 3,  6,  3,  9,  1,  5,  1],\n",
              "         [ 5,  1,  5,  9,  2,  5,  1],\n",
              "         [ 5,  2,  5,  9,  4,  5,  1]]),\n",
              " tensor([[-1.5043e+00,  2.2365e-01, -2.7513e-02],\n",
              "         [-1.3579e+00, -2.8423e-03, -2.7513e-02],\n",
              "         [-1.0651e+00,  1.1736e-01, -4.1808e-01],\n",
              "         [-6.9907e-01,  2.4084e+00,  1.1442e+00],\n",
              "         [ 4.7214e-01,  5.9327e-01, -2.7513e-02],\n",
              "         [ 1.2041e+00,  6.3346e-01,  1.1442e+00],\n",
              "         [ 6.1854e-01, -1.3000e+00, -2.7513e-02],\n",
              "         [-8.4547e-01, -3.1982e-01, -2.7513e-02],\n",
              "         [-1.5043e+00,  7.2743e-01, -8.0864e-01],\n",
              "         [-2.5986e-01, -3.3633e-01, -2.7513e-02],\n",
              "         [-1.4311e+00, -2.6855e-01, -4.1808e-01],\n",
              "         [ 1.5701e+00,  8.8452e-01, -2.7513e-02],\n",
              "         [-1.2847e+00,  4.6899e-01, -2.7615e+00],\n",
              "         [-5.5266e-01,  1.5099e+00, -2.7513e-02],\n",
              "         [-1.0651e+00, -9.6794e-01,  1.1442e+00],\n",
              "         [-9.9187e-01,  1.1179e+00, -2.7513e-02],\n",
              "         [-1.1383e+00,  4.1983e-01, -4.1808e-01],\n",
              "         [ 2.5254e-01,  1.1534e-01,  1.1442e+00],\n",
              "         [ 1.3505e+00,  1.7152e+00, -4.1808e-01],\n",
              "         [-7.7227e-01, -2.0079e-01, -4.1808e-01],\n",
              "         [-1.5775e+00, -1.0974e-01, -1.1992e+00],\n",
              "         [-5.5266e-01,  1.0382e-01, -1.9803e+00],\n",
              "         [-9.1867e-01,  6.8014e-01, -2.7513e-02],\n",
              "         [ 1.7165e+00, -9.2367e-01, -1.5898e+00],\n",
              "         [ 2.5254e-01, -6.3770e-01, -4.1808e-01],\n",
              "         [-4.0263e-02,  6.7251e-02, -4.1808e-01],\n",
              "         [ 3.0341e+00,  3.4599e-01, -4.1808e-01],\n",
              "         [ 1.0614e-01, -1.0635e+00, -4.1808e-01],\n",
              "         [ 1.0614e-01, -8.0279e-01,  1.5347e+00],\n",
              "         [ 3.9894e-01, -3.9646e-01, -2.7513e-02],\n",
              "         [-8.4547e-01, -5.6300e-01,  3.6305e-01],\n",
              "         [ 8.3814e-01, -1.3418e-02,  1.5347e+00],\n",
              "         [ 7.6494e-01,  2.0194e+00, -4.1808e-01],\n",
              "         [-9.1867e-01,  2.4677e-01,  1.1442e+00],\n",
              "         [ 6.1854e-01, -7.2199e-01, -4.1808e-01],\n",
              "         [ 4.7214e-01,  2.1922e+00, -4.1808e-01],\n",
              "         [ 3.2937e-02, -3.9206e-02,  1.1442e+00],\n",
              "         [ 3.2937e-02,  1.2549e+00, -8.0864e-01],\n",
              "         [-6.2587e-01,  1.9790e+00, -4.1808e-01],\n",
              "         [-8.4547e-01,  3.4032e-01, -2.7513e-02],\n",
              "         [-1.4311e+00, -1.3579e-01, -2.7513e-02],\n",
              "         [-1.8666e-01, -8.5084e-01, -4.1808e-01],\n",
              "         [ 1.6433e+00, -5.1447e-01, -2.7513e-02],\n",
              "         [-1.8666e-01,  2.3478e+00, -4.1808e-01],\n",
              "         [-3.3306e-01, -8.4673e-02, -2.7513e-02],\n",
              "         [ 3.0341e+00,  8.7362e-01,  7.5362e-01],\n",
              "         [ 1.2773e+00,  3.4164e-02, -4.1808e-01],\n",
              "         [ 1.7934e-01, -6.7450e-02,  2.3159e+00],\n",
              "         [ 1.0614e-01,  3.5178e-01, -4.1808e-01],\n",
              "         [ 5.4534e-01, -1.2402e+00, -4.1808e-01],\n",
              "         [ 1.1309e+00, -5.3257e-02, -2.7513e-02],\n",
              "         [-1.4311e+00, -1.2170e+00, -4.1808e-01],\n",
              "         [ 1.2041e+00, -4.3423e-01,  3.6305e-01],\n",
              "         [ 1.7934e-01, -7.8020e-01,  7.5362e-01],\n",
              "         [ 9.1134e-01, -2.1591e-01,  1.1442e+00],\n",
              "         [-4.0263e-02, -8.0236e-01,  2.3159e+00],\n",
              "         [-7.7227e-01,  3.4611e-01,  1.9253e+00],\n",
              "         [ 9.1134e-01,  2.1344e+00, -4.1808e-01],\n",
              "         [ 1.7165e+00,  2.7156e-01, -4.1808e-01],\n",
              "         [-5.5266e-01,  3.5783e-01,  1.1442e+00],\n",
              "         [ 1.7934e-01, -1.2401e+00, -2.7513e-02],\n",
              "         [-4.7946e-01, -1.3213e+00, -2.3709e+00],\n",
              "         [-1.5775e+00,  7.2540e-01, -1.5898e+00],\n",
              "         [-1.5043e+00, -1.4167e+00, -1.1992e+00]]),\n",
              " tensor([[0],\n",
              "         [0],\n",
              "         [0],\n",
              "         [1],\n",
              "         [1],\n",
              "         [0],\n",
              "         [0],\n",
              "         [0],\n",
              "         [0],\n",
              "         [0],\n",
              "         [0],\n",
              "         [1],\n",
              "         [0],\n",
              "         [0],\n",
              "         [0],\n",
              "         [0],\n",
              "         [0],\n",
              "         [1],\n",
              "         [0],\n",
              "         [0],\n",
              "         [0],\n",
              "         [0],\n",
              "         [0],\n",
              "         [0],\n",
              "         [0],\n",
              "         [1],\n",
              "         [0],\n",
              "         [0],\n",
              "         [0],\n",
              "         [1],\n",
              "         [0],\n",
              "         [1],\n",
              "         [0],\n",
              "         [0],\n",
              "         [0],\n",
              "         [1],\n",
              "         [1],\n",
              "         [1],\n",
              "         [0],\n",
              "         [0],\n",
              "         [0],\n",
              "         [1],\n",
              "         [0],\n",
              "         [0],\n",
              "         [1],\n",
              "         [0],\n",
              "         [1],\n",
              "         [1],\n",
              "         [1],\n",
              "         [0],\n",
              "         [0],\n",
              "         [0],\n",
              "         [1],\n",
              "         [0],\n",
              "         [0],\n",
              "         [1],\n",
              "         [0],\n",
              "         [1],\n",
              "         [1],\n",
              "         [1],\n",
              "         [0],\n",
              "         [0],\n",
              "         [0],\n",
              "         [0]], dtype=torch.int8))"
            ]
          },
          "metadata": {},
          "execution_count": 32
        },
        {
          "output_type": "stream",
          "name": "stdout",
          "text": [
            "\n",
            "=====\n",
            "\n"
          ]
        },
        {
          "output_type": "execute_result",
          "data": {
            "text/plain": [
              "3"
            ]
          },
          "metadata": {},
          "execution_count": 32
        }
      ]
    },
    {
      "cell_type": "code",
      "source": [
        "# 6.3.5 Same batch as above but actual values are shown:\n",
        "##       Displayed batch is picked up randomly\n",
        "dls.show_batch()"
      ],
      "metadata": {
        "id": "b_X-9MXTdUeb",
        "colab": {
          "base_uri": "https://localhost:8080/",
          "height": 660
        },
        "outputId": "cae8a624-4724-4c06-a9d7-497ccf56c0eb"
      },
      "execution_count": null,
      "outputs": [
        {
          "output_type": "display_data",
          "data": {
            "text/plain": [
              "<IPython.core.display.HTML object>"
            ],
            "text/html": [
              "<table border=\"1\" class=\"dataframe\">\n",
              "  <thead>\n",
              "    <tr style=\"text-align: right;\">\n",
              "      <th></th>\n",
              "      <th>workclass</th>\n",
              "      <th>education</th>\n",
              "      <th>marital-status</th>\n",
              "      <th>occupation</th>\n",
              "      <th>relationship</th>\n",
              "      <th>race</th>\n",
              "      <th>education-num_na</th>\n",
              "      <th>age</th>\n",
              "      <th>fnlwgt</th>\n",
              "      <th>education-num</th>\n",
              "      <th>salary</th>\n",
              "    </tr>\n",
              "  </thead>\n",
              "  <tbody>\n",
              "    <tr>\n",
              "      <th>0</th>\n",
              "      <td>Private</td>\n",
              "      <td>Bachelors</td>\n",
              "      <td>Never-married</td>\n",
              "      <td>Tech-support</td>\n",
              "      <td>Unmarried</td>\n",
              "      <td>White</td>\n",
              "      <td>False</td>\n",
              "      <td>25.0</td>\n",
              "      <td>213411.999484</td>\n",
              "      <td>13.0</td>\n",
              "      <td>&lt;50k</td>\n",
              "    </tr>\n",
              "    <tr>\n",
              "      <th>1</th>\n",
              "      <td>State-gov</td>\n",
              "      <td>Assoc-voc</td>\n",
              "      <td>Married-civ-spouse</td>\n",
              "      <td>Tech-support</td>\n",
              "      <td>Husband</td>\n",
              "      <td>White</td>\n",
              "      <td>False</td>\n",
              "      <td>47.0</td>\n",
              "      <td>187580.999992</td>\n",
              "      <td>11.0</td>\n",
              "      <td>&gt;=50k</td>\n",
              "    </tr>\n",
              "    <tr>\n",
              "      <th>2</th>\n",
              "      <td>Private</td>\n",
              "      <td>HS-grad</td>\n",
              "      <td>Married-civ-spouse</td>\n",
              "      <td>Adm-clerical</td>\n",
              "      <td>Wife</td>\n",
              "      <td>White</td>\n",
              "      <td>False</td>\n",
              "      <td>43.0</td>\n",
              "      <td>178866.000137</td>\n",
              "      <td>9.0</td>\n",
              "      <td>&gt;=50k</td>\n",
              "    </tr>\n",
              "    <tr>\n",
              "      <th>3</th>\n",
              "      <td>Private</td>\n",
              "      <td>12th</td>\n",
              "      <td>Never-married</td>\n",
              "      <td>Craft-repair</td>\n",
              "      <td>Own-child</td>\n",
              "      <td>White</td>\n",
              "      <td>False</td>\n",
              "      <td>20.0</td>\n",
              "      <td>224237.998704</td>\n",
              "      <td>8.0</td>\n",
              "      <td>&lt;50k</td>\n",
              "    </tr>\n",
              "    <tr>\n",
              "      <th>4</th>\n",
              "      <td>?</td>\n",
              "      <td>Some-college</td>\n",
              "      <td>Married-civ-spouse</td>\n",
              "      <td>?</td>\n",
              "      <td>Husband</td>\n",
              "      <td>White</td>\n",
              "      <td>False</td>\n",
              "      <td>43.0</td>\n",
              "      <td>116632.000268</td>\n",
              "      <td>10.0</td>\n",
              "      <td>&gt;=50k</td>\n",
              "    </tr>\n",
              "    <tr>\n",
              "      <th>5</th>\n",
              "      <td>Private</td>\n",
              "      <td>9th</td>\n",
              "      <td>Married-civ-spouse</td>\n",
              "      <td>Transport-moving</td>\n",
              "      <td>Husband</td>\n",
              "      <td>White</td>\n",
              "      <td>False</td>\n",
              "      <td>63.0</td>\n",
              "      <td>100099.001548</td>\n",
              "      <td>5.0</td>\n",
              "      <td>&lt;50k</td>\n",
              "    </tr>\n",
              "    <tr>\n",
              "      <th>6</th>\n",
              "      <td>Private</td>\n",
              "      <td>11th</td>\n",
              "      <td>Married-civ-spouse</td>\n",
              "      <td>Machine-op-inspct</td>\n",
              "      <td>Husband</td>\n",
              "      <td>White</td>\n",
              "      <td>False</td>\n",
              "      <td>51.0</td>\n",
              "      <td>41805.993775</td>\n",
              "      <td>7.0</td>\n",
              "      <td>&lt;50k</td>\n",
              "    </tr>\n",
              "    <tr>\n",
              "      <th>7</th>\n",
              "      <td>Private</td>\n",
              "      <td>Bachelors</td>\n",
              "      <td>Never-married</td>\n",
              "      <td>#na#</td>\n",
              "      <td>Not-in-family</td>\n",
              "      <td>White</td>\n",
              "      <td>True</td>\n",
              "      <td>36.0</td>\n",
              "      <td>188539.999991</td>\n",
              "      <td>10.0</td>\n",
              "      <td>&lt;50k</td>\n",
              "    </tr>\n",
              "    <tr>\n",
              "      <th>8</th>\n",
              "      <td>Private</td>\n",
              "      <td>Some-college</td>\n",
              "      <td>Divorced</td>\n",
              "      <td>Handlers-cleaners</td>\n",
              "      <td>Not-in-family</td>\n",
              "      <td>White</td>\n",
              "      <td>False</td>\n",
              "      <td>32.0</td>\n",
              "      <td>388671.995254</td>\n",
              "      <td>10.0</td>\n",
              "      <td>&lt;50k</td>\n",
              "    </tr>\n",
              "    <tr>\n",
              "      <th>9</th>\n",
              "      <td>Local-gov</td>\n",
              "      <td>HS-grad</td>\n",
              "      <td>Separated</td>\n",
              "      <td>Other-service</td>\n",
              "      <td>Own-child</td>\n",
              "      <td>White</td>\n",
              "      <td>False</td>\n",
              "      <td>33.0</td>\n",
              "      <td>256528.997626</td>\n",
              "      <td>9.0</td>\n",
              "      <td>&lt;50k</td>\n",
              "    </tr>\n",
              "  </tbody>\n",
              "</table>"
            ]
          },
          "metadata": {}
        }
      ]
    },
    {
      "cell_type": "markdown",
      "source": [
        "## LEarn now"
      ],
      "metadata": {
        "id": "kgr2Wr3X5Fi6"
      }
    },
    {
      "cell_type": "markdown",
      "source": [
        "[Tabular Learner](https://docs.fast.ai/tabular.learner.html)"
      ],
      "metadata": {
        "id": "uThHVQdn9cQw"
      }
    },
    {
      "cell_type": "code",
      "source": [
        "# 7.0\n",
        "#learn = tabular_learner(dls, [30,50,10], metrics=accuracy)\n",
        "learn = tabular_learner(dls,   metrics=[accuracy])"
      ],
      "metadata": {
        "id": "h6YuOmH5exdT"
      },
      "execution_count": null,
      "outputs": []
    },
    {
      "cell_type": "code",
      "source": [
        "# To get help on tabular_learner\n",
        "doc(tabular_learner)"
      ],
      "metadata": {
        "id": "WIwvVfjfHhIp",
        "outputId": "f5d3b2ef-38c2-4709-a193-fac2f972eef7",
        "colab": {
          "base_uri": "https://localhost:8080/",
          "height": 175
        }
      },
      "execution_count": null,
      "outputs": [
        {
          "output_type": "display_data",
          "data": {
            "text/plain": [
              "<IPython.core.display.HTML object>"
            ],
            "text/html": [
              "<hr/>\n",
              "<h3>tabular_learner</h3>\n",
              "<blockquote><pre><code>tabular_learner(dls:fastai.tabular.data.TabularDataLoaders, layers:list=None, emb_szs:list=None, config:dict=None, n_out:int=None, y_range:Tuple[float,float]=None, loss_func:Union[<built-infunctioncallable>,NoneType]=None, opt_func=<function Adam>, lr=0.001, splitter:<built-infunctioncallable>=<function trainable_params>, cbs=None, metrics=None, path=None, model_dir='models', wd=None, wd_bn_bias=False, train_bn=True, moms=(0.95, 0.85, 0.95), default_cbs:bool=True)</code></pre></blockquote><p>Get a `Learner` using `dls`, with `metrics`, including a `TabularModel` created using the remaining params.</p>\n",
              "<p><a href=\"https://docs.fast.ai/tabular.learner.html#tabular_learner\" target=\"_blank\" rel=\"noreferrer noopener\">Show in docs</a></p>"
            ]
          },
          "metadata": {}
        }
      ]
    },
    {
      "cell_type": "code",
      "source": [
        "doc(learn.lr_find)"
      ],
      "metadata": {
        "id": "jmZij3FOHvM9",
        "outputId": "623d248c-3939-4e4b-c086-16153c76bd32",
        "colab": {
          "base_uri": "https://localhost:8080/",
          "height": 155
        }
      },
      "execution_count": null,
      "outputs": [
        {
          "output_type": "display_data",
          "data": {
            "text/plain": [
              "<IPython.core.display.HTML object>"
            ],
            "text/html": [
              "<hr/>\n",
              "<h3>Learner.lr_find</h3>\n",
              "<blockquote><pre><code>Learner.lr_find(start_lr=1e-07, end_lr=10, num_it=100, stop_div=True, show_plot=True, suggest_funcs=<function valley>)</code></pre></blockquote><p>Launch a mock training to find a good learning rate and return suggestions based on `suggest_funcs` as a named tuple</p>\n",
              "<p><a href=\"https://docs.fast.ai/callback.schedule.html#learner.lr_find\" target=\"_blank\" rel=\"noreferrer noopener\">Show in docs</a></p>"
            ]
          },
          "metadata": {}
        }
      ]
    },
    {
      "cell_type": "code",
      "source": [
        "# 7.1 select the appropriate learning rate\n",
        "#       we typically find the point where the slope is steepest\n",
        "learn.lr_find()"
      ],
      "metadata": {
        "id": "lkZm1craEJh1"
      },
      "execution_count": null,
      "outputs": []
    },
    {
      "cell_type": "markdown",
      "source": [
        "See [this StackOverflow answer](https://stackoverflow.com/a/62986041) as to why the suggested lr is not 0.1 but 0.002."
      ],
      "metadata": {
        "id": "m8B27Hsfrt1t"
      }
    },
    {
      "cell_type": "code",
      "source": [
        "# 7.2\n",
        "lr_steepest = learn.lr_find()\n",
        "\n",
        "lr_steepest"
      ],
      "metadata": {
        "colab": {
          "base_uri": "https://localhost:8080/",
          "height": 300
        },
        "id": "q_Mgm9QJrIzh",
        "outputId": "a63d6947-8763-4f80-ac32-f40a796d38d7"
      },
      "execution_count": null,
      "outputs": [
        {
          "output_type": "display_data",
          "data": {
            "text/plain": [
              "<IPython.core.display.HTML object>"
            ],
            "text/html": [
              "\n",
              "<style>\n",
              "    /* Turns off some styling */\n",
              "    progress {\n",
              "        /* gets rid of default border in Firefox and Opera. */\n",
              "        border: none;\n",
              "        /* Needs to be in here for Safari polyfill so background images work as expected. */\n",
              "        background-size: auto;\n",
              "    }\n",
              "    progress:not([value]), progress:not([value])::-webkit-progress-bar {\n",
              "        background: repeating-linear-gradient(45deg, #7e7e7e, #7e7e7e 10px, #5c5c5c 10px, #5c5c5c 20px);\n",
              "    }\n",
              "    .progress-bar-interrupted, .progress-bar-interrupted::-webkit-progress-bar {\n",
              "        background: #F44336;\n",
              "    }\n",
              "</style>\n"
            ]
          },
          "metadata": {}
        },
        {
          "output_type": "display_data",
          "data": {
            "text/plain": [
              "<IPython.core.display.HTML object>"
            ],
            "text/html": []
          },
          "metadata": {}
        },
        {
          "output_type": "execute_result",
          "data": {
            "text/plain": [
              "SuggestedLRs(valley=0.0030199517495930195)"
            ]
          },
          "metadata": {},
          "execution_count": 173
        },
        {
          "output_type": "display_data",
          "data": {
            "text/plain": [
              "<Figure size 432x288 with 1 Axes>"
            ],
            "image/png": "[encoded data removed]"
          },
          "metadata": {
            "needs_background": "light"
          }
        }
      ]
    },
    {
      "cell_type": "markdown",
      "source": [
        "## Our model"
      ],
      "metadata": {
        "id": "MK1wkxLgEyhD"
      }
    },
    {
      "cell_type": "markdown",
      "source": [
        "### Embedding layers\n",
        "Embedding layer has one more class than it actually exist in the categorical feature. For explanation, see [here](https://forums.fast.ai/t/embedding-layer-has-one-more-row-than-expected/39240)."
      ],
      "metadata": {
        "id": "WERbIp4ZTEzg"
      }
    },
    {
      "cell_type": "code",
      "source": [
        "# 8.0 Get no of unique values in each cat feature:\n",
        "for i in cat_names :\n",
        "  n = df[i].nunique()\n",
        "  print(f\"No of unique values in {i} are {n}\")"
      ],
      "metadata": {
        "id": "j49v_SOmQc5G",
        "outputId": "64438510-893a-4702-bb56-d4aade57dce1",
        "colab": {
          "base_uri": "https://localhost:8080/"
        }
      },
      "execution_count": null,
      "outputs": [
        {
          "output_type": "stream",
          "name": "stdout",
          "text": [
            "No of unique values in workclass are 9\n",
            "No of unique values in education are 16\n",
            "No of unique values in marital-status are 7\n",
            "No of unique values in occupation are 15\n",
            "No of unique values in relationship are 6\n",
            "No of unique values in race are 5\n"
          ]
        }
      ]
    },
    {
      "cell_type": "code",
      "source": [
        "# 8.1 Total size of word-2-vectors: [6+8+5+8+5+4+3] = 39\n",
        "learn.embeds"
      ],
      "metadata": {
        "colab": {
          "base_uri": "https://localhost:8080/"
        },
        "id": "vIxfL8-bKDlu",
        "outputId": "9bca7d56-7185-431f-f90f-38d08ce5b381"
      },
      "execution_count": null,
      "outputs": [
        {
          "output_type": "execute_result",
          "data": {
            "text/plain": [
              "ModuleList(\n",
              "  (0): Embedding(10, 6)\n",
              "  (1): Embedding(17, 8)\n",
              "  (2): Embedding(8, 5)\n",
              "  (3): Embedding(16, 8)\n",
              "  (4): Embedding(7, 5)\n",
              "  (5): Embedding(6, 4)\n",
              "  (6): Embedding(3, 3)\n",
              ")"
            ]
          },
          "metadata": {},
          "execution_count": 134
        }
      ]
    },
    {
      "cell_type": "markdown",
      "source": [
        "### Complete model"
      ],
      "metadata": {
        "id": "f4Q1Ob2hUaNl"
      }
    },
    {
      "cell_type": "code",
      "source": [
        "# 8.2 Complete model\n",
        "learn.model"
      ],
      "metadata": {
        "id": "mTKypJgoDfsR",
        "colab": {
          "base_uri": "https://localhost:8080/"
        },
        "outputId": "d2e84c1b-844d-48da-e6ec-46be66e294b1"
      },
      "execution_count": null,
      "outputs": [
        {
          "output_type": "execute_result",
          "data": {
            "text/plain": [
              "TabularModel(\n",
              "  (embeds): ModuleList(\n",
              "    (0): Embedding(10, 6)\n",
              "    (1): Embedding(17, 8)\n",
              "    (2): Embedding(8, 5)\n",
              "    (3): Embedding(16, 8)\n",
              "    (4): Embedding(7, 5)\n",
              "    (5): Embedding(6, 4)\n",
              "    (6): Embedding(3, 3)\n",
              "  )\n",
              "  (emb_drop): Dropout(p=0.0, inplace=False)\n",
              "  (bn_cont): BatchNorm1d(3, eps=1e-05, momentum=0.1, affine=True, track_running_stats=True)\n",
              "  (layers): Sequential(\n",
              "    (0): LinBnDrop(\n",
              "      (0): Linear(in_features=42, out_features=200, bias=False)\n",
              "      (1): ReLU(inplace=True)\n",
              "      (2): BatchNorm1d(200, eps=1e-05, momentum=0.1, affine=True, track_running_stats=True)\n",
              "    )\n",
              "    (1): LinBnDrop(\n",
              "      (0): Linear(in_features=200, out_features=100, bias=False)\n",
              "      (1): ReLU(inplace=True)\n",
              "      (2): BatchNorm1d(100, eps=1e-05, momentum=0.1, affine=True, track_running_stats=True)\n",
              "    )\n",
              "    (2): LinBnDrop(\n",
              "      (0): Linear(in_features=100, out_features=50, bias=False)\n",
              "      (1): ReLU(inplace=True)\n",
              "      (2): BatchNorm1d(50, eps=1e-05, momentum=0.1, affine=True, track_running_stats=True)\n",
              "    )\n",
              "    (3): LinBnDrop(\n",
              "      (0): Linear(in_features=50, out_features=2, bias=True)\n",
              "    )\n",
              "  )\n",
              ")"
            ]
          },
          "metadata": {},
          "execution_count": 137
        }
      ]
    },
    {
      "cell_type": "markdown",
      "source": [
        "### Other extras!"
      ],
      "metadata": {
        "id": "-FHRY1TXUfbO"
      }
    },
    {
      "cell_type": "code",
      "source": [
        "# 8.3 Drop outs in embedding layers\n",
        "learn.emb_drop"
      ],
      "metadata": {
        "colab": {
          "base_uri": "https://localhost:8080/"
        },
        "id": "Fpy7TYT3Di2h",
        "outputId": "ba12bd39-b8a6-4ff5-df98-f8851294ff06"
      },
      "execution_count": null,
      "outputs": [
        {
          "output_type": "execute_result",
          "data": {
            "text/plain": [
              "Dropout(p=0.0, inplace=False)"
            ]
          },
          "metadata": {},
          "execution_count": 177
        }
      ]
    },
    {
      "cell_type": "code",
      "source": [
        "# 8.4 Batch Normalization layer\n",
        "learn.bn_cont"
      ],
      "metadata": {
        "colab": {
          "base_uri": "https://localhost:8080/"
        },
        "id": "Ifre3BZbDoHJ",
        "outputId": "712627bc-f795-4cd5-81c2-598aad56c005"
      },
      "execution_count": null,
      "outputs": [
        {
          "output_type": "execute_result",
          "data": {
            "text/plain": [
              "BatchNorm1d(3, eps=1e-05, momentum=0.1, affine=True, track_running_stats=True)"
            ]
          },
          "metadata": {},
          "execution_count": 140
        }
      ]
    },
    {
      "cell_type": "code",
      "source": [
        "# 8.5 Model layers:\n",
        "learn.layers"
      ],
      "metadata": {
        "colab": {
          "base_uri": "https://localhost:8080/"
        },
        "id": "_ilf3FJdCuRi",
        "outputId": "fb262c2e-eb1a-4d87-aff6-8f2306a1d36b"
      },
      "execution_count": null,
      "outputs": [
        {
          "output_type": "execute_result",
          "data": {
            "text/plain": [
              "Sequential(\n",
              "  (0): LinBnDrop(\n",
              "    (0): Linear(in_features=42, out_features=200, bias=False)\n",
              "    (1): ReLU(inplace=True)\n",
              "    (2): BatchNorm1d(200, eps=1e-05, momentum=0.1, affine=True, track_running_stats=True)\n",
              "  )\n",
              "  (1): LinBnDrop(\n",
              "    (0): Linear(in_features=200, out_features=100, bias=False)\n",
              "    (1): ReLU(inplace=True)\n",
              "    (2): BatchNorm1d(100, eps=1e-05, momentum=0.1, affine=True, track_running_stats=True)\n",
              "  )\n",
              "  (2): LinBnDrop(\n",
              "    (0): Linear(in_features=100, out_features=2, bias=True)\n",
              "  )\n",
              ")"
            ]
          },
          "metadata": {},
          "execution_count": 141
        }
      ]
    },
    {
      "cell_type": "markdown",
      "source": [
        "And we can train that model with the `fit_one_cycle` method (the `fine_tune` method won’t be useful here since we don’t have a pretrained model)."
      ],
      "metadata": {
        "id": "ycc8lkDbe3oi"
      }
    },
    {
      "cell_type": "markdown",
      "source": [
        "## Train the model"
      ],
      "metadata": {
        "id": "MsvGwEeMUrIP"
      }
    },
    {
      "cell_type": "code",
      "source": [
        "# 9.0 Less the batch_size (bs), more the time:\n",
        "#     On slice(), see this discussion:\n",
        "#      https://forums.fast.ai/t/what-does-the-slice-lr-mean-in-fit-one-cycle/60896/6\n",
        "\n",
        "learn.fit_one_cycle(10, slice(2e-03, 2e-02))"
      ],
      "metadata": {
        "colab": {
          "base_uri": "https://localhost:8080/",
          "height": 363
        },
        "id": "YbDRmy90fBzE",
        "outputId": "99b4ca8c-fa09-4a0e-ed22-f8d0f8fae348"
      },
      "execution_count": null,
      "outputs": [
        {
          "output_type": "display_data",
          "data": {
            "text/plain": [
              "<IPython.core.display.HTML object>"
            ],
            "text/html": [
              "\n",
              "<style>\n",
              "    /* Turns off some styling */\n",
              "    progress {\n",
              "        /* gets rid of default border in Firefox and Opera. */\n",
              "        border: none;\n",
              "        /* Needs to be in here for Safari polyfill so background images work as expected. */\n",
              "        background-size: auto;\n",
              "    }\n",
              "    progress:not([value]), progress:not([value])::-webkit-progress-bar {\n",
              "        background: repeating-linear-gradient(45deg, #7e7e7e, #7e7e7e 10px, #5c5c5c 10px, #5c5c5c 20px);\n",
              "    }\n",
              "    .progress-bar-interrupted, .progress-bar-interrupted::-webkit-progress-bar {\n",
              "        background: #F44336;\n",
              "    }\n",
              "</style>\n"
            ]
          },
          "metadata": {}
        },
        {
          "output_type": "display_data",
          "data": {
            "text/plain": [
              "<IPython.core.display.HTML object>"
            ],
            "text/html": [
              "<table border=\"1\" class=\"dataframe\">\n",
              "  <thead>\n",
              "    <tr style=\"text-align: left;\">\n",
              "      <th>epoch</th>\n",
              "      <th>train_loss</th>\n",
              "      <th>valid_loss</th>\n",
              "      <th>accuracy</th>\n",
              "      <th>time</th>\n",
              "    </tr>\n",
              "  </thead>\n",
              "  <tbody>\n",
              "    <tr>\n",
              "      <td>0</td>\n",
              "      <td>0.377460</td>\n",
              "      <td>0.369441</td>\n",
              "      <td>0.823556</td>\n",
              "      <td>00:05</td>\n",
              "    </tr>\n",
              "    <tr>\n",
              "      <td>1</td>\n",
              "      <td>0.370105</td>\n",
              "      <td>0.371823</td>\n",
              "      <td>0.823096</td>\n",
              "      <td>00:05</td>\n",
              "    </tr>\n",
              "    <tr>\n",
              "      <td>2</td>\n",
              "      <td>0.357649</td>\n",
              "      <td>0.372602</td>\n",
              "      <td>0.824939</td>\n",
              "      <td>00:05</td>\n",
              "    </tr>\n",
              "    <tr>\n",
              "      <td>3</td>\n",
              "      <td>0.361205</td>\n",
              "      <td>0.361363</td>\n",
              "      <td>0.829392</td>\n",
              "      <td>00:04</td>\n",
              "    </tr>\n",
              "    <tr>\n",
              "      <td>4</td>\n",
              "      <td>0.362189</td>\n",
              "      <td>0.359667</td>\n",
              "      <td>0.830774</td>\n",
              "      <td>00:05</td>\n",
              "    </tr>\n",
              "    <tr>\n",
              "      <td>5</td>\n",
              "      <td>0.340443</td>\n",
              "      <td>0.361201</td>\n",
              "      <td>0.829238</td>\n",
              "      <td>00:05</td>\n",
              "    </tr>\n",
              "    <tr>\n",
              "      <td>6</td>\n",
              "      <td>0.355626</td>\n",
              "      <td>0.358775</td>\n",
              "      <td>0.829545</td>\n",
              "      <td>00:05</td>\n",
              "    </tr>\n",
              "    <tr>\n",
              "      <td>7</td>\n",
              "      <td>0.350752</td>\n",
              "      <td>0.358950</td>\n",
              "      <td>0.832002</td>\n",
              "      <td>00:05</td>\n",
              "    </tr>\n",
              "    <tr>\n",
              "      <td>8</td>\n",
              "      <td>0.349298</td>\n",
              "      <td>0.356537</td>\n",
              "      <td>0.833538</td>\n",
              "      <td>00:05</td>\n",
              "    </tr>\n",
              "    <tr>\n",
              "      <td>9</td>\n",
              "      <td>0.345284</td>\n",
              "      <td>0.357390</td>\n",
              "      <td>0.832156</td>\n",
              "      <td>00:05</td>\n",
              "    </tr>\n",
              "  </tbody>\n",
              "</table>"
            ]
          },
          "metadata": {}
        }
      ]
    },
    {
      "cell_type": "markdown",
      "source": [
        "## Make predictions"
      ],
      "metadata": {
        "id": "fRneyzk55PKH"
      }
    },
    {
      "cell_type": "markdown",
      "source": [
        "### Directly from a DataFrame"
      ],
      "metadata": {
        "id": "hHcgWKgw_kXA"
      }
    },
    {
      "cell_type": "code",
      "source": [
        "# 10.0 We can then have a look at some predictions:\n",
        "learn.show_results()"
      ],
      "metadata": {
        "id": "AmTBD_70fGBz",
        "colab": {
          "base_uri": "https://localhost:8080/",
          "height": 331
        },
        "outputId": "dfcc6a59-cea7-4aea-8bbf-68f7b8e14130"
      },
      "execution_count": null,
      "outputs": [
        {
          "output_type": "display_data",
          "data": {
            "text/plain": [
              "<IPython.core.display.HTML object>"
            ],
            "text/html": [
              "\n",
              "<style>\n",
              "    /* Turns off some styling */\n",
              "    progress {\n",
              "        /* gets rid of default border in Firefox and Opera. */\n",
              "        border: none;\n",
              "        /* Needs to be in here for Safari polyfill so background images work as expected. */\n",
              "        background-size: auto;\n",
              "    }\n",
              "    progress:not([value]), progress:not([value])::-webkit-progress-bar {\n",
              "        background: repeating-linear-gradient(45deg, #7e7e7e, #7e7e7e 10px, #5c5c5c 10px, #5c5c5c 20px);\n",
              "    }\n",
              "    .progress-bar-interrupted, .progress-bar-interrupted::-webkit-progress-bar {\n",
              "        background: #F44336;\n",
              "    }\n",
              "</style>\n"
            ]
          },
          "metadata": {}
        },
        {
          "output_type": "display_data",
          "data": {
            "text/plain": [
              "<IPython.core.display.HTML object>"
            ],
            "text/html": []
          },
          "metadata": {}
        },
        {
          "output_type": "display_data",
          "data": {
            "text/plain": [
              "<IPython.core.display.HTML object>"
            ],
            "text/html": [
              "<table border=\"1\" class=\"dataframe\">\n",
              "  <thead>\n",
              "    <tr style=\"text-align: right;\">\n",
              "      <th></th>\n",
              "      <th>workclass</th>\n",
              "      <th>education</th>\n",
              "      <th>marital-status</th>\n",
              "      <th>occupation</th>\n",
              "      <th>relationship</th>\n",
              "      <th>race</th>\n",
              "      <th>education-num_na</th>\n",
              "      <th>age</th>\n",
              "      <th>fnlwgt</th>\n",
              "      <th>education-num</th>\n",
              "      <th>salary</th>\n",
              "      <th>salary_pred</th>\n",
              "    </tr>\n",
              "  </thead>\n",
              "  <tbody>\n",
              "    <tr>\n",
              "      <th>0</th>\n",
              "      <td>5.0</td>\n",
              "      <td>9.0</td>\n",
              "      <td>5.0</td>\n",
              "      <td>2.0</td>\n",
              "      <td>2.0</td>\n",
              "      <td>5.0</td>\n",
              "      <td>1.0</td>\n",
              "      <td>-0.993250</td>\n",
              "      <td>-1.034500</td>\n",
              "      <td>0.360500</td>\n",
              "      <td>0.0</td>\n",
              "      <td>0.0</td>\n",
              "    </tr>\n",
              "    <tr>\n",
              "      <th>1</th>\n",
              "      <td>5.0</td>\n",
              "      <td>12.0</td>\n",
              "      <td>5.0</td>\n",
              "      <td>7.0</td>\n",
              "      <td>2.0</td>\n",
              "      <td>5.0</td>\n",
              "      <td>1.0</td>\n",
              "      <td>-1.066548</td>\n",
              "      <td>-0.071559</td>\n",
              "      <td>-0.424213</td>\n",
              "      <td>0.0</td>\n",
              "      <td>0.0</td>\n",
              "    </tr>\n",
              "    <tr>\n",
              "      <th>2</th>\n",
              "      <td>7.0</td>\n",
              "      <td>10.0</td>\n",
              "      <td>3.0</td>\n",
              "      <td>5.0</td>\n",
              "      <td>1.0</td>\n",
              "      <td>5.0</td>\n",
              "      <td>1.0</td>\n",
              "      <td>0.839200</td>\n",
              "      <td>-1.434654</td>\n",
              "      <td>1.145213</td>\n",
              "      <td>1.0</td>\n",
              "      <td>1.0</td>\n",
              "    </tr>\n",
              "    <tr>\n",
              "      <th>3</th>\n",
              "      <td>6.0</td>\n",
              "      <td>10.0</td>\n",
              "      <td>3.0</td>\n",
              "      <td>11.0</td>\n",
              "      <td>1.0</td>\n",
              "      <td>5.0</td>\n",
              "      <td>1.0</td>\n",
              "      <td>0.106220</td>\n",
              "      <td>-0.856380</td>\n",
              "      <td>1.145213</td>\n",
              "      <td>0.0</td>\n",
              "      <td>1.0</td>\n",
              "    </tr>\n",
              "    <tr>\n",
              "      <th>4</th>\n",
              "      <td>5.0</td>\n",
              "      <td>16.0</td>\n",
              "      <td>3.0</td>\n",
              "      <td>8.0</td>\n",
              "      <td>1.0</td>\n",
              "      <td>5.0</td>\n",
              "      <td>1.0</td>\n",
              "      <td>0.326114</td>\n",
              "      <td>-0.038621</td>\n",
              "      <td>-0.031857</td>\n",
              "      <td>1.0</td>\n",
              "      <td>0.0</td>\n",
              "    </tr>\n",
              "    <tr>\n",
              "      <th>5</th>\n",
              "      <td>2.0</td>\n",
              "      <td>10.0</td>\n",
              "      <td>3.0</td>\n",
              "      <td>11.0</td>\n",
              "      <td>1.0</td>\n",
              "      <td>5.0</td>\n",
              "      <td>1.0</td>\n",
              "      <td>0.765902</td>\n",
              "      <td>-0.575086</td>\n",
              "      <td>1.145213</td>\n",
              "      <td>1.0</td>\n",
              "      <td>1.0</td>\n",
              "    </tr>\n",
              "    <tr>\n",
              "      <th>6</th>\n",
              "      <td>5.0</td>\n",
              "      <td>12.0</td>\n",
              "      <td>5.0</td>\n",
              "      <td>9.0</td>\n",
              "      <td>4.0</td>\n",
              "      <td>2.0</td>\n",
              "      <td>1.0</td>\n",
              "      <td>-1.433037</td>\n",
              "      <td>-0.881881</td>\n",
              "      <td>-0.424213</td>\n",
              "      <td>0.0</td>\n",
              "      <td>0.0</td>\n",
              "    </tr>\n",
              "    <tr>\n",
              "      <th>7</th>\n",
              "      <td>5.0</td>\n",
              "      <td>12.0</td>\n",
              "      <td>3.0</td>\n",
              "      <td>8.0</td>\n",
              "      <td>1.0</td>\n",
              "      <td>3.0</td>\n",
              "      <td>1.0</td>\n",
              "      <td>0.546008</td>\n",
              "      <td>2.963465</td>\n",
              "      <td>-0.424213</td>\n",
              "      <td>1.0</td>\n",
              "      <td>0.0</td>\n",
              "    </tr>\n",
              "    <tr>\n",
              "      <th>8</th>\n",
              "      <td>5.0</td>\n",
              "      <td>8.0</td>\n",
              "      <td>5.0</td>\n",
              "      <td>2.0</td>\n",
              "      <td>2.0</td>\n",
              "      <td>5.0</td>\n",
              "      <td>1.0</td>\n",
              "      <td>0.546008</td>\n",
              "      <td>0.392527</td>\n",
              "      <td>0.752856</td>\n",
              "      <td>0.0</td>\n",
              "      <td>0.0</td>\n",
              "    </tr>\n",
              "  </tbody>\n",
              "</table>"
            ]
          },
          "metadata": {}
        }
      ]
    },
    {
      "cell_type": "code",
      "source": [
        "# 10.1 Make prediction for one row:\n",
        "row, clas, probs = learn.predict(df.iloc[0])"
      ],
      "metadata": {
        "colab": {
          "base_uri": "https://localhost:8080/",
          "height": 17
        },
        "id": "ANEFUxC1zq5P",
        "outputId": "9c5f386f-9d5d-41a5-d145-ccacd2e6c66a"
      },
      "execution_count": null,
      "outputs": [
        {
          "output_type": "display_data",
          "data": {
            "text/plain": [
              "<IPython.core.display.HTML object>"
            ],
            "text/html": [
              "\n",
              "<style>\n",
              "    /* Turns off some styling */\n",
              "    progress {\n",
              "        /* gets rid of default border in Firefox and Opera. */\n",
              "        border: none;\n",
              "        /* Needs to be in here for Safari polyfill so background images work as expected. */\n",
              "        background-size: auto;\n",
              "    }\n",
              "    progress:not([value]), progress:not([value])::-webkit-progress-bar {\n",
              "        background: repeating-linear-gradient(45deg, #7e7e7e, #7e7e7e 10px, #5c5c5c 10px, #5c5c5c 20px);\n",
              "    }\n",
              "    .progress-bar-interrupted, .progress-bar-interrupted::-webkit-progress-bar {\n",
              "        background: #F44336;\n",
              "    }\n",
              "</style>\n"
            ]
          },
          "metadata": {}
        },
        {
          "output_type": "display_data",
          "data": {
            "text/plain": [
              "<IPython.core.display.HTML object>"
            ],
            "text/html": []
          },
          "metadata": {}
        }
      ]
    },
    {
      "cell_type": "code",
      "source": [
        "# 10.2 Show result of one row\n",
        "row.show()"
      ],
      "metadata": {
        "colab": {
          "base_uri": "https://localhost:8080/",
          "height": 81
        },
        "id": "KGFAehdhzs2X",
        "outputId": "fbfc2112-f3c1-4228-c189-99b924b50274"
      },
      "execution_count": null,
      "outputs": [
        {
          "output_type": "display_data",
          "data": {
            "text/plain": [
              "<IPython.core.display.HTML object>"
            ],
            "text/html": [
              "<table border=\"1\" class=\"dataframe\">\n",
              "  <thead>\n",
              "    <tr style=\"text-align: right;\">\n",
              "      <th></th>\n",
              "      <th>workclass</th>\n",
              "      <th>education</th>\n",
              "      <th>marital-status</th>\n",
              "      <th>occupation</th>\n",
              "      <th>relationship</th>\n",
              "      <th>race</th>\n",
              "      <th>education-num_na</th>\n",
              "      <th>age</th>\n",
              "      <th>fnlwgt</th>\n",
              "      <th>education-num</th>\n",
              "      <th>salary</th>\n",
              "    </tr>\n",
              "  </thead>\n",
              "  <tbody>\n",
              "    <tr>\n",
              "      <th>0</th>\n",
              "      <td>Private</td>\n",
              "      <td>Assoc-acdm</td>\n",
              "      <td>Married-civ-spouse</td>\n",
              "      <td>#na#</td>\n",
              "      <td>Wife</td>\n",
              "      <td>White</td>\n",
              "      <td>False</td>\n",
              "      <td>49.0</td>\n",
              "      <td>101319.999847</td>\n",
              "      <td>12.0</td>\n",
              "      <td>&lt;50k</td>\n",
              "    </tr>\n",
              "  </tbody>\n",
              "</table>"
            ]
          },
          "metadata": {}
        }
      ]
    },
    {
      "cell_type": "code",
      "source": [
        "# 10.3 Other information\n",
        "clas, probs"
      ],
      "metadata": {
        "colab": {
          "base_uri": "https://localhost:8080/"
        },
        "id": "BYXoCXYA7T4w",
        "outputId": "ad1ff57c-6f30-416c-c57a-7339e21b7ac9"
      },
      "execution_count": null,
      "outputs": [
        {
          "output_type": "execute_result",
          "data": {
            "text/plain": [
              "(tensor(0), tensor([0.5099, 0.4901]))"
            ]
          },
          "metadata": {},
          "execution_count": 146
        }
      ]
    },
    {
      "cell_type": "markdown",
      "source": [
        "### From Data Loader object"
      ],
      "metadata": {
        "id": "8SKHmw3s_pZQ"
      }
    },
    {
      "cell_type": "markdown",
      "source": [
        "To get prediction on a new dataframe, you can use the test_dl method of the DataLoaders. That dataframe does not need to have the dependent variable in its column. About `test_dl` object , see [here](https://muellerzr.github.io/fastblog/2020/08/10/testdl.html)"
      ],
      "metadata": {
        "id": "QOO_M0Wv7YtP"
      }
    },
    {
      "cell_type": "code",
      "source": [
        "# 11.0\n",
        "test_df = df.copy()\n",
        "test_df.drop(['salary'], axis=1, inplace=True)"
      ],
      "metadata": {
        "id": "7LVGTgiF7cky"
      },
      "execution_count": null,
      "outputs": []
    },
    {
      "cell_type": "code",
      "source": [
        "# 11.1 Transform test_df exactly in the manner\n",
        "#      train was done using test_dl\n",
        "dl = learn.dls.test_dl(test_df)"
      ],
      "metadata": {
        "id": "XLxaHSfn7mdA"
      },
      "execution_count": null,
      "outputs": []
    },
    {
      "cell_type": "code",
      "source": [
        "# 11.2 Get predictions now:\n",
        "\n",
        "learn.get_preds(dl=dl)"
      ],
      "metadata": {
        "colab": {
          "base_uri": "https://localhost:8080/",
          "height": 139
        },
        "id": "Jlf2zfdF7rRB",
        "outputId": "fcb27aaf-e0ab-475f-b51f-797327a62dde"
      },
      "execution_count": null,
      "outputs": [
        {
          "output_type": "display_data",
          "data": {
            "text/plain": [
              "<IPython.core.display.HTML object>"
            ],
            "text/html": [
              "\n",
              "<style>\n",
              "    /* Turns off some styling */\n",
              "    progress {\n",
              "        /* gets rid of default border in Firefox and Opera. */\n",
              "        border: none;\n",
              "        /* Needs to be in here for Safari polyfill so background images work as expected. */\n",
              "        background-size: auto;\n",
              "    }\n",
              "    progress:not([value]), progress:not([value])::-webkit-progress-bar {\n",
              "        background: repeating-linear-gradient(45deg, #7e7e7e, #7e7e7e 10px, #5c5c5c 10px, #5c5c5c 20px);\n",
              "    }\n",
              "    .progress-bar-interrupted, .progress-bar-interrupted::-webkit-progress-bar {\n",
              "        background: #F44336;\n",
              "    }\n",
              "</style>\n"
            ]
          },
          "metadata": {}
        },
        {
          "output_type": "display_data",
          "data": {
            "text/plain": [
              "<IPython.core.display.HTML object>"
            ],
            "text/html": []
          },
          "metadata": {}
        },
        {
          "output_type": "execute_result",
          "data": {
            "text/plain": [
              "(tensor([[0.5099, 0.4901],\n",
              "         [0.4378, 0.5622],\n",
              "         [0.9794, 0.0206],\n",
              "         ...,\n",
              "         [0.6328, 0.3672],\n",
              "         [0.7688, 0.2312],\n",
              "         [0.7180, 0.2820]]), None)"
            ]
          },
          "metadata": {},
          "execution_count": 149
        }
      ]
    },
    {
      "cell_type": "markdown",
      "source": [
        "### Get prediction from any arbitrary data"
      ],
      "metadata": {
        "id": "EhQZccri94GB"
      }
    },
    {
      "cell_type": "code",
      "source": [
        "# 12.0\n",
        "test_data = {\n",
        "    'age': [49], \n",
        "    'workclass': ['Private'], \n",
        "    'fnlwgt': [101320],\n",
        "    'education': ['Assoc-acdm'], \n",
        "    'education-num': [12.0],\n",
        "    'marital-status': ['Married-civ-spouse'], \n",
        "    'occupation': [''],\n",
        "    'relationship': ['Wife'],\n",
        "    'race': ['White'],\n",
        "}\n",
        "\n",
        "# 12.1\n",
        "input = pd.DataFrame(test_data)"
      ],
      "metadata": {
        "id": "_6HFZNWYrTKL"
      },
      "execution_count": null,
      "outputs": []
    },
    {
      "cell_type": "code",
      "source": [
        "# 12.2\n",
        "tdl = learn.dls.test_dl(input)"
      ],
      "metadata": {
        "id": "iFBxzTgJ9uUo"
      },
      "execution_count": null,
      "outputs": []
    },
    {
      "cell_type": "code",
      "source": [
        "# 12.3\n",
        "learn.get_preds(dl=tdl)"
      ],
      "metadata": {
        "colab": {
          "base_uri": "https://localhost:8080/",
          "height": 35
        },
        "id": "BSs682tGrdYF",
        "outputId": "7efafa5a-63b9-474f-9760-cdc9d1457dbc"
      },
      "execution_count": null,
      "outputs": [
        {
          "output_type": "display_data",
          "data": {
            "text/plain": [
              "<IPython.core.display.HTML object>"
            ],
            "text/html": [
              "\n",
              "<style>\n",
              "    /* Turns off some styling */\n",
              "    progress {\n",
              "        /* gets rid of default border in Firefox and Opera. */\n",
              "        border: none;\n",
              "        /* Needs to be in here for Safari polyfill so background images work as expected. */\n",
              "        background-size: auto;\n",
              "    }\n",
              "    progress:not([value]), progress:not([value])::-webkit-progress-bar {\n",
              "        background: repeating-linear-gradient(45deg, #7e7e7e, #7e7e7e 10px, #5c5c5c 10px, #5c5c5c 20px);\n",
              "    }\n",
              "    .progress-bar-interrupted, .progress-bar-interrupted::-webkit-progress-bar {\n",
              "        background: #F44336;\n",
              "    }\n",
              "</style>\n"
            ]
          },
          "metadata": {}
        },
        {
          "output_type": "display_data",
          "data": {
            "text/plain": [
              "<IPython.core.display.HTML object>"
            ],
            "text/html": []
          },
          "metadata": {}
        },
        {
          "output_type": "execute_result",
          "data": {
            "text/plain": [
              "(tensor([[0.7156, 0.2844]]), None)"
            ]
          },
          "metadata": {},
          "execution_count": 52
        }
      ]
    },
    {
      "cell_type": "markdown",
      "source": [
        "## USing fastai pre-processing with sklearn and other libraries"
      ],
      "metadata": {
        "id": "fW_HOXvNAv0J"
      }
    },
    {
      "cell_type": "markdown",
      "source": [
        "As mentioned earlier, `TabularPandas` is a powerful and easy preprocessing tool for tabular data. Integration with libraries such as `Random Forests` and `XGBoost` requires only one extra step, that the .dataloaders call did for us. Let’s look at our `to` object again. Its values are stored in a DataFrame like object, where we can extract the `cats`, `conts`, `xs` and `ys` if we want to:"
      ],
      "metadata": {
        "id": "yyO4Q7IcA4Sa"
      }
    },
    {
      "cell_type": "code",
      "source": [
        "# 13.0\n",
        "to.xs[:3]"
      ],
      "metadata": {
        "colab": {
          "base_uri": "https://localhost:8080/",
          "height": 143
        },
        "id": "8kIetzOsBHnp",
        "outputId": "3c76f962-7bd2-447b-97e9-39843f889777"
      },
      "execution_count": null,
      "outputs": [
        {
          "output_type": "execute_result",
          "data": {
            "text/plain": [
              "       workclass  education  marital-status  occupation  relationship  race  \\\n",
              "19042          8         13               3           5             1     3   \n",
              "20852          5         16               3           4             1     5   \n",
              "25104          7         16               1           9             2     5   \n",
              "\n",
              "       education-num_na       age    fnlwgt  education-num  \n",
              "19042                 1 -0.773356 -1.052961       1.537569  \n",
              "20852                 1 -0.113674 -1.496425      -0.031857  \n",
              "25104                 1  0.619306 -0.297038      -0.031857  "
            ],
            "text/html": [
              "\n",
              "  <div id=\"df-73d1d012-7927-4c01-b52a-0d10b55b6d29\">\n",
              "    <div class=\"colab-df-container\">\n",
              "      <div>\n",
              "<style scoped>\n",
              "    .dataframe tbody tr th:only-of-type {\n",
              "        vertical-align: middle;\n",
              "    }\n",
              "\n",
              "    .dataframe tbody tr th {\n",
              "        vertical-align: top;\n",
              "    }\n",
              "\n",
              "    .dataframe thead th {\n",
              "        text-align: right;\n",
              "    }\n",
              "</style>\n",
              "<table border=\"1\" class=\"dataframe\">\n",
              "  <thead>\n",
              "    <tr style=\"text-align: right;\">\n",
              "      <th></th>\n",
              "      <th>workclass</th>\n",
              "      <th>education</th>\n",
              "      <th>marital-status</th>\n",
              "      <th>occupation</th>\n",
              "      <th>relationship</th>\n",
              "      <th>race</th>\n",
              "      <th>education-num_na</th>\n",
              "      <th>age</th>\n",
              "      <th>fnlwgt</th>\n",
              "      <th>education-num</th>\n",
              "    </tr>\n",
              "  </thead>\n",
              "  <tbody>\n",
              "    <tr>\n",
              "      <th>19042</th>\n",
              "      <td>8</td>\n",
              "      <td>13</td>\n",
              "      <td>3</td>\n",
              "      <td>5</td>\n",
              "      <td>1</td>\n",
              "      <td>3</td>\n",
              "      <td>1</td>\n",
              "      <td>-0.773356</td>\n",
              "      <td>-1.052961</td>\n",
              "      <td>1.537569</td>\n",
              "    </tr>\n",
              "    <tr>\n",
              "      <th>20852</th>\n",
              "      <td>5</td>\n",
              "      <td>16</td>\n",
              "      <td>3</td>\n",
              "      <td>4</td>\n",
              "      <td>1</td>\n",
              "      <td>5</td>\n",
              "      <td>1</td>\n",
              "      <td>-0.113674</td>\n",
              "      <td>-1.496425</td>\n",
              "      <td>-0.031857</td>\n",
              "    </tr>\n",
              "    <tr>\n",
              "      <th>25104</th>\n",
              "      <td>7</td>\n",
              "      <td>16</td>\n",
              "      <td>1</td>\n",
              "      <td>9</td>\n",
              "      <td>2</td>\n",
              "      <td>5</td>\n",
              "      <td>1</td>\n",
              "      <td>0.619306</td>\n",
              "      <td>-0.297038</td>\n",
              "      <td>-0.031857</td>\n",
              "    </tr>\n",
              "  </tbody>\n",
              "</table>\n",
              "</div>\n",
              "      <button class=\"colab-df-convert\" onclick=\"convertToInteractive('df-73d1d012-7927-4c01-b52a-0d10b55b6d29')\"\n",
              "              title=\"Convert this dataframe to an interactive table.\"\n",
              "              style=\"display:none;\">\n",
              "        \n",
              "  <svg xmlns=\"http://www.w3.org/2000/svg\" height=\"24px\"viewBox=\"0 0 24 24\"\n",
              "       width=\"24px\">\n",
              "    <path d=\"M0 0h24v24H0V0z\" fill=\"none\"/>\n",
              "    <path d=\"M18.56 5.44l.94 2.06.94-2.06 2.06-.94-2.06-.94-.94-2.06-.94 2.06-2.06.94zm-11 1L8.5 8.5l.94-2.06 2.06-.94-2.06-.94L8.5 2.5l-.94 2.06-2.06.94zm10 10l.94 2.06.94-2.06 2.06-.94-2.06-.94-.94-2.06-.94 2.06-2.06.94z\"/><path d=\"M17.41 7.96l-1.37-1.37c-.4-.4-.92-.59-1.43-.59-.52 0-1.04.2-1.43.59L10.3 9.45l-7.72 7.72c-.78.78-.78 2.05 0 2.83L4 21.41c.39.39.9.59 1.41.59.51 0 1.02-.2 1.41-.59l7.78-7.78 2.81-2.81c.8-.78.8-2.07 0-2.86zM5.41 20L4 18.59l7.72-7.72 1.47 1.35L5.41 20z\"/>\n",
              "  </svg>\n",
              "      </button>\n",
              "      \n",
              "  <style>\n",
              "    .colab-df-container {\n",
              "      display:flex;\n",
              "      flex-wrap:wrap;\n",
              "      gap: 12px;\n",
              "    }\n",
              "\n",
              "    .colab-df-convert {\n",
              "      background-color: #E8F0FE;\n",
              "      border: none;\n",
              "      border-radius: 50%;\n",
              "      cursor: pointer;\n",
              "      display: none;\n",
              "      fill: #1967D2;\n",
              "      height: 32px;\n",
              "      padding: 0 0 0 0;\n",
              "      width: 32px;\n",
              "    }\n",
              "\n",
              "    .colab-df-convert:hover {\n",
              "      background-color: #E2EBFA;\n",
              "      box-shadow: 0px 1px 2px rgba(60, 64, 67, 0.3), 0px 1px 3px 1px rgba(60, 64, 67, 0.15);\n",
              "      fill: #174EA6;\n",
              "    }\n",
              "\n",
              "    [theme=dark] .colab-df-convert {\n",
              "      background-color: #3B4455;\n",
              "      fill: #D2E3FC;\n",
              "    }\n",
              "\n",
              "    [theme=dark] .colab-df-convert:hover {\n",
              "      background-color: #434B5C;\n",
              "      box-shadow: 0px 1px 3px 1px rgba(0, 0, 0, 0.15);\n",
              "      filter: drop-shadow(0px 1px 2px rgba(0, 0, 0, 0.3));\n",
              "      fill: #FFFFFF;\n",
              "    }\n",
              "  </style>\n",
              "\n",
              "      <script>\n",
              "        const buttonEl =\n",
              "          document.querySelector('#df-73d1d012-7927-4c01-b52a-0d10b55b6d29 button.colab-df-convert');\n",
              "        buttonEl.style.display =\n",
              "          google.colab.kernel.accessAllowed ? 'block' : 'none';\n",
              "\n",
              "        async function convertToInteractive(key) {\n",
              "          const element = document.querySelector('#df-73d1d012-7927-4c01-b52a-0d10b55b6d29');\n",
              "          const dataTable =\n",
              "            await google.colab.kernel.invokeFunction('convertToInteractive',\n",
              "                                                     [key], {});\n",
              "          if (!dataTable) return;\n",
              "\n",
              "          const docLinkHtml = 'Like what you see? Visit the ' +\n",
              "            '<a target=\"_blank\" href=https://colab.research.google.com/notebooks/data_table.ipynb>data table notebook</a>'\n",
              "            + ' to learn more about interactive tables.';\n",
              "          element.innerHTML = '';\n",
              "          dataTable['output_type'] = 'display_data';\n",
              "          await google.colab.output.renderOutput(dataTable, element);\n",
              "          const docLink = document.createElement('div');\n",
              "          docLink.innerHTML = docLinkHtml;\n",
              "          element.appendChild(docLink);\n",
              "        }\n",
              "      </script>\n",
              "    </div>\n",
              "  </div>\n",
              "  "
            ]
          },
          "metadata": {},
          "execution_count": 53
        }
      ]
    },
    {
      "cell_type": "markdown",
      "source": [
        "Now that everything is encoded, you can then send this off to `XGBoost` or `Random Forests` by extracting the train and validation sets and their values:"
      ],
      "metadata": {
        "id": "W-o33FhuBOtT"
      }
    },
    {
      "cell_type": "code",
      "source": [
        "# 13.1 Get split and pre-processed data:\n",
        "\n",
        "X_train, y_train = to.train.xs, to.train.ys.values.ravel()\n",
        "X_test, y_test = to.valid.xs, to.valid.ys.values.ravel()"
      ],
      "metadata": {
        "id": "yHR_NSY0BUzQ"
      },
      "execution_count": null,
      "outputs": []
    },
    {
      "cell_type": "code",
      "source": [
        "# 13.2\n",
        "X_train.shape\n",
        "X_test.shape\n",
        "y_train.shape\n",
        "y_test.shape"
      ],
      "metadata": {
        "colab": {
          "base_uri": "https://localhost:8080/"
        },
        "id": "DzK_KKJjB9xQ",
        "outputId": "e3f6b15d-1371-4cc0-a14f-058c7b680c14"
      },
      "execution_count": null,
      "outputs": [
        {
          "output_type": "execute_result",
          "data": {
            "text/plain": [
              "(26049, 10)"
            ]
          },
          "metadata": {},
          "execution_count": 151
        },
        {
          "output_type": "execute_result",
          "data": {
            "text/plain": [
              "(6512, 10)"
            ]
          },
          "metadata": {},
          "execution_count": 151
        },
        {
          "output_type": "execute_result",
          "data": {
            "text/plain": [
              "(26049,)"
            ]
          },
          "metadata": {},
          "execution_count": 151
        },
        {
          "output_type": "execute_result",
          "data": {
            "text/plain": [
              "(6512,)"
            ]
          },
          "metadata": {},
          "execution_count": 151
        }
      ]
    },
    {
      "cell_type": "code",
      "source": [
        "###########################"
      ],
      "metadata": {
        "id": "JaVRVRwzpQXa"
      },
      "execution_count": null,
      "outputs": []
    }
  ],
  "metadata": {
    "kernelspec": {
      "display_name": "Python 3",
      "language": "python",
      "name": "python3"
    },
    "colab": {
      "provenance": [],
      "collapsed_sections": [
        "X_KE1ZCVWkMR",
        "v81AU7F1Wgap",
        "JIXnSaAmWcG5",
        "HQPWnmFCXGMK"
      ],
      "include_colab_link": true
    }
  },
  "nbformat": 4,
  "nbformat_minor": 0
}