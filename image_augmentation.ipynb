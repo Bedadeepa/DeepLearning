{
  "nbformat": 4,
  "nbformat_minor": 0,
  "metadata": {
    "colab": {
      "provenance": [],
      "include_colab_link": true
    },
    "kernelspec": {
      "name": "python3",
      "display_name": "Python 3"
    }
  },
  "cells": [
    {
      "cell_type": "markdown",
      "metadata": {
        "id": "view-in-github",
        "colab_type": "text"
      },
      "source": [
        "<a href=\"https://colab.research.google.com/github/Bedadeepa/DeepLearning/blob/main/image_augmentation.ipynb\" target=\"_parent\"><img src=\"https://colab.research.google.com/assets/colab-badge.svg\" alt=\"Open In Colab\"/></a>"
      ]
    },
    {
      "cell_type": "code",
      "metadata": {
        "id": "8jPZlZonpAlq"
      },
      "source": [
        "# Last amended: 05th Dec, 2022\n",
        "# Ref:\n",
        "#   http://cs231n.github.io/neural-networks-2/\n",
        "#\t  https://machinelearningmastery.com/image-augmentation-deep-learning-keras/\n",
        "#\n",
        "# Objective:\n",
        "#   a) How Image augmentation is performed.\n",
        "#   b) Image augmentation basics\n",
        "#\n",
        "#\n",
        "# Data augmentation 4-steps:\n",
        "#\t\t  1. First create the ImageDataGenerator object with necessary properies\n",
        "#\t    2. If required, learn the 'train' data. Needed only for some types of\n",
        "#        augmentation/processing such as zca_whitening. see Ref below:\n",
        "#        Ref: https://stackoverflow.com/questions/46705600/keras-fit-image-augmentations-to-training-data-using-flow-from-directory\n",
        "#\t    3. Create the data-generator iterator using flow() method\n",
        "#     4. Use the iterator in modeling in a for-loop\n",
        "# Sample code:\n",
        "# (https://keras.io/preprocessing/image/)\n",
        "#\n",
        "#\t\tdatagen = ImageDataGenerator( process_parameters)     # Create learner object\n",
        "#\t\tdatagen.fit(X_train)                                  # Learn few statistical properties\n",
        "#                                                         #   of train data\n",
        "#\t\tbatch_gen_iterator = datagen.flow(X_train,            # Get iterator object\n",
        "#                                     y_train,\n",
        "#                                     batch_size=batch_size\n",
        "#                                     )\n",
        "#\n",
        "#   for X_batch, y_batch in batch_gen_iterator:            # Use iterator--one way\n",
        "#       model.fit(x_batch, y_batch)\n",
        "#       batches += 1\n",
        "#\t\t\t  if batches >= 5:\n",
        "#  \t        break\n",
        "#\n",
        "#   model.fit_generator(batch_gen_iterator,             # Use iterator--another way\n",
        "#                       steps_per_epoch=5,              # Call 5 batches from generator\n",
        "#                       epochs=epochs\n",
        "#                       )\n",
        "\n"
      ],
      "execution_count": null,
      "outputs": []
    },
    {
      "cell_type": "code",
      "metadata": {
        "id": "lL4k-xYPJPf_"
      },
      "source": [
        "#0.0 Display multiple command outputsfrom a cell\n",
        "from IPython.core.interactiveshell import InteractiveShell\n",
        "InteractiveShell.ast_node_interactivity = \"all\""
      ],
      "execution_count": null,
      "outputs": []
    },
    {
      "cell_type": "markdown",
      "source": [
        "## Call libraries"
      ],
      "metadata": {
        "id": "75aBJOef8PuQ"
      }
    },
    {
      "cell_type": "code",
      "metadata": {
        "id": "GjtPoKFWpzYC",
        "colab": {
          "base_uri": "https://localhost:8080/"
        },
        "outputId": "96a95e4f-2cbb-43eb-aee3-be6514c263a8"
      },
      "source": [
        "# 1. Call libraries\n",
        "%reset -f\n",
        "\n",
        "# 1.1\n",
        "import numpy as np\n",
        "import os\n",
        "from matplotlib import pyplot as plt\n",
        "\n",
        "# 1.2 Import tensorflow libraries\n",
        "#     This will import mnist dataset\n",
        "from tensorflow.keras.datasets import mnist\n",
        "\n",
        "# 1.3 For generating images on the fly (no need to store)\n",
        "#     from given images\n",
        "from tensorflow.keras.preprocessing.image import ImageDataGenerator\n",
        "\n",
        "# 1.4 Keras backend (functions) help in writing modules that work \n",
        "#     in all Keras backends, as: theano, cntk, tensorflow.\n",
        "#     So use backend functions/methods for compatibility \n",
        "#     with all available backends.\n",
        "#\n",
        "#     Backend module, here, helps extract/set properties of keras-backend\n",
        "#     By default the backend configuration file is at:\n",
        "#     $HOME/.keras/keras.json or /home/ashok/.keras or\n",
        "#     C:\\Users\\ashok\\.keras\\keras.json\n",
        "#     Ref: https://keras.io/backend/\n",
        "\n",
        "from tensorflow.keras import backend as K\n",
        "\n",
        "\n",
        "# 1.5 Set image data format to be for tensorflow\n",
        "#     Override, settings in the configuration file\n",
        "#     That is set as channels_last, if not already so\n",
        "K.set_image_data_format('channels_last') # Alternative 'channels_first' for theano\n",
        "\n",
        "\n",
        "# 1.6 So what was the result of setting image data format above?\n",
        "K.image_data_format()"
      ],
      "execution_count": null,
      "outputs": [
        {
          "output_type": "execute_result",
          "data": {
            "text/plain": [
              "'channels_last'"
            ],
            "application/vnd.google.colaboratory.intrinsic+json": {
              "type": "string"
            }
          },
          "metadata": {},
          "execution_count": 3
        }
      ]
    },
    {
      "cell_type": "markdown",
      "source": [
        "## Get data"
      ],
      "metadata": {
        "id": "pQaHyEhL8lv6"
      }
    },
    {
      "cell_type": "code",
      "metadata": {
        "id": "spq1PCx7p9l4"
      },
      "source": [
        "# 2. Use mnist module to fetch data from Internet & also load data\n",
        "#    Dataset is cached locally at $HOME/.keras/datasets\n",
        "#    or at C:\\Users\\ashok\\.keras\\datasets"
      ],
      "execution_count": null,
      "outputs": []
    },
    {
      "cell_type": "code",
      "metadata": {
        "id": "yxz-rfgAqGmF",
        "colab": {
          "base_uri": "https://localhost:8080/"
        },
        "outputId": "70f4d310-38d5-418f-be48-26e4abc7a9cb"
      },
      "source": [
        "# 2.1 Download mnist dataset.\n",
        "#     Data download to C:\\Users\\ashok\\.keras\\datasets\n",
        "#     mnist.npz. 'npz' is a file format where several\n",
        "#     numpy arrays can be stored compressed or uncompressed\n",
        "#     Downloaded file is saved at: /root/.keras/datasets\n",
        "\n",
        "(x_tr, y_tr), (x_te, y_te) = mnist.load_data()"
      ],
      "execution_count": null,
      "outputs": [
        {
          "output_type": "stream",
          "name": "stdout",
          "text": [
            "Downloading data from https://storage.googleapis.com/tensorflow/tf-keras-datasets/mnist.npz\n",
            "11490434/11490434 [==============================] - 0s 0us/step\n"
          ]
        }
      ]
    },
    {
      "cell_type": "code",
      "metadata": {
        "colab": {
          "base_uri": "https://localhost:8080/"
        },
        "id": "2UvMivrOmu9U",
        "outputId": "c428e785-e3f9-4acf-fbbc-cac75c854922"
      },
      "source": [
        "# 2.1.1 Check the downloaded file\n",
        "! ls -la /root/.keras/datasets"
      ],
      "execution_count": null,
      "outputs": [
        {
          "output_type": "stream",
          "name": "stdout",
          "text": [
            "total 11232\n",
            "drwxr-xr-x 2 root root     4096 Dec 23 11:42 .\n",
            "drwxr-xr-x 1 root root     4096 Dec 23 11:42 ..\n",
            "-rw-r--r-- 1 root root 11490434 Dec 23 11:42 mnist.npz\n"
          ]
        }
      ]
    },
    {
      "cell_type": "code",
      "metadata": {
        "id": "thjtTQV8qLI6",
        "colab": {
          "base_uri": "https://localhost:8080/"
        },
        "outputId": "7a50b252-1d0b-46ea-ec02-18ac363b692e"
      },
      "source": [
        "# 2.2 How many images and image dimensions?\n",
        "#     Depth of image is important dimension.\n",
        "#     It is missing here. So depth is 1 ie only one channel.\n",
        "\n",
        "x_tr.shape                    # [60000,28,28]\n",
        "x_te.shape                    # (10000,28,28)"
      ],
      "execution_count": null,
      "outputs": [
        {
          "output_type": "execute_result",
          "data": {
            "text/plain": [
              "(60000, 28, 28)"
            ]
          },
          "metadata": {},
          "execution_count": 7
        },
        {
          "output_type": "execute_result",
          "data": {
            "text/plain": [
              "(10000, 28, 28)"
            ]
          },
          "metadata": {},
          "execution_count": 7
        }
      ]
    },
    {
      "cell_type": "code",
      "metadata": {
        "id": "Dby5oBLAqQvg",
        "colab": {
          "base_uri": "https://localhost:8080/"
        },
        "outputId": "f268bdf9-f948-4210-e28d-cf324ba9dd87"
      },
      "source": [
        "# 2.3 Just look at first image and get its label\n",
        "\n",
        "y_tr[0]\n",
        "print(\"\\n=========\\n\")\n",
        "x_tr[0, :, :]"
      ],
      "execution_count": null,
      "outputs": [
        {
          "output_type": "execute_result",
          "data": {
            "text/plain": [
              "5"
            ]
          },
          "metadata": {},
          "execution_count": 8
        },
        {
          "output_type": "stream",
          "name": "stdout",
          "text": [
            "\n",
            "=========\n",
            "\n"
          ]
        },
        {
          "output_type": "execute_result",
          "data": {
            "text/plain": [
              "array([[  0,   0,   0,   0,   0,   0,   0,   0,   0,   0,   0,   0,   0,\n",
              "          0,   0,   0,   0,   0,   0,   0,   0,   0,   0,   0,   0,   0,\n",
              "          0,   0],\n",
              "       [  0,   0,   0,   0,   0,   0,   0,   0,   0,   0,   0,   0,   0,\n",
              "          0,   0,   0,   0,   0,   0,   0,   0,   0,   0,   0,   0,   0,\n",
              "          0,   0],\n",
              "       [  0,   0,   0,   0,   0,   0,   0,   0,   0,   0,   0,   0,   0,\n",
              "          0,   0,   0,   0,   0,   0,   0,   0,   0,   0,   0,   0,   0,\n",
              "          0,   0],\n",
              "       [  0,   0,   0,   0,   0,   0,   0,   0,   0,   0,   0,   0,   0,\n",
              "          0,   0,   0,   0,   0,   0,   0,   0,   0,   0,   0,   0,   0,\n",
              "          0,   0],\n",
              "       [  0,   0,   0,   0,   0,   0,   0,   0,   0,   0,   0,   0,   0,\n",
              "          0,   0,   0,   0,   0,   0,   0,   0,   0,   0,   0,   0,   0,\n",
              "          0,   0],\n",
              "       [  0,   0,   0,   0,   0,   0,   0,   0,   0,   0,   0,   0,   3,\n",
              "         18,  18,  18, 126, 136, 175,  26, 166, 255, 247, 127,   0,   0,\n",
              "          0,   0],\n",
              "       [  0,   0,   0,   0,   0,   0,   0,   0,  30,  36,  94, 154, 170,\n",
              "        253, 253, 253, 253, 253, 225, 172, 253, 242, 195,  64,   0,   0,\n",
              "          0,   0],\n",
              "       [  0,   0,   0,   0,   0,   0,   0,  49, 238, 253, 253, 253, 253,\n",
              "        253, 253, 253, 253, 251,  93,  82,  82,  56,  39,   0,   0,   0,\n",
              "          0,   0],\n",
              "       [  0,   0,   0,   0,   0,   0,   0,  18, 219, 253, 253, 253, 253,\n",
              "        253, 198, 182, 247, 241,   0,   0,   0,   0,   0,   0,   0,   0,\n",
              "          0,   0],\n",
              "       [  0,   0,   0,   0,   0,   0,   0,   0,  80, 156, 107, 253, 253,\n",
              "        205,  11,   0,  43, 154,   0,   0,   0,   0,   0,   0,   0,   0,\n",
              "          0,   0],\n",
              "       [  0,   0,   0,   0,   0,   0,   0,   0,   0,  14,   1, 154, 253,\n",
              "         90,   0,   0,   0,   0,   0,   0,   0,   0,   0,   0,   0,   0,\n",
              "          0,   0],\n",
              "       [  0,   0,   0,   0,   0,   0,   0,   0,   0,   0,   0, 139, 253,\n",
              "        190,   2,   0,   0,   0,   0,   0,   0,   0,   0,   0,   0,   0,\n",
              "          0,   0],\n",
              "       [  0,   0,   0,   0,   0,   0,   0,   0,   0,   0,   0,  11, 190,\n",
              "        253,  70,   0,   0,   0,   0,   0,   0,   0,   0,   0,   0,   0,\n",
              "          0,   0],\n",
              "       [  0,   0,   0,   0,   0,   0,   0,   0,   0,   0,   0,   0,  35,\n",
              "        241, 225, 160, 108,   1,   0,   0,   0,   0,   0,   0,   0,   0,\n",
              "          0,   0],\n",
              "       [  0,   0,   0,   0,   0,   0,   0,   0,   0,   0,   0,   0,   0,\n",
              "         81, 240, 253, 253, 119,  25,   0,   0,   0,   0,   0,   0,   0,\n",
              "          0,   0],\n",
              "       [  0,   0,   0,   0,   0,   0,   0,   0,   0,   0,   0,   0,   0,\n",
              "          0,  45, 186, 253, 253, 150,  27,   0,   0,   0,   0,   0,   0,\n",
              "          0,   0],\n",
              "       [  0,   0,   0,   0,   0,   0,   0,   0,   0,   0,   0,   0,   0,\n",
              "          0,   0,  16,  93, 252, 253, 187,   0,   0,   0,   0,   0,   0,\n",
              "          0,   0],\n",
              "       [  0,   0,   0,   0,   0,   0,   0,   0,   0,   0,   0,   0,   0,\n",
              "          0,   0,   0,   0, 249, 253, 249,  64,   0,   0,   0,   0,   0,\n",
              "          0,   0],\n",
              "       [  0,   0,   0,   0,   0,   0,   0,   0,   0,   0,   0,   0,   0,\n",
              "          0,  46, 130, 183, 253, 253, 207,   2,   0,   0,   0,   0,   0,\n",
              "          0,   0],\n",
              "       [  0,   0,   0,   0,   0,   0,   0,   0,   0,   0,   0,   0,  39,\n",
              "        148, 229, 253, 253, 253, 250, 182,   0,   0,   0,   0,   0,   0,\n",
              "          0,   0],\n",
              "       [  0,   0,   0,   0,   0,   0,   0,   0,   0,   0,  24, 114, 221,\n",
              "        253, 253, 253, 253, 201,  78,   0,   0,   0,   0,   0,   0,   0,\n",
              "          0,   0],\n",
              "       [  0,   0,   0,   0,   0,   0,   0,   0,  23,  66, 213, 253, 253,\n",
              "        253, 253, 198,  81,   2,   0,   0,   0,   0,   0,   0,   0,   0,\n",
              "          0,   0],\n",
              "       [  0,   0,   0,   0,   0,   0,  18, 171, 219, 253, 253, 253, 253,\n",
              "        195,  80,   9,   0,   0,   0,   0,   0,   0,   0,   0,   0,   0,\n",
              "          0,   0],\n",
              "       [  0,   0,   0,   0,  55, 172, 226, 253, 253, 253, 253, 244, 133,\n",
              "         11,   0,   0,   0,   0,   0,   0,   0,   0,   0,   0,   0,   0,\n",
              "          0,   0],\n",
              "       [  0,   0,   0,   0, 136, 253, 253, 253, 212, 135, 132,  16,   0,\n",
              "          0,   0,   0,   0,   0,   0,   0,   0,   0,   0,   0,   0,   0,\n",
              "          0,   0],\n",
              "       [  0,   0,   0,   0,   0,   0,   0,   0,   0,   0,   0,   0,   0,\n",
              "          0,   0,   0,   0,   0,   0,   0,   0,   0,   0,   0,   0,   0,\n",
              "          0,   0],\n",
              "       [  0,   0,   0,   0,   0,   0,   0,   0,   0,   0,   0,   0,   0,\n",
              "          0,   0,   0,   0,   0,   0,   0,   0,   0,   0,   0,   0,   0,\n",
              "          0,   0],\n",
              "       [  0,   0,   0,   0,   0,   0,   0,   0,   0,   0,   0,   0,   0,\n",
              "          0,   0,   0,   0,   0,   0,   0,   0,   0,   0,   0,   0,   0,\n",
              "          0,   0]], dtype=uint8)"
            ]
          },
          "metadata": {},
          "execution_count": 8
        }
      ]
    },
    {
      "cell_type": "code",
      "metadata": {
        "id": "yuIGMHc-qUZc"
      },
      "source": [
        "# Create a grid of 3x3 images\n",
        "# AA. Plot sample digit images"
      ],
      "execution_count": null,
      "outputs": []
    },
    {
      "cell_type": "code",
      "metadata": {
        "id": "nmgo6uPVqaf7",
        "colab": {
          "base_uri": "https://localhost:8080/"
        },
        "outputId": "fd07f9f0-4380-469f-f5e4-5e3e58248a07"
      },
      "source": [
        "# 3. Plot nine images\n",
        "for i in range(0, 9):        # range(0,9): Starting from 0, generate 9 numbers\n",
        "                             # 0,1,..8 (9 is excluded)\n",
        "\t_=plt.subplot(3,3, i +1) \t # Plot in a grid of 3 rows, 3 columns at position (i +1)\n",
        "\t                           # Try: help(plt.subplot)\n",
        "\t                           # For last image, i =8, 339 => 3 rows X 3 cols at index 9\n",
        "\t_=plt.imshow(x_tr[i],\n",
        "  cmap=plt.get_cmap('gray')) # Map image color to gray palette\n",
        "\t\t\t\t\t                   # or colormap (try without cmap)\n"
      ],
      "execution_count": null,
      "outputs": [
        {
          "output_type": "display_data",
          "data": {
            "text/plain": [
              "<Figure size 432x288 with 9 Axes>"
            ],
            "image/png": "[encoded data removed]"
          },
          "metadata": {
            "needs_background": "light"
          }
        }
      ]
    },
    {
      "cell_type": "code",
      "metadata": {
        "id": "zooR8J98qosY",
        "colab": {
          "base_uri": "https://localhost:8080/"
        },
        "outputId": "643c2ca6-520a-46f2-9044-de99f6871338"
      },
      "source": [
        "# 3.1 Another way to plot in a grid of 3 X 3\n",
        "fig,ax = plt.subplots(3,3)\n",
        "af = ax.flatten()\n",
        "af.shape\n",
        "for axx,j in zip(af,range(0, 9)):\n",
        "\tabc = axx.imshow(x_tr[j],cmap= plt.cm.gray)\n",
        " \n",
        "plt.show()"
      ],
      "execution_count": null,
      "outputs": [
        {
          "output_type": "execute_result",
          "data": {
            "text/plain": [
              "(9,)"
            ]
          },
          "metadata": {},
          "execution_count": 11
        },
        {
          "output_type": "display_data",
          "data": {
            "text/plain": [
              "<Figure size 432x288 with 9 Axes>"
            ],
            "image/png": "[encoded data removed]"
          },
          "metadata": {
            "needs_background": "light"
          }
        }
      ]
    },
    {
      "cell_type": "markdown",
      "source": [
        "## Data preprocessing"
      ],
      "metadata": {
        "id": "-vXa9q8O8ryn"
      }
    },
    {
      "cell_type": "code",
      "metadata": {
        "id": "-AhsRgNnqvfI"
      },
      "source": [
        "######################## BB ##################################"
      ],
      "execution_count": null,
      "outputs": []
    },
    {
      "cell_type": "code",
      "metadata": {
        "id": "8BPOdU0oq0Ux"
      },
      "source": [
        "# 4.\n",
        "## BB.Image generation and Feature Standardization\n",
        "#     It is possible to standardize pixel values across the entire dataset.\n",
        "#     One can perform feature standardization by setting the featurewise_center\n",
        "#     and featurewise_std_normalization arguments on the ImageDataGenerator class.\n",
        "#     These are in fact set to True by default and creating an instance of\n",
        "#     ImageDataGenerator with no arguments will have the same effect.\n",
        "# Standardize images across the dataset, mean=0, stdev=1\n"
      ],
      "execution_count": null,
      "outputs": []
    },
    {
      "cell_type": "code",
      "metadata": {
        "id": "tbFSdepOq7EI",
        "colab": {
          "base_uri": "https://localhost:8080/"
        },
        "outputId": "ba9bbb13-c778-4e14-faca-7e73611e909b"
      },
      "source": [
        "# 4.1 Add no_of_channels to shape (tensorflow format: WIDTH X HEIGHT X CHANNEL):\n",
        "#     Reshape to be [NoOfSamples][width][height][channel]\n",
        "x_tr[0,:28,:28].shape                           # It is a flat 2D image\n",
        "# 4.1.1\n",
        "X_train = x_tr.reshape(60000, 28, 28,1)         # Being gray coloured, no of channels is 1\n",
        "X_test = x_te.reshape(10000,  28, 28,1)\n",
        "# 4.1.2\n",
        "X_train.shape\n"
      ],
      "execution_count": null,
      "outputs": [
        {
          "output_type": "execute_result",
          "data": {
            "text/plain": [
              "(28, 28)"
            ]
          },
          "metadata": {},
          "execution_count": 14
        },
        {
          "output_type": "execute_result",
          "data": {
            "text/plain": [
              "(60000, 28, 28, 1)"
            ]
          },
          "metadata": {},
          "execution_count": 14
        }
      ]
    },
    {
      "cell_type": "code",
      "metadata": {
        "id": "XYh1wG4iq8gI",
        "colab": {
          "base_uri": "https://localhost:8080/"
        },
        "outputId": "4d204fc4-b064-4966-a385-80bd5630cbf7"
      },
      "source": [
        "# 4.2 Convert from int to float as required by Tensorflow\n",
        "X_train.dtype                        # Unsigned integer\n",
        "\n",
        "X_train = X_train.astype('float32')\n",
        "X_test = X_test.astype('float32')\n",
        "\n",
        "X_train.dtype                         # 'float32'"
      ],
      "execution_count": null,
      "outputs": [
        {
          "output_type": "execute_result",
          "data": {
            "text/plain": [
              "dtype('uint8')"
            ]
          },
          "metadata": {},
          "execution_count": 15
        },
        {
          "output_type": "execute_result",
          "data": {
            "text/plain": [
              "dtype('float32')"
            ]
          },
          "metadata": {},
          "execution_count": 15
        }
      ]
    },
    {
      "cell_type": "code",
      "metadata": {
        "id": "8_J3KMsorAnQ"
      },
      "source": [
        "#4.2.1 For lack of memory, we will experiment \n",
        "#      on just 400 images\n",
        "\n",
        "X_train = X_train[:400,...]\n",
        "y_train = y_tr[:400,...]"
      ],
      "execution_count": null,
      "outputs": []
    },
    {
      "cell_type": "markdown",
      "source": [
        "## Examining Image Data generator"
      ],
      "metadata": {
        "id": "b3SeUoZ39GsK"
      }
    },
    {
      "cell_type": "code",
      "metadata": {
        "id": "iZQWuHNsrDW3",
        "colab": {
          "base_uri": "https://localhost:8080/"
        },
        "outputId": "600fb446-f6d1-4102-907d-84b07e3ae7ca"
      },
      "source": [
        "# 4.3 Define generated-data preparation parameters\n",
        "#     & create the image generator object.\n",
        "#     Generate images in batches on-the-fly from some given images\n",
        "\n",
        "# 4.3.1\n",
        "# Ref: https://www.tensorflow.org/api_docs/python/tf/keras/preprocessing/image/ImageDataGenerator\n",
        "help(ImageDataGenerator)"
      ],
      "execution_count": null,
      "outputs": [
        {
          "output_type": "stream",
          "name": "stdout",
          "text": [
            "Help on class ImageDataGenerator in module keras.preprocessing.image:\n",
            "\n",
            "class ImageDataGenerator(builtins.object)\n",
            " |  ImageDataGenerator(featurewise_center=False, samplewise_center=False, featurewise_std_normalization=False, samplewise_std_normalization=False, zca_whitening=False, zca_epsilon=1e-06, rotation_range=0, width_shift_range=0.0, height_shift_range=0.0, brightness_range=None, shear_range=0.0, zoom_range=0.0, channel_shift_range=0.0, fill_mode='nearest', cval=0.0, horizontal_flip=False, vertical_flip=False, rescale=None, preprocessing_function=None, data_format=None, validation_split=0.0, interpolation_order=1, dtype=None)\n",
            " |  \n",
            " |  Generate batches of tensor image data with real-time data augmentation.\n",
            " |  \n",
            " |  Deprecated: `tf.keras.preprocessing.image.ImageDataGenerator` is not\n",
            " |  recommended for new code. Prefer loading images with\n",
            " |  `tf.keras.utils.image_dataset_from_directory` and transforming the output\n",
            " |  `tf.data.Dataset` with preprocessing layers. For more information, see the\n",
            " |  tutorials for [loading images](\n",
            " |  https://www.tensorflow.org/tutorials/load_data/images) and\n",
            " |  [augmenting images](\n",
            " |  https://www.tensorflow.org/tutorials/images/data_augmentation), as well as\n",
            " |  the [preprocessing layer guide](\n",
            " |  https://www.tensorflow.org/guide/keras/preprocessing_layers).\n",
            " |  \n",
            " |   The data will be looped over (in batches).\n",
            " |  \n",
            " |  Args:\n",
            " |      featurewise_center: Boolean. Set input mean to 0 over the dataset,\n",
            " |        feature-wise.\n",
            " |      samplewise_center: Boolean. Set each sample mean to 0.\n",
            " |      featurewise_std_normalization: Boolean. Divide inputs by std of the\n",
            " |        dataset, feature-wise.\n",
            " |      samplewise_std_normalization: Boolean. Divide each input by its std.\n",
            " |      zca_epsilon: epsilon for ZCA whitening. Default is 1e-6.\n",
            " |      zca_whitening: Boolean. Apply ZCA whitening.\n",
            " |      rotation_range: Int. Degree range for random rotations.\n",
            " |      width_shift_range: Float, 1-D array-like or int\n",
            " |          - float: fraction of total width, if < 1, or pixels if >= 1.\n",
            " |          - 1-D array-like: random elements from the array.\n",
            " |          - int: integer number of pixels from interval `(-width_shift_range,\n",
            " |            +width_shift_range)` - With `width_shift_range=2` possible values\n",
            " |            are integers `[-1, 0, +1]`, same as with `width_shift_range=[-1, 0,\n",
            " |            +1]`, while with `width_shift_range=1.0` possible values are floats\n",
            " |            in the interval [-1.0, +1.0).\n",
            " |      height_shift_range: Float, 1-D array-like or int\n",
            " |          - float: fraction of total height, if < 1, or pixels if >= 1.\n",
            " |          - 1-D array-like: random elements from the array.\n",
            " |          - int: integer number of pixels from interval `(-height_shift_range,\n",
            " |            +height_shift_range)` - With `height_shift_range=2` possible values\n",
            " |            are integers `[-1, 0, +1]`, same as with `height_shift_range=[-1, 0,\n",
            " |            +1]`, while with `height_shift_range=1.0` possible values are floats\n",
            " |            in the interval [-1.0, +1.0).\n",
            " |      brightness_range: Tuple or list of two floats. Range for picking a\n",
            " |        brightness shift value from.\n",
            " |      shear_range: Float. Shear Intensity (Shear angle in counter-clockwise\n",
            " |        direction in degrees)\n",
            " |      zoom_range: Float or [lower, upper]. Range for random zoom. If a float,\n",
            " |        `[lower, upper] = [1-zoom_range, 1+zoom_range]`.\n",
            " |      channel_shift_range: Float. Range for random channel shifts.\n",
            " |      fill_mode: One of {\"constant\", \"nearest\", \"reflect\" or \"wrap\"}. Default is\n",
            " |        'nearest'. Points outside the boundaries of the input are filled\n",
            " |          according to the given mode:\n",
            " |          - 'constant': kkkkkkkk|abcd|kkkkkkkk (cval=k)\n",
            " |          - 'nearest':  aaaaaaaa|abcd|dddddddd\n",
            " |          - 'reflect':  abcddcba|abcd|dcbaabcd\n",
            " |          - 'wrap':  abcdabcd|abcd|abcdabcd\n",
            " |      cval: Float or Int. Value used for points outside the boundaries when\n",
            " |        `fill_mode = \"constant\"`.\n",
            " |      horizontal_flip: Boolean. Randomly flip inputs horizontally.\n",
            " |      vertical_flip: Boolean. Randomly flip inputs vertically.\n",
            " |      rescale: rescaling factor. Defaults to None. If None or 0, no rescaling is\n",
            " |        applied, otherwise we multiply the data by the value provided (after\n",
            " |        applying all other transformations).\n",
            " |      preprocessing_function: function that will be applied on each input. The\n",
            " |        function will run after the image is resized and augmented.\n",
            " |          The function should take one argument: one image (Numpy tensor with\n",
            " |            rank 3), and should output a Numpy tensor with the same shape.\n",
            " |      data_format: Image data format, either \"channels_first\" or\n",
            " |        \"channels_last\". \"channels_last\" mode means that the images should have\n",
            " |        shape `(samples, height, width, channels)`, \"channels_first\" mode means\n",
            " |        that the images should have shape `(samples, channels, height, width)`.\n",
            " |        It defaults to the `image_data_format` value found in your Keras config\n",
            " |        file at `~/.keras/keras.json`. If you never set it, then it will be\n",
            " |        \"channels_last\".\n",
            " |      validation_split: Float. Fraction of images reserved for validation\n",
            " |        (strictly between 0 and 1).\n",
            " |      dtype: Dtype to use for the generated arrays.\n",
            " |  \n",
            " |  Raises:\n",
            " |    ValueError: If the value of the argument, `data_format` is other than\n",
            " |          `\"channels_last\"` or `\"channels_first\"`.\n",
            " |    ValueError: If the value of the argument, `validation_split` > 1\n",
            " |          or `validation_split` < 0.\n",
            " |  \n",
            " |  Examples:\n",
            " |  \n",
            " |  Example of using `.flow(x, y)`:\n",
            " |  \n",
            " |  ```python\n",
            " |  (x_train, y_train), (x_test, y_test) = cifar10.load_data()\n",
            " |  y_train = utils.to_categorical(y_train, num_classes)\n",
            " |  y_test = utils.to_categorical(y_test, num_classes)\n",
            " |  datagen = ImageDataGenerator(\n",
            " |      featurewise_center=True,\n",
            " |      featurewise_std_normalization=True,\n",
            " |      rotation_range=20,\n",
            " |      width_shift_range=0.2,\n",
            " |      height_shift_range=0.2,\n",
            " |      horizontal_flip=True,\n",
            " |      validation_split=0.2)\n",
            " |  # compute quantities required for featurewise normalization\n",
            " |  # (std, mean, and principal components if ZCA whitening is applied)\n",
            " |  datagen.fit(x_train)\n",
            " |  # fits the model on batches with real-time data augmentation:\n",
            " |  model.fit(datagen.flow(x_train, y_train, batch_size=32,\n",
            " |           subset='training'),\n",
            " |           validation_data=datagen.flow(x_train, y_train,\n",
            " |           batch_size=8, subset='validation'),\n",
            " |           steps_per_epoch=len(x_train) / 32, epochs=epochs)\n",
            " |  # here's a more \"manual\" example\n",
            " |  for e in range(epochs):\n",
            " |      print('Epoch', e)\n",
            " |      batches = 0\n",
            " |      for x_batch, y_batch in datagen.flow(x_train, y_train, batch_size=32):\n",
            " |          model.fit(x_batch, y_batch)\n",
            " |          batches += 1\n",
            " |          if batches >= len(x_train) / 32:\n",
            " |              # we need to break the loop by hand because\n",
            " |              # the generator loops indefinitely\n",
            " |              break\n",
            " |  ```\n",
            " |  \n",
            " |  Example of using `.flow_from_directory(directory)`:\n",
            " |  \n",
            " |  ```python\n",
            " |  train_datagen = ImageDataGenerator(\n",
            " |          rescale=1./255,\n",
            " |          shear_range=0.2,\n",
            " |          zoom_range=0.2,\n",
            " |          horizontal_flip=True)\n",
            " |  test_datagen = ImageDataGenerator(rescale=1./255)\n",
            " |  train_generator = train_datagen.flow_from_directory(\n",
            " |          'data/train',\n",
            " |          target_size=(150, 150),\n",
            " |          batch_size=32,\n",
            " |          class_mode='binary')\n",
            " |  validation_generator = test_datagen.flow_from_directory(\n",
            " |          'data/validation',\n",
            " |          target_size=(150, 150),\n",
            " |          batch_size=32,\n",
            " |          class_mode='binary')\n",
            " |  model.fit(\n",
            " |          train_generator,\n",
            " |          steps_per_epoch=2000,\n",
            " |          epochs=50,\n",
            " |          validation_data=validation_generator,\n",
            " |          validation_steps=800)\n",
            " |  ```\n",
            " |  \n",
            " |  Example of transforming images and masks together.\n",
            " |  \n",
            " |  ```python\n",
            " |  # we create two instances with the same arguments\n",
            " |  data_gen_args = dict(featurewise_center=True,\n",
            " |                       featurewise_std_normalization=True,\n",
            " |                       rotation_range=90,\n",
            " |                       width_shift_range=0.1,\n",
            " |                       height_shift_range=0.1,\n",
            " |                       zoom_range=0.2)\n",
            " |  image_datagen = ImageDataGenerator(**data_gen_args)\n",
            " |  mask_datagen = ImageDataGenerator(**data_gen_args)\n",
            " |  # Provide the same seed and keyword arguments to the fit and flow methods\n",
            " |  seed = 1\n",
            " |  image_datagen.fit(images, augment=True, seed=seed)\n",
            " |  mask_datagen.fit(masks, augment=True, seed=seed)\n",
            " |  image_generator = image_datagen.flow_from_directory(\n",
            " |      'data/images',\n",
            " |      class_mode=None,\n",
            " |      seed=seed)\n",
            " |  mask_generator = mask_datagen.flow_from_directory(\n",
            " |      'data/masks',\n",
            " |      class_mode=None,\n",
            " |      seed=seed)\n",
            " |  # combine generators into one which yields image and masks\n",
            " |  train_generator = zip(image_generator, mask_generator)\n",
            " |  model.fit(\n",
            " |      train_generator,\n",
            " |      steps_per_epoch=2000,\n",
            " |      epochs=50)\n",
            " |  ```\n",
            " |  \n",
            " |  Methods defined here:\n",
            " |  \n",
            " |  __init__(self, featurewise_center=False, samplewise_center=False, featurewise_std_normalization=False, samplewise_std_normalization=False, zca_whitening=False, zca_epsilon=1e-06, rotation_range=0, width_shift_range=0.0, height_shift_range=0.0, brightness_range=None, shear_range=0.0, zoom_range=0.0, channel_shift_range=0.0, fill_mode='nearest', cval=0.0, horizontal_flip=False, vertical_flip=False, rescale=None, preprocessing_function=None, data_format=None, validation_split=0.0, interpolation_order=1, dtype=None)\n",
            " |      Initialize self.  See help(type(self)) for accurate signature.\n",
            " |  \n",
            " |  apply_transform(self, x, transform_parameters)\n",
            " |      Applies a transformation to an image according to given parameters.\n",
            " |      \n",
            " |      Args:\n",
            " |          x: 3D tensor, single image.\n",
            " |          transform_parameters: Dictionary with string - parameter pairs\n",
            " |              describing the transformation.\n",
            " |              Currently, the following parameters\n",
            " |              from the dictionary are used:\n",
            " |              - `'theta'`: Float. Rotation angle in degrees.\n",
            " |              - `'tx'`: Float. Shift in the x direction.\n",
            " |              - `'ty'`: Float. Shift in the y direction.\n",
            " |              - `'shear'`: Float. Shear angle in degrees.\n",
            " |              - `'zx'`: Float. Zoom in the x direction.\n",
            " |              - `'zy'`: Float. Zoom in the y direction.\n",
            " |              - `'flip_horizontal'`: Boolean. Horizontal flip.\n",
            " |              - `'flip_vertical'`: Boolean. Vertical flip.\n",
            " |              - `'channel_shift_intensity'`: Float. Channel shift intensity.\n",
            " |              - `'brightness'`: Float. Brightness shift intensity.\n",
            " |      \n",
            " |      Returns:\n",
            " |          A transformed version of the input (same shape).\n",
            " |  \n",
            " |  fit(self, x, augment=False, rounds=1, seed=None)\n",
            " |      Fits the data generator to some sample data.\n",
            " |      \n",
            " |      This computes the internal data stats related to the\n",
            " |      data-dependent transformations, based on an array of sample data.\n",
            " |      \n",
            " |      Only required if `featurewise_center` or\n",
            " |      `featurewise_std_normalization` or `zca_whitening` are set to True.\n",
            " |      \n",
            " |      When `rescale` is set to a value, rescaling is applied to\n",
            " |      sample data before computing the internal data stats.\n",
            " |      \n",
            " |      Args:\n",
            " |          x: Sample data. Should have rank 4.\n",
            " |           In case of grayscale data,\n",
            " |           the channels axis should have value 1, in case\n",
            " |           of RGB data, it should have value 3, and in case\n",
            " |           of RGBA data, it should have value 4.\n",
            " |          augment: Boolean (default: False).\n",
            " |              Whether to fit on randomly augmented samples.\n",
            " |          rounds: Int (default: 1).\n",
            " |              If using data augmentation (`augment=True`),\n",
            " |              this is how many augmentation passes over the data to use.\n",
            " |          seed: Int (default: None). Random seed.\n",
            " |  \n",
            " |  flow(self, x, y=None, batch_size=32, shuffle=True, sample_weight=None, seed=None, save_to_dir=None, save_prefix='', save_format='png', ignore_class_split=False, subset=None)\n",
            " |      Takes data & label arrays, generates batches of augmented data.\n",
            " |      \n",
            " |      Args:\n",
            " |          x: Input data. Numpy array of rank 4 or a tuple. If tuple, the first\n",
            " |            element should contain the images and the second element another numpy\n",
            " |            array or a list of numpy arrays that gets passed to the output without\n",
            " |            any modifications. Can be used to feed the model miscellaneous data\n",
            " |            along with the images. In case of grayscale data, the channels axis of\n",
            " |            the image array should have value 1, in case of RGB data, it should\n",
            " |            have value 3, and in case of RGBA data, it should have value 4.\n",
            " |          y: Labels.\n",
            " |          batch_size: Int (default: 32).\n",
            " |          shuffle: Boolean (default: True).\n",
            " |          sample_weight: Sample weights.\n",
            " |          seed: Int (default: None).\n",
            " |          save_to_dir: None or str (default: None). This allows you to optionally\n",
            " |            specify a directory to which to save the augmented pictures being\n",
            " |            generated (useful for visualizing what you are doing).\n",
            " |          save_prefix: Str (default: `''`). Prefix to use for filenames of saved\n",
            " |            pictures (only relevant if `save_to_dir` is set).\n",
            " |          save_format: one of \"png\", \"jpeg\", \"bmp\", \"pdf\", \"ppm\", \"gif\", \"tif\",\n",
            " |            \"jpg\" (only relevant if `save_to_dir` is set). Default: \"png\".\n",
            " |          ignore_class_split: Boolean (default: False), ignore difference\n",
            " |            in number of classes in labels across train and validation\n",
            " |            split (useful for non-classification tasks)\n",
            " |          subset: Subset of data (`\"training\"` or `\"validation\"`) if\n",
            " |            `validation_split` is set in `ImageDataGenerator`.\n",
            " |      \n",
            " |      Returns:\n",
            " |          An `Iterator` yielding tuples of `(x, y)`\n",
            " |              where `x` is a numpy array of image data\n",
            " |              (in the case of a single image input) or a list\n",
            " |              of numpy arrays (in the case with\n",
            " |              additional inputs) and `y` is a numpy array\n",
            " |              of corresponding labels. If 'sample_weight' is not None,\n",
            " |              the yielded tuples are of the form `(x, y, sample_weight)`.\n",
            " |              If `y` is None, only the numpy array `x` is returned.\n",
            " |      Raises:\n",
            " |        ValueError: If the Value of the argument, `subset` is other than\n",
            " |              \"training\" or \"validation\".\n",
            " |  \n",
            " |  flow_from_dataframe(self, dataframe, directory=None, x_col='filename', y_col='class', weight_col=None, target_size=(256, 256), color_mode='rgb', classes=None, class_mode='categorical', batch_size=32, shuffle=True, seed=None, save_to_dir=None, save_prefix='', save_format='png', subset=None, interpolation='nearest', validate_filenames=True, **kwargs)\n",
            " |      Takes the dataframe and the path to a directory + generates batches.\n",
            " |      \n",
            " |       The generated batches contain augmented/normalized data.\n",
            " |      \n",
            " |      **A simple tutorial can be found **[here](\n",
            " |                                  http://bit.ly/keras_flow_from_dataframe).\n",
            " |      \n",
            " |      Args:\n",
            " |          dataframe: Pandas dataframe containing the filepaths relative to\n",
            " |              `directory` (or absolute paths if `directory` is None) of the\n",
            " |              images in a string column. It should include other column/s\n",
            " |              depending on the `class_mode`:\n",
            " |              - if `class_mode` is `\"categorical\"` (default value) it must\n",
            " |                  include the `y_col` column with the class/es of each image.\n",
            " |                  Values in column can be string/list/tuple if a single class\n",
            " |                  or list/tuple if multiple classes.\n",
            " |              - if `class_mode` is `\"binary\"` or `\"sparse\"` it must include\n",
            " |                  the given `y_col` column with class values as strings.\n",
            " |              - if `class_mode` is `\"raw\"` or `\"multi_output\"` it should contain\n",
            " |              the columns specified in `y_col`.\n",
            " |              - if `class_mode` is `\"input\"` or `None` no extra column is needed.\n",
            " |          directory: string, path to the directory to read images from. If `None`,\n",
            " |            data in `x_col` column should be absolute paths.\n",
            " |          x_col: string, column in `dataframe` that contains the filenames (or\n",
            " |            absolute paths if `directory` is `None`).\n",
            " |          y_col: string or list, column/s in `dataframe` that has the target data.\n",
            " |          weight_col: string, column in `dataframe` that contains the sample\n",
            " |              weights. Default: `None`.\n",
            " |          target_size: tuple of integers `(height, width)`, default: `(256, 256)`.\n",
            " |            The dimensions to which all images found will be resized.\n",
            " |          color_mode: one of \"grayscale\", \"rgb\", \"rgba\". Default: \"rgb\". Whether\n",
            " |            the images will be converted to have 1 or 3 color channels.\n",
            " |          classes: optional list of classes (e.g. `['dogs', 'cats']`). Default is\n",
            " |            None. If not provided, the list of classes will be automatically\n",
            " |            inferred from the `y_col`, which will map to the label indices, will\n",
            " |            be alphanumeric). The dictionary containing the mapping from class\n",
            " |            names to class indices can be obtained via the attribute\n",
            " |            `class_indices`.\n",
            " |          class_mode: one of \"binary\", \"categorical\", \"input\", \"multi_output\",\n",
            " |              \"raw\", sparse\" or None. Default: \"categorical\".\n",
            " |              Mode for yielding the targets:\n",
            " |              - `\"binary\"`: 1D numpy array of binary labels,\n",
            " |              - `\"categorical\"`: 2D numpy array of one-hot encoded labels.\n",
            " |                Supports multi-label output.\n",
            " |              - `\"input\"`: images identical to input images (mainly used to work\n",
            " |                with autoencoders),\n",
            " |              - `\"multi_output\"`: list with the values of the different columns,\n",
            " |              - `\"raw\"`: numpy array of values in `y_col` column(s),\n",
            " |              - `\"sparse\"`: 1D numpy array of integer labels, - `None`, no targets\n",
            " |                are returned (the generator will only yield batches of image data,\n",
            " |                which is useful to use in `model.predict()`).\n",
            " |          batch_size: size of the batches of data (default: 32).\n",
            " |          shuffle: whether to shuffle the data (default: True)\n",
            " |          seed: optional random seed for shuffling and transformations.\n",
            " |          save_to_dir: None or str (default: None). This allows you to optionally\n",
            " |            specify a directory to which to save the augmented pictures being\n",
            " |            generated (useful for visualizing what you are doing).\n",
            " |          save_prefix: str. Prefix to use for filenames of saved pictures (only\n",
            " |            relevant if `save_to_dir` is set).\n",
            " |          save_format: one of \"png\", \"jpeg\", \"bmp\", \"pdf\", \"ppm\", \"gif\", \"tif\",\n",
            " |            \"jpg\" (only relevant if `save_to_dir` is set). Default: \"png\".\n",
            " |          subset: Subset of data (`\"training\"` or `\"validation\"`) if\n",
            " |            `validation_split` is set in `ImageDataGenerator`.\n",
            " |          interpolation: Interpolation method used to resample the image if the\n",
            " |            target size is different from that of the loaded image. Supported\n",
            " |            methods are `\"nearest\"`, `\"bilinear\"`, and `\"bicubic\"`. If PIL version\n",
            " |            1.1.3 or newer is installed, `\"lanczos\"` is also supported. If PIL\n",
            " |            version 3.4.0 or newer is installed, `\"box\"` and `\"hamming\"` are also\n",
            " |            supported. By default, `\"nearest\"` is used.\n",
            " |          validate_filenames: Boolean, whether to validate image filenames in\n",
            " |            `x_col`. If `True`, invalid images will be ignored. Disabling this\n",
            " |            option can lead to speed-up in the execution of this function.\n",
            " |            Defaults to `True`.\n",
            " |          **kwargs: legacy arguments for raising deprecation warnings.\n",
            " |      \n",
            " |      Returns:\n",
            " |          A `DataFrameIterator` yielding tuples of `(x, y)`\n",
            " |          where `x` is a numpy array containing a batch\n",
            " |          of images with shape `(batch_size, *target_size, channels)`\n",
            " |          and `y` is a numpy array of corresponding labels.\n",
            " |  \n",
            " |  flow_from_directory(self, directory, target_size=(256, 256), color_mode='rgb', classes=None, class_mode='categorical', batch_size=32, shuffle=True, seed=None, save_to_dir=None, save_prefix='', save_format='png', follow_links=False, subset=None, interpolation='nearest', keep_aspect_ratio=False)\n",
            " |      Takes the path to a directory & generates batches of augmented data.\n",
            " |      \n",
            " |      Args:\n",
            " |          directory: string, path to the target directory. It should contain one\n",
            " |            subdirectory per class. Any PNG, JPG, BMP, PPM or TIF images inside\n",
            " |            each of the subdirectories directory tree will be included in the\n",
            " |            generator. See [this script](\n",
            " |              https://gist.github.com/fchollet/0830affa1f7f19fd47b06d4cf89ed44d)\n",
            " |                for more details.\n",
            " |          target_size: Tuple of integers `(height, width)`, defaults to `(256,\n",
            " |            256)`. The dimensions to which all images found will be resized.\n",
            " |          color_mode: One of \"grayscale\", \"rgb\", \"rgba\". Default: \"rgb\". Whether\n",
            " |            the images will be converted to have 1, 3, or 4 channels.\n",
            " |          classes: Optional list of class subdirectories\n",
            " |              (e.g. `['dogs', 'cats']`). Default: None. If not provided, the list\n",
            " |                of classes will be automatically inferred from the subdirectory\n",
            " |                names/structure under `directory`, where each subdirectory will be\n",
            " |                treated as a different class (and the order of the classes, which\n",
            " |                will map to the label indices, will be alphanumeric). The\n",
            " |                dictionary containing the mapping from class names to class\n",
            " |                indices can be obtained via the attribute `class_indices`.\n",
            " |          class_mode: One of \"categorical\", \"binary\", \"sparse\",\n",
            " |              \"input\", or None. Default: \"categorical\".\n",
            " |              Determines the type of label arrays that are returned:\n",
            " |              - \"categorical\" will be 2D one-hot encoded labels,\n",
            " |              - \"binary\" will be 1D binary labels,\n",
            " |                  \"sparse\" will be 1D integer labels,\n",
            " |              - \"input\" will be images identical\n",
            " |                  to input images (mainly used to work with autoencoders).\n",
            " |              - If None, no labels are returned\n",
            " |                (the generator will only yield batches of image data,\n",
            " |                which is useful to use with `model.predict_generator()`).\n",
            " |                Please note that in case of class_mode None,\n",
            " |                the data still needs to reside in a subdirectory\n",
            " |                of `directory` for it to work correctly.\n",
            " |          batch_size: Size of the batches of data (default: 32).\n",
            " |          shuffle: Whether to shuffle the data (default: True) If set to False,\n",
            " |            sorts the data in alphanumeric order.\n",
            " |          seed: Optional random seed for shuffling and transformations.\n",
            " |          save_to_dir: None or str (default: None). This allows you to optionally\n",
            " |            specify a directory to which to save the augmented pictures being\n",
            " |            generated (useful for visualizing what you are doing).\n",
            " |          save_prefix: Str. Prefix to use for filenames of saved pictures (only\n",
            " |            relevant if `save_to_dir` is set).\n",
            " |          save_format: one of \"png\", \"jpeg\", \"bmp\", \"pdf\", \"ppm\", \"gif\", \"tif\",\n",
            " |            \"jpg\"\n",
            " |              (only relevant if `save_to_dir` is set). Default: \"png\".\n",
            " |          follow_links: Whether to follow symlinks inside\n",
            " |              class subdirectories (default: False).\n",
            " |          subset: Subset of data (`\"training\"` or `\"validation\"`) if\n",
            " |            `validation_split` is set in `ImageDataGenerator`.\n",
            " |          interpolation: Interpolation method used to resample the image if the\n",
            " |            target size is different from that of the loaded image. Supported\n",
            " |            methods are `\"nearest\"`, `\"bilinear\"`, and `\"bicubic\"`. If PIL version\n",
            " |            1.1.3 or newer is installed, `\"lanczos\"` is also supported. If PIL\n",
            " |            version 3.4.0 or newer is installed, `\"box\"` and `\"hamming\"` are also\n",
            " |            supported. By default, `\"nearest\"` is used.\n",
            " |          keep_aspect_ratio: Boolean, whether to resize images to a target\n",
            " |            size without aspect ratio distortion. The image is cropped in\n",
            " |            the center with target aspect ratio before resizing.\n",
            " |      \n",
            " |      Returns:\n",
            " |          A `DirectoryIterator` yielding tuples of `(x, y)`\n",
            " |              where `x` is a numpy array containing a batch\n",
            " |              of images with shape `(batch_size, *target_size, channels)`\n",
            " |              and `y` is a numpy array of corresponding labels.\n",
            " |  \n",
            " |  get_random_transform(self, img_shape, seed=None)\n",
            " |      Generates random parameters for a transformation.\n",
            " |      \n",
            " |      Args:\n",
            " |          img_shape: Tuple of integers.\n",
            " |              Shape of the image that is transformed.\n",
            " |          seed: Random seed.\n",
            " |      \n",
            " |      Returns:\n",
            " |          A dictionary containing randomly chosen parameters describing the\n",
            " |          transformation.\n",
            " |  \n",
            " |  random_transform(self, x, seed=None)\n",
            " |      Applies a random transformation to an image.\n",
            " |      \n",
            " |      Args:\n",
            " |          x: 3D tensor, single image.\n",
            " |          seed: Random seed.\n",
            " |      \n",
            " |      Returns:\n",
            " |          A randomly transformed version of the input (same shape).\n",
            " |  \n",
            " |  standardize(self, x)\n",
            " |      Applies the normalization configuration in-place to a batch of inputs.\n",
            " |      \n",
            " |      `x` is changed in-place since the function is mainly used internally\n",
            " |      to standardize images and feed them to your network. If a copy of `x`\n",
            " |      would be created instead it would have a significant performance cost.\n",
            " |      If you want to apply this method without changing the input in-place\n",
            " |      you can call the method creating a copy before:\n",
            " |      \n",
            " |      standardize(np.copy(x))\n",
            " |      \n",
            " |      Args:\n",
            " |          x: Batch of inputs to be normalized.\n",
            " |      \n",
            " |      Returns:\n",
            " |          The inputs, normalized.\n",
            " |  \n",
            " |  ----------------------------------------------------------------------\n",
            " |  Data descriptors defined here:\n",
            " |  \n",
            " |  __dict__\n",
            " |      dictionary for instance variables (if defined)\n",
            " |  \n",
            " |  __weakref__\n",
            " |      list of weak references to the object (if defined)\n",
            "\n"
          ]
        }
      ]
    },
    {
      "cell_type": "code",
      "metadata": {
        "id": "Ql8CzX8mrI2h"
      },
      "source": [
        "# 4.3.2\n",
        "# See http://cs231n.github.io/neural-networks-2/\n",
        "# featurewise_center\n",
        "#     Mean subtraction is the most common form of preprocessing.\n",
        "#     It involves subtracting the mean across every individual\n",
        "#     feature in the data, and has the geometric interpretation\n",
        "#     of centering the cloud of data around the origin along\n",
        "#     every dimension. In numpy, this operation would be\n",
        "#     implemented as: X -= np.mean(X, axis = 0).\n",
        "#     With images specifically, for convenience it can be common\n",
        "#     to subtract a single value from all pixels (e.g. X -= np.mean(X)),\n",
        "#     or to do so separately across the three color channels.\n",
        "# featurewise_std_normalization\n",
        "#     Normalization refers to normalizing the data dimensions\n",
        "#     so that they are of approximately the same scale. There\n",
        "#     are two common ways of achieving this normalization.\n",
        "#     One is to divide each dimension by its standard deviation,\n",
        "#     once it has been zero-centered: (X /= np.std(X, axis = 0)).\n",
        "#     Another form of this preprocessing normalizes each dimension\n",
        "#     so that the min and max along the dimension is -1 and 1 respectively.\n",
        "#     It only makes sense to apply this preprocessing if you have a reason\n",
        "#     to believe that different input features have different scales\n",
        "#     (or units), but they should be of approximately equal importance\n",
        "#     to the learning algorithm. In case of images, the relative scales\n",
        "#     of pixels are already approximately equal (and in range from 0 to 255),\n",
        "#     so it is not strictly necessary to perform this additional preprocessing step.\n"
      ],
      "execution_count": null,
      "outputs": []
    },
    {
      "cell_type": "code",
      "metadata": {
        "id": "EHMVZ2BRrK6Z",
        "colab": {
          "base_uri": "https://localhost:8080/"
        },
        "outputId": "868ef719-c667-499e-8c84-fbdf84040d77"
      },
      "source": [
        "# 4.3.3 Learner object\n",
        "datagen = ImageDataGenerator(\n",
        "                             zca_whitening=True,  # Ref: Kaggle: https://www.kaggle.com/nicw102168/exploring-zca-and-color-image-whitening\n",
        "\t\t\t\t\t\t\t                      # ZCA is a whitening transformation that decorrelates\n",
        "\t\t\t\t\t\t\t                      # (whiten) the data (image). De-correlation implies\n",
        "\t\t\t\t\t\t\t\t\t\t\t\t            # removing linear dependencies. In images lot of\n",
        "\t\t\t\t\t\t\t\t\t\t\t\t            # correlation exists between adjacent pixels.\n",
        "\t\t\t\t\t\t\t\t\t\t\t\t            # zca is a technique to remove this 'common information'\n",
        "\t\t\t\t\t\t\t\t\t\t\t\t            # between pixels. Consider this: We have a rectangle\n",
        "\t\t\t\t\t\t\t\t\t\t\t\t            # which is filled with white colour inside and outside\n",
        "\t\t\t\t\t\t\t\t\t\t\t\t            # colour is totally black. That is we have a black\n",
        "\t\t\t\t\t\t\t\t\t\t\t\t            # rectangle on which is superimposed white rectangle.\n",
        "\t\t\t\t\t\t\t\t\t\t\t\t            # If common information is removed, result will be\n",
        "\t\t\t\t\t\t\t\t\t\t\t\t            # just a 'white-boundary' of inner rectangle and\n",
        "\t\t\t\t\t\t\t\t\t\t\t\t            # both outside and inside of it completely black. We\n",
        "\t\t\t\t\t\t\t\t\t\t\t\t            # have, therefore, a sort of embossed picture.\n",
        "\t\t\t\t\t\t\t\t\t\t\t\t            # ==>  Transforms the image to a sort of embossed image <==\n",
        "\t\t\t\t\t\t\t\t\t\t\t\t            # That is effect of ZCA on 244,244,244,10,10,10,10 would be\n",
        "\t\t\t\t\t\t\t\t\t\t\t\t            #  approx: 0,0,244,0,0,0,0\n",
        "\t\t\t\t\t\t\t\t\t\t\t\t            # Less redundancy in the image is intended to better\n",
        "\t\t\t\t\t\t\t\t\t\t\t\t            #  highlight the structures and features in the image\n",
        "\t\t\t\t\t\t\t\t\t\t\t\t            #   to the learning algorithm. \n",
        "                             zca_epsilon=0.001,   # Sharpness of edges when data get decorrelated\n",
        "\t\t\t\t\t\t\t                      # See this link to check effect of zca_epsilon on image\n",
        "\t\t\t\t\t\t\t                      # https://stats.stackexchange.com/a/117459\n",
        "                             featurewise_center=True,\n",
        "                             featurewise_std_normalization=True\n",
        "                            )"
      ],
      "execution_count": null,
      "outputs": [
        {
          "output_type": "stream",
          "name": "stderr",
          "text": [
            "/usr/local/lib/python3.8/dist-packages/keras/preprocessing/image.py:1290: UserWarning: This ImageDataGenerator specifies `zca_whitening` which overrides setting of`featurewise_std_normalization`.\n",
            "  warnings.warn('This ImageDataGenerator specifies '\n"
          ]
        }
      ]
    },
    {
      "cell_type": "code",
      "metadata": {
        "id": "z4YvqTSgrOeI",
        "colab": {
          "base_uri": "https://localhost:8080/"
        },
        "outputId": "f35fbc9e-58e6-4daa-c555-fcbf066970ab"
      },
      "source": [
        "# 4.3.4 Neither iterable with __iter__method\n",
        "#        nor iterator with __next__() method:\n",
        "\n",
        "type(datagen)\t\t # ImageDataGenerator object\n",
        "                 #  It is neither an iterable nor an interator object \n",
        "                 #    It neither has __iter__() method or has __next__() method"
      ],
      "execution_count": null,
      "outputs": [
        {
          "output_type": "execute_result",
          "data": {
            "text/plain": [
              "keras.preprocessing.image.ImageDataGenerator"
            ]
          },
          "metadata": {},
          "execution_count": 20
        }
      ]
    },
    {
      "cell_type": "code",
      "metadata": {
        "id": "obgdOWYprQ8y"
      },
      "source": [
        "# 4.4 Learn statistics of actual data, train\n",
        "#     If you JUMP this step, you get a warning while plotting:\n",
        "#     This ImageDataGenerator specifies `featurewise_center`, but it\n",
        "#       hasn't been fit on any training data. Fit it\n",
        "#        first by calling `.fit(numpy_data)`.\n",
        "\n",
        "# 4.4.1 Learn data now\n",
        "datagen.fit(X_train)"
      ],
      "execution_count": null,
      "outputs": []
    },
    {
      "cell_type": "markdown",
      "metadata": {
        "id": "I5yy24xQsUhB"
      },
      "source": [
        "flow() method:<br>\n",
        "Returns an Iterator yielding tuples of (x, y) where x is a numpy array of image data (in the case of a single image input) or a list of numpy arrays (in the case with additional inputs) and y is a numpy array of corresponding labels."
      ]
    },
    {
      "cell_type": "code",
      "metadata": {
        "id": "lt4Dy44ErUjH"
      },
      "source": [
        "# 4.5 'datagen' itself is an iterator. One can Iterate\n",
        "#     over it to get images. But this iterator needs\n",
        "#     to be configured using flow() method to decide\n",
        "#     upon batch size to output at a time.\n",
        "#     Create first the datagen.flow() iterator\n",
        "\n",
        "# 4.4.2 Get iterator object. Iterator returns both\n",
        "#       transformed data as also its label\n",
        "\n",
        "batch_gen_iterator = datagen.flow(\n",
        "                                   X_train,\n",
        "                                   y_train,\n",
        "                                   batch_size=2      # How many images to return at a time\n",
        "                                  )"
      ],
      "execution_count": null,
      "outputs": []
    },
    {
      "cell_type": "code",
      "source": [
        "t=next(batch_gen_iterator)"
      ],
      "metadata": {
        "id": "k0WmCyEP0QCv"
      },
      "execution_count": null,
      "outputs": []
    },
    {
      "cell_type": "code",
      "source": [
        "type(t)"
      ],
      "metadata": {
        "colab": {
          "base_uri": "https://localhost:8080/"
        },
        "id": "AJ9CtXye0Xrg",
        "outputId": "ab5d2ce2-2b3f-4939-f4b3-90c2d4b7c047"
      },
      "execution_count": null,
      "outputs": [
        {
          "output_type": "execute_result",
          "data": {
            "text/plain": [
              "tuple"
            ]
          },
          "metadata": {},
          "execution_count": 26
        }
      ]
    },
    {
      "cell_type": "code",
      "source": [
        "t[0]"
      ],
      "metadata": {
        "colab": {
          "base_uri": "https://localhost:8080/"
        },
        "id": "4soJtBih2RMJ",
        "outputId": "6f79f7a0-872c-461b-c7da-6d18c20229eb"
      },
      "execution_count": null,
      "outputs": [
        {
          "output_type": "execute_result",
          "data": {
            "text/plain": [
              "array([[[[-0.04597687],\n",
              "         [-0.04597687],\n",
              "         [-0.04597687],\n",
              "         ...,\n",
              "         [-0.04597687],\n",
              "         [-0.04597687],\n",
              "         [-0.04597687]],\n",
              "\n",
              "        [[-0.04597687],\n",
              "         [-0.04597687],\n",
              "         [-0.04597687],\n",
              "         ...,\n",
              "         [-0.04597687],\n",
              "         [-0.04597687],\n",
              "         [-0.04597687]],\n",
              "\n",
              "        [[-0.04597687],\n",
              "         [-0.04597687],\n",
              "         [-0.04597687],\n",
              "         ...,\n",
              "         [-0.04597687],\n",
              "         [-0.04597687],\n",
              "         [-0.04597687]],\n",
              "\n",
              "        ...,\n",
              "\n",
              "        [[-0.04597687],\n",
              "         [-0.04597687],\n",
              "         [-0.04597687],\n",
              "         ...,\n",
              "         [-0.04597687],\n",
              "         [-0.04597687],\n",
              "         [-0.04597687]],\n",
              "\n",
              "        [[-0.04597687],\n",
              "         [-0.04597687],\n",
              "         [-0.04597687],\n",
              "         ...,\n",
              "         [-0.04597687],\n",
              "         [-0.04597687],\n",
              "         [-0.04597687]],\n",
              "\n",
              "        [[-0.04597687],\n",
              "         [-0.04597687],\n",
              "         [-0.04597687],\n",
              "         ...,\n",
              "         [-0.04597694],\n",
              "         [-0.04597694],\n",
              "         [-0.04597694]]],\n",
              "\n",
              "\n",
              "       [[[-0.07715898],\n",
              "         [-0.07715898],\n",
              "         [-0.07715898],\n",
              "         ...,\n",
              "         [-0.07715905],\n",
              "         [-0.07715905],\n",
              "         [-0.07715905]],\n",
              "\n",
              "        [[-0.07715905],\n",
              "         [-0.07715905],\n",
              "         [-0.07715905],\n",
              "         ...,\n",
              "         [-0.07715905],\n",
              "         [-0.07715905],\n",
              "         [-0.07715905]],\n",
              "\n",
              "        [[-0.07715905],\n",
              "         [-0.07715905],\n",
              "         [-0.07715905],\n",
              "         ...,\n",
              "         [-0.07715905],\n",
              "         [-0.07715905],\n",
              "         [-0.07715905]],\n",
              "\n",
              "        ...,\n",
              "\n",
              "        [[-0.07715905],\n",
              "         [-0.07715905],\n",
              "         [-0.07715905],\n",
              "         ...,\n",
              "         [-0.07715905],\n",
              "         [-0.07715905],\n",
              "         [-0.07715905]],\n",
              "\n",
              "        [[-0.07715905],\n",
              "         [-0.07715905],\n",
              "         [-0.07715905],\n",
              "         ...,\n",
              "         [-0.07715905],\n",
              "         [-0.07715905],\n",
              "         [-0.07715905]],\n",
              "\n",
              "        [[-0.07715905],\n",
              "         [-0.07715905],\n",
              "         [-0.07715905],\n",
              "         ...,\n",
              "         [-0.07715897],\n",
              "         [-0.07715897],\n",
              "         [-0.07715897]]]], dtype=float32)"
            ]
          },
          "metadata": {},
          "execution_count": 27
        }
      ]
    },
    {
      "cell_type": "code",
      "source": [
        "plt.imshow(t[0][0].reshape(28,28))"
      ],
      "metadata": {
        "colab": {
          "base_uri": "https://localhost:8080/",
          "height": 282
        },
        "id": "3bO-PdYv0iBB",
        "outputId": "5a4cc127-e5e3-4efa-9f4e-383f25928cd5"
      },
      "execution_count": null,
      "outputs": [
        {
          "output_type": "execute_result",
          "data": {
            "text/plain": [
              "<matplotlib.image.AxesImage at 0x7f0d9cae6f70>"
            ]
          },
          "metadata": {},
          "execution_count": 28
        },
        {
          "output_type": "display_data",
          "data": {
            "text/plain": [
              "<Figure size 432x288 with 1 Axes>"
            ],
            "image/png": "[encoded data removed]"
          },
          "metadata": {
            "needs_background": "light"
          }
        }
      ]
    },
    {
      "cell_type": "code",
      "metadata": {
        "id": "6QzxSZ16rXdd",
        "colab": {
          "base_uri": "https://localhost:8080/"
        },
        "outputId": "cb318415-5946-4b9c-f14f-b8b5819e7476"
      },
      "source": [
        "  # 4.4.3 This is an iterator\n",
        "type(batch_gen_iterator)\t\t# Iterator object that retruns numpy arrays\n",
        "print(\"\\n========\\n\")\n",
        "\n",
        "# 4.4.4 Also has an __next__() method\n",
        "batch_gen_iterator.__next__()\n",
        "print(\"\\n========\\n\")\n"
      ],
      "execution_count": null,
      "outputs": [
        {
          "output_type": "execute_result",
          "data": {
            "text/plain": [
              "keras.preprocessing.image.NumpyArrayIterator"
            ]
          },
          "metadata": {},
          "execution_count": 29
        },
        {
          "output_type": "stream",
          "name": "stdout",
          "text": [
            "\n",
            "========\n",
            "\n"
          ]
        },
        {
          "output_type": "execute_result",
          "data": {
            "text/plain": [
              "(array([[[[-0.07872608],\n",
              "          [-0.07872608],\n",
              "          [-0.07872608],\n",
              "          ...,\n",
              "          [-0.07872599],\n",
              "          [-0.07872599],\n",
              "          [-0.07872599]],\n",
              " \n",
              "         [[-0.07872599],\n",
              "          [-0.07872599],\n",
              "          [-0.07872599],\n",
              "          ...,\n",
              "          [-0.07872599],\n",
              "          [-0.07872599],\n",
              "          [-0.07872599]],\n",
              " \n",
              "         [[-0.07872599],\n",
              "          [-0.07872599],\n",
              "          [-0.07872599],\n",
              "          ...,\n",
              "          [-0.07872599],\n",
              "          [-0.07872599],\n",
              "          [-0.07872599]],\n",
              " \n",
              "         ...,\n",
              " \n",
              "         [[-0.07872599],\n",
              "          [-0.07872599],\n",
              "          [-0.07872599],\n",
              "          ...,\n",
              "          [-0.07872599],\n",
              "          [-0.07872599],\n",
              "          [-0.07872599]],\n",
              " \n",
              "         [[-0.07872599],\n",
              "          [-0.07872599],\n",
              "          [-0.07872599],\n",
              "          ...,\n",
              "          [-0.07872599],\n",
              "          [-0.07872599],\n",
              "          [-0.07872599]],\n",
              " \n",
              "         [[-0.07872599],\n",
              "          [-0.07872599],\n",
              "          [-0.07872599],\n",
              "          ...,\n",
              "          [-0.07872602],\n",
              "          [-0.07872602],\n",
              "          [-0.07872602]]],\n",
              " \n",
              " \n",
              "        [[[-0.13869965],\n",
              "          [-0.13869965],\n",
              "          [-0.13869965],\n",
              "          ...,\n",
              "          [-0.13869968],\n",
              "          [-0.13869968],\n",
              "          [-0.13869968]],\n",
              " \n",
              "         [[-0.13869968],\n",
              "          [-0.13869968],\n",
              "          [-0.13869968],\n",
              "          ...,\n",
              "          [-0.13869968],\n",
              "          [-0.13869968],\n",
              "          [-0.13869968]],\n",
              " \n",
              "         [[-0.13869968],\n",
              "          [-0.13869968],\n",
              "          [-0.13869968],\n",
              "          ...,\n",
              "          [-0.13869968],\n",
              "          [-0.13869968],\n",
              "          [-0.13869968]],\n",
              " \n",
              "         ...,\n",
              " \n",
              "         [[-0.13869968],\n",
              "          [-0.13869968],\n",
              "          [-0.13869968],\n",
              "          ...,\n",
              "          [-0.13869968],\n",
              "          [-0.13869968],\n",
              "          [-0.13869968]],\n",
              " \n",
              "         [[-0.13869968],\n",
              "          [-0.13869968],\n",
              "          [-0.13869968],\n",
              "          ...,\n",
              "          [-0.13869968],\n",
              "          [-0.13869968],\n",
              "          [-0.13869968]],\n",
              " \n",
              "         [[-0.13869968],\n",
              "          [-0.13869968],\n",
              "          [-0.13869968],\n",
              "          ...,\n",
              "          [-0.13869962],\n",
              "          [-0.13869962],\n",
              "          [-0.13869962]]]], dtype=float32), array([3, 7], dtype=uint8))"
            ]
          },
          "metadata": {},
          "execution_count": 29
        },
        {
          "output_type": "stream",
          "name": "stdout",
          "text": [
            "\n",
            "========\n",
            "\n"
          ]
        }
      ]
    },
    {
      "cell_type": "code",
      "source": [
        "# 4.4.4\n",
        "# The above format of X_train can be understood by\n",
        "#   looking at the following 4D structure:\n",
        "np.array(range(24)).reshape(4,3,2,1)"
      ],
      "metadata": {
        "id": "S7MvAulsXjf9",
        "colab": {
          "base_uri": "https://localhost:8080/"
        },
        "outputId": "f87f0d10-e273-466a-f5e3-9ee5fdecf41f"
      },
      "execution_count": null,
      "outputs": [
        {
          "output_type": "execute_result",
          "data": {
            "text/plain": [
              "array([[[[ 0],\n",
              "         [ 1]],\n",
              "\n",
              "        [[ 2],\n",
              "         [ 3]],\n",
              "\n",
              "        [[ 4],\n",
              "         [ 5]]],\n",
              "\n",
              "\n",
              "       [[[ 6],\n",
              "         [ 7]],\n",
              "\n",
              "        [[ 8],\n",
              "         [ 9]],\n",
              "\n",
              "        [[10],\n",
              "         [11]]],\n",
              "\n",
              "\n",
              "       [[[12],\n",
              "         [13]],\n",
              "\n",
              "        [[14],\n",
              "         [15]],\n",
              "\n",
              "        [[16],\n",
              "         [17]]],\n",
              "\n",
              "\n",
              "       [[[18],\n",
              "         [19]],\n",
              "\n",
              "        [[20],\n",
              "         [21]],\n",
              "\n",
              "        [[22],\n",
              "         [23]]]])"
            ]
          },
          "metadata": {},
          "execution_count": 30
        }
      ]
    },
    {
      "cell_type": "code",
      "source": [
        "# 4.4.5 Does it have __iter__() method:\n",
        "batch_gen_iterator.__iter__()\n",
        "print(\"\\n========\\n\")"
      ],
      "metadata": {
        "colab": {
          "base_uri": "https://localhost:8080/"
        },
        "id": "z4xuud1fS-0J",
        "outputId": "17f57ca3-5932-415e-825c-df2706a7e4d7"
      },
      "execution_count": null,
      "outputs": [
        {
          "output_type": "execute_result",
          "data": {
            "text/plain": [
              "<keras.preprocessing.image.NumpyArrayIterator at 0x7f0d9cae18e0>"
            ]
          },
          "metadata": {},
          "execution_count": 31
        },
        {
          "output_type": "stream",
          "name": "stdout",
          "text": [
            "\n",
            "========\n",
            "\n"
          ]
        }
      ]
    },
    {
      "cell_type": "code",
      "metadata": {
        "id": "8TlypHdEraqO",
        "colab": {
          "base_uri": "https://localhost:8080/"
        },
        "outputId": "f2cb00e8-95c9-4ba4-db93-b1be62a187da"
      },
      "source": [
        "# 4.5.1 Use (image) iterator, just to verify\n",
        "# Get first batch of images and labels\n",
        "\n",
        "img_batch = batch_gen_iterator\n",
        "x,y = next(img_batch)\n",
        "type(x)          # numpy.ndarray\n",
        "type(y)\t\t\t     # numpy.ndarray\n",
        "print(\"\\n======\\n\")\n",
        "x.shape          # Batch of 9 images of shape (28, 28, 1)\n",
        "print(\"\\n======\\n\")\n",
        "x[0].shape       # (28, 28, 1)\n",
        "print(\"\\n======\\n\")\n",
        "\n",
        "y.shape          # (9,) : One label for each image\n",
        "print(\"\\n======\\n\")\n",
        "y                # Get all nine labels"
      ],
      "execution_count": null,
      "outputs": [
        {
          "output_type": "execute_result",
          "data": {
            "text/plain": [
              "numpy.ndarray"
            ]
          },
          "metadata": {},
          "execution_count": 32
        },
        {
          "output_type": "execute_result",
          "data": {
            "text/plain": [
              "numpy.ndarray"
            ]
          },
          "metadata": {},
          "execution_count": 32
        },
        {
          "output_type": "stream",
          "name": "stdout",
          "text": [
            "\n",
            "======\n",
            "\n"
          ]
        },
        {
          "output_type": "execute_result",
          "data": {
            "text/plain": [
              "(2, 28, 28, 1)"
            ]
          },
          "metadata": {},
          "execution_count": 32
        },
        {
          "output_type": "stream",
          "name": "stdout",
          "text": [
            "\n",
            "======\n",
            "\n"
          ]
        },
        {
          "output_type": "execute_result",
          "data": {
            "text/plain": [
              "(28, 28, 1)"
            ]
          },
          "metadata": {},
          "execution_count": 32
        },
        {
          "output_type": "stream",
          "name": "stdout",
          "text": [
            "\n",
            "======\n",
            "\n"
          ]
        },
        {
          "output_type": "execute_result",
          "data": {
            "text/plain": [
              "(2,)"
            ]
          },
          "metadata": {},
          "execution_count": 32
        },
        {
          "output_type": "stream",
          "name": "stdout",
          "text": [
            "\n",
            "======\n",
            "\n"
          ]
        },
        {
          "output_type": "execute_result",
          "data": {
            "text/plain": [
              "array([2, 1], dtype=uint8)"
            ]
          },
          "metadata": {},
          "execution_count": 32
        }
      ]
    },
    {
      "cell_type": "code",
      "metadata": {
        "id": "Irey_LI_rezi",
        "colab": {
          "base_uri": "https://localhost:8080/",
          "height": 282
        },
        "outputId": "278990e1-6d61-4501-cfea-d284ebde4bb4"
      },
      "source": [
        "# 4.5.2 Reshape first image & plot\n",
        "x = x[0].reshape(28,28)   # Get one image\n",
        "plt.imshow(x,cmap=plt.cm.gray)"
      ],
      "execution_count": null,
      "outputs": [
        {
          "output_type": "execute_result",
          "data": {
            "text/plain": [
              "<matplotlib.image.AxesImage at 0x7f0d9a8ce190>"
            ]
          },
          "metadata": {},
          "execution_count": 33
        },
        {
          "output_type": "display_data",
          "data": {
            "text/plain": [
              "<Figure size 432x288 with 1 Axes>"
            ],
            "image/png": "[encoded data removed]"
          },
          "metadata": {
            "needs_background": "light"
          }
        }
      ]
    },
    {
      "cell_type": "code",
      "metadata": {
        "id": "ZmcmWKYlrkZY",
        "colab": {
          "base_uri": "https://localhost:8080/",
          "height": 282
        },
        "outputId": "bcc1ca2e-7ae3-4ea7-db34-9069661432cf"
      },
      "source": [
        "# 4.5.3 Same as above again\n",
        "x,y = next(img_batch)\n",
        "x = x[0].reshape(28,28)   # Get one image\n",
        "plt.imshow(x, cmap=plt.get_cmap('gray'))"
      ],
      "execution_count": null,
      "outputs": [
        {
          "output_type": "execute_result",
          "data": {
            "text/plain": [
              "<matplotlib.image.AxesImage at 0x7f0d9a89f2b0>"
            ]
          },
          "metadata": {},
          "execution_count": 34
        },
        {
          "output_type": "display_data",
          "data": {
            "text/plain": [
              "<Figure size 432x288 with 1 Axes>"
            ],
            "image/png": "[encoded data removed]"
          },
          "metadata": {
            "needs_background": "light"
          }
        }
      ]
    },
    {
      "cell_type": "markdown",
      "source": [
        "## Plot images:"
      ],
      "metadata": {
        "id": "n3fCZwRK9no5"
      }
    },
    {
      "cell_type": "code",
      "metadata": {
        "id": "Jyh6eiFVrlPJ"
      },
      "source": [
        "# 4.6 Configure batch size and retrieve one batch of images\n",
        "def plot_images(dg):\n",
        "\tfor X_batch, y_batch in dg.flow(X_train, y_train, batch_size=9):\n",
        "\t\t# create a grid of 3x3 images\n",
        "\t\tfor i in range(0, 9):\n",
        "\t\t\tplt.subplot(330 + 1 + i)\n",
        "\t\t\timg = X_batch[i].reshape(28, 28)\n",
        "\t\t\tplt.imshow(img, cmap=plt.cm.gray)\n",
        "\t\t# show the plot\n",
        "\t\tplt.show()\n",
        "\t\tbreak"
      ],
      "execution_count": null,
      "outputs": []
    },
    {
      "cell_type": "code",
      "metadata": {
        "id": "wJoWjCxXroEJ",
        "colab": {
          "base_uri": "https://localhost:8080/",
          "height": 235
        },
        "outputId": "2beabae3-7efb-45ea-e810-61eb3a894eca"
      },
      "source": [
        "# 4.7 Iterate over data-generator to get images in batches\n",
        "#     embossing is clearer in these images\n",
        "#     'Emboss means image stands out in relief'\n",
        "plot_images(dg)       # Plot a batch of nine images\n",
        "plot_images(dg)       # Plot another batch of nine images\n",
        "plot_images(dg)\n"
      ],
      "execution_count": null,
      "outputs": [
        {
          "output_type": "error",
          "ename": "NameError",
          "evalue": "ignored",
          "traceback": [
            "\u001b[0;31m---------------------------------------------------------------------------\u001b[0m",
            "\u001b[0;31mNameError\u001b[0m                                 Traceback (most recent call last)",
            "\u001b[0;32m<ipython-input-37-37adb49a309d>\u001b[0m in \u001b[0;36m<module>\u001b[0;34m\u001b[0m\n\u001b[1;32m      2\u001b[0m \u001b[0;31m#     embossing is clearer in these images\u001b[0m\u001b[0;34m\u001b[0m\u001b[0;34m\u001b[0m\u001b[0;34m\u001b[0m\u001b[0m\n\u001b[1;32m      3\u001b[0m \u001b[0;31m#     'Emboss means image stands out in relief'\u001b[0m\u001b[0;34m\u001b[0m\u001b[0;34m\u001b[0m\u001b[0;34m\u001b[0m\u001b[0m\n\u001b[0;32m----> 4\u001b[0;31m \u001b[0mplot_images\u001b[0m\u001b[0;34m(\u001b[0m\u001b[0mdg\u001b[0m\u001b[0;34m)\u001b[0m       \u001b[0;31m# Plot a batch of nine images\u001b[0m\u001b[0;34m\u001b[0m\u001b[0;34m\u001b[0m\u001b[0m\n\u001b[0m\u001b[1;32m      5\u001b[0m \u001b[0mplot_images\u001b[0m\u001b[0;34m(\u001b[0m\u001b[0mdg\u001b[0m\u001b[0;34m)\u001b[0m       \u001b[0;31m# Plot another batch of nine images\u001b[0m\u001b[0;34m\u001b[0m\u001b[0;34m\u001b[0m\u001b[0m\n\u001b[1;32m      6\u001b[0m \u001b[0mplot_images\u001b[0m\u001b[0;34m(\u001b[0m\u001b[0mdg\u001b[0m\u001b[0;34m)\u001b[0m\u001b[0;34m\u001b[0m\u001b[0;34m\u001b[0m\u001b[0m\n",
            "\u001b[0;31mNameError\u001b[0m: name 'dg' is not defined"
          ]
        }
      ]
    },
    {
      "cell_type": "code",
      "source": [
        "# 4.8 Running above example one can see that the effect is different,\n",
        "#     seemingly somewhat darkening and lightening different digits."
      ],
      "metadata": {
        "id": "x2UnhzxVaaDc"
      },
      "execution_count": null,
      "outputs": []
    },
    {
      "cell_type": "markdown",
      "source": [
        "## Rerieve data again"
      ],
      "metadata": {
        "id": "XpL1M0Bk9ujK"
      }
    },
    {
      "cell_type": "code",
      "metadata": {
        "id": "sQ_OxUgsryhI",
        "colab": {
          "base_uri": "https://localhost:8080/"
        },
        "outputId": "a89b20ea-8033-4883-9f38-a9e79b02330a"
      },
      "source": [
        "# 5.1 Let us retrieve/reshape again X_train, y_train\n",
        "#     from original data\n",
        "x_tr.shape\n",
        "X_train = x_tr.reshape(60000, 28, 28,1)\n",
        "X_test = x_te.reshape(10000,  28, 28,1)\n",
        "X_train = X_train.astype('float32')\n",
        "X_test = X_test.astype('float32')\n",
        "X_train = X_train[:400,...]\n",
        "y_train = y_tr[:400,...]"
      ],
      "execution_count": null,
      "outputs": [
        {
          "output_type": "execute_result",
          "data": {
            "text/plain": [
              "(60000, 28, 28)"
            ]
          },
          "metadata": {},
          "execution_count": 38
        }
      ]
    },
    {
      "cell_type": "code",
      "metadata": {
        "id": "HkeFMiQWr3Z_",
        "colab": {
          "base_uri": "https://localhost:8080/"
        },
        "outputId": "a2449fbb-a274-4ea4-dceb-5038277ab2d5"
      },
      "source": [
        "# 5.2 Reshaped to be [NoOfSamples][width][height][channel]\n",
        "X_train.shape\n",
        "X_test.shape"
      ],
      "execution_count": null,
      "outputs": [
        {
          "output_type": "execute_result",
          "data": {
            "text/plain": [
              "(400, 28, 28, 1)"
            ]
          },
          "metadata": {},
          "execution_count": 39
        },
        {
          "output_type": "execute_result",
          "data": {
            "text/plain": [
              "(10000, 28, 28, 1)"
            ]
          },
          "metadata": {},
          "execution_count": 39
        }
      ]
    },
    {
      "cell_type": "markdown",
      "source": [
        "## Image Data Generator--Rotation"
      ],
      "metadata": {
        "id": "vsTSM5mOaTCD"
      }
    },
    {
      "cell_type": "code",
      "source": [
        "######################## CC ##################################\n",
        "#### Rotation of images"
      ],
      "metadata": {
        "id": "BKhT8zgOaWp7"
      },
      "execution_count": null,
      "outputs": []
    },
    {
      "cell_type": "code",
      "metadata": {
        "id": "wtsroQkMr62c"
      },
      "source": [
        "# 6\n",
        "## DD. Random Rotations\n",
        "# Sometimes images in sample data may have varying and different rotations in the scene.\n",
        "#  One can train one's model to better handle rotations of images by artificially and randomly\n",
        "#   rotating images from dataset during training.\n",
        "\n",
        "# 6.1 Define data preparation\n",
        "datagen = ImageDataGenerator(\n",
        "                            rotation_range=90\n",
        "                            )\n",
        "\n",
        "# 6.2 Fit parameters on our small data only (400 images)\n",
        "datagen.fit(X_train)"
      ],
      "execution_count": null,
      "outputs": []
    },
    {
      "cell_type": "code",
      "metadata": {
        "id": "ZHHz1RFxr7i_",
        "colab": {
          "base_uri": "https://localhost:8080/",
          "height": 268
        },
        "outputId": "f6b82c39-00a2-4c83-bf1a-522d95c2f3be"
      },
      "source": [
        "# 6.4\n",
        "plot_images(datagen)"
      ],
      "execution_count": null,
      "outputs": [
        {
          "output_type": "display_data",
          "data": {
            "text/plain": [
              "<Figure size 432x288 with 9 Axes>"
            ],
            "image/png": "[encoded data removed]"
          },
          "metadata": {
            "needs_background": "light"
          }
        }
      ]
    },
    {
      "cell_type": "markdown",
      "source": [
        "## Image Data Generator--Random shifts"
      ],
      "metadata": {
        "id": "TZDCMZz99yvw"
      }
    },
    {
      "cell_type": "code",
      "metadata": {
        "id": "U6RSa05xr9-c"
      },
      "source": [
        "# 7\n",
        "## E. Random Shifts\n",
        "#     Objects in images may not be centered in the frame. They may be off-center\n",
        "#     in a variety of different ways. One can train deep learning network to expect\n",
        "#     and currently handle off-center objects by artificially creating shifted versions\n",
        "#     of training data. Keras supports separate horizontal and vertical random shifting\n",
        "#     of training data by the width_shift_range and height_shift_range arguments.\n"
      ],
      "execution_count": null,
      "outputs": []
    },
    {
      "cell_type": "code",
      "metadata": {
        "id": "F9XJW5TBsBUs"
      },
      "source": [
        "# 7.1 Define shift values, horizontal and vertical\n",
        "shift1 = 0.2\n",
        "shift2 = 0.3\n",
        "da = ImageDataGenerator(\n",
        "                             width_shift_range=shift1,     # Horizontal shift\n",
        "                             height_shift_range=shift2     # Vertical shift\n",
        "                             )\n",
        "# 7.2 Learn data\n",
        "datagen.fit(X_train)"
      ],
      "execution_count": null,
      "outputs": []
    },
    {
      "cell_type": "code",
      "metadata": {
        "id": "yK-_gRhusE5I",
        "colab": {
          "base_uri": "https://localhost:8080/",
          "height": 268
        },
        "outputId": "ab386336-84c6-46bc-ad31-339d826c9104"
      },
      "source": [
        "# 7.3 Configure batch size and retrieve one batch of images\n",
        "plot_images(da)"
      ],
      "execution_count": null,
      "outputs": [
        {
          "output_type": "display_data",
          "data": {
            "text/plain": [
              "<Figure size 432x288 with 9 Axes>"
            ],
            "image/png": "[encoded data removed]"
          },
          "metadata": {
            "needs_background": "light"
          }
        }
      ]
    },
    {
      "cell_type": "markdown",
      "source": [
        "## Image Data Generator--Random flips"
      ],
      "metadata": {
        "id": "woEyR4_Y924J"
      }
    },
    {
      "cell_type": "code",
      "metadata": {
        "id": "Eicyv1JzsKay"
      },
      "source": [
        "# 8\n",
        "## F. Random Flips\n",
        "#       Another augmentation to image data that can improve performance on\n",
        "#       large and complex problems is to create random flips of images in\n",
        "#       training data.  Keras supports random flipping along both the vertical\n",
        "#       and horizontal axes using the vertical_flip and horizontal_flip arguments.\n",
        "\n",
        "# 8.1 Define data preparation\n",
        "dy = ImageDataGenerator(\n",
        "                             horizontal_flip=True,\n",
        "                             vertical_flip=True,\n",
        "                            )\n",
        "\n",
        "# 8.2 Learn data\n",
        "datagen.fit(X_train)"
      ],
      "execution_count": null,
      "outputs": []
    },
    {
      "cell_type": "code",
      "metadata": {
        "id": "g7el-vxzsLEq",
        "colab": {
          "base_uri": "https://localhost:8080/",
          "height": 268
        },
        "outputId": "56eaecfe-ad5c-4efa-958d-2d4d9d96ae93"
      },
      "source": [
        "# 8.3 Configure batch size and retrieve one batch of images\n",
        "plot_images(dy)"
      ],
      "execution_count": null,
      "outputs": [
        {
          "output_type": "display_data",
          "data": {
            "text/plain": [
              "<Figure size 432x288 with 9 Axes>"
            ],
            "image/png": "[encoded data removed]"
          },
          "metadata": {
            "needs_background": "light"
          }
        }
      ]
    },
    {
      "cell_type": "markdown",
      "source": [
        "## Image Data Generaor--All in one"
      ],
      "metadata": {
        "id": "bM-tPmsk9_a0"
      }
    },
    {
      "cell_type": "code",
      "metadata": {
        "id": "zIzJneVesN9x"
      },
      "source": [
        "# 9\n",
        "## G. Mixed. All in one.\n",
        "#       Another augmentation to image data that can improve performance on\n",
        "#       large and complex problems is to create random flips of images in\n",
        "#       training data.  Keras supports random flipping along both the vertical\n",
        "#       and horizontal axes using the vertical_flip and horizontal_flip arguments.\n",
        "\n",
        "shift1 = 0.2\n",
        "shift2 = 0.3\n",
        "# 9.1 Define data preparation. All are applied in some measure\n",
        "dat = ImageDataGenerator(\n",
        "                             horizontal_flip=True,\n",
        "                             vertical_flip=True,\n",
        "                             width_shift_range=shift1,     # Horizontal shift\n",
        "                             height_shift_range=shift2,     # Vertical shift\n",
        "                             rotation_range=90,\n",
        "                            #  zoom_range = 2.0,\n",
        "                            #  shear_range = 30             # Shear angle in counter-clockwise direction in degrees\n",
        "                            )\n",
        "# 9.2 Learn data\n",
        "datagen.fit(X_train)"
      ],
      "execution_count": null,
      "outputs": []
    },
    {
      "cell_type": "code",
      "metadata": {
        "id": "kJTrraowsRJs",
        "colab": {
          "base_uri": "https://localhost:8080/",
          "height": 519
        },
        "outputId": "deb1538d-86e2-47d6-ff9e-bcb3a2fc99c8"
      },
      "source": [
        "# 9.3 Configure batch size and retrieve one batch of images\n",
        "plot_images(dat)\n",
        "plot_images(dat)"
      ],
      "execution_count": null,
      "outputs": [
        {
          "output_type": "display_data",
          "data": {
            "text/plain": [
              "<Figure size 432x288 with 9 Axes>"
            ],
            "image/png": "[encoded data removed]"
          },
          "metadata": {
            "needs_background": "light"
          }
        },
        {
          "output_type": "display_data",
          "data": {
            "text/plain": [
              "<Figure size 432x288 with 9 Axes>"
            ],
            "image/png": "[encoded data removed]"
          },
          "metadata": {
            "needs_background": "light"
          }
        }
      ]
    },
    {
      "cell_type": "code",
      "metadata": {
        "id": "_J8nQtxjsZcQ"
      },
      "source": [
        "############ I am done"
      ],
      "execution_count": null,
      "outputs": []
    },
    {
      "cell_type": "markdown",
      "source": [
        "## Misc"
      ],
      "metadata": {
        "id": "lNquj0dG-D1p"
      }
    },
    {
      "cell_type": "code",
      "metadata": {
        "id": "GnKlorOjscHZ"
      },
      "source": [
        "###################### DD. #############################################\n",
        "\n",
        "# 9\n",
        "## F. Saving Augmented Images to File\n",
        "#      The data preparation and augmentation is performed just in time by Keras.\n",
        "#      This is efficient in terms of memory, but one may require the exact images\n",
        "#      used during training. For example, perhaps one would like to use them with\n",
        "#      a different software package later or only generate them once and use them\n",
        "#      on multiple different deep learning models or configurations.\n",
        "#      Keras allows you to save the images generated during training. The directory,\n",
        "#      filename prefix and image file type can be specified to the flow() function\n",
        "#      before training.\n",
        "\n",
        "# 9.1 Define data preparation. All default parameter values\n",
        "datagen = ImageDataGenerator()\n",
        "\n",
        "# 9.2 Learn data statistics\n",
        "datagen.fit(X_train)\n",
        "\n",
        "# 9.3 Configure batch size and retrieve one batch of images\n",
        "#dir = \"/home/ashok/useless\"\n",
        "dir = \"C:\\\\Users\\\\ashok\\\\useless\"\n",
        "\n",
        "# 9.4 Make directory\n",
        "#os.system('rm -rf  /home/ashok/useless')\n",
        "os.mkdir(\"C:\\\\Users\\\\ashok\\\\useless\")\n",
        "\n",
        "\n",
        "# 9.5 Generator iterator.\n",
        "#     Generate images on-the-fy\n",
        "data_iterator = datagen.flow(X_train,\n",
        "                             y_train,\n",
        "                             batch_size=9,\n",
        "                             save_to_dir=dir,\n",
        "                             save_prefix='aug',\n",
        "                             save_format='png'\n",
        "                             )\n",
        "\n",
        "# 9.6 Generate and save\n",
        "for X_batch, y_batch in data_iterator:\n",
        "\t# create a grid of 3x3 images\n",
        "\tfor i in range(0, 9):\n",
        "\t\tplt.subplot(330 + 1 + i)\n",
        "\t\tplt.imshow(X_batch[i].reshape(28, 28), cmap=plt.get_cmap('gray'))\n",
        "\t# show the plot\n",
        "\tplt.show()\n",
        "    break\n",
        "\n",
        "########################\n"
      ],
      "execution_count": null,
      "outputs": []
    },
    {
      "cell_type": "code",
      "metadata": {
        "id": "QK93XfJhsc00"
      },
      "source": [
        "# Supplementary Exercises:\n",
        "# 1.\n",
        "import numpy as np\n",
        "x = np.linspace(-np.pi, +np.pi, 100)\n",
        "for i in range(0,9):\n",
        "\tplt.subplot(520+i+1)\n",
        "\tplt.plot(x+i*10, np.sin(x+i*10))\n",
        "\n",
        "plt.show()\n",
        "\n",
        "\n",
        "\n",
        "# 2.0\n",
        "x = np.random.randint(low = 0, high = 1000, size = (4,5))\n",
        "x\n",
        "x.shape\n",
        "y = x.reshape((4,5,1))\n",
        "y.shape\n",
        "y\n",
        "# 2.1\n",
        "y.dtype\n",
        "y = y.astype('float64')\n",
        "y.shape\n"
      ],
      "execution_count": null,
      "outputs": []
    },
    {
      "cell_type": "code",
      "metadata": {
        "id": "HA9AnrDbsgVh"
      },
      "source": [
        "\n",
        "######################## About ZCA whitening ###########################\n",
        "\n",
        "##    ZCA Whitening (\"Mahalanobis transformation\")\n",
        "#     What is whitening? See: 1. http://cs231n.github.io/neural-networks-2/\n",
        "#                             2. https://en.wikipedia.org/wiki/Whitening_transformation\n",
        "#     Whitening is something like PCA\n",
        "#     A whitening transformation is a linear transformation (as PCA is) that transforms\n",
        "#     a dataset with a known covariance matrix into a set of new variables whose\n",
        "#     covariance is the identity matrix, meaning that they are uncorrelated and each\n",
        "#     have variance 1.\n",
        "#     The transformation is called \"whitening\" because it changes the input vector\n",
        "#     into a white noise vector.\n",
        "#     Less redundancy in the image is intended to better highlight the structures\n",
        "#     and features in the image to the learning algorithm. See some images at this link:\n",
        "#     https://stats.stackexchange.com/a/117459\n",
        "\n",
        "## Impt Note: Before experimenting EXIT IPYTHON. Execute AA; Jump BB and then come to CC.\n",
        "#########################################################################\n"
      ],
      "execution_count": null,
      "outputs": []
    },
    {
      "cell_type": "code",
      "metadata": {
        "id": "G-1eVpMIsi9V"
      },
      "source": [
        "\n",
        "\"\"\"\n",
        "Using ImageDataGenerator without fitting\n",
        "========================================\n",
        "\n",
        "Ref: https://stackoverflow.com/questions/46705600/keras-fit-image-augmentations-to-training-data-using-flow-from-directory\n",
        "     https://github.com/keras-team/keras/issues/68\n",
        "\n",
        "Just try to use the following object with zca_whitening:\n",
        "\n",
        "train_datagen = ImageDataGenerator(\n",
        "                                    rescale=1. / 255,    # Normalize colour intensities in 0-1 range\n",
        "                                    shear_range=0.2,     # Shear varies from 0-0.2\n",
        "                                    zoom_range=0.2,\n",
        "                                    horizontal_flip=True,\n",
        "                                    preprocessing_function=preprocess,\n",
        "                                    featurewise_center=True,\n",
        "                                    zca_whitening=True\n",
        "                                  )\n",
        "\n",
        "When you do so set epochs to 1 in model.fit_generator.\n",
        "The fitting process starts with a warning:\n",
        "\n",
        "`zca_whitening`, but it hasn't been fit on any training data. Fit it first by calling `.fit(numpy_data)\n",
        "\n",
        "As data is huge, fit can be called on a sample, as:\n",
        "train_datagen .fit(X_sample)  # where X_sample is a small but random sample of your data\n",
        "\n",
        "zca is a technique to remove 'common information'\n",
        "between pixels. Consider this: We have a rectangle\n",
        "which is filled with white colour inside and outside\n",
        "colour is totally black. That is we have a black\n",
        "rectangle on which is superimposed white rectangle.\n",
        "If common information is removed, result will be\n",
        "just a 'white-boundary' of inner rectangle and\n",
        "both outside and inside of it completely black. We\n",
        "have, therefore, a sort of embossed picture.\n",
        "\n",
        "\"\"\""
      ],
      "execution_count": null,
      "outputs": []
    },
    {
      "cell_type": "code",
      "metadata": {
        "id": "GvELAhLK0osw"
      },
      "source": [
        "## My rough work"
      ],
      "execution_count": null,
      "outputs": []
    },
    {
      "cell_type": "code",
      "metadata": {
        "id": "-fU25Hna0tS2"
      },
      "source": [
        "import tensorflow as tf\n",
        "from tensorflow import keras\n",
        "from tensorflow.keras.datasets import mnist\n"
      ],
      "execution_count": null,
      "outputs": []
    },
    {
      "cell_type": "code",
      "metadata": {
        "id": "iXMZFkNDHkt_"
      },
      "source": [
        "from keras.preprocessing.image import ImageDataGenerator\n",
        "import matplotlib.pyplot as plt"
      ],
      "execution_count": null,
      "outputs": []
    },
    {
      "cell_type": "code",
      "metadata": {
        "id": "XU0uNWqGHvPx"
      },
      "source": [
        "(x_train, y_train), (x_test,y_test) = mnist.load_data()"
      ],
      "execution_count": null,
      "outputs": []
    },
    {
      "cell_type": "code",
      "metadata": {
        "colab": {
          "base_uri": "https://localhost:8080/"
        },
        "id": "tkRzKp16IJQy",
        "outputId": "0f7f874f-c1ca-4ecb-82f2-b6205701d814"
      },
      "source": [
        "x_train.shape  # (60000, 28, 28)\n",
        "x_test.shape"
      ],
      "execution_count": null,
      "outputs": [
        {
          "output_type": "execute_result",
          "data": {
            "text/plain": [
              "(60000, 28, 28)"
            ]
          },
          "metadata": {
            "tags": []
          },
          "execution_count": 43
        },
        {
          "output_type": "execute_result",
          "data": {
            "text/plain": [
              "(10000, 28, 28)"
            ]
          },
          "metadata": {
            "tags": []
          },
          "execution_count": 43
        }
      ]
    },
    {
      "cell_type": "code",
      "metadata": {
        "colab": {
          "base_uri": "https://localhost:8080/",
          "height": 283
        },
        "id": "z2-55OiqJXFh",
        "outputId": "589e2006-d084-476f-ddc6-153e0cfb8931"
      },
      "source": [
        "fig = plt.figure()\n",
        "plt.imshow(x_train[1])\n",
        "x_train[1].shape"
      ],
      "execution_count": null,
      "outputs": [
        {
          "output_type": "execute_result",
          "data": {
            "text/plain": [
              "<matplotlib.image.AxesImage at 0x7f54fb26cb00>"
            ]
          },
          "metadata": {
            "tags": []
          },
          "execution_count": 44
        },
        {
          "output_type": "execute_result",
          "data": {
            "text/plain": [
              "(28, 28)"
            ]
          },
          "metadata": {
            "tags": []
          },
          "execution_count": 44
        },
        {
          "output_type": "display_data",
          "data": {
            "image/png": "[encoded data removed]",
            "text/plain": [
              "<Figure size 432x288 with 1 Axes>"
            ]
          },
          "metadata": {
            "tags": [],
            "needs_background": "light"
          }
        }
      ]
    },
    {
      "cell_type": "code",
      "metadata": {
        "id": "Dx-zRiRRKwMy"
      },
      "source": [
        "shift1 = 0.2\n",
        "shift2 = 0.3\n",
        "datagen = ImageDataGenerator(horizontal_flip=True,\n",
        "                             vertical_flip=True,\n",
        "                             width_shift_range=shift1,     # Horizontal shift\n",
        "                             height_shift_range=shift2,     # Vertical shift\n",
        "                             rotation_range=90,\n",
        "                             zoom_range = 2.0,\n",
        "                             shear_range = 30   )"
      ],
      "execution_count": null,
      "outputs": []
    },
    {
      "cell_type": "code",
      "metadata": {
        "colab": {
          "base_uri": "https://localhost:8080/"
        },
        "id": "ycIOn1aPMx94",
        "outputId": "532a1c1f-d571-4a9a-cfa9-6176c83add5b"
      },
      "source": [
        "x_train = x_train.reshape(-1, 28,28,1)\n",
        "x_train.shape"
      ],
      "execution_count": null,
      "outputs": [
        {
          "output_type": "execute_result",
          "data": {
            "text/plain": [
              "(60000, 28, 28, 1)"
            ]
          },
          "metadata": {
            "tags": []
          },
          "execution_count": 81
        }
      ]
    },
    {
      "cell_type": "code",
      "metadata": {
        "id": "EhHoQfbbMomp"
      },
      "source": [
        "dx = datagen.fit(x_train)"
      ],
      "execution_count": null,
      "outputs": []
    },
    {
      "cell_type": "code",
      "metadata": {
        "colab": {
          "base_uri": "https://localhost:8080/"
        },
        "id": "oLUEljPyND-i",
        "outputId": "2611b14d-275a-41fd-8938-0fc35a88ddc4"
      },
      "source": [
        "type(dx)"
      ],
      "execution_count": null,
      "outputs": [
        {
          "output_type": "execute_result",
          "data": {
            "text/plain": [
              "NoneType"
            ]
          },
          "metadata": {
            "tags": []
          },
          "execution_count": 83
        }
      ]
    },
    {
      "cell_type": "code",
      "metadata": {
        "id": "yBJJN4dQM6HF"
      },
      "source": [
        "abc = datagen.flow(x_train,y_train, batch_size = 32)"
      ],
      "execution_count": null,
      "outputs": []
    },
    {
      "cell_type": "code",
      "metadata": {
        "id": "7Do-yNuWNkdQ"
      },
      "source": [
        "batch = next(abc)"
      ],
      "execution_count": null,
      "outputs": []
    },
    {
      "cell_type": "code",
      "metadata": {
        "colab": {
          "base_uri": "https://localhost:8080/"
        },
        "id": "IqwzfmK2NqV1",
        "outputId": "968462c1-4a42-4331-9d67-68cf9249ec8e"
      },
      "source": [
        "len(batch)   # 2"
      ],
      "execution_count": null,
      "outputs": [
        {
          "output_type": "execute_result",
          "data": {
            "text/plain": [
              "2"
            ]
          },
          "metadata": {
            "tags": []
          },
          "execution_count": 86
        }
      ]
    },
    {
      "cell_type": "code",
      "metadata": {
        "colab": {
          "base_uri": "https://localhost:8080/"
        },
        "id": "0tBl6j3CNy_b",
        "outputId": "f6d123c4-36f2-4f3a-8f13-3f9f565ff902"
      },
      "source": [
        "batch[0].shape"
      ],
      "execution_count": null,
      "outputs": [
        {
          "output_type": "execute_result",
          "data": {
            "text/plain": [
              "(32, 28, 28, 1)"
            ]
          },
          "metadata": {
            "tags": []
          },
          "execution_count": 87
        }
      ]
    },
    {
      "cell_type": "code",
      "metadata": {
        "id": "bkkD5rUoN3Br"
      },
      "source": [
        "for X_batch, y_batch in abc:\n",
        "\t# create a grid of 3x3 images\n",
        "\tfor i in range(0, 9):\n",
        "\t\tplt.subplot(330 + 1 + i)\n",
        "\t\tplt.imshow(X_batch[i].reshape(28, 28), cmap=plt.get_cmap('gray'))\n",
        "    # show the plot\n",
        "    plt.show()\n",
        "    break"
      ],
      "execution_count": null,
      "outputs": []
    },
    {
      "cell_type": "code",
      "metadata": {
        "id": "eCrfsM10I_PH"
      },
      "source": [
        "help(ImageDataGenerator)"
      ],
      "execution_count": null,
      "outputs": []
    },
    {
      "cell_type": "code",
      "metadata": {
        "id": "8CqwHu8-JV4B"
      },
      "source": [
        "########## Done ############"
      ],
      "execution_count": null,
      "outputs": []
    }
  ]
}