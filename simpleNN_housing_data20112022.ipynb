{
  "nbformat": 4,
  "nbformat_minor": 0,
  "metadata": {
    "colab": {
      "provenance": [],
      "include_colab_link": true
    },
    "kernelspec": {
      "name": "python3",
      "display_name": "Python 3"
    },
    "language_info": {
      "name": "python"
    }
  },
  "cells": [
    {
      "cell_type": "markdown",
      "metadata": {
        "id": "view-in-github",
        "colab_type": "text"
      },
      "source": [
        "<a href=\"https://colab.research.google.com/github/Bedadeepa/DeepLearning/blob/main/simpleNN_housing_data20112022.ipynb\" target=\"_parent\"><img src=\"https://colab.research.google.com/assets/colab-badge.svg\" alt=\"Open In Colab\"/></a>"
      ]
    },
    {
      "cell_type": "code",
      "source": [
        "# Last amended: 29th October, 2022\n",
        "# California Housing Dataset\n",
        "# Experiments with NN\n",
        "# https://www.kaggle.com/datasets/camnugent/california-housing-prices"
      ],
      "metadata": {
        "id": "VDuKXUJ_L8S2"
      },
      "execution_count": null,
      "outputs": []
    },
    {
      "cell_type": "code",
      "execution_count": null,
      "metadata": {
        "id": "t4NDs_JPESg_"
      },
      "outputs": [],
      "source": [
        "# 1.0\n",
        "import pandas as pd\n",
        "from sklearn.preprocessing import StandardScaler\n",
        "from sklearn.preprocessing import LabelEncoder\n",
        "from sklearn.model_selection import train_test_split\n",
        "\n",
        "# 1.1\n",
        "import tensorflow as tf\n",
        "\n",
        "# 1.2 Helper libraries\n",
        "import numpy as np\n",
        "import matplotlib.pyplot as plt\n"
      ]
    },
    {
      "cell_type": "code",
      "source": [
        "# 2.0 Mount google drive \n",
        "from google.colab import drive\n",
        "drive.mount('/gdrive')"
      ],
      "metadata": {
        "id": "11UKqlGTu9ka",
        "outputId": "9089c652-edff-438e-d176-0bead41b480a",
        "colab": {
          "base_uri": "https://localhost:8080/"
        }
      },
      "execution_count": null,
      "outputs": [
        {
          "output_type": "stream",
          "name": "stdout",
          "text": [
            "Mounted at /gdrive\n"
          ]
        }
      ]
    },
    {
      "cell_type": "code",
      "source": [
        "# 2.1 Read FASHION-MNIST data\n",
        "\n",
        "path = \"/gdrive/MyDrive/Colab_data_file/\"\n"
      ],
      "metadata": {
        "id": "e_KwcYMREcUy"
      },
      "execution_count": null,
      "outputs": []
    },
    {
      "cell_type": "code",
      "source": [
        "# 2.2\n",
        "data = pd.read_csv(path + \"housing.csv\")"
      ],
      "metadata": {
        "id": "lnhu8ZR5wznf"
      },
      "execution_count": null,
      "outputs": []
    },
    {
      "cell_type": "code",
      "source": [
        "# 2.2.1\n",
        "data.head()"
      ],
      "metadata": {
        "id": "kV5KxQnLvimq",
        "outputId": "d23fe7f7-1e93-4ee1-b25d-35d2806d68a3",
        "colab": {
          "base_uri": "https://localhost:8080/",
          "height": 270
        }
      },
      "execution_count": null,
      "outputs": [
        {
          "output_type": "execute_result",
          "data": {
            "text/plain": [
              "   longitude  latitude  housing_median_age  total_rooms  total_bedrooms  \\\n",
              "0    -122.23     37.88                41.0        880.0           129.0   \n",
              "1    -122.22     37.86                21.0       7099.0          1106.0   \n",
              "2    -122.24     37.85                52.0       1467.0           190.0   \n",
              "3    -122.25     37.85                52.0       1274.0           235.0   \n",
              "4    -122.25     37.85                52.0       1627.0           280.0   \n",
              "\n",
              "   population  households  median_income  median_house_value ocean_proximity  \n",
              "0       322.0       126.0         8.3252            452600.0        NEAR BAY  \n",
              "1      2401.0      1138.0         8.3014            358500.0        NEAR BAY  \n",
              "2       496.0       177.0         7.2574            352100.0        NEAR BAY  \n",
              "3       558.0       219.0         5.6431            341300.0        NEAR BAY  \n",
              "4       565.0       259.0         3.8462            342200.0        NEAR BAY  "
            ],
            "text/html": [
              "\n",
              "  <div id=\"df-7bf90f13-a8db-4bf2-904f-1cb72e952162\">\n",
              "    <div class=\"colab-df-container\">\n",
              "      <div>\n",
              "<style scoped>\n",
              "    .dataframe tbody tr th:only-of-type {\n",
              "        vertical-align: middle;\n",
              "    }\n",
              "\n",
              "    .dataframe tbody tr th {\n",
              "        vertical-align: top;\n",
              "    }\n",
              "\n",
              "    .dataframe thead th {\n",
              "        text-align: right;\n",
              "    }\n",
              "</style>\n",
              "<table border=\"1\" class=\"dataframe\">\n",
              "  <thead>\n",
              "    <tr style=\"text-align: right;\">\n",
              "      <th></th>\n",
              "      <th>longitude</th>\n",
              "      <th>latitude</th>\n",
              "      <th>housing_median_age</th>\n",
              "      <th>total_rooms</th>\n",
              "      <th>total_bedrooms</th>\n",
              "      <th>population</th>\n",
              "      <th>households</th>\n",
              "      <th>median_income</th>\n",
              "      <th>median_house_value</th>\n",
              "      <th>ocean_proximity</th>\n",
              "    </tr>\n",
              "  </thead>\n",
              "  <tbody>\n",
              "    <tr>\n",
              "      <th>0</th>\n",
              "      <td>-122.23</td>\n",
              "      <td>37.88</td>\n",
              "      <td>41.0</td>\n",
              "      <td>880.0</td>\n",
              "      <td>129.0</td>\n",
              "      <td>322.0</td>\n",
              "      <td>126.0</td>\n",
              "      <td>8.3252</td>\n",
              "      <td>452600.0</td>\n",
              "      <td>NEAR BAY</td>\n",
              "    </tr>\n",
              "    <tr>\n",
              "      <th>1</th>\n",
              "      <td>-122.22</td>\n",
              "      <td>37.86</td>\n",
              "      <td>21.0</td>\n",
              "      <td>7099.0</td>\n",
              "      <td>1106.0</td>\n",
              "      <td>2401.0</td>\n",
              "      <td>1138.0</td>\n",
              "      <td>8.3014</td>\n",
              "      <td>358500.0</td>\n",
              "      <td>NEAR BAY</td>\n",
              "    </tr>\n",
              "    <tr>\n",
              "      <th>2</th>\n",
              "      <td>-122.24</td>\n",
              "      <td>37.85</td>\n",
              "      <td>52.0</td>\n",
              "      <td>1467.0</td>\n",
              "      <td>190.0</td>\n",
              "      <td>496.0</td>\n",
              "      <td>177.0</td>\n",
              "      <td>7.2574</td>\n",
              "      <td>352100.0</td>\n",
              "      <td>NEAR BAY</td>\n",
              "    </tr>\n",
              "    <tr>\n",
              "      <th>3</th>\n",
              "      <td>-122.25</td>\n",
              "      <td>37.85</td>\n",
              "      <td>52.0</td>\n",
              "      <td>1274.0</td>\n",
              "      <td>235.0</td>\n",
              "      <td>558.0</td>\n",
              "      <td>219.0</td>\n",
              "      <td>5.6431</td>\n",
              "      <td>341300.0</td>\n",
              "      <td>NEAR BAY</td>\n",
              "    </tr>\n",
              "    <tr>\n",
              "      <th>4</th>\n",
              "      <td>-122.25</td>\n",
              "      <td>37.85</td>\n",
              "      <td>52.0</td>\n",
              "      <td>1627.0</td>\n",
              "      <td>280.0</td>\n",
              "      <td>565.0</td>\n",
              "      <td>259.0</td>\n",
              "      <td>3.8462</td>\n",
              "      <td>342200.0</td>\n",
              "      <td>NEAR BAY</td>\n",
              "    </tr>\n",
              "  </tbody>\n",
              "</table>\n",
              "</div>\n",
              "      <button class=\"colab-df-convert\" onclick=\"convertToInteractive('df-7bf90f13-a8db-4bf2-904f-1cb72e952162')\"\n",
              "              title=\"Convert this dataframe to an interactive table.\"\n",
              "              style=\"display:none;\">\n",
              "        \n",
              "  <svg xmlns=\"http://www.w3.org/2000/svg\" height=\"24px\"viewBox=\"0 0 24 24\"\n",
              "       width=\"24px\">\n",
              "    <path d=\"M0 0h24v24H0V0z\" fill=\"none\"/>\n",
              "    <path d=\"M18.56 5.44l.94 2.06.94-2.06 2.06-.94-2.06-.94-.94-2.06-.94 2.06-2.06.94zm-11 1L8.5 8.5l.94-2.06 2.06-.94-2.06-.94L8.5 2.5l-.94 2.06-2.06.94zm10 10l.94 2.06.94-2.06 2.06-.94-2.06-.94-.94-2.06-.94 2.06-2.06.94z\"/><path d=\"M17.41 7.96l-1.37-1.37c-.4-.4-.92-.59-1.43-.59-.52 0-1.04.2-1.43.59L10.3 9.45l-7.72 7.72c-.78.78-.78 2.05 0 2.83L4 21.41c.39.39.9.59 1.41.59.51 0 1.02-.2 1.41-.59l7.78-7.78 2.81-2.81c.8-.78.8-2.07 0-2.86zM5.41 20L4 18.59l7.72-7.72 1.47 1.35L5.41 20z\"/>\n",
              "  </svg>\n",
              "      </button>\n",
              "      \n",
              "  <style>\n",
              "    .colab-df-container {\n",
              "      display:flex;\n",
              "      flex-wrap:wrap;\n",
              "      gap: 12px;\n",
              "    }\n",
              "\n",
              "    .colab-df-convert {\n",
              "      background-color: #E8F0FE;\n",
              "      border: none;\n",
              "      border-radius: 50%;\n",
              "      cursor: pointer;\n",
              "      display: none;\n",
              "      fill: #1967D2;\n",
              "      height: 32px;\n",
              "      padding: 0 0 0 0;\n",
              "      width: 32px;\n",
              "    }\n",
              "\n",
              "    .colab-df-convert:hover {\n",
              "      background-color: #E2EBFA;\n",
              "      box-shadow: 0px 1px 2px rgba(60, 64, 67, 0.3), 0px 1px 3px 1px rgba(60, 64, 67, 0.15);\n",
              "      fill: #174EA6;\n",
              "    }\n",
              "\n",
              "    [theme=dark] .colab-df-convert {\n",
              "      background-color: #3B4455;\n",
              "      fill: #D2E3FC;\n",
              "    }\n",
              "\n",
              "    [theme=dark] .colab-df-convert:hover {\n",
              "      background-color: #434B5C;\n",
              "      box-shadow: 0px 1px 3px 1px rgba(0, 0, 0, 0.15);\n",
              "      filter: drop-shadow(0px 1px 2px rgba(0, 0, 0, 0.3));\n",
              "      fill: #FFFFFF;\n",
              "    }\n",
              "  </style>\n",
              "\n",
              "      <script>\n",
              "        const buttonEl =\n",
              "          document.querySelector('#df-7bf90f13-a8db-4bf2-904f-1cb72e952162 button.colab-df-convert');\n",
              "        buttonEl.style.display =\n",
              "          google.colab.kernel.accessAllowed ? 'block' : 'none';\n",
              "\n",
              "        async function convertToInteractive(key) {\n",
              "          const element = document.querySelector('#df-7bf90f13-a8db-4bf2-904f-1cb72e952162');\n",
              "          const dataTable =\n",
              "            await google.colab.kernel.invokeFunction('convertToInteractive',\n",
              "                                                     [key], {});\n",
              "          if (!dataTable) return;\n",
              "\n",
              "          const docLinkHtml = 'Like what you see? Visit the ' +\n",
              "            '<a target=\"_blank\" href=https://colab.research.google.com/notebooks/data_table.ipynb>data table notebook</a>'\n",
              "            + ' to learn more about interactive tables.';\n",
              "          element.innerHTML = '';\n",
              "          dataTable['output_type'] = 'display_data';\n",
              "          await google.colab.output.renderOutput(dataTable, element);\n",
              "          const docLink = document.createElement('div');\n",
              "          docLink.innerHTML = docLinkHtml;\n",
              "          element.appendChild(docLink);\n",
              "        }\n",
              "      </script>\n",
              "    </div>\n",
              "  </div>\n",
              "  "
            ]
          },
          "metadata": {},
          "execution_count": 6
        }
      ]
    },
    {
      "cell_type": "code",
      "source": [
        "# 2.2.2\n",
        "data.shape"
      ],
      "metadata": {
        "id": "xvzzZC1_vlP9",
        "outputId": "504fee12-0ee8-403b-b469-bea0824f6704",
        "colab": {
          "base_uri": "https://localhost:8080/"
        }
      },
      "execution_count": null,
      "outputs": [
        {
          "output_type": "execute_result",
          "data": {
            "text/plain": [
              "(20640, 10)"
            ]
          },
          "metadata": {},
          "execution_count": 7
        }
      ]
    },
    {
      "cell_type": "code",
      "source": [
        "# 2.3 Pop out target\n",
        "y = data.pop('median_house_value')"
      ],
      "metadata": {
        "id": "N3KCovgwEtmt"
      },
      "execution_count": null,
      "outputs": []
    },
    {
      "cell_type": "code",
      "source": [
        "# 2.3.1\n",
        "data.shape   # (20640, 9)"
      ],
      "metadata": {
        "colab": {
          "base_uri": "https://localhost:8080/"
        },
        "id": "GmDd06fNJjsM",
        "outputId": "28585581-5ce4-43c1-9118-1e2c57565354"
      },
      "execution_count": null,
      "outputs": [
        {
          "output_type": "execute_result",
          "data": {
            "text/plain": [
              "(20640, 9)"
            ]
          },
          "metadata": {},
          "execution_count": 9
        }
      ]
    },
    {
      "cell_type": "code",
      "source": [
        "# 3.0 Check NULL\n",
        "data.isnull().sum()"
      ],
      "metadata": {
        "id": "fG-9A9AN8MZp",
        "outputId": "e0afc6f7-4a56-4877-82bc-291eeb8c6047",
        "colab": {
          "base_uri": "https://localhost:8080/"
        }
      },
      "execution_count": null,
      "outputs": [
        {
          "output_type": "execute_result",
          "data": {
            "text/plain": [
              "longitude               0\n",
              "latitude                0\n",
              "housing_median_age      0\n",
              "total_rooms             0\n",
              "total_bedrooms        207\n",
              "population              0\n",
              "households              0\n",
              "median_income           0\n",
              "ocean_proximity         0\n",
              "dtype: int64"
            ]
          },
          "metadata": {},
          "execution_count": 10
        }
      ]
    },
    {
      "cell_type": "code",
      "source": [
        "data['total_bedrooms'].median()"
      ],
      "metadata": {
        "id": "-GLH72NAtRw6",
        "outputId": "9e851d5e-bc05-4171-b67b-b5fc1f9384b7",
        "colab": {
          "base_uri": "https://localhost:8080/"
        }
      },
      "execution_count": null,
      "outputs": [
        {
          "output_type": "execute_result",
          "data": {
            "text/plain": [
              "435.0"
            ]
          },
          "metadata": {},
          "execution_count": 11
        }
      ]
    },
    {
      "cell_type": "code",
      "source": [
        "\n",
        "\n",
        "# 3.1 Fill null values with 'median'\n",
        "\n",
        "data['total_bedrooms']= data['total_bedrooms'].fillna(data['total_bedrooms'].median())"
      ],
      "metadata": {
        "id": "FhMy7EdU8Shr"
      },
      "execution_count": null,
      "outputs": []
    },
    {
      "cell_type": "code",
      "source": [
        "# 3.2\n",
        "data[:2]"
      ],
      "metadata": {
        "id": "WyDhQZsHJmMk",
        "outputId": "7586f172-1d85-4729-8347-c45c2defb95a",
        "colab": {
          "base_uri": "https://localhost:8080/",
          "height": 176
        }
      },
      "execution_count": null,
      "outputs": [
        {
          "output_type": "execute_result",
          "data": {
            "text/plain": [
              "   longitude  latitude  housing_median_age  total_rooms  total_bedrooms  \\\n",
              "0    -122.23     37.88                41.0        880.0           129.0   \n",
              "1    -122.22     37.86                21.0       7099.0          1106.0   \n",
              "\n",
              "   population  households  median_income ocean_proximity  \n",
              "0       322.0       126.0         8.3252        NEAR BAY  \n",
              "1      2401.0      1138.0         8.3014        NEAR BAY  "
            ],
            "text/html": [
              "\n",
              "  <div id=\"df-af557c02-24cb-4994-aea7-62545432e199\">\n",
              "    <div class=\"colab-df-container\">\n",
              "      <div>\n",
              "<style scoped>\n",
              "    .dataframe tbody tr th:only-of-type {\n",
              "        vertical-align: middle;\n",
              "    }\n",
              "\n",
              "    .dataframe tbody tr th {\n",
              "        vertical-align: top;\n",
              "    }\n",
              "\n",
              "    .dataframe thead th {\n",
              "        text-align: right;\n",
              "    }\n",
              "</style>\n",
              "<table border=\"1\" class=\"dataframe\">\n",
              "  <thead>\n",
              "    <tr style=\"text-align: right;\">\n",
              "      <th></th>\n",
              "      <th>longitude</th>\n",
              "      <th>latitude</th>\n",
              "      <th>housing_median_age</th>\n",
              "      <th>total_rooms</th>\n",
              "      <th>total_bedrooms</th>\n",
              "      <th>population</th>\n",
              "      <th>households</th>\n",
              "      <th>median_income</th>\n",
              "      <th>ocean_proximity</th>\n",
              "    </tr>\n",
              "  </thead>\n",
              "  <tbody>\n",
              "    <tr>\n",
              "      <th>0</th>\n",
              "      <td>-122.23</td>\n",
              "      <td>37.88</td>\n",
              "      <td>41.0</td>\n",
              "      <td>880.0</td>\n",
              "      <td>129.0</td>\n",
              "      <td>322.0</td>\n",
              "      <td>126.0</td>\n",
              "      <td>8.3252</td>\n",
              "      <td>NEAR BAY</td>\n",
              "    </tr>\n",
              "    <tr>\n",
              "      <th>1</th>\n",
              "      <td>-122.22</td>\n",
              "      <td>37.86</td>\n",
              "      <td>21.0</td>\n",
              "      <td>7099.0</td>\n",
              "      <td>1106.0</td>\n",
              "      <td>2401.0</td>\n",
              "      <td>1138.0</td>\n",
              "      <td>8.3014</td>\n",
              "      <td>NEAR BAY</td>\n",
              "    </tr>\n",
              "  </tbody>\n",
              "</table>\n",
              "</div>\n",
              "      <button class=\"colab-df-convert\" onclick=\"convertToInteractive('df-af557c02-24cb-4994-aea7-62545432e199')\"\n",
              "              title=\"Convert this dataframe to an interactive table.\"\n",
              "              style=\"display:none;\">\n",
              "        \n",
              "  <svg xmlns=\"http://www.w3.org/2000/svg\" height=\"24px\"viewBox=\"0 0 24 24\"\n",
              "       width=\"24px\">\n",
              "    <path d=\"M0 0h24v24H0V0z\" fill=\"none\"/>\n",
              "    <path d=\"M18.56 5.44l.94 2.06.94-2.06 2.06-.94-2.06-.94-.94-2.06-.94 2.06-2.06.94zm-11 1L8.5 8.5l.94-2.06 2.06-.94-2.06-.94L8.5 2.5l-.94 2.06-2.06.94zm10 10l.94 2.06.94-2.06 2.06-.94-2.06-.94-.94-2.06-.94 2.06-2.06.94z\"/><path d=\"M17.41 7.96l-1.37-1.37c-.4-.4-.92-.59-1.43-.59-.52 0-1.04.2-1.43.59L10.3 9.45l-7.72 7.72c-.78.78-.78 2.05 0 2.83L4 21.41c.39.39.9.59 1.41.59.51 0 1.02-.2 1.41-.59l7.78-7.78 2.81-2.81c.8-.78.8-2.07 0-2.86zM5.41 20L4 18.59l7.72-7.72 1.47 1.35L5.41 20z\"/>\n",
              "  </svg>\n",
              "      </button>\n",
              "      \n",
              "  <style>\n",
              "    .colab-df-container {\n",
              "      display:flex;\n",
              "      flex-wrap:wrap;\n",
              "      gap: 12px;\n",
              "    }\n",
              "\n",
              "    .colab-df-convert {\n",
              "      background-color: #E8F0FE;\n",
              "      border: none;\n",
              "      border-radius: 50%;\n",
              "      cursor: pointer;\n",
              "      display: none;\n",
              "      fill: #1967D2;\n",
              "      height: 32px;\n",
              "      padding: 0 0 0 0;\n",
              "      width: 32px;\n",
              "    }\n",
              "\n",
              "    .colab-df-convert:hover {\n",
              "      background-color: #E2EBFA;\n",
              "      box-shadow: 0px 1px 2px rgba(60, 64, 67, 0.3), 0px 1px 3px 1px rgba(60, 64, 67, 0.15);\n",
              "      fill: #174EA6;\n",
              "    }\n",
              "\n",
              "    [theme=dark] .colab-df-convert {\n",
              "      background-color: #3B4455;\n",
              "      fill: #D2E3FC;\n",
              "    }\n",
              "\n",
              "    [theme=dark] .colab-df-convert:hover {\n",
              "      background-color: #434B5C;\n",
              "      box-shadow: 0px 1px 3px 1px rgba(0, 0, 0, 0.15);\n",
              "      filter: drop-shadow(0px 1px 2px rgba(0, 0, 0, 0.3));\n",
              "      fill: #FFFFFF;\n",
              "    }\n",
              "  </style>\n",
              "\n",
              "      <script>\n",
              "        const buttonEl =\n",
              "          document.querySelector('#df-af557c02-24cb-4994-aea7-62545432e199 button.colab-df-convert');\n",
              "        buttonEl.style.display =\n",
              "          google.colab.kernel.accessAllowed ? 'block' : 'none';\n",
              "\n",
              "        async function convertToInteractive(key) {\n",
              "          const element = document.querySelector('#df-af557c02-24cb-4994-aea7-62545432e199');\n",
              "          const dataTable =\n",
              "            await google.colab.kernel.invokeFunction('convertToInteractive',\n",
              "                                                     [key], {});\n",
              "          if (!dataTable) return;\n",
              "\n",
              "          const docLinkHtml = 'Like what you see? Visit the ' +\n",
              "            '<a target=\"_blank\" href=https://colab.research.google.com/notebooks/data_table.ipynb>data table notebook</a>'\n",
              "            + ' to learn more about interactive tables.';\n",
              "          element.innerHTML = '';\n",
              "          dataTable['output_type'] = 'display_data';\n",
              "          await google.colab.output.renderOutput(dataTable, element);\n",
              "          const docLink = document.createElement('div');\n",
              "          docLink.innerHTML = docLinkHtml;\n",
              "          element.appendChild(docLink);\n",
              "        }\n",
              "      </script>\n",
              "    </div>\n",
              "  </div>\n",
              "  "
            ]
          },
          "metadata": {},
          "execution_count": 13
        }
      ]
    },
    {
      "cell_type": "code",
      "source": [
        "# 4.0\n",
        "# Label encode ocean_proximity:\n",
        " \n",
        "le = LabelEncoder()\n",
        "le.fit(data['ocean_proximity'])\n",
        "data['ocean_proximity'] = le.transform(data['ocean_proximity'])"
      ],
      "metadata": {
        "id": "xaM7F22l1hW5"
      },
      "execution_count": null,
      "outputs": []
    },
    {
      "cell_type": "code",
      "source": [
        "# 4.1 Check data again:\n",
        "data.head(3)"
      ],
      "metadata": {
        "id": "I8irUezG1yeE",
        "outputId": "21d5ee1a-2e10-4cc3-ff4b-beaae635999f",
        "colab": {
          "base_uri": "https://localhost:8080/",
          "height": 207
        }
      },
      "execution_count": null,
      "outputs": [
        {
          "output_type": "execute_result",
          "data": {
            "text/plain": [
              "   longitude  latitude  housing_median_age  total_rooms  total_bedrooms  \\\n",
              "0    -122.23     37.88                41.0        880.0           129.0   \n",
              "1    -122.22     37.86                21.0       7099.0          1106.0   \n",
              "2    -122.24     37.85                52.0       1467.0           190.0   \n",
              "\n",
              "   population  households  median_income  ocean_proximity  \n",
              "0       322.0       126.0         8.3252                3  \n",
              "1      2401.0      1138.0         8.3014                3  \n",
              "2       496.0       177.0         7.2574                3  "
            ],
            "text/html": [
              "\n",
              "  <div id=\"df-9f250cb9-7e43-459f-b5d1-4f6bc960bf2c\">\n",
              "    <div class=\"colab-df-container\">\n",
              "      <div>\n",
              "<style scoped>\n",
              "    .dataframe tbody tr th:only-of-type {\n",
              "        vertical-align: middle;\n",
              "    }\n",
              "\n",
              "    .dataframe tbody tr th {\n",
              "        vertical-align: top;\n",
              "    }\n",
              "\n",
              "    .dataframe thead th {\n",
              "        text-align: right;\n",
              "    }\n",
              "</style>\n",
              "<table border=\"1\" class=\"dataframe\">\n",
              "  <thead>\n",
              "    <tr style=\"text-align: right;\">\n",
              "      <th></th>\n",
              "      <th>longitude</th>\n",
              "      <th>latitude</th>\n",
              "      <th>housing_median_age</th>\n",
              "      <th>total_rooms</th>\n",
              "      <th>total_bedrooms</th>\n",
              "      <th>population</th>\n",
              "      <th>households</th>\n",
              "      <th>median_income</th>\n",
              "      <th>ocean_proximity</th>\n",
              "    </tr>\n",
              "  </thead>\n",
              "  <tbody>\n",
              "    <tr>\n",
              "      <th>0</th>\n",
              "      <td>-122.23</td>\n",
              "      <td>37.88</td>\n",
              "      <td>41.0</td>\n",
              "      <td>880.0</td>\n",
              "      <td>129.0</td>\n",
              "      <td>322.0</td>\n",
              "      <td>126.0</td>\n",
              "      <td>8.3252</td>\n",
              "      <td>3</td>\n",
              "    </tr>\n",
              "    <tr>\n",
              "      <th>1</th>\n",
              "      <td>-122.22</td>\n",
              "      <td>37.86</td>\n",
              "      <td>21.0</td>\n",
              "      <td>7099.0</td>\n",
              "      <td>1106.0</td>\n",
              "      <td>2401.0</td>\n",
              "      <td>1138.0</td>\n",
              "      <td>8.3014</td>\n",
              "      <td>3</td>\n",
              "    </tr>\n",
              "    <tr>\n",
              "      <th>2</th>\n",
              "      <td>-122.24</td>\n",
              "      <td>37.85</td>\n",
              "      <td>52.0</td>\n",
              "      <td>1467.0</td>\n",
              "      <td>190.0</td>\n",
              "      <td>496.0</td>\n",
              "      <td>177.0</td>\n",
              "      <td>7.2574</td>\n",
              "      <td>3</td>\n",
              "    </tr>\n",
              "  </tbody>\n",
              "</table>\n",
              "</div>\n",
              "      <button class=\"colab-df-convert\" onclick=\"convertToInteractive('df-9f250cb9-7e43-459f-b5d1-4f6bc960bf2c')\"\n",
              "              title=\"Convert this dataframe to an interactive table.\"\n",
              "              style=\"display:none;\">\n",
              "        \n",
              "  <svg xmlns=\"http://www.w3.org/2000/svg\" height=\"24px\"viewBox=\"0 0 24 24\"\n",
              "       width=\"24px\">\n",
              "    <path d=\"M0 0h24v24H0V0z\" fill=\"none\"/>\n",
              "    <path d=\"M18.56 5.44l.94 2.06.94-2.06 2.06-.94-2.06-.94-.94-2.06-.94 2.06-2.06.94zm-11 1L8.5 8.5l.94-2.06 2.06-.94-2.06-.94L8.5 2.5l-.94 2.06-2.06.94zm10 10l.94 2.06.94-2.06 2.06-.94-2.06-.94-.94-2.06-.94 2.06-2.06.94z\"/><path d=\"M17.41 7.96l-1.37-1.37c-.4-.4-.92-.59-1.43-.59-.52 0-1.04.2-1.43.59L10.3 9.45l-7.72 7.72c-.78.78-.78 2.05 0 2.83L4 21.41c.39.39.9.59 1.41.59.51 0 1.02-.2 1.41-.59l7.78-7.78 2.81-2.81c.8-.78.8-2.07 0-2.86zM5.41 20L4 18.59l7.72-7.72 1.47 1.35L5.41 20z\"/>\n",
              "  </svg>\n",
              "      </button>\n",
              "      \n",
              "  <style>\n",
              "    .colab-df-container {\n",
              "      display:flex;\n",
              "      flex-wrap:wrap;\n",
              "      gap: 12px;\n",
              "    }\n",
              "\n",
              "    .colab-df-convert {\n",
              "      background-color: #E8F0FE;\n",
              "      border: none;\n",
              "      border-radius: 50%;\n",
              "      cursor: pointer;\n",
              "      display: none;\n",
              "      fill: #1967D2;\n",
              "      height: 32px;\n",
              "      padding: 0 0 0 0;\n",
              "      width: 32px;\n",
              "    }\n",
              "\n",
              "    .colab-df-convert:hover {\n",
              "      background-color: #E2EBFA;\n",
              "      box-shadow: 0px 1px 2px rgba(60, 64, 67, 0.3), 0px 1px 3px 1px rgba(60, 64, 67, 0.15);\n",
              "      fill: #174EA6;\n",
              "    }\n",
              "\n",
              "    [theme=dark] .colab-df-convert {\n",
              "      background-color: #3B4455;\n",
              "      fill: #D2E3FC;\n",
              "    }\n",
              "\n",
              "    [theme=dark] .colab-df-convert:hover {\n",
              "      background-color: #434B5C;\n",
              "      box-shadow: 0px 1px 3px 1px rgba(0, 0, 0, 0.15);\n",
              "      filter: drop-shadow(0px 1px 2px rgba(0, 0, 0, 0.3));\n",
              "      fill: #FFFFFF;\n",
              "    }\n",
              "  </style>\n",
              "\n",
              "      <script>\n",
              "        const buttonEl =\n",
              "          document.querySelector('#df-9f250cb9-7e43-459f-b5d1-4f6bc960bf2c button.colab-df-convert');\n",
              "        buttonEl.style.display =\n",
              "          google.colab.kernel.accessAllowed ? 'block' : 'none';\n",
              "\n",
              "        async function convertToInteractive(key) {\n",
              "          const element = document.querySelector('#df-9f250cb9-7e43-459f-b5d1-4f6bc960bf2c');\n",
              "          const dataTable =\n",
              "            await google.colab.kernel.invokeFunction('convertToInteractive',\n",
              "                                                     [key], {});\n",
              "          if (!dataTable) return;\n",
              "\n",
              "          const docLinkHtml = 'Like what you see? Visit the ' +\n",
              "            '<a target=\"_blank\" href=https://colab.research.google.com/notebooks/data_table.ipynb>data table notebook</a>'\n",
              "            + ' to learn more about interactive tables.';\n",
              "          element.innerHTML = '';\n",
              "          dataTable['output_type'] = 'display_data';\n",
              "          await google.colab.output.renderOutput(dataTable, element);\n",
              "          const docLink = document.createElement('div');\n",
              "          docLink.innerHTML = docLinkHtml;\n",
              "          element.appendChild(docLink);\n",
              "        }\n",
              "      </script>\n",
              "    </div>\n",
              "  </div>\n",
              "  "
            ]
          },
          "metadata": {},
          "execution_count": 15
        }
      ]
    },
    {
      "cell_type": "code",
      "source": [
        "# 5.0 Scale data\n",
        "ss = StandardScaler()\n",
        "ss.fit(data)\n",
        "X = ss.transform(data)"
      ],
      "metadata": {
        "id": "wKkicmIIIYnM"
      },
      "execution_count": null,
      "outputs": []
    },
    {
      "cell_type": "code",
      "source": [
        "\n",
        "# 5.1\n",
        "X[:5]"
      ],
      "metadata": {
        "id": "PkbMnfCd57P7",
        "colab": {
          "base_uri": "https://localhost:8080/"
        },
        "outputId": "bc8e7695-af85-41e5-e741-e74674d1dc6c"
      },
      "execution_count": null,
      "outputs": [
        {
          "output_type": "execute_result",
          "data": {
            "text/plain": [
              "array([[-1.32783522,  1.05254828,  0.98214266, -0.8048191 , -0.97247648,\n",
              "        -0.9744286 , -0.97703285,  2.34476576,  1.2910888 ],\n",
              "       [-1.32284391,  1.04318455, -0.60701891,  2.0458901 ,  1.35714343,\n",
              "         0.86143887,  1.66996103,  2.33223796,  1.2910888 ],\n",
              "       [-1.33282653,  1.03850269,  1.85618152, -0.53574589, -0.82702426,\n",
              "        -0.82077735, -0.84363692,  1.7826994 ,  1.2910888 ],\n",
              "       [-1.33781784,  1.03850269,  1.85618152, -0.62421459, -0.71972345,\n",
              "        -0.76602806, -0.73378144,  0.93296751,  1.2910888 ],\n",
              "       [-1.33781784,  1.03850269,  1.85618152, -0.46240395, -0.61242263,\n",
              "        -0.75984669, -0.62915718, -0.012881  ,  1.2910888 ]])"
            ]
          },
          "metadata": {},
          "execution_count": 17
        }
      ]
    },
    {
      "cell_type": "code",
      "source": [
        "\n",
        "# 6.0 Split data:\n",
        "\n",
        "X_train,X_test,y_train,y_test = train_test_split(X,y, test_size = 0.15)\n",
        "display(X_train.shape)\n",
        "display(X_test.shape)"
      ],
      "metadata": {
        "colab": {
          "base_uri": "https://localhost:8080/",
          "height": 52
        },
        "id": "NPr69PhkqlWH",
        "outputId": "58d58cd6-c5d8-476e-fd72-52a4a0136859"
      },
      "execution_count": null,
      "outputs": [
        {
          "output_type": "display_data",
          "data": {
            "text/plain": [
              "(17544, 9)"
            ]
          },
          "metadata": {}
        },
        {
          "output_type": "display_data",
          "data": {
            "text/plain": [
              "(3096, 9)"
            ]
          },
          "metadata": {}
        }
      ]
    },
    {
      "cell_type": "code",
      "source": [
        "len(y_train)"
      ],
      "metadata": {
        "colab": {
          "base_uri": "https://localhost:8080/"
        },
        "id": "YElxokC9mAS1",
        "outputId": "cb782c54-e207-4612-9cc4-9a9c5c61c5d9"
      },
      "execution_count": null,
      "outputs": [
        {
          "output_type": "execute_result",
          "data": {
            "text/plain": [
              "17544"
            ]
          },
          "metadata": {},
          "execution_count": 19
        }
      ]
    },
    {
      "cell_type": "code",
      "source": [
        "17544/4"
      ],
      "metadata": {
        "colab": {
          "base_uri": "https://localhost:8080/"
        },
        "id": "Ks0cIX4QmG4Y",
        "outputId": "e5d502a6-79b0-4e14-847d-4d9a0b46c8f1"
      },
      "execution_count": null,
      "outputs": [
        {
          "output_type": "execute_result",
          "data": {
            "text/plain": [
              "4386.0"
            ]
          },
          "metadata": {},
          "execution_count": 20
        }
      ]
    },
    {
      "cell_type": "code",
      "source": [
        "gh= np.array([1,-1,1,-1]*4386)\n",
        "y_tr = gh.reshape(17544,) * y_train\n",
        "y_tr"
      ],
      "metadata": {
        "colab": {
          "base_uri": "https://localhost:8080/"
        },
        "id": "7mJHbimGlv8X",
        "outputId": "08ec2e0f-506d-492b-bbe3-aa165773c5ce"
      },
      "execution_count": null,
      "outputs": [
        {
          "output_type": "execute_result",
          "data": {
            "text/plain": [
              "4409     155500.0\n",
              "20204   -187500.0\n",
              "5408     353900.0\n",
              "10505   -500001.0\n",
              "19371    208300.0\n",
              "           ...   \n",
              "18738    -85200.0\n",
              "2042     121600.0\n",
              "6147    -141600.0\n",
              "7713     263200.0\n",
              "13671    -82100.0\n",
              "Name: median_house_value, Length: 17544, dtype: float64"
            ]
          },
          "metadata": {},
          "execution_count": 21
        }
      ]
    },
    {
      "cell_type": "code",
      "source": [
        "len(y_train)"
      ],
      "metadata": {
        "colab": {
          "base_uri": "https://localhost:8080/"
        },
        "id": "M1a4cAC4mT-h",
        "outputId": "515a0f23-a039-425c-d3d6-ade46bbd16a6"
      },
      "execution_count": null,
      "outputs": [
        {
          "output_type": "execute_result",
          "data": {
            "text/plain": [
              "17544"
            ]
          },
          "metadata": {},
          "execution_count": 22
        }
      ]
    },
    {
      "cell_type": "code",
      "source": [
        "se=StandardScaler()\n",
        "y_tr=se.fit_transform(y_train.values.reshape(-1,1))"
      ],
      "metadata": {
        "id": "3wx2aYllqb-W"
      },
      "execution_count": null,
      "outputs": []
    },
    {
      "cell_type": "code",
      "source": [
        "y_tr=y_tr.reshape(17544)"
      ],
      "metadata": {
        "id": "H2X7jn5fmZnt"
      },
      "execution_count": null,
      "outputs": []
    },
    {
      "cell_type": "code",
      "source": [
        "y_tr"
      ],
      "metadata": {
        "colab": {
          "base_uri": "https://localhost:8080/"
        },
        "id": "3YBcQ-XSrJmn",
        "outputId": "4b3a20bd-c878-4983-924e-c39b581cab09"
      },
      "execution_count": null,
      "outputs": [
        {
          "output_type": "execute_result",
          "data": {
            "text/plain": [
              "array([-0.84703009,  0.72350103, -1.10821063, ..., -1.05907765,\n",
              "       -0.85737388, -0.62722469])"
            ]
          },
          "metadata": {},
          "execution_count": 24
        }
      ]
    },
    {
      "cell_type": "code",
      "source": [
        "del model"
      ],
      "metadata": {
        "id": "BqcFNz-beuuE"
      },
      "execution_count": null,
      "outputs": []
    },
    {
      "cell_type": "code",
      "source": [
        "model=tf.keras.Sequential()  "
      ],
      "metadata": {
        "id": "A-uq64mugWOj"
      },
      "execution_count": null,
      "outputs": []
    },
    {
      "cell_type": "code",
      "source": [
        "model.add(tf.keras.Input(shape=(9,)))"
      ],
      "metadata": {
        "id": "3TF9jtTigWLH"
      },
      "execution_count": null,
      "outputs": []
    },
    {
      "cell_type": "code",
      "source": [
        "model.add(tf.keras.layers.Dense(20,activation='relu'))"
      ],
      "metadata": {
        "id": "fn6uI8okgWIY"
      },
      "execution_count": null,
      "outputs": []
    },
    {
      "cell_type": "code",
      "source": [
        "model.add(tf.keras.layers.Dense(5,activation='relu'))"
      ],
      "metadata": {
        "id": "6UaQhUuegWFG"
      },
      "execution_count": null,
      "outputs": []
    },
    {
      "cell_type": "code",
      "source": [
        "model.add(tf.keras.layers.Dense(1,activation='relu'))"
      ],
      "metadata": {
        "id": "Hm9SNnA2orUj"
      },
      "execution_count": null,
      "outputs": []
    },
    {
      "cell_type": "code",
      "source": [
        "model.summary()"
      ],
      "metadata": {
        "colab": {
          "base_uri": "https://localhost:8080/"
        },
        "id": "hgb-6QRogWB0",
        "outputId": "3304ddff-cba3-403f-92e7-ce21a9b2d59c"
      },
      "execution_count": null,
      "outputs": [
        {
          "output_type": "stream",
          "name": "stdout",
          "text": [
            "Model: \"sequential_2\"\n",
            "_________________________________________________________________\n",
            " Layer (type)                Output Shape              Param #   \n",
            "=================================================================\n",
            " dense_6 (Dense)             (None, 20)                200       \n",
            "                                                                 \n",
            " dense_7 (Dense)             (None, 5)                 105       \n",
            "                                                                 \n",
            " dense_8 (Dense)             (None, 1)                 6         \n",
            "                                                                 \n",
            "=================================================================\n",
            "Total params: 311\n",
            "Trainable params: 311\n",
            "Non-trainable params: 0\n",
            "_________________________________________________________________\n"
          ]
        }
      ]
    },
    {
      "cell_type": "code",
      "source": [
        "tf.keras.utils.plot_model(model,show_shapes= True)"
      ],
      "metadata": {
        "colab": {
          "base_uri": "https://localhost:8080/",
          "height": 422
        },
        "id": "HQBQU_rBgV_Q",
        "outputId": "4f7ee78d-8a9f-46b2-f20c-c605d774b9d4"
      },
      "execution_count": null,
      "outputs": [
        {
          "output_type": "execute_result",
          "data": {
            "image/png": "[encoded data removed]",
            "text/plain": [
              "<IPython.core.display.Image object>"
            ]
          },
          "metadata": {},
          "execution_count": 67
        }
      ]
    },
    {
      "cell_type": "code",
      "source": [
        " model.compile(loss='mean_squared_error',\n",
        "              optimizer = 'rmsprop' ,\n",
        "              metrics=['mean_squared_error','mean_absolute_error'])"
      ],
      "metadata": {
        "id": "HfITQEPAgV7u"
      },
      "execution_count": null,
      "outputs": []
    },
    {
      "cell_type": "code",
      "source": [
        "history= model.fit(X_train,y_tr,epochs=200\n",
        "                   ,validation_split=0.2)"
      ],
      "metadata": {
        "colab": {
          "base_uri": "https://localhost:8080/"
        },
        "id": "8OleLG7pgV37",
        "outputId": "f8d55cba-c17d-4afe-f691-09ac2f8b81a8"
      },
      "execution_count": null,
      "outputs": [
        {
          "output_type": "stream",
          "name": "stdout",
          "text": [
            "Epoch 1/200\n",
            "439/439 [==============================] - 2s 2ms/step - loss: 0.6493 - mean_squared_error: 0.6493 - mean_absolute_error: 0.6644 - val_loss: 0.6038 - val_mean_squared_error: 0.6038 - val_mean_absolute_error: 0.6431\n",
            "Epoch 2/200\n",
            "439/439 [==============================] - 1s 2ms/step - loss: 0.5773 - mean_squared_error: 0.5773 - mean_absolute_error: 0.6285 - val_loss: 0.5882 - val_mean_squared_error: 0.5882 - val_mean_absolute_error: 0.6319\n",
            "Epoch 3/200\n",
            "439/439 [==============================] - 1s 2ms/step - loss: 0.5602 - mean_squared_error: 0.5602 - mean_absolute_error: 0.6182 - val_loss: 0.5695 - val_mean_squared_error: 0.5695 - val_mean_absolute_error: 0.6238\n",
            "Epoch 4/200\n",
            "439/439 [==============================] - 1s 2ms/step - loss: 0.5494 - mean_squared_error: 0.5494 - mean_absolute_error: 0.6115 - val_loss: 0.5555 - val_mean_squared_error: 0.5555 - val_mean_absolute_error: 0.6156\n",
            "Epoch 5/200\n",
            "439/439 [==============================] - 1s 2ms/step - loss: 0.5416 - mean_squared_error: 0.5416 - mean_absolute_error: 0.6068 - val_loss: 0.5478 - val_mean_squared_error: 0.5478 - val_mean_absolute_error: 0.6093\n",
            "Epoch 6/200\n",
            "439/439 [==============================] - 1s 2ms/step - loss: 0.5372 - mean_squared_error: 0.5372 - mean_absolute_error: 0.6032 - val_loss: 0.5511 - val_mean_squared_error: 0.5511 - val_mean_absolute_error: 0.6132\n",
            "Epoch 7/200\n",
            "439/439 [==============================] - 1s 2ms/step - loss: 0.5336 - mean_squared_error: 0.5336 - mean_absolute_error: 0.6009 - val_loss: 0.5395 - val_mean_squared_error: 0.5395 - val_mean_absolute_error: 0.6051\n",
            "Epoch 8/200\n",
            "439/439 [==============================] - 1s 2ms/step - loss: 0.5305 - mean_squared_error: 0.5305 - mean_absolute_error: 0.5992 - val_loss: 0.5440 - val_mean_squared_error: 0.5440 - val_mean_absolute_error: 0.6069\n",
            "Epoch 9/200\n",
            "439/439 [==============================] - 1s 2ms/step - loss: 0.5287 - mean_squared_error: 0.5287 - mean_absolute_error: 0.5975 - val_loss: 0.5384 - val_mean_squared_error: 0.5384 - val_mean_absolute_error: 0.6052\n",
            "Epoch 10/200\n",
            "439/439 [==============================] - 1s 2ms/step - loss: 0.5265 - mean_squared_error: 0.5265 - mean_absolute_error: 0.5967 - val_loss: 0.5447 - val_mean_squared_error: 0.5447 - val_mean_absolute_error: 0.6059\n",
            "Epoch 11/200\n",
            "439/439 [==============================] - 1s 2ms/step - loss: 0.5247 - mean_squared_error: 0.5247 - mean_absolute_error: 0.5953 - val_loss: 0.5342 - val_mean_squared_error: 0.5342 - val_mean_absolute_error: 0.6015\n",
            "Epoch 12/200\n",
            "439/439 [==============================] - 1s 2ms/step - loss: 0.5232 - mean_squared_error: 0.5232 - mean_absolute_error: 0.5943 - val_loss: 0.5305 - val_mean_squared_error: 0.5305 - val_mean_absolute_error: 0.5979\n",
            "Epoch 13/200\n",
            "439/439 [==============================] - 1s 2ms/step - loss: 0.5213 - mean_squared_error: 0.5213 - mean_absolute_error: 0.5932 - val_loss: 0.5373 - val_mean_squared_error: 0.5373 - val_mean_absolute_error: 0.5992\n",
            "Epoch 14/200\n",
            "439/439 [==============================] - 1s 2ms/step - loss: 0.5204 - mean_squared_error: 0.5204 - mean_absolute_error: 0.5927 - val_loss: 0.5282 - val_mean_squared_error: 0.5282 - val_mean_absolute_error: 0.5950\n",
            "Epoch 15/200\n",
            "439/439 [==============================] - 1s 2ms/step - loss: 0.5196 - mean_squared_error: 0.5196 - mean_absolute_error: 0.5917 - val_loss: 0.5276 - val_mean_squared_error: 0.5276 - val_mean_absolute_error: 0.5959\n",
            "Epoch 16/200\n",
            "439/439 [==============================] - 1s 2ms/step - loss: 0.5188 - mean_squared_error: 0.5188 - mean_absolute_error: 0.5910 - val_loss: 0.5302 - val_mean_squared_error: 0.5302 - val_mean_absolute_error: 0.5998\n",
            "Epoch 17/200\n",
            "439/439 [==============================] - 1s 2ms/step - loss: 0.5183 - mean_squared_error: 0.5183 - mean_absolute_error: 0.5906 - val_loss: 0.5305 - val_mean_squared_error: 0.5305 - val_mean_absolute_error: 0.5982\n",
            "Epoch 18/200\n",
            "439/439 [==============================] - 1s 2ms/step - loss: 0.5173 - mean_squared_error: 0.5173 - mean_absolute_error: 0.5898 - val_loss: 0.5346 - val_mean_squared_error: 0.5346 - val_mean_absolute_error: 0.5980\n",
            "Epoch 19/200\n",
            "439/439 [==============================] - 1s 2ms/step - loss: 0.5171 - mean_squared_error: 0.5171 - mean_absolute_error: 0.5899 - val_loss: 0.5278 - val_mean_squared_error: 0.5278 - val_mean_absolute_error: 0.5966\n",
            "Epoch 20/200\n",
            "439/439 [==============================] - 1s 2ms/step - loss: 0.5163 - mean_squared_error: 0.5163 - mean_absolute_error: 0.5895 - val_loss: 0.5289 - val_mean_squared_error: 0.5289 - val_mean_absolute_error: 0.5956\n",
            "Epoch 21/200\n",
            "439/439 [==============================] - 1s 2ms/step - loss: 0.5153 - mean_squared_error: 0.5153 - mean_absolute_error: 0.5885 - val_loss: 0.5302 - val_mean_squared_error: 0.5302 - val_mean_absolute_error: 0.5959\n",
            "Epoch 22/200\n",
            "439/439 [==============================] - 1s 2ms/step - loss: 0.5150 - mean_squared_error: 0.5150 - mean_absolute_error: 0.5888 - val_loss: 0.5285 - val_mean_squared_error: 0.5285 - val_mean_absolute_error: 0.5939\n",
            "Epoch 23/200\n",
            "439/439 [==============================] - 1s 2ms/step - loss: 0.5145 - mean_squared_error: 0.5145 - mean_absolute_error: 0.5882 - val_loss: 0.5303 - val_mean_squared_error: 0.5303 - val_mean_absolute_error: 0.5939\n",
            "Epoch 24/200\n",
            "439/439 [==============================] - 1s 2ms/step - loss: 0.5142 - mean_squared_error: 0.5142 - mean_absolute_error: 0.5874 - val_loss: 0.5301 - val_mean_squared_error: 0.5301 - val_mean_absolute_error: 0.5956\n",
            "Epoch 25/200\n",
            "439/439 [==============================] - 1s 2ms/step - loss: 0.5137 - mean_squared_error: 0.5137 - mean_absolute_error: 0.5872 - val_loss: 0.5256 - val_mean_squared_error: 0.5256 - val_mean_absolute_error: 0.5921\n",
            "Epoch 26/200\n",
            "439/439 [==============================] - 1s 2ms/step - loss: 0.5125 - mean_squared_error: 0.5125 - mean_absolute_error: 0.5870 - val_loss: 0.5273 - val_mean_squared_error: 0.5273 - val_mean_absolute_error: 0.5937\n",
            "Epoch 27/200\n",
            "439/439 [==============================] - 1s 2ms/step - loss: 0.5132 - mean_squared_error: 0.5132 - mean_absolute_error: 0.5870 - val_loss: 0.5280 - val_mean_squared_error: 0.5280 - val_mean_absolute_error: 0.5969\n",
            "Epoch 28/200\n",
            "439/439 [==============================] - 1s 2ms/step - loss: 0.5130 - mean_squared_error: 0.5130 - mean_absolute_error: 0.5869 - val_loss: 0.5260 - val_mean_squared_error: 0.5260 - val_mean_absolute_error: 0.5918\n",
            "Epoch 29/200\n",
            "439/439 [==============================] - 1s 2ms/step - loss: 0.5128 - mean_squared_error: 0.5128 - mean_absolute_error: 0.5864 - val_loss: 0.5305 - val_mean_squared_error: 0.5305 - val_mean_absolute_error: 0.5961\n",
            "Epoch 30/200\n",
            "439/439 [==============================] - 1s 2ms/step - loss: 0.5130 - mean_squared_error: 0.5130 - mean_absolute_error: 0.5868 - val_loss: 0.5234 - val_mean_squared_error: 0.5234 - val_mean_absolute_error: 0.5914\n",
            "Epoch 31/200\n",
            "439/439 [==============================] - 1s 2ms/step - loss: 0.5119 - mean_squared_error: 0.5119 - mean_absolute_error: 0.5857 - val_loss: 0.5345 - val_mean_squared_error: 0.5345 - val_mean_absolute_error: 0.5957\n",
            "Epoch 32/200\n",
            "439/439 [==============================] - 1s 2ms/step - loss: 0.5121 - mean_squared_error: 0.5121 - mean_absolute_error: 0.5860 - val_loss: 0.5288 - val_mean_squared_error: 0.5288 - val_mean_absolute_error: 0.5935\n",
            "Epoch 33/200\n",
            "439/439 [==============================] - 1s 2ms/step - loss: 0.5115 - mean_squared_error: 0.5115 - mean_absolute_error: 0.5863 - val_loss: 0.5251 - val_mean_squared_error: 0.5251 - val_mean_absolute_error: 0.5904\n",
            "Epoch 34/200\n",
            "439/439 [==============================] - 1s 2ms/step - loss: 0.5108 - mean_squared_error: 0.5108 - mean_absolute_error: 0.5855 - val_loss: 0.5244 - val_mean_squared_error: 0.5244 - val_mean_absolute_error: 0.5906\n",
            "Epoch 35/200\n",
            "439/439 [==============================] - 1s 2ms/step - loss: 0.5108 - mean_squared_error: 0.5108 - mean_absolute_error: 0.5853 - val_loss: 0.5265 - val_mean_squared_error: 0.5265 - val_mean_absolute_error: 0.5921\n",
            "Epoch 36/200\n",
            "439/439 [==============================] - 1s 2ms/step - loss: 0.5102 - mean_squared_error: 0.5102 - mean_absolute_error: 0.5849 - val_loss: 0.5245 - val_mean_squared_error: 0.5245 - val_mean_absolute_error: 0.5904\n",
            "Epoch 37/200\n",
            "439/439 [==============================] - 1s 2ms/step - loss: 0.5102 - mean_squared_error: 0.5102 - mean_absolute_error: 0.5847 - val_loss: 0.5291 - val_mean_squared_error: 0.5291 - val_mean_absolute_error: 0.5926\n",
            "Epoch 38/200\n",
            "439/439 [==============================] - 1s 2ms/step - loss: 0.5102 - mean_squared_error: 0.5102 - mean_absolute_error: 0.5852 - val_loss: 0.5238 - val_mean_squared_error: 0.5238 - val_mean_absolute_error: 0.5917\n",
            "Epoch 39/200\n",
            "439/439 [==============================] - 1s 2ms/step - loss: 0.5096 - mean_squared_error: 0.5096 - mean_absolute_error: 0.5844 - val_loss: 0.5246 - val_mean_squared_error: 0.5246 - val_mean_absolute_error: 0.5902\n",
            "Epoch 40/200\n",
            "439/439 [==============================] - 1s 2ms/step - loss: 0.5089 - mean_squared_error: 0.5089 - mean_absolute_error: 0.5839 - val_loss: 0.5235 - val_mean_squared_error: 0.5235 - val_mean_absolute_error: 0.5890\n",
            "Epoch 41/200\n",
            "439/439 [==============================] - 1s 2ms/step - loss: 0.5085 - mean_squared_error: 0.5085 - mean_absolute_error: 0.5836 - val_loss: 0.5295 - val_mean_squared_error: 0.5295 - val_mean_absolute_error: 0.5928\n",
            "Epoch 42/200\n",
            "439/439 [==============================] - 1s 2ms/step - loss: 0.5094 - mean_squared_error: 0.5094 - mean_absolute_error: 0.5841 - val_loss: 0.5254 - val_mean_squared_error: 0.5254 - val_mean_absolute_error: 0.5911\n",
            "Epoch 43/200\n",
            "439/439 [==============================] - 1s 2ms/step - loss: 0.5084 - mean_squared_error: 0.5084 - mean_absolute_error: 0.5838 - val_loss: 0.5223 - val_mean_squared_error: 0.5223 - val_mean_absolute_error: 0.5903\n",
            "Epoch 44/200\n",
            "439/439 [==============================] - 1s 2ms/step - loss: 0.5087 - mean_squared_error: 0.5087 - mean_absolute_error: 0.5844 - val_loss: 0.5276 - val_mean_squared_error: 0.5276 - val_mean_absolute_error: 0.5927\n",
            "Epoch 45/200\n",
            "439/439 [==============================] - 1s 2ms/step - loss: 0.5088 - mean_squared_error: 0.5088 - mean_absolute_error: 0.5836 - val_loss: 0.5223 - val_mean_squared_error: 0.5223 - val_mean_absolute_error: 0.5877\n",
            "Epoch 46/200\n",
            "439/439 [==============================] - 1s 2ms/step - loss: 0.5079 - mean_squared_error: 0.5079 - mean_absolute_error: 0.5834 - val_loss: 0.5269 - val_mean_squared_error: 0.5269 - val_mean_absolute_error: 0.5909\n",
            "Epoch 47/200\n",
            "439/439 [==============================] - 1s 2ms/step - loss: 0.5075 - mean_squared_error: 0.5075 - mean_absolute_error: 0.5833 - val_loss: 0.5273 - val_mean_squared_error: 0.5273 - val_mean_absolute_error: 0.5946\n",
            "Epoch 48/200\n",
            "439/439 [==============================] - 1s 2ms/step - loss: 0.5085 - mean_squared_error: 0.5085 - mean_absolute_error: 0.5841 - val_loss: 0.5261 - val_mean_squared_error: 0.5261 - val_mean_absolute_error: 0.5925\n",
            "Epoch 49/200\n",
            "439/439 [==============================] - 1s 2ms/step - loss: 0.5074 - mean_squared_error: 0.5074 - mean_absolute_error: 0.5836 - val_loss: 0.5205 - val_mean_squared_error: 0.5205 - val_mean_absolute_error: 0.5886\n",
            "Epoch 50/200\n",
            "439/439 [==============================] - 1s 2ms/step - loss: 0.5072 - mean_squared_error: 0.5072 - mean_absolute_error: 0.5836 - val_loss: 0.5238 - val_mean_squared_error: 0.5238 - val_mean_absolute_error: 0.5894\n",
            "Epoch 51/200\n",
            "439/439 [==============================] - 1s 2ms/step - loss: 0.5071 - mean_squared_error: 0.5071 - mean_absolute_error: 0.5838 - val_loss: 0.5270 - val_mean_squared_error: 0.5270 - val_mean_absolute_error: 0.5907\n",
            "Epoch 52/200\n",
            "439/439 [==============================] - 1s 3ms/step - loss: 0.5066 - mean_squared_error: 0.5066 - mean_absolute_error: 0.5831 - val_loss: 0.5255 - val_mean_squared_error: 0.5255 - val_mean_absolute_error: 0.5910\n",
            "Epoch 53/200\n",
            "439/439 [==============================] - 1s 2ms/step - loss: 0.5059 - mean_squared_error: 0.5059 - mean_absolute_error: 0.5826 - val_loss: 0.5226 - val_mean_squared_error: 0.5226 - val_mean_absolute_error: 0.5886\n",
            "Epoch 54/200\n",
            "439/439 [==============================] - 1s 2ms/step - loss: 0.5059 - mean_squared_error: 0.5059 - mean_absolute_error: 0.5827 - val_loss: 0.5221 - val_mean_squared_error: 0.5221 - val_mean_absolute_error: 0.5878\n",
            "Epoch 55/200\n",
            "439/439 [==============================] - 1s 2ms/step - loss: 0.5057 - mean_squared_error: 0.5057 - mean_absolute_error: 0.5830 - val_loss: 0.5291 - val_mean_squared_error: 0.5291 - val_mean_absolute_error: 0.5927\n",
            "Epoch 56/200\n",
            "439/439 [==============================] - 1s 2ms/step - loss: 0.5054 - mean_squared_error: 0.5054 - mean_absolute_error: 0.5824 - val_loss: 0.5327 - val_mean_squared_error: 0.5327 - val_mean_absolute_error: 0.5944\n",
            "Epoch 57/200\n",
            "439/439 [==============================] - 1s 2ms/step - loss: 0.5051 - mean_squared_error: 0.5051 - mean_absolute_error: 0.5823 - val_loss: 0.5243 - val_mean_squared_error: 0.5243 - val_mean_absolute_error: 0.5932\n",
            "Epoch 58/200\n",
            "439/439 [==============================] - 1s 2ms/step - loss: 0.5053 - mean_squared_error: 0.5053 - mean_absolute_error: 0.5819 - val_loss: 0.5211 - val_mean_squared_error: 0.5211 - val_mean_absolute_error: 0.5901\n",
            "Epoch 59/200\n",
            "439/439 [==============================] - 1s 2ms/step - loss: 0.5047 - mean_squared_error: 0.5047 - mean_absolute_error: 0.5820 - val_loss: 0.5213 - val_mean_squared_error: 0.5213 - val_mean_absolute_error: 0.5882\n",
            "Epoch 60/200\n",
            "439/439 [==============================] - 1s 2ms/step - loss: 0.5040 - mean_squared_error: 0.5040 - mean_absolute_error: 0.5815 - val_loss: 0.5246 - val_mean_squared_error: 0.5246 - val_mean_absolute_error: 0.5881\n",
            "Epoch 61/200\n",
            "439/439 [==============================] - 1s 2ms/step - loss: 0.5038 - mean_squared_error: 0.5038 - mean_absolute_error: 0.5809 - val_loss: 0.5226 - val_mean_squared_error: 0.5226 - val_mean_absolute_error: 0.5900\n",
            "Epoch 62/200\n",
            "439/439 [==============================] - 1s 2ms/step - loss: 0.5038 - mean_squared_error: 0.5038 - mean_absolute_error: 0.5814 - val_loss: 0.5218 - val_mean_squared_error: 0.5218 - val_mean_absolute_error: 0.5905\n",
            "Epoch 63/200\n",
            "439/439 [==============================] - 1s 2ms/step - loss: 0.5038 - mean_squared_error: 0.5038 - mean_absolute_error: 0.5808 - val_loss: 0.5190 - val_mean_squared_error: 0.5190 - val_mean_absolute_error: 0.5868\n",
            "Epoch 64/200\n",
            "439/439 [==============================] - 1s 2ms/step - loss: 0.5038 - mean_squared_error: 0.5038 - mean_absolute_error: 0.5813 - val_loss: 0.5193 - val_mean_squared_error: 0.5193 - val_mean_absolute_error: 0.5873\n",
            "Epoch 65/200\n",
            "439/439 [==============================] - 1s 2ms/step - loss: 0.5034 - mean_squared_error: 0.5034 - mean_absolute_error: 0.5810 - val_loss: 0.5201 - val_mean_squared_error: 0.5201 - val_mean_absolute_error: 0.5864\n",
            "Epoch 66/200\n",
            "439/439 [==============================] - 1s 2ms/step - loss: 0.5024 - mean_squared_error: 0.5024 - mean_absolute_error: 0.5802 - val_loss: 0.5224 - val_mean_squared_error: 0.5224 - val_mean_absolute_error: 0.5868\n",
            "Epoch 67/200\n",
            "439/439 [==============================] - 1s 2ms/step - loss: 0.5023 - mean_squared_error: 0.5023 - mean_absolute_error: 0.5810 - val_loss: 0.5206 - val_mean_squared_error: 0.5206 - val_mean_absolute_error: 0.5860\n",
            "Epoch 68/200\n",
            "439/439 [==============================] - 1s 2ms/step - loss: 0.5014 - mean_squared_error: 0.5014 - mean_absolute_error: 0.5798 - val_loss: 0.5237 - val_mean_squared_error: 0.5237 - val_mean_absolute_error: 0.5881\n",
            "Epoch 69/200\n",
            "439/439 [==============================] - 1s 2ms/step - loss: 0.5026 - mean_squared_error: 0.5026 - mean_absolute_error: 0.5808 - val_loss: 0.5180 - val_mean_squared_error: 0.5180 - val_mean_absolute_error: 0.5860\n",
            "Epoch 70/200\n",
            "439/439 [==============================] - 1s 2ms/step - loss: 0.5017 - mean_squared_error: 0.5017 - mean_absolute_error: 0.5807 - val_loss: 0.5185 - val_mean_squared_error: 0.5185 - val_mean_absolute_error: 0.5865\n",
            "Epoch 71/200\n",
            "439/439 [==============================] - 1s 2ms/step - loss: 0.5015 - mean_squared_error: 0.5015 - mean_absolute_error: 0.5804 - val_loss: 0.5186 - val_mean_squared_error: 0.5186 - val_mean_absolute_error: 0.5864\n",
            "Epoch 72/200\n",
            "439/439 [==============================] - 1s 2ms/step - loss: 0.5014 - mean_squared_error: 0.5014 - mean_absolute_error: 0.5801 - val_loss: 0.5180 - val_mean_squared_error: 0.5180 - val_mean_absolute_error: 0.5855\n",
            "Epoch 73/200\n",
            "439/439 [==============================] - 1s 2ms/step - loss: 0.5008 - mean_squared_error: 0.5008 - mean_absolute_error: 0.5796 - val_loss: 0.5209 - val_mean_squared_error: 0.5209 - val_mean_absolute_error: 0.5879\n",
            "Epoch 74/200\n",
            "439/439 [==============================] - 1s 2ms/step - loss: 0.5005 - mean_squared_error: 0.5005 - mean_absolute_error: 0.5794 - val_loss: 0.5217 - val_mean_squared_error: 0.5217 - val_mean_absolute_error: 0.5886\n",
            "Epoch 75/200\n",
            "439/439 [==============================] - 1s 2ms/step - loss: 0.4991 - mean_squared_error: 0.4991 - mean_absolute_error: 0.5782 - val_loss: 0.5247 - val_mean_squared_error: 0.5247 - val_mean_absolute_error: 0.5888\n",
            "Epoch 76/200\n",
            "439/439 [==============================] - 1s 2ms/step - loss: 0.4995 - mean_squared_error: 0.4995 - mean_absolute_error: 0.5788 - val_loss: 0.5219 - val_mean_squared_error: 0.5219 - val_mean_absolute_error: 0.5867\n",
            "Epoch 77/200\n",
            "439/439 [==============================] - 1s 2ms/step - loss: 0.4998 - mean_squared_error: 0.4998 - mean_absolute_error: 0.5783 - val_loss: 0.5211 - val_mean_squared_error: 0.5211 - val_mean_absolute_error: 0.5880\n",
            "Epoch 78/200\n",
            "439/439 [==============================] - 1s 2ms/step - loss: 0.4991 - mean_squared_error: 0.4991 - mean_absolute_error: 0.5786 - val_loss: 0.5174 - val_mean_squared_error: 0.5174 - val_mean_absolute_error: 0.5860\n",
            "Epoch 79/200\n",
            "439/439 [==============================] - 1s 2ms/step - loss: 0.4995 - mean_squared_error: 0.4995 - mean_absolute_error: 0.5783 - val_loss: 0.5200 - val_mean_squared_error: 0.5200 - val_mean_absolute_error: 0.5868\n",
            "Epoch 80/200\n",
            "439/439 [==============================] - 1s 2ms/step - loss: 0.4997 - mean_squared_error: 0.4997 - mean_absolute_error: 0.5788 - val_loss: 0.5194 - val_mean_squared_error: 0.5194 - val_mean_absolute_error: 0.5864\n",
            "Epoch 81/200\n",
            "439/439 [==============================] - 1s 2ms/step - loss: 0.4984 - mean_squared_error: 0.4984 - mean_absolute_error: 0.5778 - val_loss: 0.5220 - val_mean_squared_error: 0.5220 - val_mean_absolute_error: 0.5906\n",
            "Epoch 82/200\n",
            "439/439 [==============================] - 1s 2ms/step - loss: 0.4984 - mean_squared_error: 0.4984 - mean_absolute_error: 0.5774 - val_loss: 0.5163 - val_mean_squared_error: 0.5163 - val_mean_absolute_error: 0.5846\n",
            "Epoch 83/200\n",
            "439/439 [==============================] - 1s 2ms/step - loss: 0.4993 - mean_squared_error: 0.4993 - mean_absolute_error: 0.5784 - val_loss: 0.5157 - val_mean_squared_error: 0.5157 - val_mean_absolute_error: 0.5848\n",
            "Epoch 84/200\n",
            "439/439 [==============================] - 1s 2ms/step - loss: 0.4986 - mean_squared_error: 0.4986 - mean_absolute_error: 0.5777 - val_loss: 0.5188 - val_mean_squared_error: 0.5188 - val_mean_absolute_error: 0.5860\n",
            "Epoch 85/200\n",
            "439/439 [==============================] - 1s 2ms/step - loss: 0.4979 - mean_squared_error: 0.4979 - mean_absolute_error: 0.5771 - val_loss: 0.5193 - val_mean_squared_error: 0.5193 - val_mean_absolute_error: 0.5860\n",
            "Epoch 86/200\n",
            "439/439 [==============================] - 1s 2ms/step - loss: 0.4976 - mean_squared_error: 0.4976 - mean_absolute_error: 0.5769 - val_loss: 0.5234 - val_mean_squared_error: 0.5234 - val_mean_absolute_error: 0.5934\n",
            "Epoch 87/200\n",
            "439/439 [==============================] - 1s 2ms/step - loss: 0.4970 - mean_squared_error: 0.4970 - mean_absolute_error: 0.5768 - val_loss: 0.5189 - val_mean_squared_error: 0.5189 - val_mean_absolute_error: 0.5853\n",
            "Epoch 88/200\n",
            "439/439 [==============================] - 1s 2ms/step - loss: 0.4974 - mean_squared_error: 0.4974 - mean_absolute_error: 0.5773 - val_loss: 0.5175 - val_mean_squared_error: 0.5175 - val_mean_absolute_error: 0.5850\n",
            "Epoch 89/200\n",
            "439/439 [==============================] - 1s 2ms/step - loss: 0.4975 - mean_squared_error: 0.4975 - mean_absolute_error: 0.5771 - val_loss: 0.5236 - val_mean_squared_error: 0.5236 - val_mean_absolute_error: 0.5895\n",
            "Epoch 90/200\n",
            "439/439 [==============================] - 1s 2ms/step - loss: 0.4966 - mean_squared_error: 0.4966 - mean_absolute_error: 0.5764 - val_loss: 0.5251 - val_mean_squared_error: 0.5251 - val_mean_absolute_error: 0.5916\n",
            "Epoch 91/200\n",
            "439/439 [==============================] - 1s 2ms/step - loss: 0.4964 - mean_squared_error: 0.4964 - mean_absolute_error: 0.5762 - val_loss: 0.5261 - val_mean_squared_error: 0.5261 - val_mean_absolute_error: 0.5910\n",
            "Epoch 92/200\n",
            "439/439 [==============================] - 1s 2ms/step - loss: 0.4962 - mean_squared_error: 0.4962 - mean_absolute_error: 0.5758 - val_loss: 0.5277 - val_mean_squared_error: 0.5277 - val_mean_absolute_error: 0.5902\n",
            "Epoch 93/200\n",
            "439/439 [==============================] - 1s 2ms/step - loss: 0.4963 - mean_squared_error: 0.4963 - mean_absolute_error: 0.5758 - val_loss: 0.5160 - val_mean_squared_error: 0.5160 - val_mean_absolute_error: 0.5833\n",
            "Epoch 94/200\n",
            "439/439 [==============================] - 1s 2ms/step - loss: 0.4968 - mean_squared_error: 0.4968 - mean_absolute_error: 0.5760 - val_loss: 0.5205 - val_mean_squared_error: 0.5205 - val_mean_absolute_error: 0.5860\n",
            "Epoch 95/200\n",
            "439/439 [==============================] - 1s 2ms/step - loss: 0.4966 - mean_squared_error: 0.4966 - mean_absolute_error: 0.5763 - val_loss: 0.5204 - val_mean_squared_error: 0.5204 - val_mean_absolute_error: 0.5920\n",
            "Epoch 96/200\n",
            "439/439 [==============================] - 1s 2ms/step - loss: 0.4962 - mean_squared_error: 0.4962 - mean_absolute_error: 0.5761 - val_loss: 0.5201 - val_mean_squared_error: 0.5201 - val_mean_absolute_error: 0.5865\n",
            "Epoch 97/200\n",
            "439/439 [==============================] - 1s 2ms/step - loss: 0.4963 - mean_squared_error: 0.4963 - mean_absolute_error: 0.5766 - val_loss: 0.5161 - val_mean_squared_error: 0.5161 - val_mean_absolute_error: 0.5857\n",
            "Epoch 98/200\n",
            "439/439 [==============================] - 1s 2ms/step - loss: 0.4951 - mean_squared_error: 0.4951 - mean_absolute_error: 0.5752 - val_loss: 0.5185 - val_mean_squared_error: 0.5185 - val_mean_absolute_error: 0.5838\n",
            "Epoch 99/200\n",
            "439/439 [==============================] - 1s 3ms/step - loss: 0.4961 - mean_squared_error: 0.4961 - mean_absolute_error: 0.5764 - val_loss: 0.5169 - val_mean_squared_error: 0.5169 - val_mean_absolute_error: 0.5839\n",
            "Epoch 100/200\n",
            "439/439 [==============================] - 1s 2ms/step - loss: 0.4957 - mean_squared_error: 0.4957 - mean_absolute_error: 0.5759 - val_loss: 0.5262 - val_mean_squared_error: 0.5262 - val_mean_absolute_error: 0.5936\n",
            "Epoch 101/200\n",
            "439/439 [==============================] - 1s 2ms/step - loss: 0.4956 - mean_squared_error: 0.4956 - mean_absolute_error: 0.5756 - val_loss: 0.5141 - val_mean_squared_error: 0.5141 - val_mean_absolute_error: 0.5809\n",
            "Epoch 102/200\n",
            "439/439 [==============================] - 1s 2ms/step - loss: 0.4955 - mean_squared_error: 0.4955 - mean_absolute_error: 0.5754 - val_loss: 0.5163 - val_mean_squared_error: 0.5163 - val_mean_absolute_error: 0.5842\n",
            "Epoch 103/200\n",
            "439/439 [==============================] - 1s 2ms/step - loss: 0.4949 - mean_squared_error: 0.4949 - mean_absolute_error: 0.5744 - val_loss: 0.5159 - val_mean_squared_error: 0.5159 - val_mean_absolute_error: 0.5860\n",
            "Epoch 104/200\n",
            "439/439 [==============================] - 1s 2ms/step - loss: 0.4952 - mean_squared_error: 0.4952 - mean_absolute_error: 0.5750 - val_loss: 0.5132 - val_mean_squared_error: 0.5132 - val_mean_absolute_error: 0.5831\n",
            "Epoch 105/200\n",
            "439/439 [==============================] - 1s 2ms/step - loss: 0.4941 - mean_squared_error: 0.4941 - mean_absolute_error: 0.5747 - val_loss: 0.5175 - val_mean_squared_error: 0.5175 - val_mean_absolute_error: 0.5848\n",
            "Epoch 106/200\n",
            "439/439 [==============================] - 1s 2ms/step - loss: 0.4944 - mean_squared_error: 0.4944 - mean_absolute_error: 0.5746 - val_loss: 0.5182 - val_mean_squared_error: 0.5182 - val_mean_absolute_error: 0.5876\n",
            "Epoch 107/200\n",
            "439/439 [==============================] - 1s 2ms/step - loss: 0.4942 - mean_squared_error: 0.4942 - mean_absolute_error: 0.5750 - val_loss: 0.5201 - val_mean_squared_error: 0.5201 - val_mean_absolute_error: 0.5854\n",
            "Epoch 108/200\n",
            "439/439 [==============================] - 1s 2ms/step - loss: 0.4950 - mean_squared_error: 0.4950 - mean_absolute_error: 0.5747 - val_loss: 0.5143 - val_mean_squared_error: 0.5143 - val_mean_absolute_error: 0.5828\n",
            "Epoch 109/200\n",
            "439/439 [==============================] - 1s 2ms/step - loss: 0.4941 - mean_squared_error: 0.4941 - mean_absolute_error: 0.5743 - val_loss: 0.5154 - val_mean_squared_error: 0.5154 - val_mean_absolute_error: 0.5827\n",
            "Epoch 110/200\n",
            "439/439 [==============================] - 1s 2ms/step - loss: 0.4944 - mean_squared_error: 0.4944 - mean_absolute_error: 0.5746 - val_loss: 0.5199 - val_mean_squared_error: 0.5199 - val_mean_absolute_error: 0.5846\n",
            "Epoch 111/200\n",
            "439/439 [==============================] - 1s 2ms/step - loss: 0.4943 - mean_squared_error: 0.4943 - mean_absolute_error: 0.5740 - val_loss: 0.5214 - val_mean_squared_error: 0.5214 - val_mean_absolute_error: 0.5858\n",
            "Epoch 112/200\n",
            "439/439 [==============================] - 1s 2ms/step - loss: 0.4939 - mean_squared_error: 0.4939 - mean_absolute_error: 0.5738 - val_loss: 0.5143 - val_mean_squared_error: 0.5143 - val_mean_absolute_error: 0.5843\n",
            "Epoch 113/200\n",
            "439/439 [==============================] - 1s 2ms/step - loss: 0.4945 - mean_squared_error: 0.4945 - mean_absolute_error: 0.5741 - val_loss: 0.5222 - val_mean_squared_error: 0.5222 - val_mean_absolute_error: 0.5866\n",
            "Epoch 114/200\n",
            "439/439 [==============================] - 1s 2ms/step - loss: 0.4944 - mean_squared_error: 0.4944 - mean_absolute_error: 0.5741 - val_loss: 0.5138 - val_mean_squared_error: 0.5138 - val_mean_absolute_error: 0.5827\n",
            "Epoch 115/200\n",
            "439/439 [==============================] - 1s 2ms/step - loss: 0.4934 - mean_squared_error: 0.4934 - mean_absolute_error: 0.5739 - val_loss: 0.5192 - val_mean_squared_error: 0.5192 - val_mean_absolute_error: 0.5851\n",
            "Epoch 116/200\n",
            "439/439 [==============================] - 1s 2ms/step - loss: 0.4935 - mean_squared_error: 0.4935 - mean_absolute_error: 0.5736 - val_loss: 0.5153 - val_mean_squared_error: 0.5153 - val_mean_absolute_error: 0.5837\n",
            "Epoch 117/200\n",
            "439/439 [==============================] - 1s 2ms/step - loss: 0.4938 - mean_squared_error: 0.4938 - mean_absolute_error: 0.5736 - val_loss: 0.5146 - val_mean_squared_error: 0.5146 - val_mean_absolute_error: 0.5813\n",
            "Epoch 118/200\n",
            "439/439 [==============================] - 1s 2ms/step - loss: 0.4935 - mean_squared_error: 0.4935 - mean_absolute_error: 0.5736 - val_loss: 0.5215 - val_mean_squared_error: 0.5215 - val_mean_absolute_error: 0.5879\n",
            "Epoch 119/200\n",
            "439/439 [==============================] - 1s 2ms/step - loss: 0.4938 - mean_squared_error: 0.4938 - mean_absolute_error: 0.5734 - val_loss: 0.5157 - val_mean_squared_error: 0.5157 - val_mean_absolute_error: 0.5831\n",
            "Epoch 120/200\n",
            "439/439 [==============================] - 1s 2ms/step - loss: 0.4932 - mean_squared_error: 0.4932 - mean_absolute_error: 0.5735 - val_loss: 0.5147 - val_mean_squared_error: 0.5147 - val_mean_absolute_error: 0.5834\n",
            "Epoch 121/200\n",
            "439/439 [==============================] - 1s 2ms/step - loss: 0.4930 - mean_squared_error: 0.4930 - mean_absolute_error: 0.5734 - val_loss: 0.5157 - val_mean_squared_error: 0.5157 - val_mean_absolute_error: 0.5835\n",
            "Epoch 122/200\n",
            "439/439 [==============================] - 1s 2ms/step - loss: 0.4937 - mean_squared_error: 0.4937 - mean_absolute_error: 0.5739 - val_loss: 0.5133 - val_mean_squared_error: 0.5133 - val_mean_absolute_error: 0.5816\n",
            "Epoch 123/200\n",
            "439/439 [==============================] - 1s 2ms/step - loss: 0.4929 - mean_squared_error: 0.4929 - mean_absolute_error: 0.5727 - val_loss: 0.5183 - val_mean_squared_error: 0.5183 - val_mean_absolute_error: 0.5844\n",
            "Epoch 124/200\n",
            "439/439 [==============================] - 1s 2ms/step - loss: 0.4932 - mean_squared_error: 0.4932 - mean_absolute_error: 0.5732 - val_loss: 0.5169 - val_mean_squared_error: 0.5169 - val_mean_absolute_error: 0.5829\n",
            "Epoch 125/200\n",
            "439/439 [==============================] - 1s 2ms/step - loss: 0.4926 - mean_squared_error: 0.4926 - mean_absolute_error: 0.5732 - val_loss: 0.5213 - val_mean_squared_error: 0.5213 - val_mean_absolute_error: 0.5859\n",
            "Epoch 126/200\n",
            "439/439 [==============================] - 1s 2ms/step - loss: 0.4931 - mean_squared_error: 0.4931 - mean_absolute_error: 0.5733 - val_loss: 0.5149 - val_mean_squared_error: 0.5149 - val_mean_absolute_error: 0.5807\n",
            "Epoch 127/200\n",
            "439/439 [==============================] - 1s 2ms/step - loss: 0.4933 - mean_squared_error: 0.4933 - mean_absolute_error: 0.5727 - val_loss: 0.5199 - val_mean_squared_error: 0.5199 - val_mean_absolute_error: 0.5855\n",
            "Epoch 128/200\n",
            "439/439 [==============================] - 1s 2ms/step - loss: 0.4933 - mean_squared_error: 0.4933 - mean_absolute_error: 0.5731 - val_loss: 0.5130 - val_mean_squared_error: 0.5130 - val_mean_absolute_error: 0.5825\n",
            "Epoch 129/200\n",
            "439/439 [==============================] - 1s 2ms/step - loss: 0.4928 - mean_squared_error: 0.4928 - mean_absolute_error: 0.5721 - val_loss: 0.5139 - val_mean_squared_error: 0.5139 - val_mean_absolute_error: 0.5822\n",
            "Epoch 130/200\n",
            "439/439 [==============================] - 1s 2ms/step - loss: 0.4930 - mean_squared_error: 0.4930 - mean_absolute_error: 0.5728 - val_loss: 0.5149 - val_mean_squared_error: 0.5149 - val_mean_absolute_error: 0.5821\n",
            "Epoch 131/200\n",
            "439/439 [==============================] - 1s 2ms/step - loss: 0.4932 - mean_squared_error: 0.4932 - mean_absolute_error: 0.5728 - val_loss: 0.5200 - val_mean_squared_error: 0.5200 - val_mean_absolute_error: 0.5853\n",
            "Epoch 132/200\n",
            "439/439 [==============================] - 1s 2ms/step - loss: 0.4926 - mean_squared_error: 0.4926 - mean_absolute_error: 0.5726 - val_loss: 0.5194 - val_mean_squared_error: 0.5194 - val_mean_absolute_error: 0.5856\n",
            "Epoch 133/200\n",
            "439/439 [==============================] - 1s 2ms/step - loss: 0.4913 - mean_squared_error: 0.4913 - mean_absolute_error: 0.5718 - val_loss: 0.5238 - val_mean_squared_error: 0.5238 - val_mean_absolute_error: 0.5900\n",
            "Epoch 134/200\n",
            "439/439 [==============================] - 1s 2ms/step - loss: 0.4931 - mean_squared_error: 0.4931 - mean_absolute_error: 0.5730 - val_loss: 0.5140 - val_mean_squared_error: 0.5140 - val_mean_absolute_error: 0.5808\n",
            "Epoch 135/200\n",
            "439/439 [==============================] - 1s 2ms/step - loss: 0.4919 - mean_squared_error: 0.4919 - mean_absolute_error: 0.5717 - val_loss: 0.5129 - val_mean_squared_error: 0.5129 - val_mean_absolute_error: 0.5796\n",
            "Epoch 136/200\n",
            "439/439 [==============================] - 1s 2ms/step - loss: 0.4917 - mean_squared_error: 0.4917 - mean_absolute_error: 0.5719 - val_loss: 0.5136 - val_mean_squared_error: 0.5136 - val_mean_absolute_error: 0.5813\n",
            "Epoch 137/200\n",
            "439/439 [==============================] - 1s 2ms/step - loss: 0.4927 - mean_squared_error: 0.4927 - mean_absolute_error: 0.5719 - val_loss: 0.5162 - val_mean_squared_error: 0.5162 - val_mean_absolute_error: 0.5856\n",
            "Epoch 138/200\n",
            "439/439 [==============================] - 1s 2ms/step - loss: 0.4922 - mean_squared_error: 0.4922 - mean_absolute_error: 0.5723 - val_loss: 0.5117 - val_mean_squared_error: 0.5117 - val_mean_absolute_error: 0.5791\n",
            "Epoch 139/200\n",
            "439/439 [==============================] - 1s 2ms/step - loss: 0.4922 - mean_squared_error: 0.4922 - mean_absolute_error: 0.5724 - val_loss: 0.5136 - val_mean_squared_error: 0.5136 - val_mean_absolute_error: 0.5833\n",
            "Epoch 140/200\n",
            "439/439 [==============================] - 1s 2ms/step - loss: 0.4919 - mean_squared_error: 0.4919 - mean_absolute_error: 0.5720 - val_loss: 0.5188 - val_mean_squared_error: 0.5188 - val_mean_absolute_error: 0.5835\n",
            "Epoch 141/200\n",
            "439/439 [==============================] - 1s 2ms/step - loss: 0.4914 - mean_squared_error: 0.4914 - mean_absolute_error: 0.5714 - val_loss: 0.5165 - val_mean_squared_error: 0.5165 - val_mean_absolute_error: 0.5817\n",
            "Epoch 142/200\n",
            "439/439 [==============================] - 1s 2ms/step - loss: 0.4921 - mean_squared_error: 0.4921 - mean_absolute_error: 0.5717 - val_loss: 0.5149 - val_mean_squared_error: 0.5149 - val_mean_absolute_error: 0.5815\n",
            "Epoch 143/200\n",
            "439/439 [==============================] - 1s 2ms/step - loss: 0.4915 - mean_squared_error: 0.4915 - mean_absolute_error: 0.5716 - val_loss: 0.5121 - val_mean_squared_error: 0.5121 - val_mean_absolute_error: 0.5812\n",
            "Epoch 144/200\n",
            "439/439 [==============================] - 1s 2ms/step - loss: 0.4914 - mean_squared_error: 0.4914 - mean_absolute_error: 0.5716 - val_loss: 0.5131 - val_mean_squared_error: 0.5131 - val_mean_absolute_error: 0.5833\n",
            "Epoch 145/200\n",
            "439/439 [==============================] - 1s 2ms/step - loss: 0.4923 - mean_squared_error: 0.4923 - mean_absolute_error: 0.5719 - val_loss: 0.5116 - val_mean_squared_error: 0.5116 - val_mean_absolute_error: 0.5800\n",
            "Epoch 146/200\n",
            "439/439 [==============================] - 1s 2ms/step - loss: 0.4922 - mean_squared_error: 0.4922 - mean_absolute_error: 0.5717 - val_loss: 0.5109 - val_mean_squared_error: 0.5109 - val_mean_absolute_error: 0.5801\n",
            "Epoch 147/200\n",
            "439/439 [==============================] - 1s 2ms/step - loss: 0.4919 - mean_squared_error: 0.4919 - mean_absolute_error: 0.5712 - val_loss: 0.5125 - val_mean_squared_error: 0.5125 - val_mean_absolute_error: 0.5800\n",
            "Epoch 148/200\n",
            "439/439 [==============================] - 1s 3ms/step - loss: 0.4911 - mean_squared_error: 0.4911 - mean_absolute_error: 0.5708 - val_loss: 0.5152 - val_mean_squared_error: 0.5152 - val_mean_absolute_error: 0.5821\n",
            "Epoch 149/200\n",
            "439/439 [==============================] - 2s 4ms/step - loss: 0.4909 - mean_squared_error: 0.4909 - mean_absolute_error: 0.5717 - val_loss: 0.5129 - val_mean_squared_error: 0.5129 - val_mean_absolute_error: 0.5822\n",
            "Epoch 150/200\n",
            "439/439 [==============================] - 1s 3ms/step - loss: 0.4917 - mean_squared_error: 0.4917 - mean_absolute_error: 0.5717 - val_loss: 0.5125 - val_mean_squared_error: 0.5125 - val_mean_absolute_error: 0.5814\n",
            "Epoch 151/200\n",
            "439/439 [==============================] - 1s 2ms/step - loss: 0.4917 - mean_squared_error: 0.4917 - mean_absolute_error: 0.5719 - val_loss: 0.5178 - val_mean_squared_error: 0.5178 - val_mean_absolute_error: 0.5855\n",
            "Epoch 152/200\n",
            "439/439 [==============================] - 1s 2ms/step - loss: 0.4918 - mean_squared_error: 0.4918 - mean_absolute_error: 0.5715 - val_loss: 0.5099 - val_mean_squared_error: 0.5099 - val_mean_absolute_error: 0.5784\n",
            "Epoch 153/200\n",
            "439/439 [==============================] - 1s 2ms/step - loss: 0.4906 - mean_squared_error: 0.4906 - mean_absolute_error: 0.5714 - val_loss: 0.5197 - val_mean_squared_error: 0.5197 - val_mean_absolute_error: 0.5840\n",
            "Epoch 154/200\n",
            "439/439 [==============================] - 1s 2ms/step - loss: 0.4917 - mean_squared_error: 0.4917 - mean_absolute_error: 0.5721 - val_loss: 0.5133 - val_mean_squared_error: 0.5133 - val_mean_absolute_error: 0.5819\n",
            "Epoch 155/200\n",
            "439/439 [==============================] - 1s 2ms/step - loss: 0.4910 - mean_squared_error: 0.4910 - mean_absolute_error: 0.5704 - val_loss: 0.5196 - val_mean_squared_error: 0.5196 - val_mean_absolute_error: 0.5870\n",
            "Epoch 156/200\n",
            "439/439 [==============================] - 1s 2ms/step - loss: 0.4915 - mean_squared_error: 0.4915 - mean_absolute_error: 0.5715 - val_loss: 0.5159 - val_mean_squared_error: 0.5159 - val_mean_absolute_error: 0.5831\n",
            "Epoch 157/200\n",
            "439/439 [==============================] - 1s 2ms/step - loss: 0.4903 - mean_squared_error: 0.4903 - mean_absolute_error: 0.5707 - val_loss: 0.5116 - val_mean_squared_error: 0.5116 - val_mean_absolute_error: 0.5808\n",
            "Epoch 158/200\n",
            "439/439 [==============================] - 1s 2ms/step - loss: 0.4909 - mean_squared_error: 0.4909 - mean_absolute_error: 0.5716 - val_loss: 0.5123 - val_mean_squared_error: 0.5123 - val_mean_absolute_error: 0.5807\n",
            "Epoch 159/200\n",
            "439/439 [==============================] - 1s 2ms/step - loss: 0.4914 - mean_squared_error: 0.4914 - mean_absolute_error: 0.5715 - val_loss: 0.5140 - val_mean_squared_error: 0.5140 - val_mean_absolute_error: 0.5808\n",
            "Epoch 160/200\n",
            "439/439 [==============================] - 1s 2ms/step - loss: 0.4901 - mean_squared_error: 0.4901 - mean_absolute_error: 0.5706 - val_loss: 0.5146 - val_mean_squared_error: 0.5146 - val_mean_absolute_error: 0.5803\n",
            "Epoch 161/200\n",
            "439/439 [==============================] - 1s 2ms/step - loss: 0.4909 - mean_squared_error: 0.4909 - mean_absolute_error: 0.5716 - val_loss: 0.5130 - val_mean_squared_error: 0.5130 - val_mean_absolute_error: 0.5805\n",
            "Epoch 162/200\n",
            "439/439 [==============================] - 1s 2ms/step - loss: 0.4902 - mean_squared_error: 0.4902 - mean_absolute_error: 0.5704 - val_loss: 0.5234 - val_mean_squared_error: 0.5234 - val_mean_absolute_error: 0.5863\n",
            "Epoch 163/200\n",
            "439/439 [==============================] - 1s 2ms/step - loss: 0.4901 - mean_squared_error: 0.4901 - mean_absolute_error: 0.5707 - val_loss: 0.5136 - val_mean_squared_error: 0.5136 - val_mean_absolute_error: 0.5817\n",
            "Epoch 164/200\n",
            "439/439 [==============================] - 1s 2ms/step - loss: 0.4907 - mean_squared_error: 0.4907 - mean_absolute_error: 0.5709 - val_loss: 0.5126 - val_mean_squared_error: 0.5126 - val_mean_absolute_error: 0.5825\n",
            "Epoch 165/200\n",
            "439/439 [==============================] - 1s 2ms/step - loss: 0.4906 - mean_squared_error: 0.4906 - mean_absolute_error: 0.5707 - val_loss: 0.5197 - val_mean_squared_error: 0.5197 - val_mean_absolute_error: 0.5899\n",
            "Epoch 166/200\n",
            "439/439 [==============================] - 1s 2ms/step - loss: 0.4906 - mean_squared_error: 0.4906 - mean_absolute_error: 0.5711 - val_loss: 0.5100 - val_mean_squared_error: 0.5100 - val_mean_absolute_error: 0.5799\n",
            "Epoch 167/200\n",
            "439/439 [==============================] - 1s 2ms/step - loss: 0.4899 - mean_squared_error: 0.4899 - mean_absolute_error: 0.5706 - val_loss: 0.5213 - val_mean_squared_error: 0.5213 - val_mean_absolute_error: 0.5875\n",
            "Epoch 168/200\n",
            "439/439 [==============================] - 1s 2ms/step - loss: 0.4903 - mean_squared_error: 0.4903 - mean_absolute_error: 0.5705 - val_loss: 0.5127 - val_mean_squared_error: 0.5127 - val_mean_absolute_error: 0.5801\n",
            "Epoch 169/200\n",
            "439/439 [==============================] - 1s 2ms/step - loss: 0.4904 - mean_squared_error: 0.4904 - mean_absolute_error: 0.5711 - val_loss: 0.5144 - val_mean_squared_error: 0.5144 - val_mean_absolute_error: 0.5815\n",
            "Epoch 170/200\n",
            "439/439 [==============================] - 1s 2ms/step - loss: 0.4903 - mean_squared_error: 0.4903 - mean_absolute_error: 0.5705 - val_loss: 0.5167 - val_mean_squared_error: 0.5167 - val_mean_absolute_error: 0.5884\n",
            "Epoch 171/200\n",
            "439/439 [==============================] - 1s 2ms/step - loss: 0.4895 - mean_squared_error: 0.4895 - mean_absolute_error: 0.5701 - val_loss: 0.5167 - val_mean_squared_error: 0.5167 - val_mean_absolute_error: 0.5829\n",
            "Epoch 172/200\n",
            "439/439 [==============================] - 1s 2ms/step - loss: 0.4903 - mean_squared_error: 0.4903 - mean_absolute_error: 0.5707 - val_loss: 0.5130 - val_mean_squared_error: 0.5130 - val_mean_absolute_error: 0.5823\n",
            "Epoch 173/200\n",
            "439/439 [==============================] - 1s 2ms/step - loss: 0.4907 - mean_squared_error: 0.4907 - mean_absolute_error: 0.5711 - val_loss: 0.5137 - val_mean_squared_error: 0.5137 - val_mean_absolute_error: 0.5837\n",
            "Epoch 174/200\n",
            "439/439 [==============================] - 1s 2ms/step - loss: 0.4897 - mean_squared_error: 0.4897 - mean_absolute_error: 0.5702 - val_loss: 0.5169 - val_mean_squared_error: 0.5169 - val_mean_absolute_error: 0.5818\n",
            "Epoch 175/200\n",
            "439/439 [==============================] - 1s 2ms/step - loss: 0.4898 - mean_squared_error: 0.4898 - mean_absolute_error: 0.5699 - val_loss: 0.5107 - val_mean_squared_error: 0.5107 - val_mean_absolute_error: 0.5788\n",
            "Epoch 176/200\n",
            "439/439 [==============================] - 1s 2ms/step - loss: 0.4895 - mean_squared_error: 0.4895 - mean_absolute_error: 0.5699 - val_loss: 0.5175 - val_mean_squared_error: 0.5175 - val_mean_absolute_error: 0.5860\n",
            "Epoch 177/200\n",
            "439/439 [==============================] - 1s 2ms/step - loss: 0.4897 - mean_squared_error: 0.4897 - mean_absolute_error: 0.5702 - val_loss: 0.5121 - val_mean_squared_error: 0.5121 - val_mean_absolute_error: 0.5825\n",
            "Epoch 178/200\n",
            "439/439 [==============================] - 1s 2ms/step - loss: 0.4896 - mean_squared_error: 0.4896 - mean_absolute_error: 0.5700 - val_loss: 0.5147 - val_mean_squared_error: 0.5147 - val_mean_absolute_error: 0.5814\n",
            "Epoch 179/200\n",
            "439/439 [==============================] - 1s 2ms/step - loss: 0.4893 - mean_squared_error: 0.4893 - mean_absolute_error: 0.5705 - val_loss: 0.5137 - val_mean_squared_error: 0.5137 - val_mean_absolute_error: 0.5804\n",
            "Epoch 180/200\n",
            "439/439 [==============================] - 1s 2ms/step - loss: 0.4898 - mean_squared_error: 0.4898 - mean_absolute_error: 0.5703 - val_loss: 0.5136 - val_mean_squared_error: 0.5136 - val_mean_absolute_error: 0.5817\n",
            "Epoch 181/200\n",
            "439/439 [==============================] - 1s 2ms/step - loss: 0.4892 - mean_squared_error: 0.4892 - mean_absolute_error: 0.5702 - val_loss: 0.5134 - val_mean_squared_error: 0.5134 - val_mean_absolute_error: 0.5834\n",
            "Epoch 182/200\n",
            "439/439 [==============================] - 1s 2ms/step - loss: 0.4899 - mean_squared_error: 0.4899 - mean_absolute_error: 0.5704 - val_loss: 0.5117 - val_mean_squared_error: 0.5117 - val_mean_absolute_error: 0.5809\n",
            "Epoch 183/200\n",
            "439/439 [==============================] - 1s 2ms/step - loss: 0.4881 - mean_squared_error: 0.4881 - mean_absolute_error: 0.5698 - val_loss: 0.5155 - val_mean_squared_error: 0.5155 - val_mean_absolute_error: 0.5821\n",
            "Epoch 184/200\n",
            "439/439 [==============================] - 1s 2ms/step - loss: 0.4895 - mean_squared_error: 0.4895 - mean_absolute_error: 0.5697 - val_loss: 0.5147 - val_mean_squared_error: 0.5147 - val_mean_absolute_error: 0.5831\n",
            "Epoch 185/200\n",
            "439/439 [==============================] - 1s 2ms/step - loss: 0.4887 - mean_squared_error: 0.4887 - mean_absolute_error: 0.5692 - val_loss: 0.5160 - val_mean_squared_error: 0.5160 - val_mean_absolute_error: 0.5873\n",
            "Epoch 186/200\n",
            "439/439 [==============================] - 1s 2ms/step - loss: 0.4893 - mean_squared_error: 0.4893 - mean_absolute_error: 0.5705 - val_loss: 0.5160 - val_mean_squared_error: 0.5160 - val_mean_absolute_error: 0.5881\n",
            "Epoch 187/200\n",
            "439/439 [==============================] - 1s 2ms/step - loss: 0.4884 - mean_squared_error: 0.4884 - mean_absolute_error: 0.5700 - val_loss: 0.5124 - val_mean_squared_error: 0.5124 - val_mean_absolute_error: 0.5813\n",
            "Epoch 188/200\n",
            "439/439 [==============================] - 1s 2ms/step - loss: 0.4888 - mean_squared_error: 0.4888 - mean_absolute_error: 0.5698 - val_loss: 0.5096 - val_mean_squared_error: 0.5096 - val_mean_absolute_error: 0.5790\n",
            "Epoch 189/200\n",
            "439/439 [==============================] - 1s 2ms/step - loss: 0.4888 - mean_squared_error: 0.4888 - mean_absolute_error: 0.5697 - val_loss: 0.5119 - val_mean_squared_error: 0.5119 - val_mean_absolute_error: 0.5827\n",
            "Epoch 190/200\n",
            "439/439 [==============================] - 1s 2ms/step - loss: 0.4892 - mean_squared_error: 0.4892 - mean_absolute_error: 0.5701 - val_loss: 0.5125 - val_mean_squared_error: 0.5125 - val_mean_absolute_error: 0.5814\n",
            "Epoch 191/200\n",
            "439/439 [==============================] - 1s 2ms/step - loss: 0.4890 - mean_squared_error: 0.4890 - mean_absolute_error: 0.5693 - val_loss: 0.5095 - val_mean_squared_error: 0.5095 - val_mean_absolute_error: 0.5798\n",
            "Epoch 192/200\n",
            "439/439 [==============================] - 1s 2ms/step - loss: 0.4890 - mean_squared_error: 0.4890 - mean_absolute_error: 0.5696 - val_loss: 0.5136 - val_mean_squared_error: 0.5136 - val_mean_absolute_error: 0.5801\n",
            "Epoch 193/200\n",
            "439/439 [==============================] - 1s 2ms/step - loss: 0.4888 - mean_squared_error: 0.4888 - mean_absolute_error: 0.5698 - val_loss: 0.5093 - val_mean_squared_error: 0.5093 - val_mean_absolute_error: 0.5794\n",
            "Epoch 194/200\n",
            "439/439 [==============================] - 1s 2ms/step - loss: 0.4885 - mean_squared_error: 0.4885 - mean_absolute_error: 0.5695 - val_loss: 0.5130 - val_mean_squared_error: 0.5130 - val_mean_absolute_error: 0.5817\n",
            "Epoch 195/200\n",
            "439/439 [==============================] - 1s 2ms/step - loss: 0.4881 - mean_squared_error: 0.4881 - mean_absolute_error: 0.5700 - val_loss: 0.5169 - val_mean_squared_error: 0.5169 - val_mean_absolute_error: 0.5812\n",
            "Epoch 196/200\n",
            "439/439 [==============================] - 1s 2ms/step - loss: 0.4891 - mean_squared_error: 0.4891 - mean_absolute_error: 0.5698 - val_loss: 0.5114 - val_mean_squared_error: 0.5114 - val_mean_absolute_error: 0.5830\n",
            "Epoch 197/200\n",
            "439/439 [==============================] - 1s 2ms/step - loss: 0.4888 - mean_squared_error: 0.4888 - mean_absolute_error: 0.5701 - val_loss: 0.5126 - val_mean_squared_error: 0.5126 - val_mean_absolute_error: 0.5832\n",
            "Epoch 198/200\n",
            "439/439 [==============================] - 1s 2ms/step - loss: 0.4892 - mean_squared_error: 0.4892 - mean_absolute_error: 0.5699 - val_loss: 0.5135 - val_mean_squared_error: 0.5135 - val_mean_absolute_error: 0.5804\n",
            "Epoch 199/200\n",
            "439/439 [==============================] - 1s 2ms/step - loss: 0.4893 - mean_squared_error: 0.4893 - mean_absolute_error: 0.5694 - val_loss: 0.5115 - val_mean_squared_error: 0.5115 - val_mean_absolute_error: 0.5826\n",
            "Epoch 200/200\n",
            "439/439 [==============================] - 1s 2ms/step - loss: 0.4882 - mean_squared_error: 0.4882 - mean_absolute_error: 0.5688 - val_loss: 0.5117 - val_mean_squared_error: 0.5117 - val_mean_absolute_error: 0.5796\n"
          ]
        }
      ]
    },
    {
      "cell_type": "code",
      "source": [
        "history.history.keys()"
      ],
      "metadata": {
        "id": "tzo-vy8wuuVM",
        "colab": {
          "base_uri": "https://localhost:8080/"
        },
        "outputId": "d243976b-0eea-40d7-dd3e-be12e91dcc18"
      },
      "execution_count": null,
      "outputs": [
        {
          "output_type": "execute_result",
          "data": {
            "text/plain": [
              "dict_keys(['loss', 'mean_squared_error', 'mean_absolute_error', 'val_loss', 'val_mean_squared_error', 'val_mean_absolute_error'])"
            ]
          },
          "metadata": {},
          "execution_count": 70
        }
      ]
    },
    {
      "cell_type": "code",
      "source": [
        "plt.plot(history.history['loss'], label = \"Tr loss\")\n",
        "plt.plot(history.history['val_mean_a_error'],label=\"Val loss\")\n",
        "plt.legend();"
      ],
      "metadata": {
        "colab": {
          "base_uri": "https://localhost:8080/",
          "height": 265
        },
        "id": "Rme5zbKHu_nw",
        "outputId": "55900616-d8ec-440a-aa37-062ef0ad7058"
      },
      "execution_count": null,
      "outputs": [
        {
          "output_type": "display_data",
          "data": {
            "text/plain": [
              "<Figure size 432x288 with 1 Axes>"
            ],
            "image/png": "[encoded data removed]"
          },
          "metadata": {
            "needs_background": "light"
          }
        }
      ]
    },
    {
      "cell_type": "markdown",
      "source": [
        "## Model"
      ],
      "metadata": {
        "id": "BKGxZacvpAUU"
      }
    },
    {
      "cell_type": "code",
      "source": [
        "# 6.0\n",
        "model = tf.keras.Sequential()"
      ],
      "metadata": {
        "id": "3u7a51m5Ixfm"
      },
      "execution_count": null,
      "outputs": []
    },
    {
      "cell_type": "code",
      "source": [
        "# 6.1\n",
        "model.add( tf.keras.layers.Input(shape = (9,) ))"
      ],
      "metadata": {
        "id": "71VW2avIJEsh"
      },
      "execution_count": null,
      "outputs": []
    },
    {
      "cell_type": "code",
      "source": [
        "# 6.2 Start \n",
        "model.add(tf.keras.layers.Dense(40, activation = 'relu'))  # MAke it 5 and then 20 (not more or less)"
      ],
      "metadata": {
        "id": "fUDftH3BJ_-L"
      },
      "execution_count": null,
      "outputs": []
    },
    {
      "cell_type": "code",
      "source": [
        "# 6.2.1 Experiment with adding a dropout layer\n",
        "#       but then increase number of units in Dense layer from 20 to 40\n",
        "model.add(tf.keras.layers.Dropout(rate = 0.5 ))"
      ],
      "metadata": {
        "id": "NNAVQxIDwuVk"
      },
      "execution_count": null,
      "outputs": []
    },
    {
      "cell_type": "code",
      "source": [
        "model.add(tf.keras.layers.Dense(20, activation = 'relu'))  \n",
        "model.add(tf.keras.layers.Dropout(rate = 0.5 ))"
      ],
      "metadata": {
        "id": "Dj5lOyfyyDaQ"
      },
      "execution_count": null,
      "outputs": []
    },
    {
      "cell_type": "code",
      "source": [
        "model.add(tf.keras.layers.Dense(10, activation = 'relu'))  \n",
        "#model.add(tf.keras.layers.Dropout(rate = 0.5 ))"
      ],
      "metadata": {
        "id": "8zHYh7XCy2cJ"
      },
      "execution_count": null,
      "outputs": []
    },
    {
      "cell_type": "code",
      "source": [
        "# 6.3 Experiment first with activation of sigmoid\n",
        "#     and then no activation function\n",
        "model.add(tf.keras.layers.Dense(1))    # Keep sigmoid; then remove sigmoid"
      ],
      "metadata": {
        "id": "glw8SP83KQBL"
      },
      "execution_count": null,
      "outputs": []
    },
    {
      "cell_type": "code",
      "source": [
        "# 6.4 Model summary:\n",
        "model.summary()"
      ],
      "metadata": {
        "id": "HcfvweBLKWiQ",
        "outputId": "3e3df9a9-8934-40aa-e5d3-2af5276aba45",
        "colab": {
          "base_uri": "https://localhost:8080/"
        }
      },
      "execution_count": null,
      "outputs": [
        {
          "output_type": "stream",
          "name": "stdout",
          "text": [
            "Model: \"sequential_4\"\n",
            "_________________________________________________________________\n",
            " Layer (type)                Output Shape              Param #   \n",
            "=================================================================\n",
            " dense_11 (Dense)            (None, 40)                400       \n",
            "                                                                 \n",
            " dropout_6 (Dropout)         (None, 40)                0         \n",
            "                                                                 \n",
            " dense_12 (Dense)            (None, 20)                820       \n",
            "                                                                 \n",
            " dropout_7 (Dropout)         (None, 20)                0         \n",
            "                                                                 \n",
            " dense_13 (Dense)            (None, 10)                210       \n",
            "                                                                 \n",
            " dense_14 (Dense)            (None, 1)                 11        \n",
            "                                                                 \n",
            "=================================================================\n",
            "Total params: 1,441\n",
            "Trainable params: 1,441\n",
            "Non-trainable params: 0\n",
            "_________________________________________________________________\n"
          ]
        }
      ]
    },
    {
      "cell_type": "code",
      "source": [
        "# 6.5 Compile model\n",
        "#     Expt with adam\n",
        "model.compile(\n",
        "                 loss = 'mae',\n",
        "                 optimizer = 'adam',  # Try first with default optimizer and then with 'adam'\n",
        "                                      #  may not make much difference \n",
        "                 metrics = ['mae']\n",
        "\n",
        "              )"
      ],
      "metadata": {
        "id": "6LLk36OpKYIJ"
      },
      "execution_count": null,
      "outputs": []
    },
    {
      "cell_type": "code",
      "source": [
        "# 7.0\n",
        "history = model.fit(X_train,y_train,\n",
        "                    epochs = 70,\n",
        "                    validation_data = (X_test, y_test)\n",
        "                   )"
      ],
      "metadata": {
        "id": "SxH9wqFAKj6R",
        "outputId": "52d1473b-e7b6-45c8-b34b-3f7782f45c09",
        "colab": {
          "base_uri": "https://localhost:8080/"
        }
      },
      "execution_count": null,
      "outputs": [
        {
          "output_type": "stream",
          "name": "stdout",
          "text": [
            "Epoch 1/70\n",
            "549/549 [==============================] - 2s 3ms/step - loss: 202302.9844 - mae: 202302.9844 - val_loss: 185277.0000 - val_mae: 185277.0000\n",
            "Epoch 2/70\n",
            "549/549 [==============================] - 2s 3ms/step - loss: 133477.3438 - mae: 133477.3438 - val_loss: 92973.9141 - val_mae: 92973.9141\n",
            "Epoch 3/70\n",
            "549/549 [==============================] - 1s 2ms/step - loss: 95824.3281 - mae: 95824.3281 - val_loss: 75812.4375 - val_mae: 75812.4375\n",
            "Epoch 4/70\n",
            "549/549 [==============================] - 1s 3ms/step - loss: 85449.5078 - mae: 85449.5078 - val_loss: 67652.8359 - val_mae: 67652.8359\n",
            "Epoch 5/70\n",
            "549/549 [==============================] - 1s 3ms/step - loss: 81122.1172 - mae: 81122.1172 - val_loss: 62249.5312 - val_mae: 62249.5312\n",
            "Epoch 6/70\n",
            "549/549 [==============================] - 1s 3ms/step - loss: 77531.3906 - mae: 77531.3906 - val_loss: 58334.4766 - val_mae: 58334.4766\n",
            "Epoch 7/70\n",
            "549/549 [==============================] - 1s 3ms/step - loss: 74600.5938 - mae: 74600.5938 - val_loss: 55813.9531 - val_mae: 55813.9531\n",
            "Epoch 8/70\n",
            "549/549 [==============================] - 1s 2ms/step - loss: 72944.0234 - mae: 72944.0234 - val_loss: 54570.2695 - val_mae: 54570.2695\n",
            "Epoch 9/70\n",
            "549/549 [==============================] - 2s 3ms/step - loss: 71530.2109 - mae: 71530.2109 - val_loss: 52981.9336 - val_mae: 52981.9336\n",
            "Epoch 10/70\n",
            "549/549 [==============================] - 1s 3ms/step - loss: 70632.1797 - mae: 70632.1797 - val_loss: 51883.7422 - val_mae: 51883.7422\n",
            "Epoch 11/70\n",
            "549/549 [==============================] - 1s 2ms/step - loss: 69541.6797 - mae: 69541.6797 - val_loss: 51618.5273 - val_mae: 51618.5273\n",
            "Epoch 12/70\n",
            "549/549 [==============================] - 1s 2ms/step - loss: 68815.6797 - mae: 68815.6797 - val_loss: 50753.8438 - val_mae: 50753.8438\n",
            "Epoch 13/70\n",
            "549/549 [==============================] - 1s 2ms/step - loss: 68153.4609 - mae: 68153.4609 - val_loss: 50326.5625 - val_mae: 50326.5625\n",
            "Epoch 14/70\n",
            "549/549 [==============================] - 1s 2ms/step - loss: 67825.1172 - mae: 67825.1172 - val_loss: 49956.5234 - val_mae: 49956.5234\n",
            "Epoch 15/70\n",
            "549/549 [==============================] - 1s 2ms/step - loss: 67341.5703 - mae: 67341.5703 - val_loss: 49925.1641 - val_mae: 49925.1641\n",
            "Epoch 16/70\n",
            "549/549 [==============================] - 1s 3ms/step - loss: 67603.0312 - mae: 67603.0312 - val_loss: 49667.7969 - val_mae: 49667.7969\n",
            "Epoch 17/70\n",
            "549/549 [==============================] - 1s 2ms/step - loss: 66769.1328 - mae: 66769.1328 - val_loss: 49045.3242 - val_mae: 49045.3242\n",
            "Epoch 18/70\n",
            "549/549 [==============================] - 1s 3ms/step - loss: 67262.5234 - mae: 67262.5234 - val_loss: 48760.0938 - val_mae: 48760.0938\n",
            "Epoch 19/70\n",
            "549/549 [==============================] - 1s 2ms/step - loss: 66675.7109 - mae: 66675.7109 - val_loss: 49090.5625 - val_mae: 49090.5625\n",
            "Epoch 20/70\n",
            "549/549 [==============================] - 1s 2ms/step - loss: 66111.3750 - mae: 66111.3750 - val_loss: 48838.5781 - val_mae: 48838.5781\n",
            "Epoch 21/70\n",
            "549/549 [==============================] - 1s 2ms/step - loss: 66540.5938 - mae: 66540.5938 - val_loss: 48922.2422 - val_mae: 48922.2422\n",
            "Epoch 22/70\n",
            "549/549 [==============================] - 1s 2ms/step - loss: 66242.9375 - mae: 66242.9375 - val_loss: 48625.7070 - val_mae: 48625.7070\n",
            "Epoch 23/70\n",
            "549/549 [==============================] - 1s 2ms/step - loss: 66289.6484 - mae: 66289.6484 - val_loss: 48458.5000 - val_mae: 48458.5000\n",
            "Epoch 24/70\n",
            "549/549 [==============================] - 1s 2ms/step - loss: 66076.6875 - mae: 66076.6875 - val_loss: 48353.6133 - val_mae: 48353.6133\n",
            "Epoch 25/70\n",
            "549/549 [==============================] - 1s 2ms/step - loss: 65591.4453 - mae: 65591.4453 - val_loss: 48494.4805 - val_mae: 48494.4805\n",
            "Epoch 26/70\n",
            "549/549 [==============================] - 1s 2ms/step - loss: 65627.3047 - mae: 65627.3047 - val_loss: 48012.3867 - val_mae: 48012.3867\n",
            "Epoch 27/70\n",
            "549/549 [==============================] - 1s 2ms/step - loss: 65388.5430 - mae: 65388.5430 - val_loss: 48214.1758 - val_mae: 48214.1758\n",
            "Epoch 28/70\n",
            "549/549 [==============================] - 2s 3ms/step - loss: 65886.6172 - mae: 65886.6172 - val_loss: 48045.8203 - val_mae: 48045.8203\n",
            "Epoch 29/70\n",
            "549/549 [==============================] - 1s 3ms/step - loss: 65836.0938 - mae: 65836.0938 - val_loss: 48289.8750 - val_mae: 48289.8750\n",
            "Epoch 30/70\n",
            "549/549 [==============================] - 1s 3ms/step - loss: 65399.6445 - mae: 65399.6445 - val_loss: 48546.6602 - val_mae: 48546.6602\n",
            "Epoch 31/70\n",
            "549/549 [==============================] - 1s 2ms/step - loss: 65719.4219 - mae: 65719.4219 - val_loss: 48276.9805 - val_mae: 48276.9805\n",
            "Epoch 32/70\n",
            "549/549 [==============================] - 1s 3ms/step - loss: 65593.2109 - mae: 65593.2109 - val_loss: 47973.6680 - val_mae: 47973.6680\n",
            "Epoch 33/70\n",
            "549/549 [==============================] - 1s 2ms/step - loss: 65633.7812 - mae: 65633.7812 - val_loss: 47802.8750 - val_mae: 47802.8750\n",
            "Epoch 34/70\n",
            "549/549 [==============================] - 2s 3ms/step - loss: 66186.4922 - mae: 66186.4922 - val_loss: 47713.3086 - val_mae: 47713.3086\n",
            "Epoch 35/70\n",
            "549/549 [==============================] - 1s 2ms/step - loss: 65808.6875 - mae: 65808.6875 - val_loss: 48390.2227 - val_mae: 48390.2227\n",
            "Epoch 36/70\n",
            "549/549 [==============================] - 1s 2ms/step - loss: 65387.6797 - mae: 65387.6797 - val_loss: 47706.1641 - val_mae: 47706.1641\n",
            "Epoch 37/70\n",
            "549/549 [==============================] - 1s 2ms/step - loss: 65136.7578 - mae: 65136.7578 - val_loss: 47908.3867 - val_mae: 47908.3867\n",
            "Epoch 38/70\n",
            "549/549 [==============================] - 1s 2ms/step - loss: 65165.2930 - mae: 65165.2930 - val_loss: 47575.8750 - val_mae: 47575.8750\n",
            "Epoch 39/70\n",
            "549/549 [==============================] - 1s 2ms/step - loss: 64707.4141 - mae: 64707.4141 - val_loss: 47619.8672 - val_mae: 47619.8672\n",
            "Epoch 40/70\n",
            "549/549 [==============================] - 1s 2ms/step - loss: 64976.4609 - mae: 64976.4609 - val_loss: 47787.2656 - val_mae: 47787.2656\n",
            "Epoch 41/70\n",
            "549/549 [==============================] - 1s 2ms/step - loss: 65356.0000 - mae: 65356.0000 - val_loss: 48155.1406 - val_mae: 48155.1406\n",
            "Epoch 42/70\n",
            "549/549 [==============================] - 1s 2ms/step - loss: 64418.8594 - mae: 64418.8594 - val_loss: 47530.0117 - val_mae: 47530.0117\n",
            "Epoch 43/70\n",
            "549/549 [==============================] - 1s 2ms/step - loss: 64835.8828 - mae: 64835.8828 - val_loss: 47704.5547 - val_mae: 47704.5547\n",
            "Epoch 44/70\n",
            "549/549 [==============================] - 1s 3ms/step - loss: 65253.2969 - mae: 65253.2969 - val_loss: 47533.7812 - val_mae: 47533.7812\n",
            "Epoch 45/70\n",
            "549/549 [==============================] - 1s 2ms/step - loss: 65334.0117 - mae: 65334.0117 - val_loss: 47351.4727 - val_mae: 47351.4727\n",
            "Epoch 46/70\n",
            "549/549 [==============================] - 1s 2ms/step - loss: 64892.3594 - mae: 64892.3594 - val_loss: 47672.1719 - val_mae: 47672.1719\n",
            "Epoch 47/70\n",
            "549/549 [==============================] - 2s 4ms/step - loss: 64094.9258 - mae: 64094.9258 - val_loss: 47025.1016 - val_mae: 47025.1016\n",
            "Epoch 48/70\n",
            "549/549 [==============================] - 1s 2ms/step - loss: 64608.4727 - mae: 64608.4727 - val_loss: 47472.4023 - val_mae: 47472.4023\n",
            "Epoch 49/70\n",
            "549/549 [==============================] - 1s 2ms/step - loss: 64552.1055 - mae: 64552.1055 - val_loss: 47412.9062 - val_mae: 47412.9062\n",
            "Epoch 50/70\n",
            "549/549 [==============================] - 1s 3ms/step - loss: 64542.4961 - mae: 64542.4961 - val_loss: 47441.1211 - val_mae: 47441.1211\n",
            "Epoch 51/70\n",
            "549/549 [==============================] - 1s 3ms/step - loss: 64411.5117 - mae: 64411.5117 - val_loss: 47287.8281 - val_mae: 47287.8281\n",
            "Epoch 52/70\n",
            "549/549 [==============================] - 1s 3ms/step - loss: 64106.8945 - mae: 64106.8945 - val_loss: 47623.1523 - val_mae: 47623.1523\n",
            "Epoch 53/70\n",
            "549/549 [==============================] - 1s 3ms/step - loss: 64505.8867 - mae: 64505.8867 - val_loss: 47244.6719 - val_mae: 47244.6719\n",
            "Epoch 54/70\n",
            "549/549 [==============================] - 2s 3ms/step - loss: 63905.0000 - mae: 63905.0000 - val_loss: 47150.9922 - val_mae: 47150.9922\n",
            "Epoch 55/70\n",
            "549/549 [==============================] - 2s 3ms/step - loss: 64292.5156 - mae: 64292.5156 - val_loss: 47472.1602 - val_mae: 47472.1602\n",
            "Epoch 56/70\n",
            "549/549 [==============================] - 2s 3ms/step - loss: 64249.1875 - mae: 64249.1875 - val_loss: 47079.1250 - val_mae: 47079.1250\n",
            "Epoch 57/70\n",
            "549/549 [==============================] - 1s 2ms/step - loss: 64324.7656 - mae: 64324.7656 - val_loss: 47214.8750 - val_mae: 47214.8750\n",
            "Epoch 58/70\n",
            "549/549 [==============================] - 1s 3ms/step - loss: 63996.8281 - mae: 63996.8281 - val_loss: 47168.9609 - val_mae: 47168.9609\n",
            "Epoch 59/70\n",
            "549/549 [==============================] - 1s 3ms/step - loss: 64272.3789 - mae: 64272.3789 - val_loss: 46852.9453 - val_mae: 46852.9453\n",
            "Epoch 60/70\n",
            "549/549 [==============================] - 1s 2ms/step - loss: 63981.0586 - mae: 63981.0586 - val_loss: 47307.2852 - val_mae: 47307.2852\n",
            "Epoch 61/70\n",
            "549/549 [==============================] - 1s 2ms/step - loss: 64968.6523 - mae: 64968.6523 - val_loss: 47384.8438 - val_mae: 47384.8438\n",
            "Epoch 62/70\n",
            "549/549 [==============================] - 1s 3ms/step - loss: 63771.6797 - mae: 63771.6797 - val_loss: 47128.9414 - val_mae: 47128.9414\n",
            "Epoch 63/70\n",
            "549/549 [==============================] - 1s 3ms/step - loss: 64297.6094 - mae: 64297.6094 - val_loss: 47051.2539 - val_mae: 47051.2539\n",
            "Epoch 64/70\n",
            "549/549 [==============================] - 1s 2ms/step - loss: 64336.9688 - mae: 64336.9688 - val_loss: 47061.0352 - val_mae: 47061.0352\n",
            "Epoch 65/70\n",
            "549/549 [==============================] - 2s 3ms/step - loss: 64388.4648 - mae: 64388.4648 - val_loss: 47231.6289 - val_mae: 47231.6289\n",
            "Epoch 66/70\n",
            "549/549 [==============================] - 2s 4ms/step - loss: 64031.9062 - mae: 64031.9062 - val_loss: 46620.7969 - val_mae: 46620.7969\n",
            "Epoch 67/70\n",
            "549/549 [==============================] - 2s 4ms/step - loss: 64010.9219 - mae: 64010.9219 - val_loss: 46830.0742 - val_mae: 46830.0742\n",
            "Epoch 68/70\n",
            "549/549 [==============================] - 2s 3ms/step - loss: 63833.9961 - mae: 63833.9961 - val_loss: 46846.2070 - val_mae: 46846.2070\n",
            "Epoch 69/70\n",
            "549/549 [==============================] - 2s 3ms/step - loss: 63542.0625 - mae: 63542.0625 - val_loss: 46617.8984 - val_mae: 46617.8984\n",
            "Epoch 70/70\n",
            "549/549 [==============================] - 2s 3ms/step - loss: 63853.7734 - mae: 63853.7734 - val_loss: 46563.8359 - val_mae: 46563.8359\n"
          ]
        }
      ]
    },
    {
      "cell_type": "code",
      "source": [
        "# 7.1\n",
        "model.evaluate(X_test,y_test)"
      ],
      "metadata": {
        "id": "E8CUmuEXKsgT",
        "outputId": "fc7345b3-9839-4aa9-ac47-4d0cdd50412f",
        "colab": {
          "base_uri": "https://localhost:8080/"
        }
      },
      "execution_count": null,
      "outputs": [
        {
          "output_type": "stream",
          "name": "stdout",
          "text": [
            "97/97 [==============================] - 0s 2ms/step - loss: 0.6292 - mae: 0.6292\n"
          ]
        },
        {
          "output_type": "execute_result",
          "data": {
            "text/plain": [
              "[0.6291962265968323, 0.6291962265968323]"
            ]
          },
          "metadata": {},
          "execution_count": 129
        }
      ]
    },
    {
      "cell_type": "code",
      "source": [
        "######################### I am done #################"
      ],
      "metadata": {
        "id": "bzQX6UdZK-E-"
      },
      "execution_count": null,
      "outputs": []
    }
  ]
}